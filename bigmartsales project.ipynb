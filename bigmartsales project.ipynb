{
 "cells": [
  {
   "cell_type": "markdown",
   "id": "ee548b85",
   "metadata": {},
   "source": [
    "## Nowadays shopping malls and Big Marts keep the track of their sales data of each and every individual item for predicting future demand of the customer and update the inventory management as well. These data stores basically contain a large number of customer data and individual item attributes in a data warehouse"
   ]
  },
  {
   "cell_type": "markdown",
   "id": "d8896b5a",
   "metadata": {},
   "source": [
    "## The aim is to build a predictive model and predict the sales of each product at a particular store."
   ]
  },
  {
   "cell_type": "markdown",
   "id": "3e610f6c",
   "metadata": {},
   "source": [
    "### First am importing the libraries which i use in this project"
   ]
  },
  {
   "cell_type": "code",
   "execution_count": 88,
   "id": "bd577a2e",
   "metadata": {},
   "outputs": [],
   "source": [
    "import pandas as pd\n",
    "import numpy as np\n",
    "import matplotlib.pyplot as plt\n",
    "%matplotlib inline"
   ]
  },
  {
   "cell_type": "code",
   "execution_count": 89,
   "id": "e93d0a8e",
   "metadata": {},
   "outputs": [],
   "source": [
    "# Pandas - Dataframe operations like import/export, join, concat, reshape,\n",
    "# index, etc.\n",
    "# matplotlib.pyplot - Data Vizualization particulary if you want to alter\n",
    "# plot window size, etc.\n",
    "# Numpy - Array based operations. Array are fundamental datastructure and\n",
    "# start & end with [] or square brackets, elements seperated by comma.\n",
    "# Subpackages in Numpy\n",
    "# scipy.stats - statistics\n",
    "# statsmodels - Time Series"
   ]
  },
  {
   "cell_type": "code",
   "execution_count": 90,
   "id": "f6b5ec89",
   "metadata": {},
   "outputs": [
    {
     "name": "stdout",
     "output_type": "stream",
     "text": [
      "C:\\Users\\HP\\Desktop\\python\\bigmart sales files\n"
     ]
    }
   ],
   "source": [
    "import io\n",
    "%cd \"C:\\Users\\HP\\Desktop\\python\\bigmart sales files\""
   ]
  },
  {
   "cell_type": "markdown",
   "id": "17d424c9",
   "metadata": {},
   "source": [
    "### loading the train and test datasets using pandas"
   ]
  },
  {
   "cell_type": "code",
   "execution_count": 91,
   "id": "e6e7895d",
   "metadata": {},
   "outputs": [],
   "source": [
    "bigmarttrain=pd.read_csv('train_v9rqX0R.csv')"
   ]
  },
  {
   "cell_type": "code",
   "execution_count": 92,
   "id": "6a4ae964",
   "metadata": {},
   "outputs": [],
   "source": [
    "bigmarttest=pd.read_csv('test_AbJTz2l.csv')"
   ]
  },
  {
   "cell_type": "code",
   "execution_count": 93,
   "id": "8159af4d",
   "metadata": {},
   "outputs": [
    {
     "name": "stdout",
     "output_type": "stream",
     "text": [
      "(8523, 12)\n",
      "(5681, 11)\n"
     ]
    }
   ],
   "source": [
    "# reading the train data using pandas\n",
    "print(bigmarttrain.shape)\n",
    "print(bigmarttest.shape)"
   ]
  },
  {
   "cell_type": "code",
   "execution_count": 94,
   "id": "417adffb",
   "metadata": {},
   "outputs": [
    {
     "data": {
      "text/html": [
       "<div>\n",
       "<style scoped>\n",
       "    .dataframe tbody tr th:only-of-type {\n",
       "        vertical-align: middle;\n",
       "    }\n",
       "\n",
       "    .dataframe tbody tr th {\n",
       "        vertical-align: top;\n",
       "    }\n",
       "\n",
       "    .dataframe thead th {\n",
       "        text-align: right;\n",
       "    }\n",
       "</style>\n",
       "<table border=\"1\" class=\"dataframe\">\n",
       "  <thead>\n",
       "    <tr style=\"text-align: right;\">\n",
       "      <th></th>\n",
       "      <th>Item_Identifier</th>\n",
       "      <th>Item_Weight</th>\n",
       "      <th>Item_Fat_Content</th>\n",
       "      <th>Item_Visibility</th>\n",
       "      <th>Item_Type</th>\n",
       "      <th>Item_MRP</th>\n",
       "      <th>Outlet_Identifier</th>\n",
       "      <th>Outlet_Establishment_Year</th>\n",
       "      <th>Outlet_Size</th>\n",
       "      <th>Outlet_Location_Type</th>\n",
       "      <th>Outlet_Type</th>\n",
       "      <th>Item_Outlet_Sales</th>\n",
       "    </tr>\n",
       "  </thead>\n",
       "  <tbody>\n",
       "    <tr>\n",
       "      <th>0</th>\n",
       "      <td>FDA15</td>\n",
       "      <td>9.30</td>\n",
       "      <td>Low Fat</td>\n",
       "      <td>0.016047</td>\n",
       "      <td>Dairy</td>\n",
       "      <td>249.8092</td>\n",
       "      <td>OUT049</td>\n",
       "      <td>1999</td>\n",
       "      <td>Medium</td>\n",
       "      <td>Tier 1</td>\n",
       "      <td>Supermarket Type1</td>\n",
       "      <td>3735.1380</td>\n",
       "    </tr>\n",
       "    <tr>\n",
       "      <th>1</th>\n",
       "      <td>DRC01</td>\n",
       "      <td>5.92</td>\n",
       "      <td>Regular</td>\n",
       "      <td>0.019278</td>\n",
       "      <td>Soft Drinks</td>\n",
       "      <td>48.2692</td>\n",
       "      <td>OUT018</td>\n",
       "      <td>2009</td>\n",
       "      <td>Medium</td>\n",
       "      <td>Tier 3</td>\n",
       "      <td>Supermarket Type2</td>\n",
       "      <td>443.4228</td>\n",
       "    </tr>\n",
       "    <tr>\n",
       "      <th>2</th>\n",
       "      <td>FDN15</td>\n",
       "      <td>17.50</td>\n",
       "      <td>Low Fat</td>\n",
       "      <td>0.016760</td>\n",
       "      <td>Meat</td>\n",
       "      <td>141.6180</td>\n",
       "      <td>OUT049</td>\n",
       "      <td>1999</td>\n",
       "      <td>Medium</td>\n",
       "      <td>Tier 1</td>\n",
       "      <td>Supermarket Type1</td>\n",
       "      <td>2097.2700</td>\n",
       "    </tr>\n",
       "    <tr>\n",
       "      <th>3</th>\n",
       "      <td>FDX07</td>\n",
       "      <td>19.20</td>\n",
       "      <td>Regular</td>\n",
       "      <td>0.000000</td>\n",
       "      <td>Fruits and Vegetables</td>\n",
       "      <td>182.0950</td>\n",
       "      <td>OUT010</td>\n",
       "      <td>1998</td>\n",
       "      <td>NaN</td>\n",
       "      <td>Tier 3</td>\n",
       "      <td>Grocery Store</td>\n",
       "      <td>732.3800</td>\n",
       "    </tr>\n",
       "    <tr>\n",
       "      <th>4</th>\n",
       "      <td>NCD19</td>\n",
       "      <td>8.93</td>\n",
       "      <td>Low Fat</td>\n",
       "      <td>0.000000</td>\n",
       "      <td>Household</td>\n",
       "      <td>53.8614</td>\n",
       "      <td>OUT013</td>\n",
       "      <td>1987</td>\n",
       "      <td>High</td>\n",
       "      <td>Tier 3</td>\n",
       "      <td>Supermarket Type1</td>\n",
       "      <td>994.7052</td>\n",
       "    </tr>\n",
       "  </tbody>\n",
       "</table>\n",
       "</div>"
      ],
      "text/plain": [
       "  Item_Identifier  Item_Weight Item_Fat_Content  Item_Visibility  \\\n",
       "0           FDA15         9.30          Low Fat         0.016047   \n",
       "1           DRC01         5.92          Regular         0.019278   \n",
       "2           FDN15        17.50          Low Fat         0.016760   \n",
       "3           FDX07        19.20          Regular         0.000000   \n",
       "4           NCD19         8.93          Low Fat         0.000000   \n",
       "\n",
       "               Item_Type  Item_MRP Outlet_Identifier  \\\n",
       "0                  Dairy  249.8092            OUT049   \n",
       "1            Soft Drinks   48.2692            OUT018   \n",
       "2                   Meat  141.6180            OUT049   \n",
       "3  Fruits and Vegetables  182.0950            OUT010   \n",
       "4              Household   53.8614            OUT013   \n",
       "\n",
       "   Outlet_Establishment_Year Outlet_Size Outlet_Location_Type  \\\n",
       "0                       1999      Medium               Tier 1   \n",
       "1                       2009      Medium               Tier 3   \n",
       "2                       1999      Medium               Tier 1   \n",
       "3                       1998         NaN               Tier 3   \n",
       "4                       1987        High               Tier 3   \n",
       "\n",
       "         Outlet_Type  Item_Outlet_Sales  \n",
       "0  Supermarket Type1          3735.1380  \n",
       "1  Supermarket Type2           443.4228  \n",
       "2  Supermarket Type1          2097.2700  \n",
       "3      Grocery Store           732.3800  \n",
       "4  Supermarket Type1           994.7052  "
      ]
     },
     "execution_count": 94,
     "metadata": {},
     "output_type": "execute_result"
    }
   ],
   "source": [
    "bigmarttrain.head() # First 5 Rows of Data "
   ]
  },
  {
   "cell_type": "code",
   "execution_count": 95,
   "id": "14bc7b6e",
   "metadata": {},
   "outputs": [
    {
     "data": {
      "text/html": [
       "<div>\n",
       "<style scoped>\n",
       "    .dataframe tbody tr th:only-of-type {\n",
       "        vertical-align: middle;\n",
       "    }\n",
       "\n",
       "    .dataframe tbody tr th {\n",
       "        vertical-align: top;\n",
       "    }\n",
       "\n",
       "    .dataframe thead th {\n",
       "        text-align: right;\n",
       "    }\n",
       "</style>\n",
       "<table border=\"1\" class=\"dataframe\">\n",
       "  <thead>\n",
       "    <tr style=\"text-align: right;\">\n",
       "      <th></th>\n",
       "      <th>Item_Identifier</th>\n",
       "      <th>Item_Weight</th>\n",
       "      <th>Item_Fat_Content</th>\n",
       "      <th>Item_Visibility</th>\n",
       "      <th>Item_Type</th>\n",
       "      <th>Item_MRP</th>\n",
       "      <th>Outlet_Identifier</th>\n",
       "      <th>Outlet_Establishment_Year</th>\n",
       "      <th>Outlet_Size</th>\n",
       "      <th>Outlet_Location_Type</th>\n",
       "      <th>Outlet_Type</th>\n",
       "      <th>Item_Outlet_Sales</th>\n",
       "    </tr>\n",
       "  </thead>\n",
       "  <tbody>\n",
       "    <tr>\n",
       "      <th>8518</th>\n",
       "      <td>FDF22</td>\n",
       "      <td>6.865</td>\n",
       "      <td>Low Fat</td>\n",
       "      <td>0.056783</td>\n",
       "      <td>Snack Foods</td>\n",
       "      <td>214.5218</td>\n",
       "      <td>OUT013</td>\n",
       "      <td>1987</td>\n",
       "      <td>High</td>\n",
       "      <td>Tier 3</td>\n",
       "      <td>Supermarket Type1</td>\n",
       "      <td>2778.3834</td>\n",
       "    </tr>\n",
       "    <tr>\n",
       "      <th>8519</th>\n",
       "      <td>FDS36</td>\n",
       "      <td>8.380</td>\n",
       "      <td>Regular</td>\n",
       "      <td>0.046982</td>\n",
       "      <td>Baking Goods</td>\n",
       "      <td>108.1570</td>\n",
       "      <td>OUT045</td>\n",
       "      <td>2002</td>\n",
       "      <td>NaN</td>\n",
       "      <td>Tier 2</td>\n",
       "      <td>Supermarket Type1</td>\n",
       "      <td>549.2850</td>\n",
       "    </tr>\n",
       "    <tr>\n",
       "      <th>8520</th>\n",
       "      <td>NCJ29</td>\n",
       "      <td>10.600</td>\n",
       "      <td>Low Fat</td>\n",
       "      <td>0.035186</td>\n",
       "      <td>Health and Hygiene</td>\n",
       "      <td>85.1224</td>\n",
       "      <td>OUT035</td>\n",
       "      <td>2004</td>\n",
       "      <td>Small</td>\n",
       "      <td>Tier 2</td>\n",
       "      <td>Supermarket Type1</td>\n",
       "      <td>1193.1136</td>\n",
       "    </tr>\n",
       "    <tr>\n",
       "      <th>8521</th>\n",
       "      <td>FDN46</td>\n",
       "      <td>7.210</td>\n",
       "      <td>Regular</td>\n",
       "      <td>0.145221</td>\n",
       "      <td>Snack Foods</td>\n",
       "      <td>103.1332</td>\n",
       "      <td>OUT018</td>\n",
       "      <td>2009</td>\n",
       "      <td>Medium</td>\n",
       "      <td>Tier 3</td>\n",
       "      <td>Supermarket Type2</td>\n",
       "      <td>1845.5976</td>\n",
       "    </tr>\n",
       "    <tr>\n",
       "      <th>8522</th>\n",
       "      <td>DRG01</td>\n",
       "      <td>14.800</td>\n",
       "      <td>Low Fat</td>\n",
       "      <td>0.044878</td>\n",
       "      <td>Soft Drinks</td>\n",
       "      <td>75.4670</td>\n",
       "      <td>OUT046</td>\n",
       "      <td>1997</td>\n",
       "      <td>Small</td>\n",
       "      <td>Tier 1</td>\n",
       "      <td>Supermarket Type1</td>\n",
       "      <td>765.6700</td>\n",
       "    </tr>\n",
       "  </tbody>\n",
       "</table>\n",
       "</div>"
      ],
      "text/plain": [
       "     Item_Identifier  Item_Weight Item_Fat_Content  Item_Visibility  \\\n",
       "8518           FDF22        6.865          Low Fat         0.056783   \n",
       "8519           FDS36        8.380          Regular         0.046982   \n",
       "8520           NCJ29       10.600          Low Fat         0.035186   \n",
       "8521           FDN46        7.210          Regular         0.145221   \n",
       "8522           DRG01       14.800          Low Fat         0.044878   \n",
       "\n",
       "               Item_Type  Item_MRP Outlet_Identifier  \\\n",
       "8518         Snack Foods  214.5218            OUT013   \n",
       "8519        Baking Goods  108.1570            OUT045   \n",
       "8520  Health and Hygiene   85.1224            OUT035   \n",
       "8521         Snack Foods  103.1332            OUT018   \n",
       "8522         Soft Drinks   75.4670            OUT046   \n",
       "\n",
       "      Outlet_Establishment_Year Outlet_Size Outlet_Location_Type  \\\n",
       "8518                       1987        High               Tier 3   \n",
       "8519                       2002         NaN               Tier 2   \n",
       "8520                       2004       Small               Tier 2   \n",
       "8521                       2009      Medium               Tier 3   \n",
       "8522                       1997       Small               Tier 1   \n",
       "\n",
       "            Outlet_Type  Item_Outlet_Sales  \n",
       "8518  Supermarket Type1          2778.3834  \n",
       "8519  Supermarket Type1           549.2850  \n",
       "8520  Supermarket Type1          1193.1136  \n",
       "8521  Supermarket Type2          1845.5976  \n",
       "8522  Supermarket Type1           765.6700  "
      ]
     },
     "execution_count": 95,
     "metadata": {},
     "output_type": "execute_result"
    }
   ],
   "source": [
    "bigmarttrain.tail() # Last 5 Rows Data"
   ]
  },
  {
   "cell_type": "code",
   "execution_count": 96,
   "id": "d4553678",
   "metadata": {},
   "outputs": [
    {
     "data": {
      "text/plain": [
       "Item_Identifier               object\n",
       "Item_Weight                  float64\n",
       "Item_Fat_Content              object\n",
       "Item_Visibility              float64\n",
       "Item_Type                     object\n",
       "Item_MRP                     float64\n",
       "Outlet_Identifier             object\n",
       "Outlet_Establishment_Year      int64\n",
       "Outlet_Size                   object\n",
       "Outlet_Location_Type          object\n",
       "Outlet_Type                   object\n",
       "Item_Outlet_Sales            float64\n",
       "dtype: object"
      ]
     },
     "execution_count": 96,
     "metadata": {},
     "output_type": "execute_result"
    }
   ],
   "source": [
    "bigmarttrain.dtypes\n",
    "# Individual Data Types - float64, int64, number, object"
   ]
  },
  {
   "cell_type": "code",
   "execution_count": 97,
   "id": "018c33ec",
   "metadata": {},
   "outputs": [
    {
     "data": {
      "text/plain": [
       "(8523, 12)"
      ]
     },
     "execution_count": 97,
     "metadata": {},
     "output_type": "execute_result"
    }
   ],
   "source": [
    "bigmarttrain.shape # Number of Rows or Observations & Number of Variables"
   ]
  },
  {
   "cell_type": "code",
   "execution_count": 98,
   "id": "a8de62c4",
   "metadata": {},
   "outputs": [
    {
     "data": {
      "text/plain": [
       "pandas.core.frame.DataFrame"
      ]
     },
     "execution_count": 98,
     "metadata": {},
     "output_type": "execute_result"
    }
   ],
   "source": [
    "type(bigmarttrain)"
   ]
  },
  {
   "cell_type": "code",
   "execution_count": 99,
   "id": "33cace40",
   "metadata": {},
   "outputs": [
    {
     "data": {
      "text/html": [
       "<div>\n",
       "<style scoped>\n",
       "    .dataframe tbody tr th:only-of-type {\n",
       "        vertical-align: middle;\n",
       "    }\n",
       "\n",
       "    .dataframe tbody tr th {\n",
       "        vertical-align: top;\n",
       "    }\n",
       "\n",
       "    .dataframe thead th {\n",
       "        text-align: right;\n",
       "    }\n",
       "</style>\n",
       "<table border=\"1\" class=\"dataframe\">\n",
       "  <thead>\n",
       "    <tr style=\"text-align: right;\">\n",
       "      <th></th>\n",
       "      <th>Item_Weight</th>\n",
       "      <th>Item_Visibility</th>\n",
       "      <th>Item_MRP</th>\n",
       "      <th>Outlet_Establishment_Year</th>\n",
       "      <th>Item_Outlet_Sales</th>\n",
       "    </tr>\n",
       "  </thead>\n",
       "  <tbody>\n",
       "    <tr>\n",
       "      <th>count</th>\n",
       "      <td>7060.000000</td>\n",
       "      <td>8523.000000</td>\n",
       "      <td>8523.000000</td>\n",
       "      <td>8523.000000</td>\n",
       "      <td>8523.000000</td>\n",
       "    </tr>\n",
       "    <tr>\n",
       "      <th>mean</th>\n",
       "      <td>12.857645</td>\n",
       "      <td>0.066132</td>\n",
       "      <td>140.992782</td>\n",
       "      <td>1997.831867</td>\n",
       "      <td>2181.288914</td>\n",
       "    </tr>\n",
       "    <tr>\n",
       "      <th>std</th>\n",
       "      <td>4.643456</td>\n",
       "      <td>0.051598</td>\n",
       "      <td>62.275067</td>\n",
       "      <td>8.371760</td>\n",
       "      <td>1706.499616</td>\n",
       "    </tr>\n",
       "    <tr>\n",
       "      <th>min</th>\n",
       "      <td>4.555000</td>\n",
       "      <td>0.000000</td>\n",
       "      <td>31.290000</td>\n",
       "      <td>1985.000000</td>\n",
       "      <td>33.290000</td>\n",
       "    </tr>\n",
       "    <tr>\n",
       "      <th>25%</th>\n",
       "      <td>8.773750</td>\n",
       "      <td>0.026989</td>\n",
       "      <td>93.826500</td>\n",
       "      <td>1987.000000</td>\n",
       "      <td>834.247400</td>\n",
       "    </tr>\n",
       "    <tr>\n",
       "      <th>50%</th>\n",
       "      <td>12.600000</td>\n",
       "      <td>0.053931</td>\n",
       "      <td>143.012800</td>\n",
       "      <td>1999.000000</td>\n",
       "      <td>1794.331000</td>\n",
       "    </tr>\n",
       "    <tr>\n",
       "      <th>75%</th>\n",
       "      <td>16.850000</td>\n",
       "      <td>0.094585</td>\n",
       "      <td>185.643700</td>\n",
       "      <td>2004.000000</td>\n",
       "      <td>3101.296400</td>\n",
       "    </tr>\n",
       "    <tr>\n",
       "      <th>max</th>\n",
       "      <td>21.350000</td>\n",
       "      <td>0.328391</td>\n",
       "      <td>266.888400</td>\n",
       "      <td>2009.000000</td>\n",
       "      <td>13086.964800</td>\n",
       "    </tr>\n",
       "  </tbody>\n",
       "</table>\n",
       "</div>"
      ],
      "text/plain": [
       "       Item_Weight  Item_Visibility     Item_MRP  Outlet_Establishment_Year  \\\n",
       "count  7060.000000      8523.000000  8523.000000                8523.000000   \n",
       "mean     12.857645         0.066132   140.992782                1997.831867   \n",
       "std       4.643456         0.051598    62.275067                   8.371760   \n",
       "min       4.555000         0.000000    31.290000                1985.000000   \n",
       "25%       8.773750         0.026989    93.826500                1987.000000   \n",
       "50%      12.600000         0.053931   143.012800                1999.000000   \n",
       "75%      16.850000         0.094585   185.643700                2004.000000   \n",
       "max      21.350000         0.328391   266.888400                2009.000000   \n",
       "\n",
       "       Item_Outlet_Sales  \n",
       "count        8523.000000  \n",
       "mean         2181.288914  \n",
       "std          1706.499616  \n",
       "min            33.290000  \n",
       "25%           834.247400  \n",
       "50%          1794.331000  \n",
       "75%          3101.296400  \n",
       "max         13086.964800  "
      ]
     },
     "execution_count": 99,
     "metadata": {},
     "output_type": "execute_result"
    }
   ],
   "source": [
    "bigmarttrain.describe() # count, min, max, mean, Q1, Q2, Q3, Stdev\n",
    "# Only on NUmerical Data"
   ]
  },
  {
   "cell_type": "code",
   "execution_count": 100,
   "id": "f60e7e3b",
   "metadata": {},
   "outputs": [
    {
     "data": {
      "text/plain": [
       "Index(['Item_Identifier', 'Item_Weight', 'Item_Fat_Content', 'Item_Visibility',\n",
       "       'Item_Type', 'Item_MRP', 'Outlet_Identifier',\n",
       "       'Outlet_Establishment_Year', 'Outlet_Size', 'Outlet_Location_Type',\n",
       "       'Outlet_Type', 'Item_Outlet_Sales'],\n",
       "      dtype='object')"
      ]
     },
     "execution_count": 100,
     "metadata": {},
     "output_type": "execute_result"
    }
   ],
   "source": [
    "bigmarttrain.columns"
   ]
  },
  {
   "cell_type": "code",
   "execution_count": 101,
   "id": "3ad0f324",
   "metadata": {},
   "outputs": [
    {
     "data": {
      "text/plain": [
       "<AxesSubplot:ylabel='Frequency'>"
      ]
     },
     "execution_count": 101,
     "metadata": {},
     "output_type": "execute_result"
    },
    {
     "data": {
      "image/png": "[encoded data removed]",
      "text/plain": [
       "<Figure size 432x288 with 1 Axes>"
      ]
     },
     "metadata": {
      "needs_background": "light"
     },
     "output_type": "display_data"
    }
   ],
   "source": [
    "# Data Vizualization - pandas plot functions\n",
    "bigmarttrain.Item_Outlet_Sales.plot(kind='hist') # Histogram"
   ]
  },
  {
   "cell_type": "code",
   "execution_count": 102,
   "id": "5ed983d7",
   "metadata": {},
   "outputs": [
    {
     "data": {
      "text/plain": [
       "<AxesSubplot:>"
      ]
     },
     "execution_count": 102,
     "metadata": {},
     "output_type": "execute_result"
    },
    {
     "data": {
      "image/png": "[encoded data removed]",
      "text/plain": [
       "<Figure size 432x288 with 1 Axes>"
      ]
     },
     "metadata": {
      "needs_background": "light"
     },
     "output_type": "display_data"
    }
   ],
   "source": [
    "bigmarttrain.Item_Outlet_Sales.plot(kind='box',vert=False)"
   ]
  },
  {
   "cell_type": "code",
   "execution_count": 103,
   "id": "29bb018b",
   "metadata": {},
   "outputs": [
    {
     "data": {
      "text/plain": [
       "<AxesSubplot:ylabel='Density'>"
      ]
     },
     "execution_count": 103,
     "metadata": {},
     "output_type": "execute_result"
    },
    {
     "data": {
      "image/png": "[encoded data removed]",
      "text/plain": [
       "<Figure size 432x288 with 1 Axes>"
      ]
     },
     "metadata": {
      "needs_background": "light"
     },
     "output_type": "display_data"
    }
   ],
   "source": [
    "bigmarttrain.Item_Outlet_Sales.plot(kind='density')"
   ]
  },
  {
   "cell_type": "code",
   "execution_count": 104,
   "id": "27cb7d41",
   "metadata": {},
   "outputs": [
    {
     "data": {
      "text/plain": [
       "<AxesSubplot:ylabel='Frequency'>"
      ]
     },
     "execution_count": 104,
     "metadata": {},
     "output_type": "execute_result"
    },
    {
     "data": {
      "image/png": "[encoded data removed]",
      "text/plain": [
       "<Figure size 432x288 with 1 Axes>"
      ]
     },
     "metadata": {
      "needs_background": "light"
     },
     "output_type": "display_data"
    }
   ],
   "source": [
    "# Create Histogram, boxplot & Density Curve for Item_Visibility\n",
    "bigmarttrain.Item_Visibility.plot(kind='hist')"
   ]
  },
  {
   "cell_type": "code",
   "execution_count": 105,
   "id": "9f0e6752",
   "metadata": {},
   "outputs": [
    {
     "data": {
      "text/plain": [
       "<AxesSubplot:>"
      ]
     },
     "execution_count": 105,
     "metadata": {},
     "output_type": "execute_result"
    },
    {
     "data": {
      "image/png": "[encoded data removed]",
      "text/plain": [
       "<Figure size 432x288 with 1 Axes>"
      ]
     },
     "metadata": {
      "needs_background": "light"
     },
     "output_type": "display_data"
    }
   ],
   "source": [
    "bigmarttrain.Item_Visibility.plot(kind='box',vert=False)"
   ]
  },
  {
   "cell_type": "code",
   "execution_count": 106,
   "id": "a85e6b1c",
   "metadata": {},
   "outputs": [
    {
     "data": {
      "text/plain": [
       "<AxesSubplot:ylabel='Density'>"
      ]
     },
     "execution_count": 106,
     "metadata": {},
     "output_type": "execute_result"
    },
    {
     "data": {
      "image/png": "[encoded data removed]",
      "text/plain": [
       "<Figure size 432x288 with 1 Axes>"
      ]
     },
     "metadata": {
      "needs_background": "light"
     },
     "output_type": "display_data"
    }
   ],
   "source": [
    "bigmarttrain.Item_Visibility.plot(kind='density')"
   ]
  },
  {
   "cell_type": "code",
   "execution_count": 107,
   "id": "4ab150bf",
   "metadata": {},
   "outputs": [
    {
     "data": {
      "text/plain": [
       "Outlet_Type\n",
       "Grocery Store         339.828500\n",
       "Supermarket Type1    2316.181148\n",
       "Supermarket Type2    1995.498739\n",
       "Supermarket Type3    3694.038558\n",
       "Name: Item_Outlet_Sales, dtype: float64"
      ]
     },
     "execution_count": 107,
     "metadata": {},
     "output_type": "execute_result"
    }
   ],
   "source": [
    "bigmarttrain.Item_Outlet_Sales.groupby(bigmarttrain.Outlet_Type).mean()"
   ]
  },
  {
   "cell_type": "code",
   "execution_count": 108,
   "id": "80723e67",
   "metadata": {},
   "outputs": [
    {
     "data": {
      "text/plain": [
       "Outlet_Location_Type\n",
       "Tier 1    140.870106\n",
       "Tier 2    141.167196\n",
       "Tier 3    140.935232\n",
       "Name: Item_MRP, dtype: float64"
      ]
     },
     "execution_count": 108,
     "metadata": {},
     "output_type": "execute_result"
    }
   ],
   "source": [
    "bigmarttrain.Item_MRP.groupby(bigmarttrain.Outlet_Location_Type).mean()"
   ]
  },
  {
   "cell_type": "code",
   "execution_count": 109,
   "id": "71979105",
   "metadata": {},
   "outputs": [
    {
     "data": {
      "text/plain": [
       "Outlet_Size\n",
       "High      0.049587\n",
       "Medium    0.048842\n",
       "Small     0.057810\n",
       "Name: Item_Visibility, dtype: float64"
      ]
     },
     "execution_count": 109,
     "metadata": {},
     "output_type": "execute_result"
    }
   ],
   "source": [
    "bigmarttrain.Item_Visibility.groupby(bigmarttrain.Outlet_Size).median()"
   ]
  },
  {
   "cell_type": "markdown",
   "id": "aaeb449d",
   "metadata": {},
   "source": [
    "## Data Preprocessing"
   ]
  },
  {
   "cell_type": "code",
   "execution_count": 110,
   "id": "8eb20c08",
   "metadata": {},
   "outputs": [],
   "source": [
    "# In DataPreprocessing we check for Duplicate Varibles , check for single value columns min = max\n",
    "# missing values: if we have above 70% of missing values then impute with word \"missing\"\n",
    "# if we have less than 70% misisng - Numeric columns - mean or median, NonNumeric(or) categorical - MostFrequent\n",
    "# Data Transformations:\n",
    "# Dependent Variable - Skewness & Outliers\n",
    "# Positive Skewness - Logarthmic Transformation or Square root transform\n",
    "# negative Skewness - Exponential Transform or Power Transform\n",
    "# Independent Variables\n",
    "# Standard Scaler - (x-mean)/stdev, will give negative values\n",
    "# Normalization or Min Max Scaler - (X-Xmin)/(Xmax-Xmin) gives only in\n",
    "# range of 0 to 1. No negative values. "
   ]
  },
  {
   "cell_type": "code",
   "execution_count": 111,
   "id": "21cd529e",
   "metadata": {},
   "outputs": [],
   "source": [
    "bigmarttest['Item_Outlet_Sales']='test' # Adding a duplicate column in test data"
   ]
  },
  {
   "cell_type": "code",
   "execution_count": 112,
   "id": "5bcf986b",
   "metadata": {},
   "outputs": [],
   "source": [
    "# Row wise Concatenation of train & test data for preprocessing\n",
    "combinedf=pd.concat([bigmarttrain,bigmarttest],axis=0)"
   ]
  },
  {
   "cell_type": "code",
   "execution_count": 113,
   "id": "6ea8e8b9",
   "metadata": {},
   "outputs": [],
   "source": [
    "# for row concatination axis=0 and for column concatination axis=1"
   ]
  },
  {
   "cell_type": "code",
   "execution_count": 114,
   "id": "15c0e40c",
   "metadata": {},
   "outputs": [
    {
     "data": {
      "text/plain": [
       "(14204, 12)"
      ]
     },
     "execution_count": 114,
     "metadata": {},
     "output_type": "execute_result"
    }
   ],
   "source": [
    "combinedf.shape"
   ]
  },
  {
   "cell_type": "code",
   "execution_count": 115,
   "id": "760a4431",
   "metadata": {},
   "outputs": [
    {
     "data": {
      "text/plain": [
       "Outlet_Size                  4016\n",
       "Item_Weight                  2439\n",
       "Item_Identifier                 0\n",
       "Item_Fat_Content                0\n",
       "Item_Visibility                 0\n",
       "Item_Type                       0\n",
       "Item_MRP                        0\n",
       "Outlet_Identifier               0\n",
       "Outlet_Establishment_Year       0\n",
       "Outlet_Location_Type            0\n",
       "Outlet_Type                     0\n",
       "Item_Outlet_Sales               0\n",
       "dtype: int64"
      ]
     },
     "execution_count": 115,
     "metadata": {},
     "output_type": "execute_result"
    }
   ],
   "source": [
    "combinedf.isnull().sum().sort_values(ascending=False)"
   ]
  },
  {
   "cell_type": "code",
   "execution_count": 116,
   "id": "29147df8",
   "metadata": {},
   "outputs": [
    {
     "data": {
      "text/plain": [
       "Medium    4655\n",
       "NaN       4016\n",
       "Small     3980\n",
       "High      1553\n",
       "Name: Outlet_Size, dtype: int64"
      ]
     },
     "execution_count": 116,
     "metadata": {},
     "output_type": "execute_result"
    }
   ],
   "source": [
    "combinedf.Outlet_Size.value_counts(dropna=False)"
   ]
  },
  {
   "cell_type": "code",
   "execution_count": 117,
   "id": "582c6b67",
   "metadata": {},
   "outputs": [],
   "source": [
    "combinedf.Outlet_Size=combinedf.Outlet_Size.fillna(\"Missing\") # here we are imputing NaN values with 'missing'"
   ]
  },
  {
   "cell_type": "code",
   "execution_count": 118,
   "id": "a7b3ad24",
   "metadata": {},
   "outputs": [],
   "source": [
    "combinedf.Item_Weight=combinedf.Item_Weight.fillna(\n",
    "    combinedf.Item_Weight.mean())"
   ]
  },
  {
   "cell_type": "code",
   "execution_count": 119,
   "id": "19ab78e4",
   "metadata": {},
   "outputs": [
    {
     "data": {
      "text/plain": [
       "Index(['Item_Identifier', 'Item_Weight', 'Item_Fat_Content', 'Item_Visibility',\n",
       "       'Item_Type', 'Item_MRP', 'Outlet_Identifier',\n",
       "       'Outlet_Establishment_Year', 'Outlet_Size', 'Outlet_Location_Type',\n",
       "       'Outlet_Type', 'Item_Outlet_Sales'],\n",
       "      dtype='object')"
      ]
     },
     "execution_count": 119,
     "metadata": {},
     "output_type": "execute_result"
    }
   ],
   "source": [
    "combinedf.columns"
   ]
  },
  {
   "cell_type": "code",
   "execution_count": 120,
   "id": "57542d0c",
   "metadata": {},
   "outputs": [
    {
     "data": {
      "text/plain": [
       "0    FDA15\n",
       "1    DRC01\n",
       "2    FDN15\n",
       "3    FDX07\n",
       "4    NCD19\n",
       "Name: Item_Identifier, dtype: object"
      ]
     },
     "execution_count": 120,
     "metadata": {},
     "output_type": "execute_result"
    }
   ],
   "source": [
    "combinedf.Item_Identifier.head()"
   ]
  },
  {
   "cell_type": "code",
   "execution_count": 121,
   "id": "b9e21443",
   "metadata": {},
   "outputs": [],
   "source": [
    "# Extract Item_Code from Item_Identifier\n",
    "combinedf['Item_Code']=combinedf.Item_Identifier.apply(lambda x:x[0:2])"
   ]
  },
  {
   "cell_type": "code",
   "execution_count": 122,
   "id": "c5aad3c1",
   "metadata": {},
   "outputs": [
    {
     "data": {
      "text/plain": [
       "FD    10201\n",
       "NC     2686\n",
       "DR     1317\n",
       "Name: Item_Code, dtype: int64"
      ]
     },
     "execution_count": 122,
     "metadata": {},
     "output_type": "execute_result"
    }
   ],
   "source": [
    "combinedf.Item_Code.value_counts() # FD - Food, NC-Non Consumable, Dr-Drinks"
   ]
  },
  {
   "cell_type": "code",
   "execution_count": 123,
   "id": "f5f327e9",
   "metadata": {},
   "outputs": [
    {
     "data": {
      "text/plain": [
       "Low Fat    8485\n",
       "Regular    4824\n",
       "LF          522\n",
       "reg         195\n",
       "low fat     178\n",
       "Name: Item_Fat_Content, dtype: int64"
      ]
     },
     "execution_count": 123,
     "metadata": {},
     "output_type": "execute_result"
    }
   ],
   "source": [
    "combinedf.Item_Fat_Content.value_counts()"
   ]
  },
  {
   "cell_type": "code",
   "execution_count": 124,
   "id": "0a78263f",
   "metadata": {},
   "outputs": [],
   "source": [
    "combinedf.Item_Fat_Content=combinedf.Item_Fat_Content.replace(['LF','low fat'],'Low Fat')"
   ]
  },
  {
   "cell_type": "code",
   "execution_count": 125,
   "id": "8db33c68",
   "metadata": {},
   "outputs": [],
   "source": [
    "combinedf.Item_Fat_Content=combinedf.Item_Fat_Content.replace('reg','Regular')"
   ]
  },
  {
   "cell_type": "code",
   "execution_count": 126,
   "id": "2bc1b654",
   "metadata": {},
   "outputs": [],
   "source": [
    "# Calculate Outlet_Age from Outlet_Establishment_Year as of 2021\n",
    "combinedf['Outlet_Age']=2021-combinedf.Outlet_Establishment_Year"
   ]
  },
  {
   "cell_type": "code",
   "execution_count": 127,
   "id": "3f350a59",
   "metadata": {},
   "outputs": [
    {
     "data": {
      "text/plain": [
       "count    14204.000000\n",
       "mean        23.169319\n",
       "std          8.371664\n",
       "min         12.000000\n",
       "25%         17.000000\n",
       "50%         22.000000\n",
       "75%         34.000000\n",
       "max         36.000000\n",
       "Name: Outlet_Age, dtype: float64"
      ]
     },
     "execution_count": 127,
     "metadata": {},
     "output_type": "execute_result"
    }
   ],
   "source": [
    "combinedf.Outlet_Age.describe()"
   ]
  },
  {
   "cell_type": "code",
   "execution_count": 128,
   "id": "84eba599",
   "metadata": {},
   "outputs": [],
   "source": [
    "numericcolumns=combinedf[['Item_Weight','Item_Visibility','Item_MRP',\n",
    "                         'Outlet_Age','Item_Outlet_Sales']]"
   ]
  },
  {
   "cell_type": "code",
   "execution_count": 129,
   "id": "2e8d4a52",
   "metadata": {},
   "outputs": [],
   "source": [
    "objectcolumns=combinedf[['Item_Fat_Content','Item_Type','Outlet_Identifier',\n",
    "                        'Outlet_Size', 'Outlet_Location_Type','Outlet_Type',\n",
    "                        'Item_Code']]"
   ]
  },
  {
   "cell_type": "code",
   "execution_count": 130,
   "id": "a652dd21",
   "metadata": {},
   "outputs": [],
   "source": [
    "objectcolumnsdummy=pd.get_dummies(objectcolumns,\n",
    "                                 columns=['Item_Fat_Content','Item_Type',\n",
    "                                          'Outlet_Identifier','Outlet_Size',\n",
    "                                          'Outlet_Location_Type','Outlet_Type',\n",
    "                                          'Item_Code'])"
   ]
  },
  {
   "cell_type": "code",
   "execution_count": 131,
   "id": "bb767c72",
   "metadata": {},
   "outputs": [
    {
     "data": {
      "text/html": [
       "<div>\n",
       "<style scoped>\n",
       "    .dataframe tbody tr th:only-of-type {\n",
       "        vertical-align: middle;\n",
       "    }\n",
       "\n",
       "    .dataframe tbody tr th {\n",
       "        vertical-align: top;\n",
       "    }\n",
       "\n",
       "    .dataframe thead th {\n",
       "        text-align: right;\n",
       "    }\n",
       "</style>\n",
       "<table border=\"1\" class=\"dataframe\">\n",
       "  <thead>\n",
       "    <tr style=\"text-align: right;\">\n",
       "      <th></th>\n",
       "      <th>Item_Weight</th>\n",
       "      <th>Item_Visibility</th>\n",
       "      <th>Item_MRP</th>\n",
       "      <th>Outlet_Age</th>\n",
       "    </tr>\n",
       "  </thead>\n",
       "  <tbody>\n",
       "    <tr>\n",
       "      <th>Item_Weight</th>\n",
       "      <td>1.000000</td>\n",
       "      <td>-0.013641</td>\n",
       "      <td>0.033002</td>\n",
       "      <td>-0.000462</td>\n",
       "    </tr>\n",
       "    <tr>\n",
       "      <th>Item_Visibility</th>\n",
       "      <td>-0.013641</td>\n",
       "      <td>1.000000</td>\n",
       "      <td>-0.006351</td>\n",
       "      <td>0.083678</td>\n",
       "    </tr>\n",
       "    <tr>\n",
       "      <th>Item_MRP</th>\n",
       "      <td>0.033002</td>\n",
       "      <td>-0.006351</td>\n",
       "      <td>1.000000</td>\n",
       "      <td>-0.000141</td>\n",
       "    </tr>\n",
       "    <tr>\n",
       "      <th>Outlet_Age</th>\n",
       "      <td>-0.000462</td>\n",
       "      <td>0.083678</td>\n",
       "      <td>-0.000141</td>\n",
       "      <td>1.000000</td>\n",
       "    </tr>\n",
       "  </tbody>\n",
       "</table>\n",
       "</div>"
      ],
      "text/plain": [
       "                 Item_Weight  Item_Visibility  Item_MRP  Outlet_Age\n",
       "Item_Weight         1.000000        -0.013641  0.033002   -0.000462\n",
       "Item_Visibility    -0.013641         1.000000 -0.006351    0.083678\n",
       "Item_MRP            0.033002        -0.006351  1.000000   -0.000141\n",
       "Outlet_Age         -0.000462         0.083678 -0.000141    1.000000"
      ]
     },
     "execution_count": 131,
     "metadata": {},
     "output_type": "execute_result"
    }
   ],
   "source": [
    "numericcolumns.corr()"
   ]
  },
  {
   "cell_type": "code",
   "execution_count": 132,
   "id": "89edc96a",
   "metadata": {},
   "outputs": [],
   "source": [
    "import seaborn as sns"
   ]
  },
  {
   "cell_type": "code",
   "execution_count": 252,
   "id": "b5912330",
   "metadata": {},
   "outputs": [
    {
     "data": {
      "text/plain": [
       "<AxesSubplot:>"
      ]
     },
     "execution_count": 252,
     "metadata": {},
     "output_type": "execute_result"
    },
    {
     "data": {
      "image/png": "[encoded data removed]",
      "text/plain": [
       "<Figure size 1080x720 with 2 Axes>"
      ]
     },
     "metadata": {
      "needs_background": "light"
     },
     "output_type": "display_data"
    }
   ],
   "source": [
    "plt.figure(figsize=(15,10))\n",
    "sns.heatmap(numericcolumns.corr(),annot=True)"
   ]
  },
  {
   "cell_type": "code",
   "execution_count": 134,
   "id": "f30e78a3",
   "metadata": {},
   "outputs": [],
   "source": [
    "# Columnwise Concatenation of Numeric Columns & Object Columns\n",
    "combinedfclean=pd.concat([numericcolumns,objectcolumnsdummy],axis=1)"
   ]
  },
  {
   "cell_type": "code",
   "execution_count": 135,
   "id": "9bfa318c",
   "metadata": {},
   "outputs": [],
   "source": [
    "# Split Data into train and test\n",
    "bigmarttraindf=combinedfclean[combinedfclean.Item_Outlet_Sales!='test']\n",
    "bigmarttestdf=combinedfclean[combinedfclean.Item_Outlet_Sales=='test']"
   ]
  },
  {
   "cell_type": "code",
   "execution_count": 136,
   "id": "10b7acb0",
   "metadata": {},
   "outputs": [],
   "source": [
    "# Drop Dependent Variable Item_Outlet_Sales from test Data\n",
    "bigmarttestdf=bigmarttestdf.drop('Item_Outlet_Sales',axis=1)"
   ]
  },
  {
   "cell_type": "code",
   "execution_count": 137,
   "id": "ba57411e",
   "metadata": {},
   "outputs": [
    {
     "data": {
      "text/plain": [
       "dtype('O')"
      ]
     },
     "execution_count": 137,
     "metadata": {},
     "output_type": "execute_result"
    }
   ],
   "source": [
    "bigmarttraindf.Item_Outlet_Sales.dtype"
   ]
  },
  {
   "cell_type": "code",
   "execution_count": 138,
   "id": "5270870e",
   "metadata": {},
   "outputs": [
    {
     "name": "stderr",
     "output_type": "stream",
     "text": [
      "C:\\Users\\HP\\AppData\\Local\\Temp\\ipykernel_19976\\1600285798.py:2: SettingWithCopyWarning: \n",
      "A value is trying to be set on a copy of a slice from a DataFrame.\n",
      "Try using .loc[row_indexer,col_indexer] = value instead\n",
      "\n",
      "See the caveats in the documentation: https://pandas.pydata.org/pandas-docs/stable/user_guide/indexing.html#returning-a-view-versus-a-copy\n",
      "  bigmarttraindf.Item_Outlet_Sales=bigmarttraindf.Item_Outlet_Sales.astype('float64')\n"
     ]
    }
   ],
   "source": [
    "# Convert Dependent Variable 'Item_Outlet_Sales' as numeric from Object\n",
    "bigmarttraindf.Item_Outlet_Sales=bigmarttraindf.Item_Outlet_Sales.astype('float64')"
   ]
  },
  {
   "cell_type": "code",
   "execution_count": 139,
   "id": "42b99f5d",
   "metadata": {},
   "outputs": [],
   "source": [
    "bigmarttrain.Item_Fat_Content=bigmarttrain.Item_Fat_Content.replace(\n",
    "['LF','low fat'],\"Low Fat\")"
   ]
  },
  {
   "cell_type": "code",
   "execution_count": 140,
   "id": "38cdd275",
   "metadata": {},
   "outputs": [],
   "source": [
    "bigmarttrain.Item_Fat_Content=bigmarttrain.Item_Fat_Content.replace(\n",
    "    'reg','Regular')"
   ]
  },
  {
   "cell_type": "markdown",
   "id": "ea08e609",
   "metadata": {},
   "source": [
    "### Inferential Statistics - Hypothesis testing - Comaprision of Means or \n",
    "### Averages of 2 or more than 2 Groups/levels/Classes\n",
    "### One Numerical - Other Categorical Variable with exactly 2 Levels -\n",
    "### 2 Sample Independent t test\n",
    "### One Numerical - Other Categorical with more than 2 levles -\n",
    "### Anova Single Factor or One Way Anova\n",
    "### Both Variables are Non Numeric & categorical - Chi Square Test of \n",
    "### Independence\n",
    "### Both Variables are Numerical - Covariance & Correlation"
   ]
  },
  {
   "cell_type": "code",
   "execution_count": 141,
   "id": "3a879ecb",
   "metadata": {},
   "outputs": [
    {
     "data": {
      "text/plain": [
       "Item_Fat_Content\n",
       "Low Fat    2.883115e+06\n",
       "Regular    2.963496e+06\n",
       "Name: Item_Outlet_Sales, dtype: float64"
      ]
     },
     "execution_count": 141,
     "metadata": {},
     "output_type": "execute_result"
    }
   ],
   "source": [
    "# Only One Variable with exactly 2 levels - Item_Fat_Content\n",
    "bigmarttrain.Item_Outlet_Sales.groupby(bigmarttrain.Item_Fat_Content).var()"
   ]
  },
  {
   "cell_type": "code",
   "execution_count": 142,
   "id": "a8418a04",
   "metadata": {},
   "outputs": [],
   "source": [
    "# Split data into Low Fat & Regular\n",
    "lf=bigmarttrain[bigmarttrain.Item_Fat_Content=='Low Fat']\n",
    "reg=bigmarttrain[bigmarttrain.Item_Fat_Content==\"Regular\"]"
   ]
  },
  {
   "cell_type": "code",
   "execution_count": 143,
   "id": "9e41bb55",
   "metadata": {},
   "outputs": [],
   "source": [
    "from scipy.stats import ttest_ind"
   ]
  },
  {
   "cell_type": "code",
   "execution_count": 144,
   "id": "f94de79a",
   "metadata": {},
   "outputs": [
    {
     "data": {
      "text/plain": [
       "Ttest_indResult(statistic=-1.7212101304652165, pvalue=0.08526339464728244)"
      ]
     },
     "execution_count": 144,
     "metadata": {},
     "output_type": "execute_result"
    }
   ],
   "source": [
    "ttest_ind(lf.Item_Outlet_Sales,reg.Item_Outlet_Sales,equal_var=False)"
   ]
  },
  {
   "cell_type": "code",
   "execution_count": 145,
   "id": "20c963fc",
   "metadata": {},
   "outputs": [],
   "source": [
    "# the p value is >0.05 failed to reject null hypothesis( accept the null hypothesis)\n",
    "# null-- their is significant difference between vraiables\n",
    "# alter--their is no significant difference between vraiables"
   ]
  },
  {
   "cell_type": "code",
   "execution_count": 146,
   "id": "442f25ef",
   "metadata": {},
   "outputs": [
    {
     "data": {
      "text/plain": [
       "Item_Fat_Content\n",
       "Low Fat    0.064330\n",
       "Regular    0.069439\n",
       "Name: Item_Visibility, dtype: float64"
      ]
     },
     "execution_count": 146,
     "metadata": {},
     "output_type": "execute_result"
    }
   ],
   "source": [
    "# Testing the  Null Average Item_Visibility of Low fat & Regular are equal\n",
    "bigmarttrain.Item_Visibility.groupby(bigmarttrain.Item_Fat_Content).mean()"
   ]
  },
  {
   "cell_type": "code",
   "execution_count": 147,
   "id": "36bc2e9f",
   "metadata": {},
   "outputs": [
    {
     "data": {
      "text/plain": [
       "Item_Fat_Content\n",
       "Low Fat    0.002619\n",
       "Regular    0.002726\n",
       "Name: Item_Visibility, dtype: float64"
      ]
     },
     "execution_count": 147,
     "metadata": {},
     "output_type": "execute_result"
    }
   ],
   "source": [
    "bigmarttrain.Item_Visibility.groupby(bigmarttrain.Item_Fat_Content).var()"
   ]
  },
  {
   "cell_type": "code",
   "execution_count": 148,
   "id": "c22dcace",
   "metadata": {},
   "outputs": [
    {
     "data": {
      "text/plain": [
       "Ttest_indResult(statistic=-4.34668233685042, pvalue=1.404696156360228e-05)"
      ]
     },
     "execution_count": 148,
     "metadata": {},
     "output_type": "execute_result"
    }
   ],
   "source": [
    "ttest_ind(lf.Item_Visibility,reg.Item_Visibility,equal_var=False)"
   ]
  },
  {
   "cell_type": "code",
   "execution_count": 149,
   "id": "7f2347c9",
   "metadata": {},
   "outputs": [],
   "source": [
    "# the p value is <0.05 reject null hypothesis\n",
    "# null-- their is no significant difference between vraiables\n",
    "# alter--their is significant difference between vraiables"
   ]
  },
  {
   "cell_type": "code",
   "execution_count": 150,
   "id": "23e35e11",
   "metadata": {},
   "outputs": [
    {
     "data": {
      "text/plain": [
       "Low Fat    5517\n",
       "Regular    3006\n",
       "Name: Item_Fat_Content, dtype: int64"
      ]
     },
     "execution_count": 150,
     "metadata": {},
     "output_type": "execute_result"
    }
   ],
   "source": [
    "bigmarttrain.Item_Fat_Content.value_counts()"
   ]
  },
  {
   "cell_type": "code",
   "execution_count": 151,
   "id": "e1a0fc40",
   "metadata": {},
   "outputs": [
    {
     "data": {
      "text/plain": [
       "Outlet_Type\n",
       "Grocery Store         339.828500\n",
       "Supermarket Type1    2316.181148\n",
       "Supermarket Type2    1995.498739\n",
       "Supermarket Type3    3694.038558\n",
       "Name: Item_Outlet_Sales, dtype: float64"
      ]
     },
     "execution_count": 151,
     "metadata": {},
     "output_type": "execute_result"
    }
   ],
   "source": [
    "# Testing the Null Average Item_Outlet_Sales for different Outlet_Type equal?\n",
    "bigmarttrain.Item_Outlet_Sales.groupby(bigmarttrain.Outlet_Type).mean()"
   ]
  },
  {
   "cell_type": "code",
   "execution_count": 152,
   "id": "104b0ac1",
   "metadata": {},
   "outputs": [],
   "source": [
    "gs=bigmarttrain[bigmarttrain.Outlet_Type==\"Grocery Store\"]\n",
    "st1=bigmarttrain[bigmarttrain.Outlet_Type==\"Supermarket Type1\"]\n",
    "st2=bigmarttrain[bigmarttrain.Outlet_Type==\"Supermarket Type2\"]\n",
    "st3=bigmarttrain[bigmarttrain.Outlet_Type==\"Supermarket Type3\"]"
   ]
  },
  {
   "cell_type": "code",
   "execution_count": 153,
   "id": "c51e95be",
   "metadata": {},
   "outputs": [],
   "source": [
    "from scipy.stats import f_oneway"
   ]
  },
  {
   "cell_type": "code",
   "execution_count": 154,
   "id": "8a81c4c0",
   "metadata": {},
   "outputs": [
    {
     "data": {
      "text/plain": [
       "F_onewayResult(statistic=894.6500119018012, pvalue=0.0)"
      ]
     },
     "execution_count": 154,
     "metadata": {},
     "output_type": "execute_result"
    }
   ],
   "source": [
    "f_oneway(gs.Item_Outlet_Sales,st1.Item_Outlet_Sales,st2.Item_Outlet_Sales,st3.Item_Outlet_Sales)"
   ]
  },
  {
   "cell_type": "code",
   "execution_count": 155,
   "id": "62d46eb1",
   "metadata": {},
   "outputs": [],
   "source": [
    "# the p value is <0.05 reject null hypothesis\n",
    "# null-- their is significant difference between vraiables\n",
    "# alter--their is no significant difference between vraiables"
   ]
  },
  {
   "cell_type": "code",
   "execution_count": 156,
   "id": "db7e7a30",
   "metadata": {},
   "outputs": [
    {
     "data": {
      "text/plain": [
       "Outlet_Type\n",
       "Grocery Store        140.294688\n",
       "Supermarket Type1    141.213894\n",
       "Supermarket Type2    141.678634\n",
       "Supermarket Type3    139.801791\n",
       "Name: Item_MRP, dtype: float64"
      ]
     },
     "execution_count": 156,
     "metadata": {},
     "output_type": "execute_result"
    }
   ],
   "source": [
    "# Testing the Null Average Item_MRP of different Outlet_Type equal\n",
    "bigmarttrain.Item_MRP.groupby(bigmarttrain.Outlet_Type).mean()"
   ]
  },
  {
   "cell_type": "code",
   "execution_count": 157,
   "id": "575ec10c",
   "metadata": {},
   "outputs": [
    {
     "data": {
      "text/plain": [
       "F_onewayResult(statistic=0.22025149361820015, pvalue=0.8823906488320122)"
      ]
     },
     "execution_count": 157,
     "metadata": {},
     "output_type": "execute_result"
    }
   ],
   "source": [
    "f_oneway(gs.Item_MRP,st1.Item_MRP,st2.Item_MRP,st3.Item_MRP)"
   ]
  },
  {
   "cell_type": "code",
   "execution_count": 158,
   "id": "450547d9",
   "metadata": {},
   "outputs": [],
   "source": [
    "# the p value is >0.05 failed to reject null hypothesis(accept the null hypothesis)\n",
    "# null-- their is significant difference between vraiables\n",
    "# alter--their is no significant difference between vraiables"
   ]
  },
  {
   "cell_type": "code",
   "execution_count": 159,
   "id": "33a08627",
   "metadata": {},
   "outputs": [
    {
     "data": {
      "text/html": [
       "<div>\n",
       "<style scoped>\n",
       "    .dataframe tbody tr th:only-of-type {\n",
       "        vertical-align: middle;\n",
       "    }\n",
       "\n",
       "    .dataframe tbody tr th {\n",
       "        vertical-align: top;\n",
       "    }\n",
       "\n",
       "    .dataframe thead th {\n",
       "        text-align: right;\n",
       "    }\n",
       "</style>\n",
       "<table border=\"1\" class=\"dataframe\">\n",
       "  <thead>\n",
       "    <tr style=\"text-align: right;\">\n",
       "      <th>Outlet_Location_Type</th>\n",
       "      <th>Tier 1</th>\n",
       "      <th>Tier 2</th>\n",
       "      <th>Tier 3</th>\n",
       "    </tr>\n",
       "    <tr>\n",
       "      <th>Outlet_Type</th>\n",
       "      <th></th>\n",
       "      <th></th>\n",
       "      <th></th>\n",
       "    </tr>\n",
       "  </thead>\n",
       "  <tbody>\n",
       "    <tr>\n",
       "      <th>Grocery Store</th>\n",
       "      <td>528</td>\n",
       "      <td>0</td>\n",
       "      <td>555</td>\n",
       "    </tr>\n",
       "    <tr>\n",
       "      <th>Supermarket Type1</th>\n",
       "      <td>1860</td>\n",
       "      <td>2785</td>\n",
       "      <td>932</td>\n",
       "    </tr>\n",
       "    <tr>\n",
       "      <th>Supermarket Type2</th>\n",
       "      <td>0</td>\n",
       "      <td>0</td>\n",
       "      <td>928</td>\n",
       "    </tr>\n",
       "    <tr>\n",
       "      <th>Supermarket Type3</th>\n",
       "      <td>0</td>\n",
       "      <td>0</td>\n",
       "      <td>935</td>\n",
       "    </tr>\n",
       "  </tbody>\n",
       "</table>\n",
       "</div>"
      ],
      "text/plain": [
       "Outlet_Location_Type  Tier 1  Tier 2  Tier 3\n",
       "Outlet_Type                                 \n",
       "Grocery Store            528       0     555\n",
       "Supermarket Type1       1860    2785     932\n",
       "Supermarket Type2          0       0     928\n",
       "Supermarket Type3          0       0     935"
      ]
     },
     "execution_count": 159,
     "metadata": {},
     "output_type": "execute_result"
    }
   ],
   "source": [
    "# Testing Null No Association/Relationship Between Both Variables\n",
    "pd.crosstab(bigmarttrain.Outlet_Type,bigmarttrain.Outlet_Location_Type)"
   ]
  },
  {
   "cell_type": "code",
   "execution_count": 160,
   "id": "cc9d053c",
   "metadata": {},
   "outputs": [],
   "source": [
    "from scipy.stats import chi2_contingency"
   ]
  },
  {
   "cell_type": "code",
   "execution_count": 161,
   "id": "1b8745d1",
   "metadata": {},
   "outputs": [
    {
     "data": {
      "text/plain": [
       "(4725.606588766826,\n",
       " 0.0,\n",
       " 6,\n",
       " array([[ 303.43822598,  353.88419571,  425.67757832],\n",
       "        [1562.58078141, 1822.35656459, 2192.062654  ],\n",
       "        [ 260.00985568,  303.23594978,  364.75419453],\n",
       "        [ 261.97113692,  305.52328992,  367.50557315]]))"
      ]
     },
     "execution_count": 161,
     "metadata": {},
     "output_type": "execute_result"
    }
   ],
   "source": [
    "chi2_contingency(pd.crosstab(bigmarttrain.Outlet_Type,\n",
    "                              bigmarttrain.Outlet_Location_Type))"
   ]
  },
  {
   "cell_type": "code",
   "execution_count": 162,
   "id": "84bece71",
   "metadata": {},
   "outputs": [],
   "source": [
    "# the p value is <0.05 reject null hypothesis\n",
    "# null-- their is significant difference between vraiables\n",
    "# alter--their is no significant difference between vraiables"
   ]
  },
  {
   "cell_type": "code",
   "execution_count": 163,
   "id": "bfc26304",
   "metadata": {},
   "outputs": [
    {
     "data": {
      "text/html": [
       "<div>\n",
       "<style scoped>\n",
       "    .dataframe tbody tr th:only-of-type {\n",
       "        vertical-align: middle;\n",
       "    }\n",
       "\n",
       "    .dataframe tbody tr th {\n",
       "        vertical-align: top;\n",
       "    }\n",
       "\n",
       "    .dataframe thead th {\n",
       "        text-align: right;\n",
       "    }\n",
       "</style>\n",
       "<table border=\"1\" class=\"dataframe\">\n",
       "  <thead>\n",
       "    <tr style=\"text-align: right;\">\n",
       "      <th>Outlet_Location_Type</th>\n",
       "      <th>Tier 1</th>\n",
       "      <th>Tier 2</th>\n",
       "      <th>Tier 3</th>\n",
       "    </tr>\n",
       "    <tr>\n",
       "      <th>Outlet_Size</th>\n",
       "      <th></th>\n",
       "      <th></th>\n",
       "      <th></th>\n",
       "    </tr>\n",
       "  </thead>\n",
       "  <tbody>\n",
       "    <tr>\n",
       "      <th>High</th>\n",
       "      <td>0</td>\n",
       "      <td>0</td>\n",
       "      <td>932</td>\n",
       "    </tr>\n",
       "    <tr>\n",
       "      <th>Medium</th>\n",
       "      <td>930</td>\n",
       "      <td>0</td>\n",
       "      <td>1863</td>\n",
       "    </tr>\n",
       "    <tr>\n",
       "      <th>Small</th>\n",
       "      <td>1458</td>\n",
       "      <td>930</td>\n",
       "      <td>0</td>\n",
       "    </tr>\n",
       "  </tbody>\n",
       "</table>\n",
       "</div>"
      ],
      "text/plain": [
       "Outlet_Location_Type  Tier 1  Tier 2  Tier 3\n",
       "Outlet_Size                                 \n",
       "High                       0       0     932\n",
       "Medium                   930       0    1863\n",
       "Small                   1458     930       0"
      ]
     },
     "execution_count": 163,
     "metadata": {},
     "output_type": "execute_result"
    }
   ],
   "source": [
    "# Testing Null No Association/Relationship Between Both Variables\n",
    "pd.crosstab(bigmarttrain.Outlet_Size,bigmarttrain.Outlet_Location_Type)"
   ]
  },
  {
   "cell_type": "code",
   "execution_count": 164,
   "id": "ed571da7",
   "metadata": {},
   "outputs": [
    {
     "data": {
      "text/plain": [
       "(4095.431263490629,\n",
       " 0.0,\n",
       " 4,\n",
       " array([[ 364.07917553,  141.78962866,  426.13119581],\n",
       "        [1091.06559791,  424.9124816 , 1277.0219205 ],\n",
       "        [ 932.85522657,  363.29788974, 1091.84688369]]))"
      ]
     },
     "execution_count": 164,
     "metadata": {},
     "output_type": "execute_result"
    }
   ],
   "source": [
    "chi2_contingency(pd.crosstab(bigmarttrain.Outlet_Size,\n",
    "                            bigmarttrain.Outlet_Location_Type))"
   ]
  },
  {
   "cell_type": "code",
   "execution_count": 165,
   "id": "c47fa9fa",
   "metadata": {},
   "outputs": [],
   "source": [
    "# the p value is <0.05 reject null hypothesis\n",
    "# null-- their is significant difference between vraiables\n",
    "# alter--their is no significant difference between vraiables"
   ]
  },
  {
   "cell_type": "code",
   "execution_count": 166,
   "id": "119388a2",
   "metadata": {},
   "outputs": [],
   "source": [
    "# Split Data into dependent Variable(y) & Independet Variables(X)\n",
    "y=bigmarttraindf.Item_Outlet_Sales\n",
    "X=bigmarttraindf.drop('Item_Outlet_Sales',axis=1)"
   ]
  },
  {
   "cell_type": "code",
   "execution_count": null,
   "id": "34d6bfbb",
   "metadata": {},
   "outputs": [],
   "source": []
  },
  {
   "cell_type": "code",
   "execution_count": 167,
   "id": "d906e91c",
   "metadata": {},
   "outputs": [
    {
     "data": {
      "text/plain": [
       "<AxesSubplot:ylabel='Frequency'>"
      ]
     },
     "execution_count": 167,
     "metadata": {},
     "output_type": "execute_result"
    },
    {
     "data": {
      "image/png": "[encoded data removed]",
      "text/plain": [
       "<Figure size 432x288 with 1 Axes>"
      ]
     },
     "metadata": {
      "needs_background": "light"
     },
     "output_type": "display_data"
    }
   ],
   "source": [
    "y.plot(kind='hist')"
   ]
  },
  {
   "cell_type": "code",
   "execution_count": 168,
   "id": "c329c1dc",
   "metadata": {},
   "outputs": [
    {
     "data": {
      "text/plain": [
       "<AxesSubplot:ylabel='Frequency'>"
      ]
     },
     "execution_count": 168,
     "metadata": {},
     "output_type": "execute_result"
    },
    {
     "data": {
      "image/png": "[encoded data removed]",
      "text/plain": [
       "<Figure size 432x288 with 1 Axes>"
      ]
     },
     "metadata": {
      "needs_background": "light"
     },
     "output_type": "display_data"
    }
   ],
   "source": [
    "np.log(y).plot(kind='hist')"
   ]
  },
  {
   "cell_type": "code",
   "execution_count": 169,
   "id": "2fea5f54",
   "metadata": {},
   "outputs": [
    {
     "data": {
      "text/plain": [
       "<AxesSubplot:>"
      ]
     },
     "execution_count": 169,
     "metadata": {},
     "output_type": "execute_result"
    },
    {
     "data": {
      "image/png": "[encoded data removed]",
      "text/plain": [
       "<Figure size 432x288 with 1 Axes>"
      ]
     },
     "metadata": {
      "needs_background": "light"
     },
     "output_type": "display_data"
    }
   ],
   "source": [
    "y.plot(kind='box',vert=False)"
   ]
  },
  {
   "cell_type": "code",
   "execution_count": 170,
   "id": "e5039397",
   "metadata": {
    "scrolled": true
   },
   "outputs": [
    {
     "data": {
      "text/plain": [
       "<AxesSubplot:>"
      ]
     },
     "execution_count": 170,
     "metadata": {},
     "output_type": "execute_result"
    },
    {
     "data": {
      "image/png": "[encoded data removed]",
      "text/plain": [
       "<Figure size 432x288 with 1 Axes>"
      ]
     },
     "metadata": {
      "needs_background": "light"
     },
     "output_type": "display_data"
    }
   ],
   "source": [
    "np.log(y).plot(kind='box',vert=False)"
   ]
  },
  {
   "cell_type": "code",
   "execution_count": 171,
   "id": "eef0c1c5",
   "metadata": {},
   "outputs": [
    {
     "name": "stdout",
     "output_type": "stream",
     "text": [
      "1.1775306028542796\n",
      "1.6158766814287264\n"
     ]
    }
   ],
   "source": [
    "# Skewness & Kurtosis\n",
    "print(bigmarttrain.Item_Outlet_Sales.skew())\n",
    "print(bigmarttrain.Item_Outlet_Sales.kurt())"
   ]
  },
  {
   "cell_type": "code",
   "execution_count": 172,
   "id": "3e7276ca",
   "metadata": {},
   "outputs": [
    {
     "data": {
      "text/plain": [
       "<AxesSubplot:ylabel='Density'>"
      ]
     },
     "execution_count": 172,
     "metadata": {},
     "output_type": "execute_result"
    },
    {
     "data": {
      "image/png": "[encoded data removed]",
      "text/plain": [
       "<Figure size 432x288 with 1 Axes>"
      ]
     },
     "metadata": {
      "needs_background": "light"
     },
     "output_type": "display_data"
    }
   ],
   "source": [
    "y.plot(kind='density')"
   ]
  },
  {
   "cell_type": "code",
   "execution_count": 173,
   "id": "f03fdf89",
   "metadata": {},
   "outputs": [
    {
     "data": {
      "text/plain": [
       "<AxesSubplot:ylabel='Density'>"
      ]
     },
     "execution_count": 173,
     "metadata": {},
     "output_type": "execute_result"
    },
    {
     "data": {
      "image/png": "[encoded data removed]",
      "text/plain": [
       "<Figure size 432x288 with 1 Axes>"
      ]
     },
     "metadata": {
      "needs_background": "light"
     },
     "output_type": "display_data"
    }
   ],
   "source": [
    "np.log(y).plot(kind='density')"
   ]
  },
  {
   "cell_type": "markdown",
   "id": "09742ac1",
   "metadata": {},
   "source": [
    "## Model Building"
   ]
  },
  {
   "cell_type": "code",
   "execution_count": 174,
   "id": "57760254",
   "metadata": {},
   "outputs": [],
   "source": [
    "from sklearn.linear_model import LinearRegression"
   ]
  },
  {
   "cell_type": "code",
   "execution_count": 175,
   "id": "7da2306f",
   "metadata": {},
   "outputs": [],
   "source": [
    "reg=LinearRegression()"
   ]
  },
  {
   "cell_type": "code",
   "execution_count": 176,
   "id": "8f39f85a",
   "metadata": {},
   "outputs": [],
   "source": [
    "regmodel=reg.fit(X,y)"
   ]
  },
  {
   "cell_type": "code",
   "execution_count": 177,
   "id": "8c6f5615",
   "metadata": {},
   "outputs": [
    {
     "data": {
      "text/plain": [
       "0.5637737001510252"
      ]
     },
     "execution_count": 177,
     "metadata": {},
     "output_type": "execute_result"
    }
   ],
   "source": [
    "regmodel.score(X,y)"
   ]
  },
  {
   "cell_type": "code",
   "execution_count": 178,
   "id": "c5969c09",
   "metadata": {},
   "outputs": [],
   "source": [
    "# Poistive Skewness is corrected by using Logarthmic Transformation\n",
    "regmodel2=reg.fit(X,np.log(y))"
   ]
  },
  {
   "cell_type": "code",
   "execution_count": 179,
   "id": "9b69b9b5",
   "metadata": {},
   "outputs": [
    {
     "data": {
      "text/plain": [
       "0.7213876943174335"
      ]
     },
     "execution_count": 179,
     "metadata": {},
     "output_type": "execute_result"
    }
   ],
   "source": [
    "regmodel2.score(X,np.log(y))"
   ]
  },
  {
   "cell_type": "code",
   "execution_count": 180,
   "id": "030ff2cf",
   "metadata": {},
   "outputs": [],
   "source": [
    "regpredict=regmodel.predict(X) # Predict "
   ]
  },
  {
   "cell_type": "code",
   "execution_count": 181,
   "id": "da505299",
   "metadata": {},
   "outputs": [],
   "source": [
    "regresidual=y-regpredict # Residual(Actualvalue-predicted value)"
   ]
  },
  {
   "cell_type": "code",
   "execution_count": 182,
   "id": "8b314ed1",
   "metadata": {},
   "outputs": [
    {
     "data": {
      "text/plain": [
       "2763.3203381308226"
      ]
     },
     "execution_count": 182,
     "metadata": {},
     "output_type": "execute_result"
    }
   ],
   "source": [
    "np.sqrt(np.mean(regresidual**2)) # RMSE"
   ]
  },
  {
   "cell_type": "code",
   "execution_count": 183,
   "id": "1fe2a664",
   "metadata": {},
   "outputs": [],
   "source": [
    "regpredict2=regmodel2.predict(X) # Predict"
   ]
  },
  {
   "cell_type": "code",
   "execution_count": 184,
   "id": "24ddc164",
   "metadata": {},
   "outputs": [],
   "source": [
    "regpredict2=np.exp(regpredict2)# convert back log to actual data"
   ]
  },
  {
   "cell_type": "code",
   "execution_count": 185,
   "id": "517bbb51",
   "metadata": {},
   "outputs": [],
   "source": [
    "regresidual2=y-regpredict2 # residual"
   ]
  },
  {
   "cell_type": "code",
   "execution_count": 186,
   "id": "c78ddeea",
   "metadata": {},
   "outputs": [
    {
     "data": {
      "text/plain": [
       "1140.0278807236882"
      ]
     },
     "execution_count": 186,
     "metadata": {},
     "output_type": "execute_result"
    }
   ],
   "source": [
    "np.sqrt(np.mean(regresidual2**2))"
   ]
  },
  {
   "cell_type": "code",
   "execution_count": 187,
   "id": "95ab6ebf",
   "metadata": {},
   "outputs": [],
   "source": [
    "from sklearn.model_selection import cross_val_score"
   ]
  },
  {
   "cell_type": "code",
   "execution_count": 188,
   "id": "622bb9d1",
   "metadata": {},
   "outputs": [
    {
     "data": {
      "text/plain": [
       "array([0.7205722 , 0.71009854, 0.70854769, 0.71488665, 0.74006189])"
      ]
     },
     "execution_count": 188,
     "metadata": {},
     "output_type": "execute_result"
    }
   ],
   "source": [
    "cross_val_score(regmodel,X,np.log(y),cv=5) # cross validation\n",
    "# cv=5 means 5 subsets of randomly selected data and 5 testing of model"
   ]
  },
  {
   "cell_type": "code",
   "execution_count": 189,
   "id": "83c42506",
   "metadata": {},
   "outputs": [
    {
     "data": {
      "text/plain": [
       "0.718833394"
      ]
     },
     "execution_count": 189,
     "metadata": {},
     "output_type": "execute_result"
    }
   ],
   "source": [
    "np.mean([0.7205722 , 0.71009854, 0.70854769, 0.71488665, 0.74006189])"
   ]
  },
  {
   "cell_type": "code",
   "execution_count": 190,
   "id": "dae9febb",
   "metadata": {},
   "outputs": [],
   "source": [
    "regtestpredict=regmodel2.predict(bigmarttestdf)"
   ]
  },
  {
   "cell_type": "code",
   "execution_count": 191,
   "id": "18e38c4e",
   "metadata": {},
   "outputs": [],
   "source": [
    "regtestpredict=np.exp(regtestpredict)"
   ]
  },
  {
   "cell_type": "code",
   "execution_count": 192,
   "id": "36807a28",
   "metadata": {},
   "outputs": [
    {
     "data": {
      "text/plain": [
       "array([1431.69769892, 1137.13312846,  593.33677596, ..., 1468.27479033,\n",
       "       3619.76045086, 1091.03184893])"
      ]
     },
     "execution_count": 192,
     "metadata": {},
     "output_type": "execute_result"
    }
   ],
   "source": [
    "regtestpredict"
   ]
  },
  {
   "cell_type": "code",
   "execution_count": 193,
   "id": "6ad88fef",
   "metadata": {},
   "outputs": [],
   "source": [
    "pd.DataFrame(regtestpredict).to_csv(\"reg.csv\")"
   ]
  },
  {
   "cell_type": "markdown",
   "id": "bc717d7e",
   "metadata": {},
   "source": [
    "##  DecisionTreeRegressor"
   ]
  },
  {
   "cell_type": "code",
   "execution_count": 194,
   "id": "c0564b5b",
   "metadata": {},
   "outputs": [],
   "source": [
    "from sklearn.tree import DecisionTreeRegressor"
   ]
  },
  {
   "cell_type": "code",
   "execution_count": 195,
   "id": "4e7419aa",
   "metadata": {},
   "outputs": [],
   "source": [
    "dt=DecisionTreeRegressor(max_depth=5)"
   ]
  },
  {
   "cell_type": "code",
   "execution_count": 196,
   "id": "6cf12a42",
   "metadata": {},
   "outputs": [],
   "source": [
    "dtmodel=dt.fit(X,y)"
   ]
  },
  {
   "cell_type": "code",
   "execution_count": 197,
   "id": "38da895f",
   "metadata": {},
   "outputs": [
    {
     "data": {
      "text/plain": [
       "0.6036222008273235"
      ]
     },
     "execution_count": 197,
     "metadata": {},
     "output_type": "execute_result"
    }
   ],
   "source": [
    "dtmodel.score(X,y)"
   ]
  },
  {
   "cell_type": "code",
   "execution_count": 198,
   "id": "5e648f9e",
   "metadata": {},
   "outputs": [],
   "source": [
    "dtmodel2=dt.fit(X,np.log(y))"
   ]
  },
  {
   "cell_type": "code",
   "execution_count": 199,
   "id": "0d28f5b2",
   "metadata": {},
   "outputs": [
    {
     "data": {
      "text/plain": [
       "0.7404974231546005"
      ]
     },
     "execution_count": 199,
     "metadata": {},
     "output_type": "execute_result"
    }
   ],
   "source": [
    "dtmodel2.score(X,np.log(y))"
   ]
  },
  {
   "cell_type": "code",
   "execution_count": 200,
   "id": "20519310",
   "metadata": {},
   "outputs": [],
   "source": [
    "dtpre=dtmodel.predict(X)"
   ]
  },
  {
   "cell_type": "code",
   "execution_count": 201,
   "id": "556ef5df",
   "metadata": {},
   "outputs": [],
   "source": [
    "dtresidual=y-dtpre"
   ]
  },
  {
   "cell_type": "code",
   "execution_count": 202,
   "id": "8ef5190c",
   "metadata": {},
   "outputs": [
    {
     "data": {
      "text/plain": [
       "2763.3235995623722"
      ]
     },
     "execution_count": 202,
     "metadata": {},
     "output_type": "execute_result"
    }
   ],
   "source": [
    "np.sqrt(np.mean(dtresidual**2))"
   ]
  },
  {
   "cell_type": "code",
   "execution_count": 203,
   "id": "c9f91e66",
   "metadata": {},
   "outputs": [],
   "source": [
    "dtpre2=dtmodel2.predict(X)"
   ]
  },
  {
   "cell_type": "code",
   "execution_count": 204,
   "id": "fa2ff0cb",
   "metadata": {},
   "outputs": [],
   "source": [
    "dtpredict2=np.exp(dtpre2)"
   ]
  },
  {
   "cell_type": "code",
   "execution_count": 205,
   "id": "0be88dd7",
   "metadata": {},
   "outputs": [],
   "source": [
    "dtresidual2=y-dtpredict2 # residual"
   ]
  },
  {
   "cell_type": "code",
   "execution_count": 206,
   "id": "299f6c73",
   "metadata": {},
   "outputs": [
    {
     "data": {
      "text/plain": [
       "1109.9195219878693"
      ]
     },
     "execution_count": 206,
     "metadata": {},
     "output_type": "execute_result"
    }
   ],
   "source": [
    "np.sqrt(np.mean(dtresidual2**2))"
   ]
  },
  {
   "cell_type": "code",
   "execution_count": 207,
   "id": "e56fa104",
   "metadata": {},
   "outputs": [
    {
     "data": {
      "text/plain": [
       "array([0.71962358, 0.71559636, 0.71739392, 0.7217384 , 0.75277106])"
      ]
     },
     "execution_count": 207,
     "metadata": {},
     "output_type": "execute_result"
    }
   ],
   "source": [
    "cross_val_score(dtmodel,X,np.log(y))"
   ]
  },
  {
   "cell_type": "code",
   "execution_count": 208,
   "id": "1546e659",
   "metadata": {},
   "outputs": [],
   "source": [
    "dttestpre=dtmodel2.predict(bigmarttestdf)"
   ]
  },
  {
   "cell_type": "code",
   "execution_count": 209,
   "id": "3a1ea882",
   "metadata": {},
   "outputs": [],
   "source": [
    "dttestpre=np.exp(dttestpre)"
   ]
  },
  {
   "cell_type": "code",
   "execution_count": 210,
   "id": "1900ec77",
   "metadata": {},
   "outputs": [
    {
     "data": {
      "text/plain": [
       "array([1405.46006897, 1121.16252711,  492.52097677, ..., 1736.20689331,\n",
       "       3400.17400694, 1121.16252711])"
      ]
     },
     "execution_count": 210,
     "metadata": {},
     "output_type": "execute_result"
    }
   ],
   "source": [
    "dttestpre"
   ]
  },
  {
   "cell_type": "code",
   "execution_count": 211,
   "id": "5d0fe012",
   "metadata": {},
   "outputs": [],
   "source": [
    "pd.DataFrame(dttestpre).to_csv(\"dt.csv\")"
   ]
  },
  {
   "cell_type": "markdown",
   "id": "e58bdb4b",
   "metadata": {},
   "source": [
    "## RandomForestRegressor"
   ]
  },
  {
   "cell_type": "code",
   "execution_count": 212,
   "id": "ee4a18a2",
   "metadata": {},
   "outputs": [],
   "source": [
    "from sklearn.ensemble import RandomForestRegressor"
   ]
  },
  {
   "cell_type": "code",
   "execution_count": 213,
   "id": "6447436b",
   "metadata": {},
   "outputs": [],
   "source": [
    "rf=RandomForestRegressor(max_depth=3,n_estimators=35)"
   ]
  },
  {
   "cell_type": "code",
   "execution_count": 214,
   "id": "05f090cf",
   "metadata": {},
   "outputs": [],
   "source": [
    "rfmodel=rf.fit(X,y)"
   ]
  },
  {
   "cell_type": "code",
   "execution_count": 215,
   "id": "dde559a0",
   "metadata": {},
   "outputs": [
    {
     "data": {
      "text/plain": [
       "0.5361953868788489"
      ]
     },
     "execution_count": 215,
     "metadata": {},
     "output_type": "execute_result"
    }
   ],
   "source": [
    "rfmodel.score(X,y)"
   ]
  },
  {
   "cell_type": "code",
   "execution_count": 216,
   "id": "a9106810",
   "metadata": {},
   "outputs": [],
   "source": [
    "rfpre=rfmodel.predict(X)"
   ]
  },
  {
   "cell_type": "code",
   "execution_count": 217,
   "id": "e874b61d",
   "metadata": {},
   "outputs": [],
   "source": [
    "rfresiduals=y-rfpre"
   ]
  },
  {
   "cell_type": "code",
   "execution_count": 218,
   "id": "3a6c7a81",
   "metadata": {},
   "outputs": [
    {
     "data": {
      "text/plain": [
       "1162.1127004081159"
      ]
     },
     "execution_count": 218,
     "metadata": {},
     "output_type": "execute_result"
    }
   ],
   "source": [
    "np.sqrt(np.mean(rfresiduals**2))"
   ]
  },
  {
   "cell_type": "code",
   "execution_count": 219,
   "id": "12156cdd",
   "metadata": {},
   "outputs": [
    {
     "data": {
      "text/plain": [
       "array([0.52394811, 0.54084121, 0.51171568, 0.55043049, 0.54072066])"
      ]
     },
     "execution_count": 219,
     "metadata": {},
     "output_type": "execute_result"
    }
   ],
   "source": [
    "cross_val_score(rfmodel,X,y)"
   ]
  },
  {
   "cell_type": "code",
   "execution_count": 220,
   "id": "fb05e2b4",
   "metadata": {},
   "outputs": [
    {
     "data": {
      "text/plain": [
       "0.534691738"
      ]
     },
     "execution_count": 220,
     "metadata": {},
     "output_type": "execute_result"
    }
   ],
   "source": [
    "np.mean([0.52203779, 0.54110113, 0.51483838, 0.55007301, 0.54540838])"
   ]
  },
  {
   "cell_type": "code",
   "execution_count": 221,
   "id": "447e8340",
   "metadata": {},
   "outputs": [],
   "source": [
    "rfmodel2=rf.fit(X,np.log(y))"
   ]
  },
  {
   "cell_type": "code",
   "execution_count": 222,
   "id": "d2b3a908",
   "metadata": {},
   "outputs": [
    {
     "data": {
      "text/plain": [
       "0.7043733102880795"
      ]
     },
     "execution_count": 222,
     "metadata": {},
     "output_type": "execute_result"
    }
   ],
   "source": [
    "rfmodel2.score(X,np.log(y))"
   ]
  },
  {
   "cell_type": "code",
   "execution_count": 223,
   "id": "c59b3395",
   "metadata": {},
   "outputs": [],
   "source": [
    "rfpre2=rfmodel2.predict(X)"
   ]
  },
  {
   "cell_type": "code",
   "execution_count": 224,
   "id": "f5840888",
   "metadata": {},
   "outputs": [],
   "source": [
    "rfres2=y-rfpre2"
   ]
  },
  {
   "cell_type": "code",
   "execution_count": 225,
   "id": "b2f1c6bc",
   "metadata": {},
   "outputs": [
    {
     "data": {
      "text/plain": [
       "2763.362834230867"
      ]
     },
     "execution_count": 225,
     "metadata": {},
     "output_type": "execute_result"
    }
   ],
   "source": [
    "np.sqrt(np.mean(rfres2**2))"
   ]
  },
  {
   "cell_type": "code",
   "execution_count": 226,
   "id": "7f268acd",
   "metadata": {},
   "outputs": [
    {
     "data": {
      "text/plain": [
       "array([0.69009648, 0.69404243, 0.68411884, 0.69540126, 0.72280745])"
      ]
     },
     "execution_count": 226,
     "metadata": {},
     "output_type": "execute_result"
    }
   ],
   "source": [
    "cross_val_score(rfmodel2,X,np.log(y))"
   ]
  },
  {
   "cell_type": "code",
   "execution_count": 227,
   "id": "25d2debd",
   "metadata": {},
   "outputs": [
    {
     "data": {
      "text/plain": [
       "0.6966989440000001"
      ]
     },
     "execution_count": 227,
     "metadata": {},
     "output_type": "execute_result"
    }
   ],
   "source": [
    "np.mean([0.68965349, 0.69378508, 0.6828677 , 0.69428976, 0.72289869])"
   ]
  },
  {
   "cell_type": "code",
   "execution_count": 228,
   "id": "371de9d2",
   "metadata": {},
   "outputs": [],
   "source": [
    "rftestpre=rfmodel2.predict(bigmarttestdf)"
   ]
  },
  {
   "cell_type": "code",
   "execution_count": 229,
   "id": "8134b022",
   "metadata": {},
   "outputs": [],
   "source": [
    "rftestpre=np.exp(rftestpre)"
   ]
  },
  {
   "cell_type": "code",
   "execution_count": 230,
   "id": "0ed90acb",
   "metadata": {},
   "outputs": [
    {
     "data": {
      "text/plain": [
       "array([1446.70841243, 1363.47876666,  450.26752637, ..., 1898.71603445,\n",
       "       3148.19671759, 1363.47876666])"
      ]
     },
     "execution_count": 230,
     "metadata": {},
     "output_type": "execute_result"
    }
   ],
   "source": [
    "rftestpre"
   ]
  },
  {
   "cell_type": "code",
   "execution_count": 231,
   "id": "5d979304",
   "metadata": {},
   "outputs": [],
   "source": [
    "pd.DataFrame(rftestpre).to_csv(\"rf.csv\")"
   ]
  },
  {
   "cell_type": "markdown",
   "id": "8a448bf0",
   "metadata": {},
   "source": [
    "## Gradientboosting "
   ]
  },
  {
   "cell_type": "code",
   "execution_count": 232,
   "id": "fe96c9eb",
   "metadata": {},
   "outputs": [],
   "source": [
    "from sklearn.ensemble import GradientBoostingRegressor"
   ]
  },
  {
   "cell_type": "code",
   "execution_count": 233,
   "id": "fcc56993",
   "metadata": {},
   "outputs": [],
   "source": [
    "gb=GradientBoostingRegressor(n_estimators=40)"
   ]
  },
  {
   "cell_type": "code",
   "execution_count": 234,
   "id": "df6532d2",
   "metadata": {},
   "outputs": [],
   "source": [
    "gbmodel=gb.fit(X,y)"
   ]
  },
  {
   "cell_type": "code",
   "execution_count": 235,
   "id": "b573c779",
   "metadata": {},
   "outputs": [
    {
     "data": {
      "text/plain": [
       "0.6126827782851834"
      ]
     },
     "execution_count": 235,
     "metadata": {},
     "output_type": "execute_result"
    }
   ],
   "source": [
    "gbmodel.score(X,y)"
   ]
  },
  {
   "cell_type": "code",
   "execution_count": 236,
   "id": "2cc7b3c0",
   "metadata": {},
   "outputs": [],
   "source": [
    "gbpre=gbmodel.predict(X)"
   ]
  },
  {
   "cell_type": "code",
   "execution_count": 237,
   "id": "0d1b87a0",
   "metadata": {},
   "outputs": [],
   "source": [
    "gbres=y-gbpre"
   ]
  },
  {
   "cell_type": "code",
   "execution_count": 238,
   "id": "8d25c606",
   "metadata": {},
   "outputs": [
    {
     "data": {
      "text/plain": [
       "1061.9745754437442"
      ]
     },
     "execution_count": 238,
     "metadata": {},
     "output_type": "execute_result"
    }
   ],
   "source": [
    "np.sqrt(np.mean(gbres**2))"
   ]
  },
  {
   "cell_type": "code",
   "execution_count": 239,
   "id": "017067f1",
   "metadata": {},
   "outputs": [
    {
     "data": {
      "text/plain": [
       "array([0.60653829, 0.58731713, 0.58013137, 0.60877662, 0.60732107])"
      ]
     },
     "execution_count": 239,
     "metadata": {},
     "output_type": "execute_result"
    }
   ],
   "source": [
    "cross_val_score(gbmodel,X,y)"
   ]
  },
  {
   "cell_type": "code",
   "execution_count": 240,
   "id": "830fef13",
   "metadata": {},
   "outputs": [
    {
     "data": {
      "text/plain": [
       "0.5980597360000001"
      ]
     },
     "execution_count": 240,
     "metadata": {},
     "output_type": "execute_result"
    }
   ],
   "source": [
    "np.mean([0.60675249, 0.58731713, 0.58013137, 0.60877662, 0.60732107])"
   ]
  },
  {
   "cell_type": "code",
   "execution_count": 241,
   "id": "ba2384ba",
   "metadata": {},
   "outputs": [],
   "source": [
    "gbmodel2=gb.fit(X,np.log(y))"
   ]
  },
  {
   "cell_type": "code",
   "execution_count": 242,
   "id": "6eac5eb9",
   "metadata": {},
   "outputs": [
    {
     "data": {
      "text/plain": [
       "0.7453504589772595"
      ]
     },
     "execution_count": 242,
     "metadata": {},
     "output_type": "execute_result"
    }
   ],
   "source": [
    "gbmodel2.score(X,np.log(y))"
   ]
  },
  {
   "cell_type": "code",
   "execution_count": 243,
   "id": "42050474",
   "metadata": {},
   "outputs": [],
   "source": [
    "gbpre2=gbmodel2.predict(X)"
   ]
  },
  {
   "cell_type": "code",
   "execution_count": 244,
   "id": "aa217ccf",
   "metadata": {},
   "outputs": [],
   "source": [
    "gbres2=y-gbpre2"
   ]
  },
  {
   "cell_type": "code",
   "execution_count": 245,
   "id": "e0bf62df",
   "metadata": {},
   "outputs": [
    {
     "data": {
      "text/plain": [
       "2763.3359614863393"
      ]
     },
     "execution_count": 245,
     "metadata": {},
     "output_type": "execute_result"
    }
   ],
   "source": [
    "np.sqrt(np.mean(gbres2**2))"
   ]
  },
  {
   "cell_type": "code",
   "execution_count": 246,
   "id": "3efdb328",
   "metadata": {},
   "outputs": [
    {
     "data": {
      "text/plain": [
       "array([0.73108382, 0.7283376 , 0.7290443 , 0.7313631 , 0.75882317])"
      ]
     },
     "execution_count": 246,
     "metadata": {},
     "output_type": "execute_result"
    }
   ],
   "source": [
    "cross_val_score(gbmodel2,X,np.log(y))"
   ]
  },
  {
   "cell_type": "code",
   "execution_count": 247,
   "id": "77d62118",
   "metadata": {},
   "outputs": [
    {
     "data": {
      "text/plain": [
       "0.735720318"
      ]
     },
     "execution_count": 247,
     "metadata": {},
     "output_type": "execute_result"
    }
   ],
   "source": [
    "np.mean([0.73108382, 0.7283376 , 0.7290443 , 0.7313127 , 0.75882317])"
   ]
  },
  {
   "cell_type": "code",
   "execution_count": 248,
   "id": "03fc172b",
   "metadata": {},
   "outputs": [],
   "source": [
    "gbtestpre=gbmodel2.predict(bigmarttestdf)"
   ]
  },
  {
   "cell_type": "code",
   "execution_count": 249,
   "id": "5b8b8210",
   "metadata": {},
   "outputs": [],
   "source": [
    "gbtestpre=np.exp(gbtestpre)"
   ]
  },
  {
   "cell_type": "code",
   "execution_count": 250,
   "id": "bd3735bb",
   "metadata": {},
   "outputs": [],
   "source": [
    "pd.DataFrame(gbtestpre).to_csv(\"gb.csv\")"
   ]
  },
  {
   "cell_type": "code",
   "execution_count": 254,
   "id": "e9476fde",
   "metadata": {},
   "outputs": [],
   "source": [
    "report=pd.read_excel(\"C:/Users/HP/Desktop/bigmart table report.xlsx\")"
   ]
  },
  {
   "cell_type": "code",
   "execution_count": null,
   "id": "cd218e6f",
   "metadata": {},
   "outputs": [],
   "source": [
    "# submitting the test predictions in the analytics vidya"
   ]
  },
  {
   "cell_type": "code",
   "execution_count": 255,
   "id": "5729d8cf",
   "metadata": {},
   "outputs": [
    {
     "data": {
      "text/html": [
       "<div>\n",
       "<style scoped>\n",
       "    .dataframe tbody tr th:only-of-type {\n",
       "        vertical-align: middle;\n",
       "    }\n",
       "\n",
       "    .dataframe tbody tr th {\n",
       "        vertical-align: top;\n",
       "    }\n",
       "\n",
       "    .dataframe thead th {\n",
       "        text-align: right;\n",
       "    }\n",
       "</style>\n",
       "<table border=\"1\" class=\"dataframe\">\n",
       "  <thead>\n",
       "    <tr style=\"text-align: right;\">\n",
       "      <th></th>\n",
       "      <th>model</th>\n",
       "      <th>RMSE</th>\n",
       "    </tr>\n",
       "  </thead>\n",
       "  <tbody>\n",
       "    <tr>\n",
       "      <th>0</th>\n",
       "      <td>Linear Regression</td>\n",
       "      <td>1231.690</td>\n",
       "    </tr>\n",
       "    <tr>\n",
       "      <th>1</th>\n",
       "      <td>Decission tree</td>\n",
       "      <td>1631.310</td>\n",
       "    </tr>\n",
       "    <tr>\n",
       "      <th>2</th>\n",
       "      <td>decission tree(25 max depth)</td>\n",
       "      <td>1591.088</td>\n",
       "    </tr>\n",
       "    <tr>\n",
       "      <th>3</th>\n",
       "      <td>decission tree(90 max depth)</td>\n",
       "      <td>1527.208</td>\n",
       "    </tr>\n",
       "    <tr>\n",
       "      <th>4</th>\n",
       "      <td>Random forest</td>\n",
       "      <td>1351.130</td>\n",
       "    </tr>\n",
       "    <tr>\n",
       "      <th>5</th>\n",
       "      <td>Gradient bossting</td>\n",
       "      <td>1197.824</td>\n",
       "    </tr>\n",
       "  </tbody>\n",
       "</table>\n",
       "</div>"
      ],
      "text/plain": [
       "                          model      RMSE\n",
       "0             Linear Regression  1231.690\n",
       "1               Decission tree   1631.310\n",
       "2  decission tree(25 max depth)  1591.088\n",
       "3  decission tree(90 max depth)  1527.208\n",
       "4                 Random forest  1351.130\n",
       "5             Gradient bossting  1197.824"
      ]
     },
     "execution_count": 255,
     "metadata": {},
     "output_type": "execute_result"
    }
   ],
   "source": [
    "report"
   ]
  },
  {
   "cell_type": "code",
   "execution_count": 257,
   "id": "5550d2cb",
   "metadata": {},
   "outputs": [
    {
     "data": {
      "text/plain": [
       "1197.824"
      ]
     },
     "execution_count": 257,
     "metadata": {},
     "output_type": "execute_result"
    }
   ],
   "source": [
    "min(report.RMSE)"
   ]
  },
  {
   "cell_type": "markdown",
   "id": "44a8dd90",
   "metadata": {},
   "source": [
    "## I predeicted  test data in Analytics vidhya.Gradient Boosting is the best fit model."
   ]
  }
 ],
 "metadata": {
  "kernelspec": {
   "display_name": "Python 3 (ipykernel)",
   "language": "python",
   "name": "python3"
  },
  "language_info": {
   "codemirror_mode": {
    "name": "ipython",
    "version": 3
   },
   "file_extension": ".py",
   "mimetype": "text/x-python",
   "name": "python",
   "nbconvert_exporter": "python",
   "pygments_lexer": "ipython3",
   "version": "3.9.12"
  }
 },
 "nbformat": 4,
 "nbformat_minor": 5
}
