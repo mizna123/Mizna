{
 "cells": [
  {
   "cell_type": "markdown",
   "id": "ee548b85",
   "metadata": {},
   "source": [
    "## Nowadays shopping malls and Big Marts keep the track of their sales data of each and every individual item for predicting future demand of the customer and update the inventory management as well. These data stores basically contain a large number of customer data and individual item attributes in a data warehouse"
   ]
  },
  {
   "cell_type": "markdown",
   "id": "d8896b5a",
   "metadata": {},
   "source": [
    "## The aim is to build a predictive model and predict the sales of each product at a particular outlet."
   ]
  },
  {
   "cell_type": "markdown",
   "id": "3e610f6c",
   "metadata": {},
   "source": [
    "### First am importing the libraries which i use in this project"
   ]
  },
  {
   "cell_type": "code",
   "execution_count": 1,
   "id": "bd577a2e",
   "metadata": {},
   "outputs": [],
   "source": [
    "import pandas as pd\n",
    "import numpy as np\n",
    "import matplotlib.pyplot as plt\n",
    "%matplotlib inline"
   ]
  },
  {
   "cell_type": "code",
   "execution_count": 15,
   "id": "e93d0a8e",
   "metadata": {},
   "outputs": [],
   "source": [
    "# Pandas - Dataframe operations like import/export, join, concat, reshape,\n",
    "# index, etc.\n",
    "# matplotlib.pyplot - Data Vizualization particulary if you want to alter\n",
    "# plot window size, etc.\n",
    "# Numpy - Array based operations. Array are fundamental datastructure and\n",
    "# start & end with [] or square brackets, elements seperated by comma.\n",
    "# Subpackages in Numpy\n",
    "# scipy.stats - statistics\n",
    "# statsmodels - Time Series"
   ]
  },
  {
   "cell_type": "code",
   "execution_count": 2,
   "id": "f6b5ec89",
   "metadata": {},
   "outputs": [
    {
     "name": "stdout",
     "output_type": "stream",
     "text": [
      "C:\\Users\\HP\\Desktop\\python\\bigmart sales files\n"
     ]
    }
   ],
   "source": [
    "import io\n",
    "%cd \"C:\\Users\\HP\\Desktop\\python\\bigmart sales files\""
   ]
  },
  {
   "cell_type": "markdown",
   "id": "17d424c9",
   "metadata": {},
   "source": [
    "### loading the train and test datasets using pandas"
   ]
  },
  {
   "cell_type": "code",
   "execution_count": 7,
   "id": "e6e7895d",
   "metadata": {},
   "outputs": [],
   "source": [
    "bigmarttrain=pd.read_csv('train_v9rqX0R.csv')"
   ]
  },
  {
   "cell_type": "code",
   "execution_count": 8,
   "id": "6a4ae964",
   "metadata": {},
   "outputs": [],
   "source": [
    "bigmarttest=pd.read_csv('test_AbJTz2l.csv')"
   ]
  },
  {
   "cell_type": "code",
   "execution_count": 9,
   "id": "8159af4d",
   "metadata": {},
   "outputs": [
    {
     "name": "stdout",
     "output_type": "stream",
     "text": [
      "(8523, 12)\n",
      "(5681, 11)\n"
     ]
    }
   ],
   "source": [
    "# reading the train data using pandas\n",
    "print(bigmarttrain.shape)\n",
    "print(bigmarttest.shape)"
   ]
  },
  {
   "cell_type": "code",
   "execution_count": 10,
   "id": "417adffb",
   "metadata": {},
   "outputs": [
    {
     "data": {
      "text/html": [
       "<div>\n",
       "<style scoped>\n",
       "    .dataframe tbody tr th:only-of-type {\n",
       "        vertical-align: middle;\n",
       "    }\n",
       "\n",
       "    .dataframe tbody tr th {\n",
       "        vertical-align: top;\n",
       "    }\n",
       "\n",
       "    .dataframe thead th {\n",
       "        text-align: right;\n",
       "    }\n",
       "</style>\n",
       "<table border=\"1\" class=\"dataframe\">\n",
       "  <thead>\n",
       "    <tr style=\"text-align: right;\">\n",
       "      <th></th>\n",
       "      <th>Item_Identifier</th>\n",
       "      <th>Item_Weight</th>\n",
       "      <th>Item_Fat_Content</th>\n",
       "      <th>Item_Visibility</th>\n",
       "      <th>Item_Type</th>\n",
       "      <th>Item_MRP</th>\n",
       "      <th>Outlet_Identifier</th>\n",
       "      <th>Outlet_Establishment_Year</th>\n",
       "      <th>Outlet_Size</th>\n",
       "      <th>Outlet_Location_Type</th>\n",
       "      <th>Outlet_Type</th>\n",
       "      <th>Item_Outlet_Sales</th>\n",
       "    </tr>\n",
       "  </thead>\n",
       "  <tbody>\n",
       "    <tr>\n",
       "      <th>0</th>\n",
       "      <td>FDA15</td>\n",
       "      <td>9.30</td>\n",
       "      <td>Low Fat</td>\n",
       "      <td>0.016047</td>\n",
       "      <td>Dairy</td>\n",
       "      <td>249.8092</td>\n",
       "      <td>OUT049</td>\n",
       "      <td>1999</td>\n",
       "      <td>Medium</td>\n",
       "      <td>Tier 1</td>\n",
       "      <td>Supermarket Type1</td>\n",
       "      <td>3735.1380</td>\n",
       "    </tr>\n",
       "    <tr>\n",
       "      <th>1</th>\n",
       "      <td>DRC01</td>\n",
       "      <td>5.92</td>\n",
       "      <td>Regular</td>\n",
       "      <td>0.019278</td>\n",
       "      <td>Soft Drinks</td>\n",
       "      <td>48.2692</td>\n",
       "      <td>OUT018</td>\n",
       "      <td>2009</td>\n",
       "      <td>Medium</td>\n",
       "      <td>Tier 3</td>\n",
       "      <td>Supermarket Type2</td>\n",
       "      <td>443.4228</td>\n",
       "    </tr>\n",
       "    <tr>\n",
       "      <th>2</th>\n",
       "      <td>FDN15</td>\n",
       "      <td>17.50</td>\n",
       "      <td>Low Fat</td>\n",
       "      <td>0.016760</td>\n",
       "      <td>Meat</td>\n",
       "      <td>141.6180</td>\n",
       "      <td>OUT049</td>\n",
       "      <td>1999</td>\n",
       "      <td>Medium</td>\n",
       "      <td>Tier 1</td>\n",
       "      <td>Supermarket Type1</td>\n",
       "      <td>2097.2700</td>\n",
       "    </tr>\n",
       "    <tr>\n",
       "      <th>3</th>\n",
       "      <td>FDX07</td>\n",
       "      <td>19.20</td>\n",
       "      <td>Regular</td>\n",
       "      <td>0.000000</td>\n",
       "      <td>Fruits and Vegetables</td>\n",
       "      <td>182.0950</td>\n",
       "      <td>OUT010</td>\n",
       "      <td>1998</td>\n",
       "      <td>NaN</td>\n",
       "      <td>Tier 3</td>\n",
       "      <td>Grocery Store</td>\n",
       "      <td>732.3800</td>\n",
       "    </tr>\n",
       "    <tr>\n",
       "      <th>4</th>\n",
       "      <td>NCD19</td>\n",
       "      <td>8.93</td>\n",
       "      <td>Low Fat</td>\n",
       "      <td>0.000000</td>\n",
       "      <td>Household</td>\n",
       "      <td>53.8614</td>\n",
       "      <td>OUT013</td>\n",
       "      <td>1987</td>\n",
       "      <td>High</td>\n",
       "      <td>Tier 3</td>\n",
       "      <td>Supermarket Type1</td>\n",
       "      <td>994.7052</td>\n",
       "    </tr>\n",
       "  </tbody>\n",
       "</table>\n",
       "</div>"
      ],
      "text/plain": [
       "  Item_Identifier  Item_Weight Item_Fat_Content  Item_Visibility  \\\n",
       "0           FDA15         9.30          Low Fat         0.016047   \n",
       "1           DRC01         5.92          Regular         0.019278   \n",
       "2           FDN15        17.50          Low Fat         0.016760   \n",
       "3           FDX07        19.20          Regular         0.000000   \n",
       "4           NCD19         8.93          Low Fat         0.000000   \n",
       "\n",
       "               Item_Type  Item_MRP Outlet_Identifier  \\\n",
       "0                  Dairy  249.8092            OUT049   \n",
       "1            Soft Drinks   48.2692            OUT018   \n",
       "2                   Meat  141.6180            OUT049   \n",
       "3  Fruits and Vegetables  182.0950            OUT010   \n",
       "4              Household   53.8614            OUT013   \n",
       "\n",
       "   Outlet_Establishment_Year Outlet_Size Outlet_Location_Type  \\\n",
       "0                       1999      Medium               Tier 1   \n",
       "1                       2009      Medium               Tier 3   \n",
       "2                       1999      Medium               Tier 1   \n",
       "3                       1998         NaN               Tier 3   \n",
       "4                       1987        High               Tier 3   \n",
       "\n",
       "         Outlet_Type  Item_Outlet_Sales  \n",
       "0  Supermarket Type1          3735.1380  \n",
       "1  Supermarket Type2           443.4228  \n",
       "2  Supermarket Type1          2097.2700  \n",
       "3      Grocery Store           732.3800  \n",
       "4  Supermarket Type1           994.7052  "
      ]
     },
     "execution_count": 10,
     "metadata": {},
     "output_type": "execute_result"
    }
   ],
   "source": [
    "bigmarttrain.head() # First 5 Rows of Data "
   ]
  },
  {
   "cell_type": "code",
   "execution_count": 11,
   "id": "14bc7b6e",
   "metadata": {},
   "outputs": [
    {
     "data": {
      "text/html": [
       "<div>\n",
       "<style scoped>\n",
       "    .dataframe tbody tr th:only-of-type {\n",
       "        vertical-align: middle;\n",
       "    }\n",
       "\n",
       "    .dataframe tbody tr th {\n",
       "        vertical-align: top;\n",
       "    }\n",
       "\n",
       "    .dataframe thead th {\n",
       "        text-align: right;\n",
       "    }\n",
       "</style>\n",
       "<table border=\"1\" class=\"dataframe\">\n",
       "  <thead>\n",
       "    <tr style=\"text-align: right;\">\n",
       "      <th></th>\n",
       "      <th>Item_Identifier</th>\n",
       "      <th>Item_Weight</th>\n",
       "      <th>Item_Fat_Content</th>\n",
       "      <th>Item_Visibility</th>\n",
       "      <th>Item_Type</th>\n",
       "      <th>Item_MRP</th>\n",
       "      <th>Outlet_Identifier</th>\n",
       "      <th>Outlet_Establishment_Year</th>\n",
       "      <th>Outlet_Size</th>\n",
       "      <th>Outlet_Location_Type</th>\n",
       "      <th>Outlet_Type</th>\n",
       "      <th>Item_Outlet_Sales</th>\n",
       "    </tr>\n",
       "  </thead>\n",
       "  <tbody>\n",
       "    <tr>\n",
       "      <th>8518</th>\n",
       "      <td>FDF22</td>\n",
       "      <td>6.865</td>\n",
       "      <td>Low Fat</td>\n",
       "      <td>0.056783</td>\n",
       "      <td>Snack Foods</td>\n",
       "      <td>214.5218</td>\n",
       "      <td>OUT013</td>\n",
       "      <td>1987</td>\n",
       "      <td>High</td>\n",
       "      <td>Tier 3</td>\n",
       "      <td>Supermarket Type1</td>\n",
       "      <td>2778.3834</td>\n",
       "    </tr>\n",
       "    <tr>\n",
       "      <th>8519</th>\n",
       "      <td>FDS36</td>\n",
       "      <td>8.380</td>\n",
       "      <td>Regular</td>\n",
       "      <td>0.046982</td>\n",
       "      <td>Baking Goods</td>\n",
       "      <td>108.1570</td>\n",
       "      <td>OUT045</td>\n",
       "      <td>2002</td>\n",
       "      <td>NaN</td>\n",
       "      <td>Tier 2</td>\n",
       "      <td>Supermarket Type1</td>\n",
       "      <td>549.2850</td>\n",
       "    </tr>\n",
       "    <tr>\n",
       "      <th>8520</th>\n",
       "      <td>NCJ29</td>\n",
       "      <td>10.600</td>\n",
       "      <td>Low Fat</td>\n",
       "      <td>0.035186</td>\n",
       "      <td>Health and Hygiene</td>\n",
       "      <td>85.1224</td>\n",
       "      <td>OUT035</td>\n",
       "      <td>2004</td>\n",
       "      <td>Small</td>\n",
       "      <td>Tier 2</td>\n",
       "      <td>Supermarket Type1</td>\n",
       "      <td>1193.1136</td>\n",
       "    </tr>\n",
       "    <tr>\n",
       "      <th>8521</th>\n",
       "      <td>FDN46</td>\n",
       "      <td>7.210</td>\n",
       "      <td>Regular</td>\n",
       "      <td>0.145221</td>\n",
       "      <td>Snack Foods</td>\n",
       "      <td>103.1332</td>\n",
       "      <td>OUT018</td>\n",
       "      <td>2009</td>\n",
       "      <td>Medium</td>\n",
       "      <td>Tier 3</td>\n",
       "      <td>Supermarket Type2</td>\n",
       "      <td>1845.5976</td>\n",
       "    </tr>\n",
       "    <tr>\n",
       "      <th>8522</th>\n",
       "      <td>DRG01</td>\n",
       "      <td>14.800</td>\n",
       "      <td>Low Fat</td>\n",
       "      <td>0.044878</td>\n",
       "      <td>Soft Drinks</td>\n",
       "      <td>75.4670</td>\n",
       "      <td>OUT046</td>\n",
       "      <td>1997</td>\n",
       "      <td>Small</td>\n",
       "      <td>Tier 1</td>\n",
       "      <td>Supermarket Type1</td>\n",
       "      <td>765.6700</td>\n",
       "    </tr>\n",
       "  </tbody>\n",
       "</table>\n",
       "</div>"
      ],
      "text/plain": [
       "     Item_Identifier  Item_Weight Item_Fat_Content  Item_Visibility  \\\n",
       "8518           FDF22        6.865          Low Fat         0.056783   \n",
       "8519           FDS36        8.380          Regular         0.046982   \n",
       "8520           NCJ29       10.600          Low Fat         0.035186   \n",
       "8521           FDN46        7.210          Regular         0.145221   \n",
       "8522           DRG01       14.800          Low Fat         0.044878   \n",
       "\n",
       "               Item_Type  Item_MRP Outlet_Identifier  \\\n",
       "8518         Snack Foods  214.5218            OUT013   \n",
       "8519        Baking Goods  108.1570            OUT045   \n",
       "8520  Health and Hygiene   85.1224            OUT035   \n",
       "8521         Snack Foods  103.1332            OUT018   \n",
       "8522         Soft Drinks   75.4670            OUT046   \n",
       "\n",
       "      Outlet_Establishment_Year Outlet_Size Outlet_Location_Type  \\\n",
       "8518                       1987        High               Tier 3   \n",
       "8519                       2002         NaN               Tier 2   \n",
       "8520                       2004       Small               Tier 2   \n",
       "8521                       2009      Medium               Tier 3   \n",
       "8522                       1997       Small               Tier 1   \n",
       "\n",
       "            Outlet_Type  Item_Outlet_Sales  \n",
       "8518  Supermarket Type1          2778.3834  \n",
       "8519  Supermarket Type1           549.2850  \n",
       "8520  Supermarket Type1          1193.1136  \n",
       "8521  Supermarket Type2          1845.5976  \n",
       "8522  Supermarket Type1           765.6700  "
      ]
     },
     "execution_count": 11,
     "metadata": {},
     "output_type": "execute_result"
    }
   ],
   "source": [
    "bigmarttrain.tail() # Last 5 Rows Data"
   ]
  },
  {
   "cell_type": "code",
   "execution_count": 12,
   "id": "d4553678",
   "metadata": {},
   "outputs": [
    {
     "data": {
      "text/plain": [
       "Item_Identifier               object\n",
       "Item_Weight                  float64\n",
       "Item_Fat_Content              object\n",
       "Item_Visibility              float64\n",
       "Item_Type                     object\n",
       "Item_MRP                     float64\n",
       "Outlet_Identifier             object\n",
       "Outlet_Establishment_Year      int64\n",
       "Outlet_Size                   object\n",
       "Outlet_Location_Type          object\n",
       "Outlet_Type                   object\n",
       "Item_Outlet_Sales            float64\n",
       "dtype: object"
      ]
     },
     "execution_count": 12,
     "metadata": {},
     "output_type": "execute_result"
    }
   ],
   "source": [
    "bigmarttrain.dtypes\n",
    "# Individual Data Types - float64, int64, number, object"
   ]
  },
  {
   "cell_type": "code",
   "execution_count": 13,
   "id": "018c33ec",
   "metadata": {},
   "outputs": [
    {
     "data": {
      "text/plain": [
       "(8523, 12)"
      ]
     },
     "execution_count": 13,
     "metadata": {},
     "output_type": "execute_result"
    }
   ],
   "source": [
    "bigmarttrain.shape # Number of Rows or Observations & Number of Variables"
   ]
  },
  {
   "cell_type": "code",
   "execution_count": 14,
   "id": "a8de62c4",
   "metadata": {},
   "outputs": [
    {
     "data": {
      "text/plain": [
       "pandas.core.frame.DataFrame"
      ]
     },
     "execution_count": 14,
     "metadata": {},
     "output_type": "execute_result"
    }
   ],
   "source": [
    "type(bigmarttrain)"
   ]
  },
  {
   "cell_type": "code",
   "execution_count": 16,
   "id": "33cace40",
   "metadata": {},
   "outputs": [
    {
     "data": {
      "text/html": [
       "<div>\n",
       "<style scoped>\n",
       "    .dataframe tbody tr th:only-of-type {\n",
       "        vertical-align: middle;\n",
       "    }\n",
       "\n",
       "    .dataframe tbody tr th {\n",
       "        vertical-align: top;\n",
       "    }\n",
       "\n",
       "    .dataframe thead th {\n",
       "        text-align: right;\n",
       "    }\n",
       "</style>\n",
       "<table border=\"1\" class=\"dataframe\">\n",
       "  <thead>\n",
       "    <tr style=\"text-align: right;\">\n",
       "      <th></th>\n",
       "      <th>Item_Weight</th>\n",
       "      <th>Item_Visibility</th>\n",
       "      <th>Item_MRP</th>\n",
       "      <th>Outlet_Establishment_Year</th>\n",
       "      <th>Item_Outlet_Sales</th>\n",
       "    </tr>\n",
       "  </thead>\n",
       "  <tbody>\n",
       "    <tr>\n",
       "      <th>count</th>\n",
       "      <td>7060.000000</td>\n",
       "      <td>8523.000000</td>\n",
       "      <td>8523.000000</td>\n",
       "      <td>8523.000000</td>\n",
       "      <td>8523.000000</td>\n",
       "    </tr>\n",
       "    <tr>\n",
       "      <th>mean</th>\n",
       "      <td>12.857645</td>\n",
       "      <td>0.066132</td>\n",
       "      <td>140.992782</td>\n",
       "      <td>1997.831867</td>\n",
       "      <td>2181.288914</td>\n",
       "    </tr>\n",
       "    <tr>\n",
       "      <th>std</th>\n",
       "      <td>4.643456</td>\n",
       "      <td>0.051598</td>\n",
       "      <td>62.275067</td>\n",
       "      <td>8.371760</td>\n",
       "      <td>1706.499616</td>\n",
       "    </tr>\n",
       "    <tr>\n",
       "      <th>min</th>\n",
       "      <td>4.555000</td>\n",
       "      <td>0.000000</td>\n",
       "      <td>31.290000</td>\n",
       "      <td>1985.000000</td>\n",
       "      <td>33.290000</td>\n",
       "    </tr>\n",
       "    <tr>\n",
       "      <th>25%</th>\n",
       "      <td>8.773750</td>\n",
       "      <td>0.026989</td>\n",
       "      <td>93.826500</td>\n",
       "      <td>1987.000000</td>\n",
       "      <td>834.247400</td>\n",
       "    </tr>\n",
       "    <tr>\n",
       "      <th>50%</th>\n",
       "      <td>12.600000</td>\n",
       "      <td>0.053931</td>\n",
       "      <td>143.012800</td>\n",
       "      <td>1999.000000</td>\n",
       "      <td>1794.331000</td>\n",
       "    </tr>\n",
       "    <tr>\n",
       "      <th>75%</th>\n",
       "      <td>16.850000</td>\n",
       "      <td>0.094585</td>\n",
       "      <td>185.643700</td>\n",
       "      <td>2004.000000</td>\n",
       "      <td>3101.296400</td>\n",
       "    </tr>\n",
       "    <tr>\n",
       "      <th>max</th>\n",
       "      <td>21.350000</td>\n",
       "      <td>0.328391</td>\n",
       "      <td>266.888400</td>\n",
       "      <td>2009.000000</td>\n",
       "      <td>13086.964800</td>\n",
       "    </tr>\n",
       "  </tbody>\n",
       "</table>\n",
       "</div>"
      ],
      "text/plain": [
       "       Item_Weight  Item_Visibility     Item_MRP  Outlet_Establishment_Year  \\\n",
       "count  7060.000000      8523.000000  8523.000000                8523.000000   \n",
       "mean     12.857645         0.066132   140.992782                1997.831867   \n",
       "std       4.643456         0.051598    62.275067                   8.371760   \n",
       "min       4.555000         0.000000    31.290000                1985.000000   \n",
       "25%       8.773750         0.026989    93.826500                1987.000000   \n",
       "50%      12.600000         0.053931   143.012800                1999.000000   \n",
       "75%      16.850000         0.094585   185.643700                2004.000000   \n",
       "max      21.350000         0.328391   266.888400                2009.000000   \n",
       "\n",
       "       Item_Outlet_Sales  \n",
       "count        8523.000000  \n",
       "mean         2181.288914  \n",
       "std          1706.499616  \n",
       "min            33.290000  \n",
       "25%           834.247400  \n",
       "50%          1794.331000  \n",
       "75%          3101.296400  \n",
       "max         13086.964800  "
      ]
     },
     "execution_count": 16,
     "metadata": {},
     "output_type": "execute_result"
    }
   ],
   "source": [
    "bigmarttrain.describe() # count, min, max, mean, Q1, Q2, Q3, Stdev\n",
    "# Only on NUmerical Data"
   ]
  },
  {
   "cell_type": "code",
   "execution_count": 19,
   "id": "f60e7e3b",
   "metadata": {},
   "outputs": [
    {
     "data": {
      "text/plain": [
       "Index(['Item_Identifier', 'Item_Weight', 'Item_Fat_Content', 'Item_Visibility',\n",
       "       'Item_Type', 'Item_MRP', 'Outlet_Identifier',\n",
       "       'Outlet_Establishment_Year', 'Outlet_Size', 'Outlet_Location_Type',\n",
       "       'Outlet_Type', 'Item_Outlet_Sales'],\n",
       "      dtype='object')"
      ]
     },
     "execution_count": 19,
     "metadata": {},
     "output_type": "execute_result"
    }
   ],
   "source": [
    "bigmarttrain.columns"
   ]
  },
  {
   "cell_type": "code",
   "execution_count": 20,
   "id": "3ad0f324",
   "metadata": {},
   "outputs": [
    {
     "data": {
      "text/plain": [
       "<AxesSubplot:ylabel='Frequency'>"
      ]
     },
     "execution_count": 20,
     "metadata": {},
     "output_type": "execute_result"
    },
    {
     "data": {
      "image/png": "[encoded data removed]",
      "text/plain": [
       "<Figure size 432x288 with 1 Axes>"
      ]
     },
     "metadata": {
      "needs_background": "light"
     },
     "output_type": "display_data"
    }
   ],
   "source": [
    "# Data Vizualization - pandas plot functions\n",
    "bigmarttrain.Item_Outlet_Sales.plot(kind='hist') # Histogram"
   ]
  },
  {
   "cell_type": "code",
   "execution_count": 21,
   "id": "eef0c1c5",
   "metadata": {},
   "outputs": [
    {
     "name": "stdout",
     "output_type": "stream",
     "text": [
      "1.1775306028542796\n",
      "1.6158766814287264\n"
     ]
    }
   ],
   "source": [
    "# Skewness & Kurtosis\n",
    "print(bigmarttrain.Item_Outlet_Sales.skew())\n",
    "print(bigmarttrain.Item_Outlet_Sales.kurt())"
   ]
  },
  {
   "cell_type": "code",
   "execution_count": 22,
   "id": "0cc3c2dc",
   "metadata": {},
   "outputs": [
    {
     "name": "stdout",
     "output_type": "stream",
     "text": [
      "1.18\n",
      "1.62\n"
     ]
    }
   ],
   "source": [
    "print(np.round(bigmarttrain.Item_Outlet_Sales.skew(),decimals=2))\n",
    "print(np.round(bigmarttrain.Item_Outlet_Sales.kurt(),decimals=2))"
   ]
  },
  {
   "cell_type": "code",
   "execution_count": 23,
   "id": "5ed983d7",
   "metadata": {},
   "outputs": [
    {
     "data": {
      "text/plain": [
       "<AxesSubplot:>"
      ]
     },
     "execution_count": 23,
     "metadata": {},
     "output_type": "execute_result"
    },
    {
     "data": {
      "image/png": "[encoded data removed]",
      "text/plain": [
       "<Figure size 432x288 with 1 Axes>"
      ]
     },
     "metadata": {
      "needs_background": "light"
     },
     "output_type": "display_data"
    }
   ],
   "source": [
    "bigmarttrain.Item_Outlet_Sales.plot(kind='box',vert=False)"
   ]
  },
  {
   "cell_type": "code",
   "execution_count": 24,
   "id": "29bb018b",
   "metadata": {},
   "outputs": [
    {
     "data": {
      "text/plain": [
       "<AxesSubplot:ylabel='Density'>"
      ]
     },
     "execution_count": 24,
     "metadata": {},
     "output_type": "execute_result"
    },
    {
     "data": {
      "image/png": "[encoded data removed]",
      "text/plain": [
       "<Figure size 432x288 with 1 Axes>"
      ]
     },
     "metadata": {
      "needs_background": "light"
     },
     "output_type": "display_data"
    }
   ],
   "source": [
    "bigmarttrain.Item_Outlet_Sales.plot(kind='density')"
   ]
  },
  {
   "cell_type": "code",
   "execution_count": 25,
   "id": "27cb7d41",
   "metadata": {},
   "outputs": [
    {
     "data": {
      "text/plain": [
       "<AxesSubplot:ylabel='Frequency'>"
      ]
     },
     "execution_count": 25,
     "metadata": {},
     "output_type": "execute_result"
    },
    {
     "data": {
      "image/png": "[encoded data removed]",
      "text/plain": [
       "<Figure size 432x288 with 1 Axes>"
      ]
     },
     "metadata": {
      "needs_background": "light"
     },
     "output_type": "display_data"
    }
   ],
   "source": [
    "# Create Histogram, boxplot & Density Curve for Item_Visibility\n",
    "bigmarttrain.Item_Visibility.plot(kind='hist')"
   ]
  },
  {
   "cell_type": "code",
   "execution_count": 26,
   "id": "9f0e6752",
   "metadata": {},
   "outputs": [
    {
     "data": {
      "text/plain": [
       "<AxesSubplot:>"
      ]
     },
     "execution_count": 26,
     "metadata": {},
     "output_type": "execute_result"
    },
    {
     "data": {
      "image/png": "[encoded data removed]",
      "text/plain": [
       "<Figure size 432x288 with 1 Axes>"
      ]
     },
     "metadata": {
      "needs_background": "light"
     },
     "output_type": "display_data"
    }
   ],
   "source": [
    "bigmarttrain.Item_Visibility.plot(kind='box',vert=False)"
   ]
  },
  {
   "cell_type": "code",
   "execution_count": 30,
   "id": "c2e73ef8",
   "metadata": {},
   "outputs": [
    {
     "name": "stderr",
     "output_type": "stream",
     "text": [
      "C:\\Users\\HP\\anaconda3\\lib\\site-packages\\pandas\\core\\arraylike.py:397: RuntimeWarning: divide by zero encountered in log\n",
      "  result = getattr(ufunc, method)(*inputs, **kwargs)\n"
     ]
    },
    {
     "data": {
      "text/plain": [
       "<AxesSubplot:>"
      ]
     },
     "execution_count": 30,
     "metadata": {},
     "output_type": "execute_result"
    },
    {
     "data": {
      "image/png": "[encoded data removed]",
      "text/plain": [
       "<Figure size 432x288 with 1 Axes>"
      ]
     },
     "metadata": {
      "needs_background": "light"
     },
     "output_type": "display_data"
    }
   ],
   "source": [
    "np.log(bigmarttrain.Item_Visibility).plot(kind='box',vert=False)"
   ]
  },
  {
   "cell_type": "code",
   "execution_count": 31,
   "id": "a85e6b1c",
   "metadata": {},
   "outputs": [
    {
     "data": {
      "text/plain": [
       "<AxesSubplot:ylabel='Density'>"
      ]
     },
     "execution_count": 31,
     "metadata": {},
     "output_type": "execute_result"
    },
    {
     "data": {
      "image/png": "[encoded data removed]",
      "text/plain": [
       "<Figure size 432x288 with 1 Axes>"
      ]
     },
     "metadata": {
      "needs_background": "light"
     },
     "output_type": "display_data"
    }
   ],
   "source": [
    "bigmarttrain.Item_Visibility.plot(kind='density')"
   ]
  },
  {
   "cell_type": "code",
   "execution_count": 32,
   "id": "4ab150bf",
   "metadata": {},
   "outputs": [
    {
     "data": {
      "text/plain": [
       "Outlet_Type\n",
       "Grocery Store         339.828500\n",
       "Supermarket Type1    2316.181148\n",
       "Supermarket Type2    1995.498739\n",
       "Supermarket Type3    3694.038558\n",
       "Name: Item_Outlet_Sales, dtype: float64"
      ]
     },
     "execution_count": 32,
     "metadata": {},
     "output_type": "execute_result"
    }
   ],
   "source": [
    "# Finding Average Item_Outlet_Sales of different Outlet_Type\n",
    "bigmarttrain.Item_Outlet_Sales.groupby(bigmarttrain.Outlet_Type).mean()\n",
    "# Left Side of groupby() must be Numerical within groupby brackets categorical variable statistical function must be specified"
   ]
  },
  {
   "cell_type": "code",
   "execution_count": 33,
   "id": "80723e67",
   "metadata": {},
   "outputs": [
    {
     "data": {
      "text/plain": [
       "Outlet_Location_Type\n",
       "Tier 1    140.870106\n",
       "Tier 2    141.167196\n",
       "Tier 3    140.935232\n",
       "Name: Item_MRP, dtype: float64"
      ]
     },
     "execution_count": 33,
     "metadata": {},
     "output_type": "execute_result"
    }
   ],
   "source": [
    "# Finding Average Item_MRP for different Outlet_Location_Type\n",
    "bigmarttrain.Item_MRP.groupby(bigmarttrain.Outlet_Location_Type).mean()"
   ]
  },
  {
   "cell_type": "code",
   "execution_count": 34,
   "id": "71979105",
   "metadata": {},
   "outputs": [
    {
     "data": {
      "text/plain": [
       "Outlet_Size\n",
       "High      0.049587\n",
       "Medium    0.048842\n",
       "Small     0.057810\n",
       "Name: Item_Visibility, dtype: float64"
      ]
     },
     "execution_count": 34,
     "metadata": {},
     "output_type": "execute_result"
    }
   ],
   "source": [
    "# Finding the Median Item_Visibility for Outlet_Size\n",
    "bigmarttrain.Item_Visibility.groupby(bigmarttrain.Outlet_Size).median()"
   ]
  },
  {
   "cell_type": "markdown",
   "id": "aaeb449d",
   "metadata": {},
   "source": [
    "## Data Preprocessing"
   ]
  },
  {
   "cell_type": "code",
   "execution_count": 35,
   "id": "8eb20c08",
   "metadata": {},
   "outputs": [],
   "source": [
    "# In DataPreprocessing we check for Duplicate Varibles , check for single value columns min = max\n",
    "# missing values: if we have above 70% of missing values then impute with word \"missing\"\n",
    "# if we have less than 70% misisng - Numeric columns - mean or median, NonNumeric(or) categorical - MostFrequent\n",
    "# Data Transformations:\n",
    "# Dependent Variable - Skewness & Outliers\n",
    "# Positive Skewness - Logarthmic Transformation or Square root transform\n",
    "# negative Skewness - Exponential Transform or Power Transform\n",
    "# Independent Variables\n",
    "# Standard Scaler - (x-mean)/stdev, will give negative values\n",
    "# Normalization or Min Max Scaler - (X-Xmin)/(Xmax-Xmin) gives only in\n",
    "# range of 0 to 1. No negative values. "
   ]
  },
  {
   "cell_type": "code",
   "execution_count": 36,
   "id": "21cd529e",
   "metadata": {},
   "outputs": [],
   "source": [
    "bigmarttest['Item_Outlet_Sales']='test' # Adding a duplicate column in test data"
   ]
  },
  {
   "cell_type": "code",
   "execution_count": 37,
   "id": "5bcf986b",
   "metadata": {},
   "outputs": [],
   "source": [
    "# Row wise Concatenation of train & test data for preprocessing\n",
    "combinedf=pd.concat([bigmarttrain,bigmarttest],axis=0)"
   ]
  },
  {
   "cell_type": "code",
   "execution_count": null,
   "id": "6ea8e8b9",
   "metadata": {},
   "outputs": [],
   "source": [
    "# for row concatination axis=0 and for column concatination axis=1"
   ]
  },
  {
   "cell_type": "code",
   "execution_count": 38,
   "id": "15c0e40c",
   "metadata": {},
   "outputs": [
    {
     "data": {
      "text/plain": [
       "(14204, 12)"
      ]
     },
     "execution_count": 38,
     "metadata": {},
     "output_type": "execute_result"
    }
   ],
   "source": [
    "combinedf.shape"
   ]
  },
  {
   "cell_type": "code",
   "execution_count": 39,
   "id": "760a4431",
   "metadata": {},
   "outputs": [
    {
     "data": {
      "text/plain": [
       "Outlet_Size                  4016\n",
       "Item_Weight                  2439\n",
       "Item_Identifier                 0\n",
       "Item_Fat_Content                0\n",
       "Item_Visibility                 0\n",
       "Item_Type                       0\n",
       "Item_MRP                        0\n",
       "Outlet_Identifier               0\n",
       "Outlet_Establishment_Year       0\n",
       "Outlet_Location_Type            0\n",
       "Outlet_Type                     0\n",
       "Item_Outlet_Sales               0\n",
       "dtype: int64"
      ]
     },
     "execution_count": 39,
     "metadata": {},
     "output_type": "execute_result"
    }
   ],
   "source": [
    "combinedf.isnull().sum().sort_values(ascending=False)"
   ]
  },
  {
   "cell_type": "code",
   "execution_count": 40,
   "id": "29147df8",
   "metadata": {},
   "outputs": [
    {
     "data": {
      "text/plain": [
       "Medium    4655\n",
       "NaN       4016\n",
       "Small     3980\n",
       "High      1553\n",
       "Name: Outlet_Size, dtype: int64"
      ]
     },
     "execution_count": 40,
     "metadata": {},
     "output_type": "execute_result"
    }
   ],
   "source": [
    "combinedf.Outlet_Size.value_counts(dropna=False)"
   ]
  },
  {
   "cell_type": "code",
   "execution_count": 42,
   "id": "582c6b67",
   "metadata": {},
   "outputs": [],
   "source": [
    "combinedf.Outlet_Size=combinedf.Outlet_Size.fillna(\"Missing\") # here we are imputing NaN values with 'missing'"
   ]
  },
  {
   "cell_type": "code",
   "execution_count": 43,
   "id": "a7b3ad24",
   "metadata": {},
   "outputs": [],
   "source": [
    "combinedf.Item_Weight=combinedf.Item_Weight.fillna(\n",
    "    combinedf.Item_Weight.mean())"
   ]
  },
  {
   "cell_type": "code",
   "execution_count": 44,
   "id": "19ab78e4",
   "metadata": {},
   "outputs": [
    {
     "data": {
      "text/plain": [
       "Index(['Item_Identifier', 'Item_Weight', 'Item_Fat_Content', 'Item_Visibility',\n",
       "       'Item_Type', 'Item_MRP', 'Outlet_Identifier',\n",
       "       'Outlet_Establishment_Year', 'Outlet_Size', 'Outlet_Location_Type',\n",
       "       'Outlet_Type', 'Item_Outlet_Sales'],\n",
       "      dtype='object')"
      ]
     },
     "execution_count": 44,
     "metadata": {},
     "output_type": "execute_result"
    }
   ],
   "source": [
    "combinedf.columns"
   ]
  },
  {
   "cell_type": "code",
   "execution_count": 45,
   "id": "57542d0c",
   "metadata": {},
   "outputs": [
    {
     "data": {
      "text/plain": [
       "0    FDA15\n",
       "1    DRC01\n",
       "2    FDN15\n",
       "3    FDX07\n",
       "4    NCD19\n",
       "Name: Item_Identifier, dtype: object"
      ]
     },
     "execution_count": 45,
     "metadata": {},
     "output_type": "execute_result"
    }
   ],
   "source": [
    "combinedf.Item_Identifier.head()"
   ]
  },
  {
   "cell_type": "code",
   "execution_count": 46,
   "id": "b9e21443",
   "metadata": {},
   "outputs": [],
   "source": [
    "# Extract Item_Code from Item_Identifier\n",
    "combinedf['Item_Code']=combinedf.Item_Identifier.apply(lambda x:x[0:2])"
   ]
  },
  {
   "cell_type": "code",
   "execution_count": 47,
   "id": "c5aad3c1",
   "metadata": {},
   "outputs": [
    {
     "data": {
      "text/plain": [
       "FD    10201\n",
       "NC     2686\n",
       "DR     1317\n",
       "Name: Item_Code, dtype: int64"
      ]
     },
     "execution_count": 47,
     "metadata": {},
     "output_type": "execute_result"
    }
   ],
   "source": [
    "combinedf.Item_Code.value_counts() # FD - Food, NC-Non Consumable, Dr-Drinks"
   ]
  },
  {
   "cell_type": "code",
   "execution_count": 48,
   "id": "f5f327e9",
   "metadata": {},
   "outputs": [
    {
     "data": {
      "text/plain": [
       "Low Fat    8485\n",
       "Regular    4824\n",
       "LF          522\n",
       "reg         195\n",
       "low fat     178\n",
       "Name: Item_Fat_Content, dtype: int64"
      ]
     },
     "execution_count": 48,
     "metadata": {},
     "output_type": "execute_result"
    }
   ],
   "source": [
    "combinedf.Item_Fat_Content.value_counts()"
   ]
  },
  {
   "cell_type": "code",
   "execution_count": 49,
   "id": "0a78263f",
   "metadata": {},
   "outputs": [],
   "source": [
    "combinedf.Item_Fat_Content=combinedf.Item_Fat_Content.replace(['LF','low fat'],'Low Fat')"
   ]
  },
  {
   "cell_type": "code",
   "execution_count": 50,
   "id": "8db33c68",
   "metadata": {},
   "outputs": [],
   "source": [
    "combinedf.Item_Fat_Content=combinedf.Item_Fat_Content.replace('reg','Regular')"
   ]
  },
  {
   "cell_type": "code",
   "execution_count": 51,
   "id": "2bc1b654",
   "metadata": {},
   "outputs": [],
   "source": [
    "# Calculate Outlet_Age from Outlet_Establishment_Year as of 2021\n",
    "combinedf['Outlet_Age']=2021-combinedf.Outlet_Establishment_Year"
   ]
  },
  {
   "cell_type": "code",
   "execution_count": 53,
   "id": "3f350a59",
   "metadata": {},
   "outputs": [
    {
     "data": {
      "text/plain": [
       "count    14204.000000\n",
       "mean        23.169319\n",
       "std          8.371664\n",
       "min         12.000000\n",
       "25%         17.000000\n",
       "50%         22.000000\n",
       "75%         34.000000\n",
       "max         36.000000\n",
       "Name: Outlet_Age, dtype: float64"
      ]
     },
     "execution_count": 53,
     "metadata": {},
     "output_type": "execute_result"
    }
   ],
   "source": [
    "combinedf.Outlet_Age.describe()"
   ]
  },
  {
   "cell_type": "code",
   "execution_count": 54,
   "id": "84eba599",
   "metadata": {},
   "outputs": [],
   "source": [
    "numericcolumns=combinedf[['Item_Weight','Item_Visibility','Item_MRP',\n",
    "                         'Outlet_Age','Item_Outlet_Sales']]"
   ]
  },
  {
   "cell_type": "code",
   "execution_count": 55,
   "id": "2e8d4a52",
   "metadata": {},
   "outputs": [],
   "source": [
    "objectcolumns=combinedf[['Item_Fat_Content','Item_Type','Outlet_Identifier',\n",
    "                        'Outlet_Size', 'Outlet_Location_Type','Outlet_Type',\n",
    "                        'Item_Code']]"
   ]
  },
  {
   "cell_type": "code",
   "execution_count": 56,
   "id": "a652dd21",
   "metadata": {},
   "outputs": [],
   "source": [
    "objectcolumnsdummy=pd.get_dummies(objectcolumns,\n",
    "                                 columns=['Item_Fat_Content','Item_Type',\n",
    "                                          'Outlet_Identifier','Outlet_Size',\n",
    "                                          'Outlet_Location_Type','Outlet_Type',\n",
    "                                          'Item_Code'])"
   ]
  },
  {
   "cell_type": "code",
   "execution_count": 57,
   "id": "f30e78a3",
   "metadata": {},
   "outputs": [],
   "source": [
    "# Columnwise Concatenation of Numeric Columns & Object Columns\n",
    "combinedfclean=pd.concat([numericcolumns,objectcolumnsdummy],axis=1)"
   ]
  },
  {
   "cell_type": "code",
   "execution_count": 59,
   "id": "9bfa318c",
   "metadata": {},
   "outputs": [],
   "source": [
    "# Split Data into train and test\n",
    "bigmarttraindf=combinedfclean[combinedfclean.Item_Outlet_Sales!='test']\n",
    "bigmarttestdf=combinedfclean[combinedfclean.Item_Outlet_Sales=='test']"
   ]
  },
  {
   "cell_type": "code",
   "execution_count": 60,
   "id": "10b7acb0",
   "metadata": {},
   "outputs": [],
   "source": [
    "# Drop Dependent Variable Item_Outlet_Sales from test Data\n",
    "bigmarttestdf=bigmarttestdf.drop('Item_Outlet_Sales',axis=1)"
   ]
  },
  {
   "cell_type": "code",
   "execution_count": 61,
   "id": "ba57411e",
   "metadata": {},
   "outputs": [
    {
     "data": {
      "text/plain": [
       "dtype('O')"
      ]
     },
     "execution_count": 61,
     "metadata": {},
     "output_type": "execute_result"
    }
   ],
   "source": [
    "bigmarttraindf.Item_Outlet_Sales.dtype"
   ]
  },
  {
   "cell_type": "code",
   "execution_count": 62,
   "id": "5270870e",
   "metadata": {},
   "outputs": [
    {
     "name": "stderr",
     "output_type": "stream",
     "text": [
      "C:\\Users\\HP\\AppData\\Local\\Temp\\ipykernel_17232\\1600285798.py:2: SettingWithCopyWarning: \n",
      "A value is trying to be set on a copy of a slice from a DataFrame.\n",
      "Try using .loc[row_indexer,col_indexer] = value instead\n",
      "\n",
      "See the caveats in the documentation: https://pandas.pydata.org/pandas-docs/stable/user_guide/indexing.html#returning-a-view-versus-a-copy\n",
      "  bigmarttraindf.Item_Outlet_Sales=bigmarttraindf.Item_Outlet_Sales.astype('float64')\n"
     ]
    }
   ],
   "source": [
    "# Convert Dependent Variable 'Item_Outlet_Sales' as numeric from Object\n",
    "bigmarttraindf.Item_Outlet_Sales=bigmarttraindf.Item_Outlet_Sales.astype('float64')"
   ]
  },
  {
   "cell_type": "code",
   "execution_count": 63,
   "id": "42b99f5d",
   "metadata": {},
   "outputs": [],
   "source": [
    "bigmarttrain.Item_Fat_Content=bigmarttrain.Item_Fat_Content.replace(\n",
    "['LF','low fat'],\"Low Fat\")"
   ]
  },
  {
   "cell_type": "code",
   "execution_count": 64,
   "id": "38cdd275",
   "metadata": {},
   "outputs": [],
   "source": [
    "bigmarttrain.Item_Fat_Content=bigmarttrain.Item_Fat_Content.replace(\n",
    "    'reg','Regular')"
   ]
  },
  {
   "cell_type": "markdown",
   "id": "ea08e609",
   "metadata": {},
   "source": [
    "### Inferential Statistics - Hypothesis testing - Comaprision of Means or \n",
    "### Averages of 2 or more than 2 Groups/levels/Classes\n",
    "### One Numerical - Other Categorical Variable with exactly 2 Levels -\n",
    "### 2 Sample Independent t test\n",
    "### One Numerical - Other Categorical with more than 2 levles -\n",
    "### Anova Single Factor or One Way Anova\n",
    "### Both Variables are Non Numeric & categorical - Chi Square Test of \n",
    "### Independence\n",
    "### Both Variables are Numerical - Covariance & Correlation\n",
    "### Paired Sample or Dependent Sample Ttest - Before & After "
   ]
  },
  {
   "cell_type": "code",
   "execution_count": 65,
   "id": "3a879ecb",
   "metadata": {},
   "outputs": [
    {
     "data": {
      "text/plain": [
       "Item_Fat_Content\n",
       "Low Fat    2.883115e+06\n",
       "Regular    2.963496e+06\n",
       "Name: Item_Outlet_Sales, dtype: float64"
      ]
     },
     "execution_count": 65,
     "metadata": {},
     "output_type": "execute_result"
    }
   ],
   "source": [
    "# Only One Variable with exactly 2 levels - Item_Fat_Content\n",
    "bigmarttrain.Item_Outlet_Sales.groupby(bigmarttrain.Item_Fat_Content).var()"
   ]
  },
  {
   "cell_type": "code",
   "execution_count": 66,
   "id": "a8418a04",
   "metadata": {},
   "outputs": [],
   "source": [
    "# Split data into Low Fat & Regular\n",
    "lf=bigmarttrain[bigmarttrain.Item_Fat_Content=='Low Fat']\n",
    "reg=bigmarttrain[bigmarttrain.Item_Fat_Content==\"Regular\"]"
   ]
  },
  {
   "cell_type": "code",
   "execution_count": 67,
   "id": "4500c80c",
   "metadata": {},
   "outputs": [],
   "source": [
    "# Null _ No Significant difference in Average Item_Outlet_Sales of \n",
    "# different Item_Fat_Content\n",
    "# Alt _ Significant difference in Average Item_Outlet_Sales of \n",
    "# different Item_Fat_Content"
   ]
  },
  {
   "cell_type": "code",
   "execution_count": 68,
   "id": "9e41bb55",
   "metadata": {},
   "outputs": [],
   "source": [
    "from scipy.stats import ttest_ind"
   ]
  },
  {
   "cell_type": "code",
   "execution_count": 69,
   "id": "f94de79a",
   "metadata": {},
   "outputs": [
    {
     "data": {
      "text/plain": [
       "Ttest_indResult(statistic=-1.7212101304652165, pvalue=0.08526339464728244)"
      ]
     },
     "execution_count": 69,
     "metadata": {},
     "output_type": "execute_result"
    }
   ],
   "source": [
    "ttest_ind(lf.Item_Outlet_Sales,reg.Item_Outlet_Sales,equal_var=False)\n",
    "# Since pvalue=0.08526 is greater than 0.05, FAIL to REJECT (ACCEPT) NULL\n",
    "# t Statistic = (mean1 - mean2)/sqrt((var1/N1+var2/N2))"
   ]
  },
  {
   "cell_type": "code",
   "execution_count": 70,
   "id": "442f25ef",
   "metadata": {},
   "outputs": [
    {
     "data": {
      "text/plain": [
       "Item_Fat_Content\n",
       "Low Fat    0.064330\n",
       "Regular    0.069439\n",
       "Name: Item_Visibility, dtype: float64"
      ]
     },
     "execution_count": 70,
     "metadata": {},
     "output_type": "execute_result"
    }
   ],
   "source": [
    "# Testing the  Null Average Item_Visibility of Low fat & Regular are equal\n",
    "bigmarttrain.Item_Visibility.groupby(bigmarttrain.Item_Fat_Content).mean()"
   ]
  },
  {
   "cell_type": "code",
   "execution_count": 71,
   "id": "36bc2e9f",
   "metadata": {},
   "outputs": [
    {
     "data": {
      "text/plain": [
       "Item_Fat_Content\n",
       "Low Fat    0.002619\n",
       "Regular    0.002726\n",
       "Name: Item_Visibility, dtype: float64"
      ]
     },
     "execution_count": 71,
     "metadata": {},
     "output_type": "execute_result"
    }
   ],
   "source": [
    "bigmarttrain.Item_Visibility.groupby(bigmarttrain.Item_Fat_Content).var()"
   ]
  },
  {
   "cell_type": "code",
   "execution_count": 72,
   "id": "c22dcace",
   "metadata": {},
   "outputs": [
    {
     "data": {
      "text/plain": [
       "Ttest_indResult(statistic=-4.34668233685042, pvalue=1.404696156360228e-05)"
      ]
     },
     "execution_count": 72,
     "metadata": {},
     "output_type": "execute_result"
    }
   ],
   "source": [
    "ttest_ind(lf.Item_Visibility,reg.Item_Visibility,equal_var=False)\n",
    "# Since pvalue=1.404696156360228e-05 is less than 0.05, REJECT NULL\n",
    "# Null - No Significant difference in AVerage Item_Visibility of different\n",
    "# Item_Fat_Content"
   ]
  },
  {
   "cell_type": "code",
   "execution_count": 73,
   "id": "23e35e11",
   "metadata": {},
   "outputs": [
    {
     "data": {
      "text/plain": [
       "Low Fat    5517\n",
       "Regular    3006\n",
       "Name: Item_Fat_Content, dtype: int64"
      ]
     },
     "execution_count": 73,
     "metadata": {},
     "output_type": "execute_result"
    }
   ],
   "source": [
    "bigmarttrain.Item_Fat_Content.value_counts()"
   ]
  },
  {
   "cell_type": "code",
   "execution_count": 74,
   "id": "fbe2cb8b",
   "metadata": {},
   "outputs": [
    {
     "data": {
      "text/plain": [
       "-4.3466017621775075"
      ]
     },
     "execution_count": 74,
     "metadata": {},
     "output_type": "execute_result"
    }
   ],
   "source": [
    "(0.064330-0.069439)/np.sqrt((0.002619/5517)+(0.002726/3006))"
   ]
  },
  {
   "cell_type": "code",
   "execution_count": 75,
   "id": "e1a0fc40",
   "metadata": {},
   "outputs": [
    {
     "data": {
      "text/plain": [
       "Outlet_Type\n",
       "Grocery Store         339.828500\n",
       "Supermarket Type1    2316.181148\n",
       "Supermarket Type2    1995.498739\n",
       "Supermarket Type3    3694.038558\n",
       "Name: Item_Outlet_Sales, dtype: float64"
      ]
     },
     "execution_count": 75,
     "metadata": {},
     "output_type": "execute_result"
    }
   ],
   "source": [
    "# Testing the Null Average Item_Outlet_Sales for different Outlet_Type equal?\n",
    "bigmarttrain.Item_Outlet_Sales.groupby(bigmarttrain.Outlet_Type).mean()"
   ]
  },
  {
   "cell_type": "code",
   "execution_count": 76,
   "id": "104b0ac1",
   "metadata": {},
   "outputs": [],
   "source": [
    "gs=bigmarttrain[bigmarttrain.Outlet_Type==\"Grocery Store\"]\n",
    "st1=bigmarttrain[bigmarttrain.Outlet_Type==\"Supermarket Type1\"]\n",
    "st2=bigmarttrain[bigmarttrain.Outlet_Type==\"Supermarket Type2\"]\n",
    "st3=bigmarttrain[bigmarttrain.Outlet_Type==\"Supermarket Type3\"]"
   ]
  },
  {
   "cell_type": "code",
   "execution_count": 77,
   "id": "c51e95be",
   "metadata": {},
   "outputs": [],
   "source": [
    "from scipy.stats import f_oneway"
   ]
  },
  {
   "cell_type": "code",
   "execution_count": 78,
   "id": "8a81c4c0",
   "metadata": {},
   "outputs": [
    {
     "data": {
      "text/plain": [
       "F_onewayResult(statistic=894.6500119018012, pvalue=0.0)"
      ]
     },
     "execution_count": 78,
     "metadata": {},
     "output_type": "execute_result"
    }
   ],
   "source": [
    "f_oneway(gs.Item_Outlet_Sales,st1.Item_Outlet_Sales,st2.Item_Outlet_Sales,\n",
    "        st3.Item_Outlet_Sales)\n",
    "# Since pvalue=0.0 is less than 0.05, Reject Null\n",
    "# Null - No Significant difference in Average Item_Outlet_Sales of different Outlet_Type"
   ]
  },
  {
   "cell_type": "code",
   "execution_count": 79,
   "id": "db7e7a30",
   "metadata": {},
   "outputs": [
    {
     "data": {
      "text/plain": [
       "Outlet_Type\n",
       "Grocery Store        140.294688\n",
       "Supermarket Type1    141.213894\n",
       "Supermarket Type2    141.678634\n",
       "Supermarket Type3    139.801791\n",
       "Name: Item_MRP, dtype: float64"
      ]
     },
     "execution_count": 79,
     "metadata": {},
     "output_type": "execute_result"
    }
   ],
   "source": [
    "# Testing the Null Average Item_MRP of different Outlet_Type equal\n",
    "bigmarttrain.Item_MRP.groupby(bigmarttrain.Outlet_Type).mean()"
   ]
  },
  {
   "cell_type": "code",
   "execution_count": 80,
   "id": "575ec10c",
   "metadata": {},
   "outputs": [
    {
     "data": {
      "text/plain": [
       "F_onewayResult(statistic=0.22025149361820015, pvalue=0.8823906488320122)"
      ]
     },
     "execution_count": 80,
     "metadata": {},
     "output_type": "execute_result"
    }
   ],
   "source": [
    "f_oneway(gs.Item_MRP,st1.Item_MRP,st2.Item_MRP,st3.Item_MRP)\n",
    "# since pvalue=0.8823 is greater than 0.05, Fail to Reject Null\n",
    "# Difference in Means is Statistically Insignificant"
   ]
  },
  {
   "cell_type": "code",
   "execution_count": 81,
   "id": "33a08627",
   "metadata": {},
   "outputs": [
    {
     "data": {
      "text/html": [
       "<div>\n",
       "<style scoped>\n",
       "    .dataframe tbody tr th:only-of-type {\n",
       "        vertical-align: middle;\n",
       "    }\n",
       "\n",
       "    .dataframe tbody tr th {\n",
       "        vertical-align: top;\n",
       "    }\n",
       "\n",
       "    .dataframe thead th {\n",
       "        text-align: right;\n",
       "    }\n",
       "</style>\n",
       "<table border=\"1\" class=\"dataframe\">\n",
       "  <thead>\n",
       "    <tr style=\"text-align: right;\">\n",
       "      <th>Outlet_Location_Type</th>\n",
       "      <th>Tier 1</th>\n",
       "      <th>Tier 2</th>\n",
       "      <th>Tier 3</th>\n",
       "    </tr>\n",
       "    <tr>\n",
       "      <th>Outlet_Type</th>\n",
       "      <th></th>\n",
       "      <th></th>\n",
       "      <th></th>\n",
       "    </tr>\n",
       "  </thead>\n",
       "  <tbody>\n",
       "    <tr>\n",
       "      <th>Grocery Store</th>\n",
       "      <td>528</td>\n",
       "      <td>0</td>\n",
       "      <td>555</td>\n",
       "    </tr>\n",
       "    <tr>\n",
       "      <th>Supermarket Type1</th>\n",
       "      <td>1860</td>\n",
       "      <td>2785</td>\n",
       "      <td>932</td>\n",
       "    </tr>\n",
       "    <tr>\n",
       "      <th>Supermarket Type2</th>\n",
       "      <td>0</td>\n",
       "      <td>0</td>\n",
       "      <td>928</td>\n",
       "    </tr>\n",
       "    <tr>\n",
       "      <th>Supermarket Type3</th>\n",
       "      <td>0</td>\n",
       "      <td>0</td>\n",
       "      <td>935</td>\n",
       "    </tr>\n",
       "  </tbody>\n",
       "</table>\n",
       "</div>"
      ],
      "text/plain": [
       "Outlet_Location_Type  Tier 1  Tier 2  Tier 3\n",
       "Outlet_Type                                 \n",
       "Grocery Store            528       0     555\n",
       "Supermarket Type1       1860    2785     932\n",
       "Supermarket Type2          0       0     928\n",
       "Supermarket Type3          0       0     935"
      ]
     },
     "execution_count": 81,
     "metadata": {},
     "output_type": "execute_result"
    }
   ],
   "source": [
    "# Testing Null No Association/Relationship Between Both Variables\n",
    "pd.crosstab(bigmarttrain.Outlet_Type,bigmarttrain.Outlet_Location_Type)"
   ]
  },
  {
   "cell_type": "code",
   "execution_count": 82,
   "id": "cc9d053c",
   "metadata": {},
   "outputs": [],
   "source": [
    "from scipy.stats import chi2_contingency"
   ]
  },
  {
   "cell_type": "code",
   "execution_count": 83,
   "id": "1b8745d1",
   "metadata": {},
   "outputs": [
    {
     "data": {
      "text/plain": [
       "(4725.606588766826,\n",
       " 0.0,\n",
       " 6,\n",
       " array([[ 303.43822598,  353.88419571,  425.67757832],\n",
       "        [1562.58078141, 1822.35656459, 2192.062654  ],\n",
       "        [ 260.00985568,  303.23594978,  364.75419453],\n",
       "        [ 261.97113692,  305.52328992,  367.50557315]]))"
      ]
     },
     "execution_count": 83,
     "metadata": {},
     "output_type": "execute_result"
    }
   ],
   "source": [
    "chi2_contingency(pd.crosstab(bigmarttrain.Outlet_Type,\n",
    "                              bigmarttrain.Outlet_Location_Type))"
   ]
  },
  {
   "cell_type": "code",
   "execution_count": 85,
   "id": "ed571da7",
   "metadata": {},
   "outputs": [
    {
     "data": {
      "text/plain": [
       "(4095.431263490629,\n",
       " 0.0,\n",
       " 4,\n",
       " array([[ 364.07917553,  141.78962866,  426.13119581],\n",
       "        [1091.06559791,  424.9124816 , 1277.0219205 ],\n",
       "        [ 932.85522657,  363.29788974, 1091.84688369]]))"
      ]
     },
     "execution_count": 85,
     "metadata": {},
     "output_type": "execute_result"
    }
   ],
   "source": [
    "chi2_contingency(pd.crosstab(bigmarttrain.Outlet_Size,\n",
    "                            bigmarttrain.Outlet_Location_Type))"
   ]
  },
  {
   "cell_type": "code",
   "execution_count": 86,
   "id": "119388a2",
   "metadata": {},
   "outputs": [],
   "source": [
    "# Split Data into dependent Variable(y) & Independet Variables(X)\n",
    "y=bigmarttraindf.Item_Outlet_Sales\n",
    "X=bigmarttraindf.drop('Item_Outlet_Sales',axis=1)"
   ]
  },
  {
   "cell_type": "code",
   "execution_count": 87,
   "id": "57760254",
   "metadata": {},
   "outputs": [],
   "source": [
    "from sklearn.linear_model import LinearRegression"
   ]
  },
  {
   "cell_type": "code",
   "execution_count": 88,
   "id": "7da2306f",
   "metadata": {},
   "outputs": [],
   "source": [
    "reg=LinearRegression()"
   ]
  },
  {
   "cell_type": "code",
   "execution_count": 89,
   "id": "8f39f85a",
   "metadata": {},
   "outputs": [],
   "source": [
    "regmodel=reg.fit(X,y)"
   ]
  },
  {
   "cell_type": "code",
   "execution_count": 90,
   "id": "8c6f5615",
   "metadata": {},
   "outputs": [
    {
     "data": {
      "text/plain": [
       "0.5637737001510252"
      ]
     },
     "execution_count": 90,
     "metadata": {},
     "output_type": "execute_result"
    }
   ],
   "source": [
    "regmodel.score(X,y) # R Square\n",
    "# Outliers, Skewness & Kurtosis in Variables(both dependent & Independent)\n",
    "# are the reasons for underfitting"
   ]
  },
  {
   "cell_type": "code",
   "execution_count": 108,
   "id": "2fea5f54",
   "metadata": {},
   "outputs": [
    {
     "data": {
      "text/plain": [
       "<AxesSubplot:>"
      ]
     },
     "execution_count": 108,
     "metadata": {},
     "output_type": "execute_result"
    },
    {
     "data": {
      "image/png": "[encoded data removed]",
      "text/plain": [
       "<Figure size 432x288 with 1 Axes>"
      ]
     },
     "metadata": {
      "needs_background": "light"
     },
     "output_type": "display_data"
    }
   ],
   "source": [
    "y.plot(kind='box',vert=False)"
   ]
  },
  {
   "cell_type": "code",
   "execution_count": 91,
   "id": "e5039397",
   "metadata": {},
   "outputs": [
    {
     "data": {
      "text/plain": [
       "<AxesSubplot:>"
      ]
     },
     "execution_count": 91,
     "metadata": {},
     "output_type": "execute_result"
    },
    {
     "data": {
      "image/png": "[encoded data removed]",
      "text/plain": [
       "<Figure size 432x288 with 1 Axes>"
      ]
     },
     "metadata": {
      "needs_background": "light"
     },
     "output_type": "display_data"
    }
   ],
   "source": [
    "np.log(y).plot(kind='box',vert=False)"
   ]
  },
  {
   "cell_type": "code",
   "execution_count": 92,
   "id": "c5969c09",
   "metadata": {},
   "outputs": [],
   "source": [
    "# Poistive Skewness is corrected by using Logarthmic Transformation\n",
    "regmodel2=reg.fit(X,np.log(y))"
   ]
  },
  {
   "cell_type": "code",
   "execution_count": 93,
   "id": "9b69b9b5",
   "metadata": {},
   "outputs": [
    {
     "data": {
      "text/plain": [
       "0.7213876943174335"
      ]
     },
     "execution_count": 93,
     "metadata": {},
     "output_type": "execute_result"
    }
   ],
   "source": [
    "regmodel2.score(X,np.log(y))"
   ]
  },
  {
   "cell_type": "code",
   "execution_count": 94,
   "id": "030ff2cf",
   "metadata": {},
   "outputs": [],
   "source": [
    "regpredict=regmodel.predict(X) # Predict "
   ]
  },
  {
   "cell_type": "code",
   "execution_count": 96,
   "id": "da505299",
   "metadata": {},
   "outputs": [],
   "source": [
    "regresidual=y-regpredict # Residual(Actualvalue-predicted value)"
   ]
  },
  {
   "cell_type": "code",
   "execution_count": 97,
   "id": "8b314ed1",
   "metadata": {},
   "outputs": [
    {
     "data": {
      "text/plain": [
       "2763.3203381308226"
      ]
     },
     "execution_count": 97,
     "metadata": {},
     "output_type": "execute_result"
    }
   ],
   "source": [
    "np.sqrt(np.mean(regresidual**2)) # RMSE"
   ]
  },
  {
   "cell_type": "code",
   "execution_count": 98,
   "id": "1fe2a664",
   "metadata": {},
   "outputs": [],
   "source": [
    "regpredict2=regmodel2.predict(X) # Predict"
   ]
  },
  {
   "cell_type": "code",
   "execution_count": 99,
   "id": "24ddc164",
   "metadata": {},
   "outputs": [],
   "source": [
    "regpredict2=np.exp(regpredict2)# convert back log to actual data"
   ]
  },
  {
   "cell_type": "code",
   "execution_count": 100,
   "id": "517bbb51",
   "metadata": {},
   "outputs": [],
   "source": [
    "regresidual2=y-regpredict2 # residual"
   ]
  },
  {
   "cell_type": "code",
   "execution_count": 101,
   "id": "c78ddeea",
   "metadata": {},
   "outputs": [
    {
     "data": {
      "text/plain": [
       "1140.0278807236882"
      ]
     },
     "execution_count": 101,
     "metadata": {},
     "output_type": "execute_result"
    }
   ],
   "source": [
    "np.sqrt(np.mean(regresidual2**2))"
   ]
  },
  {
   "cell_type": "code",
   "execution_count": 102,
   "id": "95ab6ebf",
   "metadata": {},
   "outputs": [],
   "source": [
    "from sklearn.model_selection import cross_val_score"
   ]
  },
  {
   "cell_type": "code",
   "execution_count": 103,
   "id": "622bb9d1",
   "metadata": {},
   "outputs": [
    {
     "data": {
      "text/plain": [
       "array([0.7205722 , 0.71009854, 0.70854769, 0.71488665, 0.74006189])"
      ]
     },
     "execution_count": 103,
     "metadata": {},
     "output_type": "execute_result"
    }
   ],
   "source": [
    "cross_val_score(regmodel,X,np.log(y),cv=5) # cross validation\n",
    "# cv=5 means 5 subsets of randomly selected data and 5 testing of model"
   ]
  },
  {
   "cell_type": "code",
   "execution_count": 104,
   "id": "dae9febb",
   "metadata": {},
   "outputs": [],
   "source": [
    "regtestpredict=regmodel2.predict(bigmarttestdf)"
   ]
  },
  {
   "cell_type": "code",
   "execution_count": 105,
   "id": "18e38c4e",
   "metadata": {},
   "outputs": [],
   "source": [
    "regtestpredict=np.exp(regtestpredict)"
   ]
  },
  {
   "cell_type": "code",
   "execution_count": 106,
   "id": "36807a28",
   "metadata": {},
   "outputs": [
    {
     "data": {
      "text/plain": [
       "array([1431.69769892, 1137.13312846,  593.33677596, ..., 1468.27479033,\n",
       "       3619.76045086, 1091.03184893])"
      ]
     },
     "execution_count": 106,
     "metadata": {},
     "output_type": "execute_result"
    }
   ],
   "source": [
    "regtestpredict"
   ]
  },
  {
   "cell_type": "code",
   "execution_count": 107,
   "id": "6ad88fef",
   "metadata": {},
   "outputs": [],
   "source": [
    "pd.DataFrame(regtestpredict).to_csv(\"reg.csv\")"
   ]
  },
  {
   "cell_type": "markdown",
   "id": "bc717d7e",
   "metadata": {},
   "source": [
    "##  DecisionTreeRegressor"
   ]
  },
  {
   "cell_type": "code",
   "execution_count": 109,
   "id": "c0564b5b",
   "metadata": {},
   "outputs": [],
   "source": [
    "from sklearn.tree import DecisionTreeRegressor"
   ]
  },
  {
   "cell_type": "code",
   "execution_count": 110,
   "id": "4e7419aa",
   "metadata": {},
   "outputs": [],
   "source": [
    "dt=DecisionTreeRegressor(max_depth=5)"
   ]
  },
  {
   "cell_type": "code",
   "execution_count": 112,
   "id": "6cf12a42",
   "metadata": {},
   "outputs": [],
   "source": [
    "dtmodel=dt.fit(X,y)"
   ]
  },
  {
   "cell_type": "code",
   "execution_count": 113,
   "id": "38da895f",
   "metadata": {},
   "outputs": [
    {
     "data": {
      "text/plain": [
       "0.6036222008273235"
      ]
     },
     "execution_count": 113,
     "metadata": {},
     "output_type": "execute_result"
    }
   ],
   "source": [
    "dtmodel.score(X,y)"
   ]
  },
  {
   "cell_type": "code",
   "execution_count": 116,
   "id": "5e648f9e",
   "metadata": {},
   "outputs": [],
   "source": [
    "dtmodel2=dt.fit(X,np.log(y))"
   ]
  },
  {
   "cell_type": "code",
   "execution_count": 117,
   "id": "0d28f5b2",
   "metadata": {},
   "outputs": [
    {
     "data": {
      "text/plain": [
       "0.7404974231546005"
      ]
     },
     "execution_count": 117,
     "metadata": {},
     "output_type": "execute_result"
    }
   ],
   "source": [
    "dtmodel2.score(X,np.log(y))"
   ]
  },
  {
   "cell_type": "code",
   "execution_count": 151,
   "id": "20519310",
   "metadata": {},
   "outputs": [],
   "source": [
    "dtpre=dtmodel.predict(X)"
   ]
  },
  {
   "cell_type": "code",
   "execution_count": 152,
   "id": "556ef5df",
   "metadata": {},
   "outputs": [],
   "source": [
    "dtresidual=y-dtpre"
   ]
  },
  {
   "cell_type": "code",
   "execution_count": 153,
   "id": "8ef5190c",
   "metadata": {},
   "outputs": [
    {
     "data": {
      "text/plain": [
       "2763.3235995623722"
      ]
     },
     "execution_count": 153,
     "metadata": {},
     "output_type": "execute_result"
    }
   ],
   "source": [
    "np.sqrt(np.mean(dtresidual**2))"
   ]
  },
  {
   "cell_type": "code",
   "execution_count": 120,
   "id": "c9f91e66",
   "metadata": {},
   "outputs": [],
   "source": [
    "dtpre2=dtmodel2.predict(X)"
   ]
  },
  {
   "cell_type": "code",
   "execution_count": 123,
   "id": "fa2ff0cb",
   "metadata": {},
   "outputs": [],
   "source": [
    "dtpredict2=np.exp(dtpre2)"
   ]
  },
  {
   "cell_type": "code",
   "execution_count": 124,
   "id": "0be88dd7",
   "metadata": {},
   "outputs": [],
   "source": [
    "dtresidual2=y-dtpredict2 # residual"
   ]
  },
  {
   "cell_type": "code",
   "execution_count": 155,
   "id": "299f6c73",
   "metadata": {},
   "outputs": [
    {
     "data": {
      "text/plain": [
       "1109.919521987872"
      ]
     },
     "execution_count": 155,
     "metadata": {},
     "output_type": "execute_result"
    }
   ],
   "source": [
    "np.sqrt(np.mean(dtresidual2**2))"
   ]
  },
  {
   "cell_type": "code",
   "execution_count": 156,
   "id": "e56fa104",
   "metadata": {},
   "outputs": [
    {
     "data": {
      "text/plain": [
       "array([0.71962358, 0.71559636, 0.71739392, 0.7217384 , 0.75277106])"
      ]
     },
     "execution_count": 156,
     "metadata": {},
     "output_type": "execute_result"
    }
   ],
   "source": [
    "cross_val_score(dtmodel,X,np.log(y),cv=5)"
   ]
  },
  {
   "cell_type": "code",
   "execution_count": 135,
   "id": "1546e659",
   "metadata": {},
   "outputs": [],
   "source": [
    "dttestpre=dtmodel2.predict(bigmarttestdf)"
   ]
  },
  {
   "cell_type": "code",
   "execution_count": 136,
   "id": "3a1ea882",
   "metadata": {},
   "outputs": [],
   "source": [
    "dttestpre=np.exp(dttestpre)"
   ]
  },
  {
   "cell_type": "code",
   "execution_count": 137,
   "id": "1900ec77",
   "metadata": {},
   "outputs": [
    {
     "data": {
      "text/plain": [
       "array([1405.46006897, 1121.16252711,  492.52097677, ..., 1736.20689331,\n",
       "       3400.17400694, 1121.16252711])"
      ]
     },
     "execution_count": 137,
     "metadata": {},
     "output_type": "execute_result"
    }
   ],
   "source": [
    "dttestpre"
   ]
  },
  {
   "cell_type": "code",
   "execution_count": 139,
   "id": "5d0fe012",
   "metadata": {},
   "outputs": [],
   "source": [
    "pd.DataFrame(dttestpre).to_csv(\"dt.csv\")"
   ]
  },
  {
   "cell_type": "markdown",
   "id": "e58bdb4b",
   "metadata": {},
   "source": [
    "## RandomForestRegressor"
   ]
  },
  {
   "cell_type": "code",
   "execution_count": 140,
   "id": "ee4a18a2",
   "metadata": {},
   "outputs": [],
   "source": [
    "from sklearn.ensemble import RandomForestRegressor"
   ]
  },
  {
   "cell_type": "code",
   "execution_count": 160,
   "id": "6447436b",
   "metadata": {},
   "outputs": [],
   "source": [
    "rf=RandomForestRegressor(max_depth=3,n_estimators=35)"
   ]
  },
  {
   "cell_type": "code",
   "execution_count": 161,
   "id": "05f090cf",
   "metadata": {},
   "outputs": [],
   "source": [
    "rfmodel=rf.fit(X,y)"
   ]
  },
  {
   "cell_type": "code",
   "execution_count": 162,
   "id": "dde559a0",
   "metadata": {},
   "outputs": [
    {
     "data": {
      "text/plain": [
       "0.5430502622545346"
      ]
     },
     "execution_count": 162,
     "metadata": {},
     "output_type": "execute_result"
    }
   ],
   "source": [
    "rfmodel.score(X,y)"
   ]
  },
  {
   "cell_type": "code",
   "execution_count": 163,
   "id": "a9106810",
   "metadata": {},
   "outputs": [],
   "source": [
    "rfpre=rfmodel.predict(X)"
   ]
  },
  {
   "cell_type": "code",
   "execution_count": 164,
   "id": "e874b61d",
   "metadata": {},
   "outputs": [],
   "source": [
    "rfresiduals=y-rfpre"
   ]
  },
  {
   "cell_type": "code",
   "execution_count": 165,
   "id": "3a6c7a81",
   "metadata": {},
   "outputs": [
    {
     "data": {
      "text/plain": [
       "1153.4929160665265"
      ]
     },
     "execution_count": 165,
     "metadata": {},
     "output_type": "execute_result"
    }
   ],
   "source": [
    "np.sqrt(np.mean(rfresiduals**2))"
   ]
  },
  {
   "cell_type": "code",
   "execution_count": 171,
   "id": "12156cdd",
   "metadata": {},
   "outputs": [
    {
     "data": {
      "text/plain": [
       "array([0.52203779, 0.54110113, 0.51483838, 0.55007301, 0.54540838])"
      ]
     },
     "execution_count": 171,
     "metadata": {},
     "output_type": "execute_result"
    }
   ],
   "source": [
    "cross_val_score(rfmodel,X,y)"
   ]
  },
  {
   "cell_type": "code",
   "execution_count": 172,
   "id": "fb05e2b4",
   "metadata": {},
   "outputs": [
    {
     "data": {
      "text/plain": [
       "0.534691738"
      ]
     },
     "execution_count": 172,
     "metadata": {},
     "output_type": "execute_result"
    }
   ],
   "source": [
    "np.mean([0.52203779, 0.54110113, 0.51483838, 0.55007301, 0.54540838])"
   ]
  },
  {
   "cell_type": "code",
   "execution_count": 173,
   "id": "447e8340",
   "metadata": {},
   "outputs": [],
   "source": [
    "rfmodel2=rf.fit(X,np.log(y))"
   ]
  },
  {
   "cell_type": "code",
   "execution_count": 174,
   "id": "d2b3a908",
   "metadata": {},
   "outputs": [
    {
     "data": {
      "text/plain": [
       "0.701800584108387"
      ]
     },
     "execution_count": 174,
     "metadata": {},
     "output_type": "execute_result"
    }
   ],
   "source": [
    "rfmodel2.score(X,np.log(y))"
   ]
  },
  {
   "cell_type": "code",
   "execution_count": 175,
   "id": "c59b3395",
   "metadata": {},
   "outputs": [],
   "source": [
    "rfpre2=rfmodel2.predict(X)"
   ]
  },
  {
   "cell_type": "code",
   "execution_count": 176,
   "id": "f5840888",
   "metadata": {},
   "outputs": [],
   "source": [
    "rfres2=y-rfpre2"
   ]
  },
  {
   "cell_type": "code",
   "execution_count": 177,
   "id": "b2f1c6bc",
   "metadata": {},
   "outputs": [
    {
     "data": {
      "text/plain": [
       "2763.3620984571508"
      ]
     },
     "execution_count": 177,
     "metadata": {},
     "output_type": "execute_result"
    }
   ],
   "source": [
    "np.sqrt(np.mean(rfres2**2))"
   ]
  },
  {
   "cell_type": "code",
   "execution_count": 178,
   "id": "7f268acd",
   "metadata": {},
   "outputs": [
    {
     "data": {
      "text/plain": [
       "array([0.68829109, 0.69681522, 0.68500295, 0.69519546, 0.72228427])"
      ]
     },
     "execution_count": 178,
     "metadata": {},
     "output_type": "execute_result"
    }
   ],
   "source": [
    "cross_val_score(rfmodel2,X,np.log(y))"
   ]
  },
  {
   "cell_type": "code",
   "execution_count": 179,
   "id": "371de9d2",
   "metadata": {},
   "outputs": [],
   "source": [
    "rftestpre=rfmodel2.predict(bigmarttestdf)"
   ]
  },
  {
   "cell_type": "code",
   "execution_count": 180,
   "id": "8134b022",
   "metadata": {},
   "outputs": [],
   "source": [
    "rftestpre=np.exp(rftestpre)"
   ]
  },
  {
   "cell_type": "code",
   "execution_count": 183,
   "id": "0ed90acb",
   "metadata": {},
   "outputs": [
    {
     "data": {
      "text/plain": [
       "array([1409.81597713, 1370.05434597,  466.14753363, ..., 1988.32092618,\n",
       "       3194.07302352, 1370.05434597])"
      ]
     },
     "execution_count": 183,
     "metadata": {},
     "output_type": "execute_result"
    }
   ],
   "source": [
    "rftestpre"
   ]
  },
  {
   "cell_type": "code",
   "execution_count": 185,
   "id": "5d979304",
   "metadata": {},
   "outputs": [],
   "source": [
    "pd.DataFrame(rftestpre).to_csv(\"rf.csv\")"
   ]
  },
  {
   "cell_type": "markdown",
   "id": "8a448bf0",
   "metadata": {},
   "source": [
    "## Gradientboosting "
   ]
  },
  {
   "cell_type": "code",
   "execution_count": 186,
   "id": "fe96c9eb",
   "metadata": {},
   "outputs": [],
   "source": [
    "from sklearn.ensemble import GradientBoostingRegressor"
   ]
  },
  {
   "cell_type": "code",
   "execution_count": 187,
   "id": "fcc56993",
   "metadata": {},
   "outputs": [],
   "source": [
    "gb=GradientBoostingRegressor(n_estimators=40)"
   ]
  },
  {
   "cell_type": "code",
   "execution_count": 188,
   "id": "df6532d2",
   "metadata": {},
   "outputs": [],
   "source": [
    "gbmodel=gb.fit(X,y)"
   ]
  },
  {
   "cell_type": "code",
   "execution_count": 189,
   "id": "b573c779",
   "metadata": {},
   "outputs": [
    {
     "data": {
      "text/plain": [
       "0.6126827782851834"
      ]
     },
     "execution_count": 189,
     "metadata": {},
     "output_type": "execute_result"
    }
   ],
   "source": [
    "gbmodel.score(X,y)"
   ]
  },
  {
   "cell_type": "code",
   "execution_count": 190,
   "id": "2cc7b3c0",
   "metadata": {},
   "outputs": [],
   "source": [
    "gbpre=gbmodel.predict(X)"
   ]
  },
  {
   "cell_type": "code",
   "execution_count": 191,
   "id": "0d1b87a0",
   "metadata": {},
   "outputs": [],
   "source": [
    "gbres=y-gbpre"
   ]
  },
  {
   "cell_type": "code",
   "execution_count": 192,
   "id": "8d25c606",
   "metadata": {},
   "outputs": [
    {
     "data": {
      "text/plain": [
       "1061.9745754437442"
      ]
     },
     "execution_count": 192,
     "metadata": {},
     "output_type": "execute_result"
    }
   ],
   "source": [
    "np.sqrt(np.mean(gbres**2))"
   ]
  },
  {
   "cell_type": "code",
   "execution_count": 193,
   "id": "017067f1",
   "metadata": {},
   "outputs": [
    {
     "data": {
      "text/plain": [
       "array([0.60675249, 0.58731713, 0.58013137, 0.60877662, 0.60732107])"
      ]
     },
     "execution_count": 193,
     "metadata": {},
     "output_type": "execute_result"
    }
   ],
   "source": [
    "cross_val_score(gbmodel,X,y)"
   ]
  },
  {
   "cell_type": "code",
   "execution_count": 194,
   "id": "830fef13",
   "metadata": {},
   "outputs": [
    {
     "data": {
      "text/plain": [
       "0.5980597360000001"
      ]
     },
     "execution_count": 194,
     "metadata": {},
     "output_type": "execute_result"
    }
   ],
   "source": [
    "np.mean([0.60675249, 0.58731713, 0.58013137, 0.60877662, 0.60732107])"
   ]
  },
  {
   "cell_type": "code",
   "execution_count": 195,
   "id": "ba2384ba",
   "metadata": {},
   "outputs": [],
   "source": [
    "gbmodel2=gb.fit(X,np.log(y))"
   ]
  },
  {
   "cell_type": "code",
   "execution_count": 196,
   "id": "6eac5eb9",
   "metadata": {},
   "outputs": [
    {
     "data": {
      "text/plain": [
       "0.7453504589772595"
      ]
     },
     "execution_count": 196,
     "metadata": {},
     "output_type": "execute_result"
    }
   ],
   "source": [
    "gbmodel2.score(X,np.log(y))"
   ]
  },
  {
   "cell_type": "code",
   "execution_count": 197,
   "id": "42050474",
   "metadata": {},
   "outputs": [],
   "source": [
    "gbpre2=gbmodel2.predict(X)"
   ]
  },
  {
   "cell_type": "code",
   "execution_count": 198,
   "id": "aa217ccf",
   "metadata": {},
   "outputs": [],
   "source": [
    "gbres2=y-gbpre2"
   ]
  },
  {
   "cell_type": "code",
   "execution_count": 199,
   "id": "e0bf62df",
   "metadata": {},
   "outputs": [
    {
     "data": {
      "text/plain": [
       "2763.3359614863393"
      ]
     },
     "execution_count": 199,
     "metadata": {},
     "output_type": "execute_result"
    }
   ],
   "source": [
    "np.sqrt(np.mean(gbres2**2))"
   ]
  },
  {
   "cell_type": "code",
   "execution_count": 200,
   "id": "3efdb328",
   "metadata": {},
   "outputs": [
    {
     "data": {
      "text/plain": [
       "array([0.73108382, 0.7283376 , 0.7290443 , 0.7313127 , 0.75882317])"
      ]
     },
     "execution_count": 200,
     "metadata": {},
     "output_type": "execute_result"
    }
   ],
   "source": [
    "cross_val_score(gbmodel2,X,np.log(y))"
   ]
  },
  {
   "cell_type": "code",
   "execution_count": 201,
   "id": "77d62118",
   "metadata": {},
   "outputs": [
    {
     "data": {
      "text/plain": [
       "0.735720318"
      ]
     },
     "execution_count": 201,
     "metadata": {},
     "output_type": "execute_result"
    }
   ],
   "source": [
    "np.mean([0.73108382, 0.7283376 , 0.7290443 , 0.7313127 , 0.75882317])"
   ]
  },
  {
   "cell_type": "code",
   "execution_count": 202,
   "id": "03fc172b",
   "metadata": {},
   "outputs": [],
   "source": [
    "gbtestpre=gbmodel2.predict(bigmarttestdf)"
   ]
  },
  {
   "cell_type": "code",
   "execution_count": 203,
   "id": "5b8b8210",
   "metadata": {},
   "outputs": [],
   "source": [
    "gbtestpre=np.exp(gbtestpre)"
   ]
  },
  {
   "cell_type": "code",
   "execution_count": 204,
   "id": "bd3735bb",
   "metadata": {},
   "outputs": [],
   "source": [
    "pd.DataFrame(gbtestpre).to_csv(\"gb.csv\")"
   ]
  },
  {
   "cell_type": "markdown",
   "id": "44a8dd90",
   "metadata": {},
   "source": [
    "## I predeicted  test data in Analytics vidhya , Gradient Boosting is the best fit model."
   ]
  },
  {
   "cell_type": "code",
   "execution_count": null,
   "id": "f20e645b",
   "metadata": {},
   "outputs": [],
   "source": []
  }
 ],
 "metadata": {
  "kernelspec": {
   "display_name": "Python 3 (ipykernel)",
   "language": "python",
   "name": "python3"
  },
  "language_info": {
   "codemirror_mode": {
    "name": "ipython",
    "version": 3
   },
   "file_extension": ".py",
   "mimetype": "text/x-python",
   "name": "python",
   "nbconvert_exporter": "python",
   "pygments_lexer": "ipython3",
   "version": "3.9.12"
  }
 },
 "nbformat": 4,
 "nbformat_minor": 5
}
