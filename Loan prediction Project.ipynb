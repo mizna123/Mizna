{
 "cells": [
  {
   "cell_type": "markdown",
   "id": "c97cb721",
   "metadata": {},
   "source": [
    "## Dream Housing Finance company deals in all kinds of home loans. They have presence across all urban, semi urban and rural areas. Customer first applies for home loan and after that company validates the customer eligibility for loan."
   ]
  },
  {
   "cell_type": "markdown",
   "id": "e5a71391",
   "metadata": {},
   "source": [
    "## The Main aim is model will predict whether a loan would be approved or not."
   ]
  },
  {
   "cell_type": "markdown",
   "id": "044826e7",
   "metadata": {},
   "source": [
    "## Libraries for Data Analysis"
   ]
  },
  {
   "cell_type": "code",
   "execution_count": null,
   "id": "311886c7",
   "metadata": {},
   "outputs": [],
   "source": [
    "import pandas as pd \n",
    "import numpy as np\n",
    "import matplotlib.pyplot as plt\n",
    "%matplotlib inline"
   ]
  },
  {
   "cell_type": "code",
   "execution_count": null,
   "id": "9df7d2a6",
   "metadata": {},
   "outputs": [],
   "source": [
    "import io\n",
    "%cd \"C:\\Users\\HP\\Desktop\\loan\""
   ]
  },
  {
   "cell_type": "markdown",
   "id": "ee054a7d",
   "metadata": {},
   "source": [
    "## Datasets loading"
   ]
  },
  {
   "cell_type": "code",
   "execution_count": null,
   "id": "f75ddea5",
   "metadata": {},
   "outputs": [],
   "source": [
    "train=pd.read_csv('train_ctrUa4K.csv')"
   ]
  },
  {
   "cell_type": "code",
   "execution_count": null,
   "id": "a5191530",
   "metadata": {},
   "outputs": [],
   "source": [
    "test=pd.read_csv('test_lAUu6dG.csv')"
   ]
  },
  {
   "cell_type": "markdown",
   "id": "0368f374",
   "metadata": {},
   "source": [
    "## Finding the rows and columns in the train and test data"
   ]
  },
  {
   "cell_type": "code",
   "execution_count": null,
   "id": "52345229",
   "metadata": {},
   "outputs": [],
   "source": [
    "print(train.shape)\n",
    "print(test.shape)"
   ]
  },
  {
   "cell_type": "markdown",
   "id": "8b4a23eb",
   "metadata": {},
   "source": [
    "### checking the column names "
   ]
  },
  {
   "cell_type": "code",
   "execution_count": null,
   "id": "cca4e4eb",
   "metadata": {},
   "outputs": [],
   "source": [
    "print(train.columns)\n",
    "print(test.columns)"
   ]
  },
  {
   "cell_type": "markdown",
   "id": "60786848",
   "metadata": {},
   "source": [
    "###  In train and test data Loan ID is unique so drop that variable"
   ]
  },
  {
   "cell_type": "code",
   "execution_count": null,
   "id": "c28d6cfd",
   "metadata": {},
   "outputs": [],
   "source": [
    "train=train.drop(['Loan_ID'],axis=1)"
   ]
  },
  {
   "cell_type": "code",
   "execution_count": null,
   "id": "739212fd",
   "metadata": {},
   "outputs": [],
   "source": [
    "test=test.drop(['Loan_ID'],axis=1)"
   ]
  },
  {
   "cell_type": "code",
   "execution_count": null,
   "id": "239ae26e",
   "metadata": {},
   "outputs": [],
   "source": [
    "## Here dependent variable is Loan_Status , So I seperated dependent variable in one variable "
   ]
  },
  {
   "cell_type": "code",
   "execution_count": null,
   "id": "3b032f88",
   "metadata": {},
   "outputs": [],
   "source": [
    "y=train.Loan_Status"
   ]
  },
  {
   "cell_type": "code",
   "execution_count": null,
   "id": "163922d2",
   "metadata": {},
   "outputs": [],
   "source": [
    "### To balance the train and test data drop the dependent variable from tarin data "
   ]
  },
  {
   "cell_type": "code",
   "execution_count": null,
   "id": "57573760",
   "metadata": {},
   "outputs": [],
   "source": [
    "train=train.drop(['Loan_Status'],axis=1)"
   ]
  },
  {
   "cell_type": "code",
   "execution_count": null,
   "id": "7026495b",
   "metadata": {},
   "outputs": [],
   "source": [
    "print(train.shape)\n",
    "print(test.shape)"
   ]
  },
  {
   "cell_type": "code",
   "execution_count": null,
   "id": "933284f3",
   "metadata": {},
   "outputs": [],
   "source": [
    "### Checking the Data types in train dataset"
   ]
  },
  {
   "cell_type": "code",
   "execution_count": null,
   "id": "e5e5f89e",
   "metadata": {},
   "outputs": [],
   "source": [
    "train.dtypes"
   ]
  },
  {
   "cell_type": "code",
   "execution_count": null,
   "id": "923f0f4b",
   "metadata": {},
   "outputs": [],
   "source": [
    "## checking the missing values in train data"
   ]
  },
  {
   "cell_type": "code",
   "execution_count": null,
   "id": "e8774cdd",
   "metadata": {},
   "outputs": [],
   "source": [
    "train.isnull().sum().sort_values(ascending=False)"
   ]
  },
  {
   "cell_type": "code",
   "execution_count": null,
   "id": "5374cf29",
   "metadata": {},
   "outputs": [],
   "source": [
    "## checking the missing values in test data"
   ]
  },
  {
   "cell_type": "code",
   "execution_count": null,
   "id": "d1341138",
   "metadata": {},
   "outputs": [],
   "source": [
    "test.isnull().sum().sort_values(ascending=False)"
   ]
  },
  {
   "cell_type": "code",
   "execution_count": null,
   "id": "9d1a1926",
   "metadata": {},
   "outputs": [],
   "source": [
    "## combining the train and test data"
   ]
  },
  {
   "cell_type": "code",
   "execution_count": null,
   "id": "410c3d52",
   "metadata": {},
   "outputs": [],
   "source": [
    "comdf=pd.concat([train,test],axis=0)"
   ]
  },
  {
   "cell_type": "code",
   "execution_count": null,
   "id": "4c632522",
   "metadata": {},
   "outputs": [],
   "source": [
    "comdf"
   ]
  },
  {
   "cell_type": "code",
   "execution_count": null,
   "id": "0f2eecc8",
   "metadata": {},
   "outputs": [],
   "source": [
    "## checking the missing values in combining data"
   ]
  },
  {
   "cell_type": "code",
   "execution_count": null,
   "id": "757c9f13",
   "metadata": {},
   "outputs": [],
   "source": [
    "comdf.isnull().sum().sort_values(ascending=False)"
   ]
  },
  {
   "cell_type": "code",
   "execution_count": null,
   "id": "66cc9db8",
   "metadata": {},
   "outputs": [],
   "source": [
    "## checking the duplicate values in comdf variables"
   ]
  },
  {
   "cell_type": "code",
   "execution_count": null,
   "id": "80ab06ab",
   "metadata": {},
   "outputs": [],
   "source": [
    "for i in comdf.columns:\n",
    "    sas=comdf[i].value_counts(dropna=False)\n",
    "    print(sas)"
   ]
  },
  {
   "cell_type": "code",
   "execution_count": null,
   "id": "ba4606c1",
   "metadata": {},
   "outputs": [],
   "source": [
    "comdf.Gender=comdf.Gender.fillna(comdf.Gender.value_counts().idxmax())"
   ]
  },
  {
   "cell_type": "code",
   "execution_count": null,
   "id": "9b2a6cf9",
   "metadata": {},
   "outputs": [],
   "source": [
    "comdf.Married=comdf.Married.fillna(comdf.Married.value_counts().idxmax())"
   ]
  },
  {
   "cell_type": "code",
   "execution_count": null,
   "id": "ab36eac8",
   "metadata": {},
   "outputs": [],
   "source": [
    "comdf.Dependents=comdf.Dependents.fillna(comdf.Dependents.value_counts().idxmax())"
   ]
  },
  {
   "cell_type": "code",
   "execution_count": null,
   "id": "3e6f383e",
   "metadata": {},
   "outputs": [],
   "source": [
    "comdf.Self_Employed=comdf.Self_Employed.fillna(comdf.Self_Employed.value_counts().idxmax())"
   ]
  },
  {
   "cell_type": "code",
   "execution_count": null,
   "id": "38e83af7",
   "metadata": {},
   "outputs": [],
   "source": [
    "comdf.LoanAmount=comdf.LoanAmount.fillna(comdf.LoanAmount).median()"
   ]
  },
  {
   "cell_type": "code",
   "execution_count": null,
   "id": "628eb1ea",
   "metadata": {},
   "outputs": [],
   "source": [
    "comdf.Loan_Amount_Term=comdf.Loan_Amount_Term.fillna(comdf.Loan_Amount_Term).median()"
   ]
  },
  {
   "cell_type": "code",
   "execution_count": null,
   "id": "3b2e9778",
   "metadata": {},
   "outputs": [],
   "source": [
    "comdf.Credit_History=comdf.Credit_History.fillna(comdf.Credit_History).median()"
   ]
  },
  {
   "cell_type": "code",
   "execution_count": null,
   "id": "cb389b47",
   "metadata": {},
   "outputs": [],
   "source": [
    "comdf.isnull().sum().sort_values(ascending=False)"
   ]
  },
  {
   "cell_type": "markdown",
   "id": "e8f7543b",
   "metadata": {},
   "source": [
    "## Exploratory Data Analysis"
   ]
  },
  {
   "cell_type": "code",
   "execution_count": null,
   "id": "409d4c58",
   "metadata": {},
   "outputs": [],
   "source": [
    "train.ApplicantIncome.plot(kind='hist')"
   ]
  },
  {
   "cell_type": "code",
   "execution_count": null,
   "id": "49d0bb0e",
   "metadata": {},
   "outputs": [],
   "source": [
    "np.log(train.ApplicantIncome).plot(kind='hist')"
   ]
  },
  {
   "cell_type": "code",
   "execution_count": null,
   "id": "e4c79a4c",
   "metadata": {},
   "outputs": [],
   "source": [
    "train.ApplicantIncome.plot(kind='box',vert=False)"
   ]
  },
  {
   "cell_type": "code",
   "execution_count": null,
   "id": "ec5d68da",
   "metadata": {},
   "outputs": [],
   "source": [
    "np.log(train.ApplicantIncome).plot(kind='box',vert=False)"
   ]
  },
  {
   "cell_type": "code",
   "execution_count": null,
   "id": "d22978bf",
   "metadata": {},
   "outputs": [],
   "source": [
    "train.ApplicantIncome.plot(kind='density')"
   ]
  },
  {
   "cell_type": "code",
   "execution_count": null,
   "id": "47340b2f",
   "metadata": {},
   "outputs": [],
   "source": [
    "## checking the correlation in train data "
   ]
  },
  {
   "cell_type": "code",
   "execution_count": null,
   "id": "b6f2e76f",
   "metadata": {},
   "outputs": [],
   "source": [
    "import seaborn as sns\n",
    "sns.heatmap(train.corr(),annot=True)"
   ]
  },
  {
   "cell_type": "code",
   "execution_count": null,
   "id": "8519d191",
   "metadata": {},
   "outputs": [],
   "source": [
    "## their is no multicollinearity"
   ]
  },
  {
   "cell_type": "code",
   "execution_count": null,
   "id": "603ed01d",
   "metadata": {},
   "outputs": [],
   "source": [
    "train.corr()"
   ]
  },
  {
   "cell_type": "code",
   "execution_count": null,
   "id": "94b9e57d",
   "metadata": {},
   "outputs": [],
   "source": [
    "comdf"
   ]
  },
  {
   "cell_type": "code",
   "execution_count": null,
   "id": "07e2ccbc",
   "metadata": {},
   "outputs": [],
   "source": [
    "train.shape"
   ]
  },
  {
   "cell_type": "code",
   "execution_count": null,
   "id": "82b3de95",
   "metadata": {},
   "outputs": [],
   "source": [
    "test.shape"
   ]
  },
  {
   "cell_type": "code",
   "execution_count": null,
   "id": "8b931aa6",
   "metadata": {},
   "outputs": [],
   "source": [
    "comdf.shape"
   ]
  },
  {
   "cell_type": "code",
   "execution_count": null,
   "id": "511746c1",
   "metadata": {},
   "outputs": [],
   "source": [
    "## from comdf table separating the train and test data"
   ]
  },
  {
   "cell_type": "code",
   "execution_count": null,
   "id": "1d03b4fe",
   "metadata": {},
   "outputs": [],
   "source": [
    "trainc=comdf[0:614]"
   ]
  },
  {
   "cell_type": "code",
   "execution_count": null,
   "id": "91623d50",
   "metadata": {},
   "outputs": [],
   "source": [
    "testc=comdf[615:981]"
   ]
  },
  {
   "cell_type": "markdown",
   "id": "8e835151",
   "metadata": {},
   "source": [
    "## Hypothesis Testing"
   ]
  },
  {
   "cell_type": "code",
   "execution_count": null,
   "id": "2daacd61",
   "metadata": {},
   "outputs": [],
   "source": [
    "trainc.dtypes"
   ]
  },
  {
   "cell_type": "code",
   "execution_count": null,
   "id": "a49d7532",
   "metadata": {},
   "outputs": [],
   "source": [
    "trainc.ApplicantIncome.groupby(trainc.Gender).var()"
   ]
  },
  {
   "cell_type": "code",
   "execution_count": null,
   "id": "eb802726",
   "metadata": {},
   "outputs": [],
   "source": [
    "s=trainc[trainc.Gender=='Female']\n",
    "a=trainc[trainc.Gender=='Male']"
   ]
  },
  {
   "cell_type": "code",
   "execution_count": null,
   "id": "79e7f3d2",
   "metadata": {},
   "outputs": [],
   "source": [
    "from scipy.stats import ttest_ind"
   ]
  },
  {
   "cell_type": "code",
   "execution_count": null,
   "id": "ab41ac8d",
   "metadata": {},
   "outputs": [],
   "source": [
    "ttest_ind(s.ApplicantIncome,a.ApplicantIncome,equal_var=False)"
   ]
  },
  {
   "cell_type": "code",
   "execution_count": null,
   "id": "a7e8586f",
   "metadata": {},
   "outputs": [],
   "source": [
    "## Inttest p-value is <0.05 so rejects null hypothesis"
   ]
  },
  {
   "cell_type": "code",
   "execution_count": null,
   "id": "1146fbd3",
   "metadata": {},
   "outputs": [],
   "source": [
    "trainc.ApplicantIncome.groupby(trainc.Property_Area).mean()"
   ]
  },
  {
   "cell_type": "code",
   "execution_count": null,
   "id": "51ed4b7a",
   "metadata": {},
   "outputs": [],
   "source": [
    "q=trainc[trainc.Property_Area=='Rural']\n",
    "w=trainc[trainc.Property_Area=='Semiurban']\n",
    "r=trainc[trainc.Property_Area=='Urban']"
   ]
  },
  {
   "cell_type": "code",
   "execution_count": null,
   "id": "adf99e6f",
   "metadata": {},
   "outputs": [],
   "source": [
    "from scipy.stats import f_oneway"
   ]
  },
  {
   "cell_type": "code",
   "execution_count": null,
   "id": "515454a3",
   "metadata": {},
   "outputs": [],
   "source": [
    "f_oneway(q.ApplicantIncome,w.ApplicantIncome,r.ApplicantIncome)"
   ]
  },
  {
   "cell_type": "code",
   "execution_count": null,
   "id": "b058c1fa",
   "metadata": {},
   "outputs": [],
   "source": [
    "pd.crosstab(trainc.Education,trainc.Property_Area)"
   ]
  },
  {
   "cell_type": "code",
   "execution_count": null,
   "id": "132a7010",
   "metadata": {},
   "outputs": [],
   "source": [
    "from scipy.stats import chi2_contingency"
   ]
  },
  {
   "cell_type": "code",
   "execution_count": null,
   "id": "6452fb54",
   "metadata": {},
   "outputs": [],
   "source": [
    "chi2_contingency(pd.crosstab(trainc.Education,trainc.Property_Area))"
   ]
  },
  {
   "cell_type": "code",
   "execution_count": null,
   "id": "9d7151d1",
   "metadata": {},
   "outputs": [],
   "source": [
    "## Seperating the objectcolumns and numeric columns"
   ]
  },
  {
   "cell_type": "code",
   "execution_count": null,
   "id": "1d6dd595",
   "metadata": {},
   "outputs": [],
   "source": [
    "objcols=comdf.select_dtypes(include='object')\n",
    "numcols=comdf.select_dtypes(include=np.number)"
   ]
  },
  {
   "cell_type": "code",
   "execution_count": null,
   "id": "144b48a1",
   "metadata": {},
   "outputs": [],
   "source": [
    "print(objcols.shape)\n",
    "print(numcols.shape)"
   ]
  },
  {
   "cell_type": "code",
   "execution_count": null,
   "id": "4fafcbb3",
   "metadata": {},
   "outputs": [],
   "source": [
    "## LabelEncoder is to convert object columns into numeric columns"
   ]
  },
  {
   "cell_type": "code",
   "execution_count": null,
   "id": "772a32e0",
   "metadata": {},
   "outputs": [],
   "source": [
    "from sklearn.preprocessing import LabelEncoder"
   ]
  },
  {
   "cell_type": "code",
   "execution_count": null,
   "id": "4d3c4e78",
   "metadata": {},
   "outputs": [],
   "source": [
    "le=LabelEncoder()"
   ]
  },
  {
   "cell_type": "code",
   "execution_count": null,
   "id": "1c2f0f5b",
   "metadata": {},
   "outputs": [],
   "source": [
    "objdum=objcols.apply(le.fit_transform)"
   ]
  },
  {
   "cell_type": "code",
   "execution_count": null,
   "id": "4dd44e4c",
   "metadata": {},
   "outputs": [],
   "source": [
    "numcols"
   ]
  },
  {
   "cell_type": "code",
   "execution_count": null,
   "id": "b02ea8af",
   "metadata": {},
   "outputs": [],
   "source": [
    "## adding the numcols and objdummy columns"
   ]
  },
  {
   "cell_type": "code",
   "execution_count": null,
   "id": "9256336b",
   "metadata": {},
   "outputs": [],
   "source": [
    "cleandata=pd.concat([numcols,objdum],axis=1)"
   ]
  },
  {
   "cell_type": "code",
   "execution_count": null,
   "id": "991cd933",
   "metadata": {},
   "outputs": [],
   "source": [
    "## From cleandata separating the train data and test data"
   ]
  },
  {
   "cell_type": "code",
   "execution_count": null,
   "id": "a6336be4",
   "metadata": {},
   "outputs": [],
   "source": [
    "traincl=cleandata[0:614]"
   ]
  },
  {
   "cell_type": "code",
   "execution_count": null,
   "id": "ddbb10fa",
   "metadata": {},
   "outputs": [],
   "source": [
    "testcl=cleandata[615:981]"
   ]
  },
  {
   "cell_type": "code",
   "execution_count": null,
   "id": "69fb3cfc",
   "metadata": {},
   "outputs": [],
   "source": [
    "y"
   ]
  },
  {
   "cell_type": "code",
   "execution_count": null,
   "id": "2998b473",
   "metadata": {},
   "outputs": [],
   "source": [
    "x=traincl"
   ]
  },
  {
   "cell_type": "code",
   "execution_count": null,
   "id": "80eee457",
   "metadata": {},
   "outputs": [],
   "source": [
    "x"
   ]
  },
  {
   "cell_type": "markdown",
   "id": "790facb9",
   "metadata": {},
   "source": [
    "# Model building"
   ]
  },
  {
   "cell_type": "markdown",
   "id": "7c761906",
   "metadata": {},
   "source": [
    "## Logistic Regression "
   ]
  },
  {
   "cell_type": "code",
   "execution_count": null,
   "id": "3a28f07d",
   "metadata": {},
   "outputs": [],
   "source": [
    "from sklearn.linear_model import LogisticRegression"
   ]
  },
  {
   "cell_type": "code",
   "execution_count": null,
   "id": "9d3eb8ca",
   "metadata": {},
   "outputs": [],
   "source": [
    "lr=LogisticRegression(max_iter=400)"
   ]
  },
  {
   "cell_type": "code",
   "execution_count": null,
   "id": "71f673dd",
   "metadata": {},
   "outputs": [],
   "source": [
    "lrmodel=lr.fit(x,y)"
   ]
  },
  {
   "cell_type": "code",
   "execution_count": null,
   "id": "2d3e83c2",
   "metadata": {},
   "outputs": [],
   "source": [
    "lrmodel.score(x,y)"
   ]
  },
  {
   "cell_type": "code",
   "execution_count": null,
   "id": "00b477b4",
   "metadata": {},
   "outputs": [],
   "source": [
    "lrpre=lrmodel.predict(x)"
   ]
  },
  {
   "cell_type": "code",
   "execution_count": null,
   "id": "49a8f371",
   "metadata": {},
   "outputs": [],
   "source": [
    "pd.crosstab(y,lrpre)"
   ]
  },
  {
   "cell_type": "code",
   "execution_count": null,
   "id": "20064f3c",
   "metadata": {},
   "outputs": [],
   "source": [
    "from sklearn.metrics import classification_report"
   ]
  },
  {
   "cell_type": "code",
   "execution_count": null,
   "id": "b01e8aa4",
   "metadata": {},
   "outputs": [],
   "source": [
    "print(classification_report(y,lrpre))"
   ]
  },
  {
   "cell_type": "code",
   "execution_count": null,
   "id": "a1b3da5a",
   "metadata": {},
   "outputs": [],
   "source": [
    "from sklearn.model_selection import cross_val_score"
   ]
  },
  {
   "cell_type": "code",
   "execution_count": null,
   "id": "996578bb",
   "metadata": {},
   "outputs": [],
   "source": [
    "cross_val_score(lrmodel,x,y)"
   ]
  },
  {
   "cell_type": "code",
   "execution_count": null,
   "id": "9416f487",
   "metadata": {},
   "outputs": [],
   "source": [
    "np.mean([0.69105691, 0.69105691, 0.68292683, 0.68292683, 0.68852459])"
   ]
  },
  {
   "cell_type": "code",
   "execution_count": null,
   "id": "b9b39c42",
   "metadata": {},
   "outputs": [],
   "source": [
    "from sklearn.metrics import plot_roc_curve"
   ]
  },
  {
   "cell_type": "code",
   "execution_count": null,
   "id": "ee537aa2",
   "metadata": {},
   "outputs": [],
   "source": [
    "plot_roc_curve(lr,x,y)"
   ]
  },
  {
   "cell_type": "code",
   "execution_count": null,
   "id": "db707197",
   "metadata": {},
   "outputs": [],
   "source": [
    "lrtestpre=lrmodel.predict(testcl)"
   ]
  },
  {
   "cell_type": "code",
   "execution_count": null,
   "id": "22b95a8b",
   "metadata": {},
   "outputs": [],
   "source": [
    "pd.DataFrame(lrtestpre).to_csv(\"lrmodel.csv\")"
   ]
  },
  {
   "cell_type": "code",
   "execution_count": null,
   "id": "ea3065b0",
   "metadata": {},
   "outputs": [],
   "source": [
    "from sklearn.tree import DecisionTreeClassifier"
   ]
  },
  {
   "cell_type": "code",
   "execution_count": null,
   "id": "eb5382e3",
   "metadata": {},
   "outputs": [],
   "source": [
    "dc=DecisionTreeClassifier(max_depth=10)"
   ]
  },
  {
   "cell_type": "code",
   "execution_count": null,
   "id": "3685ea06",
   "metadata": {},
   "outputs": [],
   "source": [
    "dcmodel=dc.fit(x,y)"
   ]
  },
  {
   "cell_type": "code",
   "execution_count": null,
   "id": "b2d88ab7",
   "metadata": {},
   "outputs": [],
   "source": [
    "dcmodel.score(x,y)"
   ]
  },
  {
   "cell_type": "code",
   "execution_count": null,
   "id": "38d898c5",
   "metadata": {},
   "outputs": [],
   "source": [
    "dcpre=dcmodel.predict(x)"
   ]
  },
  {
   "cell_type": "code",
   "execution_count": null,
   "id": "c96654b5",
   "metadata": {},
   "outputs": [],
   "source": [
    "pd.crosstab(y,dcpre)"
   ]
  },
  {
   "cell_type": "code",
   "execution_count": null,
   "id": "773e0926",
   "metadata": {},
   "outputs": [],
   "source": [
    "print(classification_report(y,dcpre))"
   ]
  },
  {
   "cell_type": "code",
   "execution_count": null,
   "id": "ff1c0ce3",
   "metadata": {},
   "outputs": [],
   "source": [
    "cross_val_score(dcmodel,x,y)"
   ]
  },
  {
   "cell_type": "code",
   "execution_count": null,
   "id": "719d0bcc",
   "metadata": {},
   "outputs": [],
   "source": [
    "np.mean([0.61788618, 0.69105691, 0.64227642, 0.59349593, 0.63934426])"
   ]
  },
  {
   "cell_type": "code",
   "execution_count": null,
   "id": "2f92a104",
   "metadata": {},
   "outputs": [],
   "source": [
    "plot_roc_curve(dc,x,y)"
   ]
  },
  {
   "cell_type": "code",
   "execution_count": null,
   "id": "5aee57ba",
   "metadata": {},
   "outputs": [],
   "source": [
    "dctestpre=dcmodel.predict(testcl)"
   ]
  },
  {
   "cell_type": "code",
   "execution_count": null,
   "id": "bb4c3b1b",
   "metadata": {},
   "outputs": [],
   "source": [
    "pd.DataFrame(dctestpre).to_csv(\"dcmodel.csv\")"
   ]
  },
  {
   "cell_type": "code",
   "execution_count": null,
   "id": "96ff06c8",
   "metadata": {},
   "outputs": [],
   "source": [
    "from sklearn.ensemble import RandomForestClassifier"
   ]
  },
  {
   "cell_type": "code",
   "execution_count": null,
   "id": "f45f54bb",
   "metadata": {},
   "outputs": [],
   "source": [
    "rc=RandomForestClassifier(max_depth=9,n_estimators=50)"
   ]
  },
  {
   "cell_type": "code",
   "execution_count": null,
   "id": "0fadafad",
   "metadata": {},
   "outputs": [],
   "source": [
    "rcmodel=rc.fit(x,y)"
   ]
  },
  {
   "cell_type": "code",
   "execution_count": null,
   "id": "0b68d028",
   "metadata": {},
   "outputs": [],
   "source": [
    "rcmodel.score(x,y)"
   ]
  },
  {
   "cell_type": "code",
   "execution_count": null,
   "id": "9d270f87",
   "metadata": {},
   "outputs": [],
   "source": [
    "rcpre=rcmodel.predict(x)"
   ]
  },
  {
   "cell_type": "code",
   "execution_count": null,
   "id": "59fedb25",
   "metadata": {},
   "outputs": [],
   "source": [
    "pd.crosstab(y,rcpre)"
   ]
  },
  {
   "cell_type": "code",
   "execution_count": null,
   "id": "ddb0f058",
   "metadata": {},
   "outputs": [],
   "source": [
    "print(classification_report(y,rcpre))"
   ]
  },
  {
   "cell_type": "code",
   "execution_count": null,
   "id": "ebeffea0",
   "metadata": {},
   "outputs": [],
   "source": [
    "cross_val_score(rcmodel,x,y)"
   ]
  },
  {
   "cell_type": "code",
   "execution_count": null,
   "id": "0d9657b3",
   "metadata": {},
   "outputs": [],
   "source": [
    "np.mean([0.69918699, 0.69105691, 0.69105691, 0.66666667, 0.69672131])"
   ]
  },
  {
   "cell_type": "code",
   "execution_count": null,
   "id": "d3104f1d",
   "metadata": {},
   "outputs": [],
   "source": [
    "plot_roc_curve(rc,x,y)"
   ]
  },
  {
   "cell_type": "code",
   "execution_count": null,
   "id": "df0e772b",
   "metadata": {},
   "outputs": [],
   "source": [
    "rctestpre=rcmodel.predict(testcl)"
   ]
  },
  {
   "cell_type": "code",
   "execution_count": null,
   "id": "d4c3c4e4",
   "metadata": {},
   "outputs": [],
   "source": [
    "pd.DataFrame(rctestpre).to_csv(\"rcmodel.csv\")"
   ]
  },
  {
   "cell_type": "code",
   "execution_count": null,
   "id": "940bbd39",
   "metadata": {},
   "outputs": [],
   "source": [
    "from sklearn.ensemble import GradientBoostingClassifier"
   ]
  },
  {
   "cell_type": "code",
   "execution_count": null,
   "id": "bfd6a904",
   "metadata": {},
   "outputs": [],
   "source": [
    "gc=GradientBoostingClassifier(n_estimators=40)"
   ]
  },
  {
   "cell_type": "code",
   "execution_count": null,
   "id": "cb171ebf",
   "metadata": {},
   "outputs": [],
   "source": [
    "gcmodel=gc.fit(x,y)"
   ]
  },
  {
   "cell_type": "code",
   "execution_count": null,
   "id": "25902645",
   "metadata": {},
   "outputs": [],
   "source": [
    "gcmodel.score(x,y)"
   ]
  },
  {
   "cell_type": "code",
   "execution_count": null,
   "id": "8bbe798d",
   "metadata": {},
   "outputs": [],
   "source": [
    "gcpre=gcmodel.predict(x)"
   ]
  },
  {
   "cell_type": "code",
   "execution_count": null,
   "id": "6a19b7c7",
   "metadata": {},
   "outputs": [],
   "source": [
    "pd.crosstab(y,gcpre)"
   ]
  },
  {
   "cell_type": "code",
   "execution_count": null,
   "id": "93aaba4d",
   "metadata": {},
   "outputs": [],
   "source": [
    "print(classification_report(y,gcpre))"
   ]
  },
  {
   "cell_type": "code",
   "execution_count": null,
   "id": "b1b2417e",
   "metadata": {},
   "outputs": [],
   "source": [
    "cross_val_score(gcmodel,x,y)"
   ]
  },
  {
   "cell_type": "code",
   "execution_count": null,
   "id": "2ca2459a",
   "metadata": {},
   "outputs": [],
   "source": [
    "np.mean([0.6504065 , 0.67479675, 0.70731707, 0.65853659, 0.71311475])"
   ]
  },
  {
   "cell_type": "code",
   "execution_count": null,
   "id": "793b30d1",
   "metadata": {},
   "outputs": [],
   "source": [
    "plot_roc_curve(gc,x,y)"
   ]
  },
  {
   "cell_type": "code",
   "execution_count": null,
   "id": "d4276868",
   "metadata": {},
   "outputs": [],
   "source": [
    "gctestpre=gcmodel.predict(testcl)"
   ]
  },
  {
   "cell_type": "code",
   "execution_count": null,
   "id": "e06179ec",
   "metadata": {},
   "outputs": [],
   "source": [
    "pd.DataFrame(gctestpre).to_csv(\"gcmodel.csv\")"
   ]
  },
  {
   "cell_type": "markdown",
   "id": "47627da7",
   "metadata": {},
   "source": [
    "## After predicting the test data in analytics vidya ,Logistic Regression is best fit model"
   ]
  },
  {
   "cell_type": "code",
   "execution_count": null,
   "id": "a25e6beb",
   "metadata": {},
   "outputs": [],
   "source": []
  }
 ],
 "metadata": {
  "kernelspec": {
   "display_name": "Python 3 (ipykernel)",
   "language": "python",
   "name": "python3"
  },
  "language_info": {
   "codemirror_mode": {
    "name": "ipython",
    "version": 3
   },
   "file_extension": ".py",
   "mimetype": "text/x-python",
   "name": "python",
   "nbconvert_exporter": "python",
   "pygments_lexer": "ipython3",
   "version": "3.9.12"
  }
 },
 "nbformat": 4,
 "nbformat_minor": 5
}
