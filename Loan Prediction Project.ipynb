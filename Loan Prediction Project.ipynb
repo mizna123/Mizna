{
 "cells": [
  {
   "cell_type": "markdown",
   "id": "3c06a77c",
   "metadata": {},
   "source": [
    "# Dream Housing Finance company deals in all kinds of home loans. They have presence across all urban, semi urban and rural areas. Customer first applies for home loan and after that company validates the customer eligibility for loan."
   ]
  },
  {
   "cell_type": "markdown",
   "id": "bcfbc1ac",
   "metadata": {},
   "source": [
    "## The Main aim is  model will predict whether a loan would be approved or not. "
   ]
  },
  {
   "cell_type": "markdown",
   "id": "70cf519f",
   "metadata": {},
   "source": [
    "## Import Modules"
   ]
  },
  {
   "cell_type": "markdown",
   "id": "f6a9d52d",
   "metadata": {},
   "source": [
    "## Libraries for Data Analysis"
   ]
  },
  {
   "cell_type": "code",
   "execution_count": 382,
   "id": "8628b3cc",
   "metadata": {},
   "outputs": [],
   "source": [
    "import pandas as pd\n",
    "import numpy as np \n",
    "import matplotlib.pyplot as plt\n",
    "%matplotlib inline"
   ]
  },
  {
   "cell_type": "code",
   "execution_count": 383,
   "id": "7da92ebe",
   "metadata": {},
   "outputs": [
    {
     "name": "stdout",
     "output_type": "stream",
     "text": [
      "C:\\Users\\HP\\Desktop\\python\\load prediction\n"
     ]
    }
   ],
   "source": [
    "import io\n",
    "%cd \"C:\\Users\\HP\\Desktop\\python\\load prediction\""
   ]
  },
  {
   "cell_type": "markdown",
   "id": "73806f0f",
   "metadata": {},
   "source": [
    "## Datasets loading"
   ]
  },
  {
   "cell_type": "code",
   "execution_count": 384,
   "id": "94e38e49",
   "metadata": {},
   "outputs": [],
   "source": [
    "train=pd.read_csv('train_ctrUa4K.csv')\n",
    "test=pd.read_csv('test_lAUu6dG.csv')"
   ]
  },
  {
   "cell_type": "code",
   "execution_count": 385,
   "id": "5a005f76",
   "metadata": {},
   "outputs": [
    {
     "data": {
      "text/plain": [
       "(614, 13)"
      ]
     },
     "execution_count": 385,
     "metadata": {},
     "output_type": "execute_result"
    }
   ],
   "source": [
    "train.shape"
   ]
  },
  {
   "cell_type": "code",
   "execution_count": 386,
   "id": "76b20481",
   "metadata": {},
   "outputs": [
    {
     "data": {
      "text/plain": [
       "(367, 12)"
      ]
     },
     "execution_count": 386,
     "metadata": {},
     "output_type": "execute_result"
    }
   ],
   "source": [
    "test.shape"
   ]
  },
  {
   "cell_type": "code",
   "execution_count": 387,
   "id": "c0d32307",
   "metadata": {},
   "outputs": [
    {
     "data": {
      "text/plain": [
       "Loan_ID               object\n",
       "Gender                object\n",
       "Married               object\n",
       "Dependents            object\n",
       "Education             object\n",
       "Self_Employed         object\n",
       "ApplicantIncome        int64\n",
       "CoapplicantIncome    float64\n",
       "LoanAmount           float64\n",
       "Loan_Amount_Term     float64\n",
       "Credit_History       float64\n",
       "Property_Area         object\n",
       "Loan_Status           object\n",
       "dtype: object"
      ]
     },
     "execution_count": 387,
     "metadata": {},
     "output_type": "execute_result"
    }
   ],
   "source": [
    "train.dtypes"
   ]
  },
  {
   "cell_type": "code",
   "execution_count": 388,
   "id": "3e4319f9",
   "metadata": {},
   "outputs": [
    {
     "data": {
      "text/html": [
       "<div>\n",
       "<style scoped>\n",
       "    .dataframe tbody tr th:only-of-type {\n",
       "        vertical-align: middle;\n",
       "    }\n",
       "\n",
       "    .dataframe tbody tr th {\n",
       "        vertical-align: top;\n",
       "    }\n",
       "\n",
       "    .dataframe thead th {\n",
       "        text-align: right;\n",
       "    }\n",
       "</style>\n",
       "<table border=\"1\" class=\"dataframe\">\n",
       "  <thead>\n",
       "    <tr style=\"text-align: right;\">\n",
       "      <th></th>\n",
       "      <th>ApplicantIncome</th>\n",
       "      <th>CoapplicantIncome</th>\n",
       "      <th>LoanAmount</th>\n",
       "      <th>Loan_Amount_Term</th>\n",
       "      <th>Credit_History</th>\n",
       "    </tr>\n",
       "  </thead>\n",
       "  <tbody>\n",
       "    <tr>\n",
       "      <th>count</th>\n",
       "      <td>614.000000</td>\n",
       "      <td>614.000000</td>\n",
       "      <td>592.000000</td>\n",
       "      <td>600.00000</td>\n",
       "      <td>564.000000</td>\n",
       "    </tr>\n",
       "    <tr>\n",
       "      <th>mean</th>\n",
       "      <td>5403.459283</td>\n",
       "      <td>1621.245798</td>\n",
       "      <td>146.412162</td>\n",
       "      <td>342.00000</td>\n",
       "      <td>0.842199</td>\n",
       "    </tr>\n",
       "    <tr>\n",
       "      <th>std</th>\n",
       "      <td>6109.041673</td>\n",
       "      <td>2926.248369</td>\n",
       "      <td>85.587325</td>\n",
       "      <td>65.12041</td>\n",
       "      <td>0.364878</td>\n",
       "    </tr>\n",
       "    <tr>\n",
       "      <th>min</th>\n",
       "      <td>150.000000</td>\n",
       "      <td>0.000000</td>\n",
       "      <td>9.000000</td>\n",
       "      <td>12.00000</td>\n",
       "      <td>0.000000</td>\n",
       "    </tr>\n",
       "    <tr>\n",
       "      <th>25%</th>\n",
       "      <td>2877.500000</td>\n",
       "      <td>0.000000</td>\n",
       "      <td>100.000000</td>\n",
       "      <td>360.00000</td>\n",
       "      <td>1.000000</td>\n",
       "    </tr>\n",
       "    <tr>\n",
       "      <th>50%</th>\n",
       "      <td>3812.500000</td>\n",
       "      <td>1188.500000</td>\n",
       "      <td>128.000000</td>\n",
       "      <td>360.00000</td>\n",
       "      <td>1.000000</td>\n",
       "    </tr>\n",
       "    <tr>\n",
       "      <th>75%</th>\n",
       "      <td>5795.000000</td>\n",
       "      <td>2297.250000</td>\n",
       "      <td>168.000000</td>\n",
       "      <td>360.00000</td>\n",
       "      <td>1.000000</td>\n",
       "    </tr>\n",
       "    <tr>\n",
       "      <th>max</th>\n",
       "      <td>81000.000000</td>\n",
       "      <td>41667.000000</td>\n",
       "      <td>700.000000</td>\n",
       "      <td>480.00000</td>\n",
       "      <td>1.000000</td>\n",
       "    </tr>\n",
       "  </tbody>\n",
       "</table>\n",
       "</div>"
      ],
      "text/plain": [
       "       ApplicantIncome  CoapplicantIncome  LoanAmount  Loan_Amount_Term  \\\n",
       "count       614.000000         614.000000  592.000000         600.00000   \n",
       "mean       5403.459283        1621.245798  146.412162         342.00000   \n",
       "std        6109.041673        2926.248369   85.587325          65.12041   \n",
       "min         150.000000           0.000000    9.000000          12.00000   \n",
       "25%        2877.500000           0.000000  100.000000         360.00000   \n",
       "50%        3812.500000        1188.500000  128.000000         360.00000   \n",
       "75%        5795.000000        2297.250000  168.000000         360.00000   \n",
       "max       81000.000000       41667.000000  700.000000         480.00000   \n",
       "\n",
       "       Credit_History  \n",
       "count      564.000000  \n",
       "mean         0.842199  \n",
       "std          0.364878  \n",
       "min          0.000000  \n",
       "25%          1.000000  \n",
       "50%          1.000000  \n",
       "75%          1.000000  \n",
       "max          1.000000  "
      ]
     },
     "execution_count": 388,
     "metadata": {},
     "output_type": "execute_result"
    }
   ],
   "source": [
    "train.describe()"
   ]
  },
  {
   "cell_type": "markdown",
   "id": "782fab86",
   "metadata": {},
   "source": [
    "\n",
    "## To balance the train data and test data taking dependent variable in separate variable and dropping the dependent variable from train data set "
   ]
  },
  {
   "cell_type": "code",
   "execution_count": 389,
   "id": "1e020286",
   "metadata": {},
   "outputs": [],
   "source": [
    "y=train.Loan_Status"
   ]
  },
  {
   "cell_type": "code",
   "execution_count": 390,
   "id": "3700123e",
   "metadata": {},
   "outputs": [],
   "source": [
    "train=train.drop(['Loan_Status'],axis=1)"
   ]
  },
  {
   "cell_type": "code",
   "execution_count": 391,
   "id": "c49023da",
   "metadata": {},
   "outputs": [
    {
     "name": "stdout",
     "output_type": "stream",
     "text": [
      "(614, 12)\n",
      "(367, 12)\n"
     ]
    }
   ],
   "source": [
    "print(train.shape)\n",
    "print(test.shape)"
   ]
  },
  {
   "cell_type": "markdown",
   "id": "5f17c640",
   "metadata": {},
   "source": [
    "## Data Preprocessing"
   ]
  },
  {
   "cell_type": "markdown",
   "id": "34cef839",
   "metadata": {},
   "source": [
    "* Finding the missing values in train data"
   ]
  },
  {
   "cell_type": "markdown",
   "id": "83d79ca9",
   "metadata": {},
   "source": [
    "* The following list shows the total amount of missing or corrupt data in our data. To fix this, we replace missing \n",
    "* categorical variables with it's mode and missing numerical variables with it's mean or median"
   ]
  },
  {
   "cell_type": "code",
   "execution_count": 392,
   "id": "3f0970bb",
   "metadata": {},
   "outputs": [
    {
     "data": {
      "text/plain": [
       "Credit_History       50\n",
       "Self_Employed        32\n",
       "LoanAmount           22\n",
       "Dependents           15\n",
       "Loan_Amount_Term     14\n",
       "Gender               13\n",
       "Married               3\n",
       "Loan_ID               0\n",
       "Education             0\n",
       "ApplicantIncome       0\n",
       "CoapplicantIncome     0\n",
       "Property_Area         0\n",
       "dtype: int64"
      ]
     },
     "execution_count": 392,
     "metadata": {},
     "output_type": "execute_result"
    }
   ],
   "source": [
    "train.isnull().sum().sort_values(ascending=False)"
   ]
  },
  {
   "cell_type": "code",
   "execution_count": 393,
   "id": "2db8ab2b",
   "metadata": {},
   "outputs": [],
   "source": [
    "train.Credit_History=train.Credit_History.fillna(train.Credit_History).median()"
   ]
  },
  {
   "cell_type": "code",
   "execution_count": 394,
   "id": "d0d29989",
   "metadata": {},
   "outputs": [],
   "source": [
    "train.Self_Employed=train.Self_Employed.fillna(\"missing\")"
   ]
  },
  {
   "cell_type": "code",
   "execution_count": 395,
   "id": "e35e3e8c",
   "metadata": {},
   "outputs": [],
   "source": [
    "train.LoanAmount=train.LoanAmount.fillna(train.LoanAmount).median()"
   ]
  },
  {
   "cell_type": "code",
   "execution_count": 396,
   "id": "e452ae41",
   "metadata": {},
   "outputs": [],
   "source": [
    "train.Dependents=train.Dependents.fillna(\"missing\")"
   ]
  },
  {
   "cell_type": "code",
   "execution_count": 397,
   "id": "767b575e",
   "metadata": {},
   "outputs": [],
   "source": [
    "train.Loan_Amount_Term=train.Loan_Amount_Term.fillna(train.Loan_Amount_Term).median()"
   ]
  },
  {
   "cell_type": "code",
   "execution_count": 398,
   "id": "f588c2f8",
   "metadata": {},
   "outputs": [],
   "source": [
    "train.Gender=train.Gender.fillna(train.Gender.value_counts().idxmax())"
   ]
  },
  {
   "cell_type": "code",
   "execution_count": 399,
   "id": "ae24eca4",
   "metadata": {},
   "outputs": [],
   "source": [
    "train.Married=train.Married.fillna(train.Married.value_counts().idxmax())"
   ]
  },
  {
   "cell_type": "code",
   "execution_count": 400,
   "id": "eaf9986b",
   "metadata": {},
   "outputs": [
    {
     "data": {
      "text/plain": [
       "Loan_ID              0\n",
       "Gender               0\n",
       "Married              0\n",
       "Dependents           0\n",
       "Education            0\n",
       "Self_Employed        0\n",
       "ApplicantIncome      0\n",
       "CoapplicantIncome    0\n",
       "LoanAmount           0\n",
       "Loan_Amount_Term     0\n",
       "Credit_History       0\n",
       "Property_Area        0\n",
       "dtype: int64"
      ]
     },
     "execution_count": 400,
     "metadata": {},
     "output_type": "execute_result"
    }
   ],
   "source": [
    "train.isnull().sum().sort_values(ascending=False)"
   ]
  },
  {
   "cell_type": "markdown",
   "id": "0e6ba858",
   "metadata": {},
   "source": [
    "### Combining the Train and Test data sets"
   ]
  },
  {
   "cell_type": "code",
   "execution_count": 401,
   "id": "94145a77",
   "metadata": {},
   "outputs": [],
   "source": [
    "comdf=pd.concat([train,test],axis=0)"
   ]
  },
  {
   "cell_type": "code",
   "execution_count": 402,
   "id": "d6fcb3e2",
   "metadata": {},
   "outputs": [],
   "source": [
    "comdf=comdf.drop(['Loan_ID'],axis=1)"
   ]
  },
  {
   "cell_type": "code",
   "execution_count": 403,
   "id": "42261b4f",
   "metadata": {},
   "outputs": [
    {
     "data": {
      "text/html": [
       "<div>\n",
       "<style scoped>\n",
       "    .dataframe tbody tr th:only-of-type {\n",
       "        vertical-align: middle;\n",
       "    }\n",
       "\n",
       "    .dataframe tbody tr th {\n",
       "        vertical-align: top;\n",
       "    }\n",
       "\n",
       "    .dataframe thead th {\n",
       "        text-align: right;\n",
       "    }\n",
       "</style>\n",
       "<table border=\"1\" class=\"dataframe\">\n",
       "  <thead>\n",
       "    <tr style=\"text-align: right;\">\n",
       "      <th></th>\n",
       "      <th>Gender</th>\n",
       "      <th>Married</th>\n",
       "      <th>Dependents</th>\n",
       "      <th>Education</th>\n",
       "      <th>Self_Employed</th>\n",
       "      <th>ApplicantIncome</th>\n",
       "      <th>CoapplicantIncome</th>\n",
       "      <th>LoanAmount</th>\n",
       "      <th>Loan_Amount_Term</th>\n",
       "      <th>Credit_History</th>\n",
       "      <th>Property_Area</th>\n",
       "    </tr>\n",
       "  </thead>\n",
       "  <tbody>\n",
       "    <tr>\n",
       "      <th>0</th>\n",
       "      <td>Male</td>\n",
       "      <td>No</td>\n",
       "      <td>0</td>\n",
       "      <td>Graduate</td>\n",
       "      <td>No</td>\n",
       "      <td>5849</td>\n",
       "      <td>0.0</td>\n",
       "      <td>128.0</td>\n",
       "      <td>360.0</td>\n",
       "      <td>1.0</td>\n",
       "      <td>Urban</td>\n",
       "    </tr>\n",
       "    <tr>\n",
       "      <th>1</th>\n",
       "      <td>Male</td>\n",
       "      <td>Yes</td>\n",
       "      <td>1</td>\n",
       "      <td>Graduate</td>\n",
       "      <td>No</td>\n",
       "      <td>4583</td>\n",
       "      <td>1508.0</td>\n",
       "      <td>128.0</td>\n",
       "      <td>360.0</td>\n",
       "      <td>1.0</td>\n",
       "      <td>Rural</td>\n",
       "    </tr>\n",
       "    <tr>\n",
       "      <th>2</th>\n",
       "      <td>Male</td>\n",
       "      <td>Yes</td>\n",
       "      <td>0</td>\n",
       "      <td>Graduate</td>\n",
       "      <td>Yes</td>\n",
       "      <td>3000</td>\n",
       "      <td>0.0</td>\n",
       "      <td>128.0</td>\n",
       "      <td>360.0</td>\n",
       "      <td>1.0</td>\n",
       "      <td>Urban</td>\n",
       "    </tr>\n",
       "    <tr>\n",
       "      <th>3</th>\n",
       "      <td>Male</td>\n",
       "      <td>Yes</td>\n",
       "      <td>0</td>\n",
       "      <td>Not Graduate</td>\n",
       "      <td>No</td>\n",
       "      <td>2583</td>\n",
       "      <td>2358.0</td>\n",
       "      <td>128.0</td>\n",
       "      <td>360.0</td>\n",
       "      <td>1.0</td>\n",
       "      <td>Urban</td>\n",
       "    </tr>\n",
       "    <tr>\n",
       "      <th>4</th>\n",
       "      <td>Male</td>\n",
       "      <td>No</td>\n",
       "      <td>0</td>\n",
       "      <td>Graduate</td>\n",
       "      <td>No</td>\n",
       "      <td>6000</td>\n",
       "      <td>0.0</td>\n",
       "      <td>128.0</td>\n",
       "      <td>360.0</td>\n",
       "      <td>1.0</td>\n",
       "      <td>Urban</td>\n",
       "    </tr>\n",
       "    <tr>\n",
       "      <th>...</th>\n",
       "      <td>...</td>\n",
       "      <td>...</td>\n",
       "      <td>...</td>\n",
       "      <td>...</td>\n",
       "      <td>...</td>\n",
       "      <td>...</td>\n",
       "      <td>...</td>\n",
       "      <td>...</td>\n",
       "      <td>...</td>\n",
       "      <td>...</td>\n",
       "      <td>...</td>\n",
       "    </tr>\n",
       "    <tr>\n",
       "      <th>362</th>\n",
       "      <td>Male</td>\n",
       "      <td>Yes</td>\n",
       "      <td>3+</td>\n",
       "      <td>Not Graduate</td>\n",
       "      <td>Yes</td>\n",
       "      <td>4009</td>\n",
       "      <td>1777.0</td>\n",
       "      <td>113.0</td>\n",
       "      <td>360.0</td>\n",
       "      <td>1.0</td>\n",
       "      <td>Urban</td>\n",
       "    </tr>\n",
       "    <tr>\n",
       "      <th>363</th>\n",
       "      <td>Male</td>\n",
       "      <td>Yes</td>\n",
       "      <td>0</td>\n",
       "      <td>Graduate</td>\n",
       "      <td>No</td>\n",
       "      <td>4158</td>\n",
       "      <td>709.0</td>\n",
       "      <td>115.0</td>\n",
       "      <td>360.0</td>\n",
       "      <td>1.0</td>\n",
       "      <td>Urban</td>\n",
       "    </tr>\n",
       "    <tr>\n",
       "      <th>364</th>\n",
       "      <td>Male</td>\n",
       "      <td>No</td>\n",
       "      <td>0</td>\n",
       "      <td>Graduate</td>\n",
       "      <td>No</td>\n",
       "      <td>3250</td>\n",
       "      <td>1993.0</td>\n",
       "      <td>126.0</td>\n",
       "      <td>360.0</td>\n",
       "      <td>NaN</td>\n",
       "      <td>Semiurban</td>\n",
       "    </tr>\n",
       "    <tr>\n",
       "      <th>365</th>\n",
       "      <td>Male</td>\n",
       "      <td>Yes</td>\n",
       "      <td>0</td>\n",
       "      <td>Graduate</td>\n",
       "      <td>No</td>\n",
       "      <td>5000</td>\n",
       "      <td>2393.0</td>\n",
       "      <td>158.0</td>\n",
       "      <td>360.0</td>\n",
       "      <td>1.0</td>\n",
       "      <td>Rural</td>\n",
       "    </tr>\n",
       "    <tr>\n",
       "      <th>366</th>\n",
       "      <td>Male</td>\n",
       "      <td>No</td>\n",
       "      <td>0</td>\n",
       "      <td>Graduate</td>\n",
       "      <td>Yes</td>\n",
       "      <td>9200</td>\n",
       "      <td>0.0</td>\n",
       "      <td>98.0</td>\n",
       "      <td>180.0</td>\n",
       "      <td>1.0</td>\n",
       "      <td>Rural</td>\n",
       "    </tr>\n",
       "  </tbody>\n",
       "</table>\n",
       "<p>981 rows × 11 columns</p>\n",
       "</div>"
      ],
      "text/plain": [
       "    Gender Married Dependents     Education Self_Employed  ApplicantIncome  \\\n",
       "0     Male      No          0      Graduate            No             5849   \n",
       "1     Male     Yes          1      Graduate            No             4583   \n",
       "2     Male     Yes          0      Graduate           Yes             3000   \n",
       "3     Male     Yes          0  Not Graduate            No             2583   \n",
       "4     Male      No          0      Graduate            No             6000   \n",
       "..     ...     ...        ...           ...           ...              ...   \n",
       "362   Male     Yes         3+  Not Graduate           Yes             4009   \n",
       "363   Male     Yes          0      Graduate            No             4158   \n",
       "364   Male      No          0      Graduate            No             3250   \n",
       "365   Male     Yes          0      Graduate            No             5000   \n",
       "366   Male      No          0      Graduate           Yes             9200   \n",
       "\n",
       "     CoapplicantIncome  LoanAmount  Loan_Amount_Term  Credit_History  \\\n",
       "0                  0.0       128.0             360.0             1.0   \n",
       "1               1508.0       128.0             360.0             1.0   \n",
       "2                  0.0       128.0             360.0             1.0   \n",
       "3               2358.0       128.0             360.0             1.0   \n",
       "4                  0.0       128.0             360.0             1.0   \n",
       "..                 ...         ...               ...             ...   \n",
       "362             1777.0       113.0             360.0             1.0   \n",
       "363              709.0       115.0             360.0             1.0   \n",
       "364             1993.0       126.0             360.0             NaN   \n",
       "365             2393.0       158.0             360.0             1.0   \n",
       "366                0.0        98.0             180.0             1.0   \n",
       "\n",
       "    Property_Area  \n",
       "0           Urban  \n",
       "1           Rural  \n",
       "2           Urban  \n",
       "3           Urban  \n",
       "4           Urban  \n",
       "..            ...  \n",
       "362         Urban  \n",
       "363         Urban  \n",
       "364     Semiurban  \n",
       "365         Rural  \n",
       "366         Rural  \n",
       "\n",
       "[981 rows x 11 columns]"
      ]
     },
     "execution_count": 403,
     "metadata": {},
     "output_type": "execute_result"
    }
   ],
   "source": [
    "comdf"
   ]
  },
  {
   "cell_type": "code",
   "execution_count": 404,
   "id": "091e96f2",
   "metadata": {},
   "outputs": [
    {
     "data": {
      "text/plain": [
       "Gender                object\n",
       "Married               object\n",
       "Dependents            object\n",
       "Education             object\n",
       "Self_Employed         object\n",
       "ApplicantIncome        int64\n",
       "CoapplicantIncome    float64\n",
       "LoanAmount           float64\n",
       "Loan_Amount_Term     float64\n",
       "Credit_History       float64\n",
       "Property_Area         object\n",
       "dtype: object"
      ]
     },
     "execution_count": 404,
     "metadata": {},
     "output_type": "execute_result"
    }
   ],
   "source": [
    "comdf.dtypes"
   ]
  },
  {
   "cell_type": "code",
   "execution_count": 405,
   "id": "c643e711",
   "metadata": {},
   "outputs": [
    {
     "data": {
      "text/plain": [
       "Credit_History       29\n",
       "Self_Employed        23\n",
       "Gender               11\n",
       "Dependents           10\n",
       "Loan_Amount_Term      6\n",
       "LoanAmount            5\n",
       "Married               0\n",
       "Education             0\n",
       "ApplicantIncome       0\n",
       "CoapplicantIncome     0\n",
       "Property_Area         0\n",
       "dtype: int64"
      ]
     },
     "execution_count": 405,
     "metadata": {},
     "output_type": "execute_result"
    }
   ],
   "source": [
    "comdf.isnull().sum().sort_values(ascending=False)"
   ]
  },
  {
   "cell_type": "code",
   "execution_count": 406,
   "id": "ca2eec57",
   "metadata": {},
   "outputs": [
    {
     "data": {
      "text/plain": [
       "Male      788\n",
       "Female    182\n",
       "NaN        11\n",
       "Name: Gender, dtype: int64"
      ]
     },
     "execution_count": 406,
     "metadata": {},
     "output_type": "execute_result"
    }
   ],
   "source": [
    "comdf.Gender.value_counts(dropna=False)"
   ]
  },
  {
   "cell_type": "code",
   "execution_count": 407,
   "id": "86122c55",
   "metadata": {},
   "outputs": [],
   "source": [
    "comdf.Gender=comdf.Gender.fillna(comdf.Gender.value_counts().idxmax())"
   ]
  },
  {
   "cell_type": "code",
   "execution_count": 408,
   "id": "0bdc0437",
   "metadata": {},
   "outputs": [],
   "source": [
    "comdf.Gender=comdf.Gender.replace(['missing'],['Male'])"
   ]
  },
  {
   "cell_type": "code",
   "execution_count": 409,
   "id": "2eac1021",
   "metadata": {},
   "outputs": [
    {
     "data": {
      "text/plain": [
       "Yes    634\n",
       "No     347\n",
       "Name: Married, dtype: int64"
      ]
     },
     "execution_count": 409,
     "metadata": {},
     "output_type": "execute_result"
    }
   ],
   "source": [
    "comdf.Married.value_counts(dropna=False)"
   ]
  },
  {
   "cell_type": "code",
   "execution_count": 410,
   "id": "d988cec3",
   "metadata": {},
   "outputs": [
    {
     "data": {
      "text/plain": [
       "0          545\n",
       "1          160\n",
       "2          160\n",
       "3+          91\n",
       "missing     15\n",
       "NaN         10\n",
       "Name: Dependents, dtype: int64"
      ]
     },
     "execution_count": 410,
     "metadata": {},
     "output_type": "execute_result"
    }
   ],
   "source": [
    "comdf.Dependents.value_counts(dropna=False)"
   ]
  },
  {
   "cell_type": "code",
   "execution_count": 411,
   "id": "58462671",
   "metadata": {},
   "outputs": [],
   "source": [
    "comdf.Dependents=comdf.Dependents.fillna(comdf.Dependents.value_counts().idxmax())"
   ]
  },
  {
   "cell_type": "code",
   "execution_count": 412,
   "id": "7253b43f",
   "metadata": {},
   "outputs": [
    {
     "data": {
      "text/plain": [
       "Graduate        763\n",
       "Not Graduate    218\n",
       "Name: Education, dtype: int64"
      ]
     },
     "execution_count": 412,
     "metadata": {},
     "output_type": "execute_result"
    }
   ],
   "source": [
    "comdf.Education.value_counts(dropna=False)"
   ]
  },
  {
   "cell_type": "code",
   "execution_count": 413,
   "id": "c2570363",
   "metadata": {},
   "outputs": [
    {
     "data": {
      "text/plain": [
       "No         807\n",
       "Yes        119\n",
       "missing     32\n",
       "NaN         23\n",
       "Name: Self_Employed, dtype: int64"
      ]
     },
     "execution_count": 413,
     "metadata": {},
     "output_type": "execute_result"
    }
   ],
   "source": [
    "comdf.Self_Employed.value_counts(dropna=False)"
   ]
  },
  {
   "cell_type": "code",
   "execution_count": 414,
   "id": "a172572f",
   "metadata": {},
   "outputs": [],
   "source": [
    "comdf.Self_Employed=comdf.Self_Employed.fillna(comdf.Self_Employed.value_counts().idxmax())"
   ]
  },
  {
   "cell_type": "code",
   "execution_count": 415,
   "id": "a0203d15",
   "metadata": {},
   "outputs": [
    {
     "data": {
      "text/plain": [
       "2500    13\n",
       "5000    11\n",
       "3333    10\n",
       "3500     9\n",
       "2600     8\n",
       "        ..\n",
       "4554     1\n",
       "2499     1\n",
       "3523     1\n",
       "6333     1\n",
       "9200     1\n",
       "Name: ApplicantIncome, Length: 752, dtype: int64"
      ]
     },
     "execution_count": 415,
     "metadata": {},
     "output_type": "execute_result"
    }
   ],
   "source": [
    "comdf.ApplicantIncome.value_counts(dropna=False)"
   ]
  },
  {
   "cell_type": "code",
   "execution_count": 416,
   "id": "43359842",
   "metadata": {},
   "outputs": [
    {
     "data": {
      "text/plain": [
       "0.0       429\n",
       "2500.0      6\n",
       "2083.0      5\n",
       "2000.0      5\n",
       "2333.0      5\n",
       "         ... \n",
       "1229.0      1\n",
       "1587.0      1\n",
       "4600.0      1\n",
       "688.0       1\n",
       "2393.0      1\n",
       "Name: CoapplicantIncome, Length: 437, dtype: int64"
      ]
     },
     "execution_count": 416,
     "metadata": {},
     "output_type": "execute_result"
    }
   ],
   "source": [
    "comdf.CoapplicantIncome.value_counts(dropna=False)"
   ]
  },
  {
   "cell_type": "code",
   "execution_count": 417,
   "id": "f81aac96",
   "metadata": {},
   "outputs": [
    {
     "data": {
      "text/plain": [
       "128.0    617\n",
       "150.0     12\n",
       "125.0     11\n",
       "110.0     10\n",
       "90.0       9\n",
       "        ... \n",
       "59.0       1\n",
       "103.0      1\n",
       "48.0       1\n",
       "57.0       1\n",
       "98.0       1\n",
       "Name: LoanAmount, Length: 145, dtype: int64"
      ]
     },
     "execution_count": 417,
     "metadata": {},
     "output_type": "execute_result"
    }
   ],
   "source": [
    "comdf.LoanAmount.value_counts(dropna=False)"
   ]
  },
  {
   "cell_type": "code",
   "execution_count": 418,
   "id": "f998a74f",
   "metadata": {},
   "outputs": [],
   "source": [
    "comdf.LoanAmount=comdf.LoanAmount.fillna(comdf.LoanAmount).median()"
   ]
  },
  {
   "cell_type": "code",
   "execution_count": 419,
   "id": "023a315b",
   "metadata": {},
   "outputs": [
    {
     "data": {
      "text/plain": [
       "360.0    925\n",
       "180.0     22\n",
       "480.0      8\n",
       "300.0      7\n",
       "NaN        6\n",
       "240.0      4\n",
       "84.0       3\n",
       "60.0       1\n",
       "12.0       1\n",
       "350.0      1\n",
       "36.0       1\n",
       "120.0      1\n",
       "6.0        1\n",
       "Name: Loan_Amount_Term, dtype: int64"
      ]
     },
     "execution_count": 419,
     "metadata": {},
     "output_type": "execute_result"
    }
   ],
   "source": [
    "comdf.Loan_Amount_Term.value_counts(dropna=False)"
   ]
  },
  {
   "cell_type": "code",
   "execution_count": 420,
   "id": "4e2ce95d",
   "metadata": {},
   "outputs": [],
   "source": [
    "comdf.Loan_Amount_Term=comdf.Loan_Amount_Term.fillna(comdf.Loan_Amount_Term).median()"
   ]
  },
  {
   "cell_type": "code",
   "execution_count": 421,
   "id": "b7ddfd7b",
   "metadata": {},
   "outputs": [
    {
     "data": {
      "text/plain": [
       "1.0    893\n",
       "0.0     59\n",
       "NaN     29\n",
       "Name: Credit_History, dtype: int64"
      ]
     },
     "execution_count": 421,
     "metadata": {},
     "output_type": "execute_result"
    }
   ],
   "source": [
    "comdf.Credit_History.value_counts(dropna=False)"
   ]
  },
  {
   "cell_type": "code",
   "execution_count": 422,
   "id": "05ead9b7",
   "metadata": {},
   "outputs": [],
   "source": [
    "comdf.Credit_History=comdf.Credit_History.fillna(comdf.Credit_History).median()"
   ]
  },
  {
   "cell_type": "code",
   "execution_count": 423,
   "id": "7fb54e10",
   "metadata": {},
   "outputs": [
    {
     "data": {
      "text/plain": [
       "Semiurban    349\n",
       "Urban        342\n",
       "Rural        290\n",
       "Name: Property_Area, dtype: int64"
      ]
     },
     "execution_count": 423,
     "metadata": {},
     "output_type": "execute_result"
    }
   ],
   "source": [
    "comdf.Property_Area.value_counts(dropna=False)"
   ]
  },
  {
   "cell_type": "code",
   "execution_count": 424,
   "id": "a31ce648",
   "metadata": {},
   "outputs": [
    {
     "data": {
      "text/plain": [
       "Gender               0\n",
       "Married              0\n",
       "Dependents           0\n",
       "Education            0\n",
       "Self_Employed        0\n",
       "ApplicantIncome      0\n",
       "CoapplicantIncome    0\n",
       "LoanAmount           0\n",
       "Loan_Amount_Term     0\n",
       "Credit_History       0\n",
       "Property_Area        0\n",
       "dtype: int64"
      ]
     },
     "execution_count": 424,
     "metadata": {},
     "output_type": "execute_result"
    }
   ],
   "source": [
    "comdf.isnull().sum().sort_values(ascending=False)"
   ]
  },
  {
   "cell_type": "markdown",
   "id": "1e71d908",
   "metadata": {},
   "source": [
    "## Data Visualization"
   ]
  },
  {
   "cell_type": "code",
   "execution_count": 425,
   "id": "b5d435e5",
   "metadata": {},
   "outputs": [
    {
     "data": {
      "text/plain": [
       "<AxesSubplot:ylabel='Frequency'>"
      ]
     },
     "execution_count": 425,
     "metadata": {},
     "output_type": "execute_result"
    },
    {
     "data": {
      "image/png": "[encoded data removed]",
      "text/plain": [
       "<Figure size 432x288 with 1 Axes>"
      ]
     },
     "metadata": {
      "needs_background": "light"
     },
     "output_type": "display_data"
    }
   ],
   "source": [
    "train.CoapplicantIncome.plot(kind='hist')   # Coapplicantincome has 0's so we can't apply log function"
   ]
  },
  {
   "cell_type": "code",
   "execution_count": 426,
   "id": "4850ec45",
   "metadata": {},
   "outputs": [
    {
     "data": {
      "text/plain": [
       "<AxesSubplot:ylabel='Frequency'>"
      ]
     },
     "execution_count": 426,
     "metadata": {},
     "output_type": "execute_result"
    },
    {
     "data": {
      "image/png": "[encoded data removed]",
      "text/plain": [
       "<Figure size 432x288 with 1 Axes>"
      ]
     },
     "metadata": {
      "needs_background": "light"
     },
     "output_type": "display_data"
    }
   ],
   "source": [
    "train.ApplicantIncome.plot(kind='hist')"
   ]
  },
  {
   "cell_type": "code",
   "execution_count": 427,
   "id": "fa36d659",
   "metadata": {},
   "outputs": [
    {
     "data": {
      "text/plain": [
       "Index(['Loan_ID', 'Gender', 'Married', 'Dependents', 'Education',\n",
       "       'Self_Employed', 'ApplicantIncome', 'CoapplicantIncome', 'LoanAmount',\n",
       "       'Loan_Amount_Term', 'Credit_History', 'Property_Area'],\n",
       "      dtype='object')"
      ]
     },
     "execution_count": 427,
     "metadata": {},
     "output_type": "execute_result"
    }
   ],
   "source": [
    "train.columns"
   ]
  },
  {
   "cell_type": "code",
   "execution_count": 428,
   "id": "9d7e71ef",
   "metadata": {},
   "outputs": [
    {
     "data": {
      "text/plain": [
       "<AxesSubplot:ylabel='Frequency'>"
      ]
     },
     "execution_count": 428,
     "metadata": {},
     "output_type": "execute_result"
    },
    {
     "data": {
      "image/png": "[encoded data removed]",
      "text/plain": [
       "<Figure size 432x288 with 1 Axes>"
      ]
     },
     "metadata": {
      "needs_background": "light"
     },
     "output_type": "display_data"
    }
   ],
   "source": [
    "np.log(train.ApplicantIncome).plot(kind='hist')"
   ]
  },
  {
   "cell_type": "code",
   "execution_count": 429,
   "id": "bd658510",
   "metadata": {},
   "outputs": [
    {
     "data": {
      "text/plain": [
       "<AxesSubplot:>"
      ]
     },
     "execution_count": 429,
     "metadata": {},
     "output_type": "execute_result"
    },
    {
     "data": {
      "image/png": "[encoded data removed]",
      "text/plain": [
       "<Figure size 432x288 with 1 Axes>"
      ]
     },
     "metadata": {
      "needs_background": "light"
     },
     "output_type": "display_data"
    }
   ],
   "source": [
    "train.ApplicantIncome.plot(kind='box',vert=False)"
   ]
  },
  {
   "cell_type": "code",
   "execution_count": 430,
   "id": "25037652",
   "metadata": {},
   "outputs": [
    {
     "data": {
      "text/plain": [
       "<AxesSubplot:>"
      ]
     },
     "execution_count": 430,
     "metadata": {},
     "output_type": "execute_result"
    },
    {
     "data": {
      "image/png": "[encoded data removed]",
      "text/plain": [
       "<Figure size 432x288 with 1 Axes>"
      ]
     },
     "metadata": {
      "needs_background": "light"
     },
     "output_type": "display_data"
    }
   ],
   "source": [
    "np.log(train.ApplicantIncome).plot(kind='box',vert=False)"
   ]
  },
  {
   "cell_type": "code",
   "execution_count": 431,
   "id": "ed86b356",
   "metadata": {},
   "outputs": [
    {
     "data": {
      "text/plain": [
       "<AxesSubplot:>"
      ]
     },
     "execution_count": 431,
     "metadata": {},
     "output_type": "execute_result"
    },
    {
     "data": {
      "image/png": "[encoded data removed]",
      "text/plain": [
       "<Figure size 432x288 with 1 Axes>"
      ]
     },
     "metadata": {
      "needs_background": "light"
     },
     "output_type": "display_data"
    }
   ],
   "source": [
    "train.CoapplicantIncome.plot(kind='box',vert=False)"
   ]
  },
  {
   "cell_type": "code",
   "execution_count": 432,
   "id": "844a1962",
   "metadata": {},
   "outputs": [
    {
     "data": {
      "text/plain": [
       "<AxesSubplot:ylabel='Density'>"
      ]
     },
     "execution_count": 432,
     "metadata": {},
     "output_type": "execute_result"
    },
    {
     "data": {
      "image/png": "[encoded data removed]",
      "text/plain": [
       "<Figure size 432x288 with 1 Axes>"
      ]
     },
     "metadata": {
      "needs_background": "light"
     },
     "output_type": "display_data"
    }
   ],
   "source": [
    "train.CoapplicantIncome.plot(kind='density')"
   ]
  },
  {
   "cell_type": "code",
   "execution_count": 433,
   "id": "07ac6589",
   "metadata": {},
   "outputs": [
    {
     "data": {
      "text/plain": [
       "<AxesSubplot:ylabel='Density'>"
      ]
     },
     "execution_count": 433,
     "metadata": {},
     "output_type": "execute_result"
    },
    {
     "data": {
      "image/png": "[encoded data removed]",
      "text/plain": [
       "<Figure size 432x288 with 1 Axes>"
      ]
     },
     "metadata": {
      "needs_background": "light"
     },
     "output_type": "display_data"
    }
   ],
   "source": [
    "train.ApplicantIncome.plot(kind='density')"
   ]
  },
  {
   "cell_type": "markdown",
   "id": "35328896",
   "metadata": {},
   "source": [
    "# Exploratory Data Analysis"
   ]
  },
  {
   "cell_type": "markdown",
   "id": "665370f0",
   "metadata": {},
   "source": [
    "## Data Aggregation"
   ]
  },
  {
   "cell_type": "code",
   "execution_count": 434,
   "id": "0e922dca",
   "metadata": {},
   "outputs": [
    {
     "data": {
      "text/plain": [
       "Gender\n",
       "Female    1108.008929\n",
       "Male      1735.752829\n",
       "Name: CoapplicantIncome, dtype: float64"
      ]
     },
     "execution_count": 434,
     "metadata": {},
     "output_type": "execute_result"
    }
   ],
   "source": [
    "train.CoapplicantIncome.groupby(train.Gender).mean() "
   ]
  },
  {
   "cell_type": "code",
   "execution_count": 435,
   "id": "25e58b20",
   "metadata": {},
   "outputs": [
    {
     "data": {
      "text/plain": [
       "Gender\n",
       "Female    128.0\n",
       "Male      128.0\n",
       "Name: LoanAmount, dtype: float64"
      ]
     },
     "execution_count": 435,
     "metadata": {},
     "output_type": "execute_result"
    }
   ],
   "source": [
    "train.LoanAmount.groupby(train.Gender).mean()"
   ]
  },
  {
   "cell_type": "code",
   "execution_count": 436,
   "id": "79edc699",
   "metadata": {},
   "outputs": [
    {
     "data": {
      "text/plain": [
       "Dependents\n",
       "0          3598.0\n",
       "1          4051.5\n",
       "2          4006.0\n",
       "3+         4691.0\n",
       "missing    4735.0\n",
       "Name: ApplicantIncome, dtype: float64"
      ]
     },
     "execution_count": 436,
     "metadata": {},
     "output_type": "execute_result"
    }
   ],
   "source": [
    "train.ApplicantIncome.groupby(train.Dependents).median()"
   ]
  },
  {
   "cell_type": "code",
   "execution_count": 437,
   "id": "0da9bbcf",
   "metadata": {},
   "outputs": [],
   "source": [
    "import seaborn as sns"
   ]
  },
  {
   "cell_type": "markdown",
   "id": "5fe4dbf7",
   "metadata": {},
   "source": [
    "## Hypothesis Testing"
   ]
  },
  {
   "cell_type": "code",
   "execution_count": 439,
   "id": "1d399230",
   "metadata": {},
   "outputs": [
    {
     "data": {
      "text/plain": [
       "Gender\n",
       "Female    4643.473214\n",
       "Male      5573.017928\n",
       "Name: ApplicantIncome, dtype: float64"
      ]
     },
     "execution_count": 439,
     "metadata": {},
     "output_type": "execute_result"
    }
   ],
   "source": [
    "train.ApplicantIncome.groupby(train.Gender).mean()"
   ]
  },
  {
   "cell_type": "code",
   "execution_count": 440,
   "id": "0a1f0116",
   "metadata": {},
   "outputs": [
    {
     "data": {
      "text/plain": [
       "Gender\n",
       "Female    1.285496e+07\n",
       "Male      4.265744e+07\n",
       "Name: ApplicantIncome, dtype: float64"
      ]
     },
     "execution_count": 440,
     "metadata": {},
     "output_type": "execute_result"
    }
   ],
   "source": [
    "train.ApplicantIncome.groupby(train.Gender).var()"
   ]
  },
  {
   "cell_type": "code",
   "execution_count": 441,
   "id": "e2efdba2",
   "metadata": {},
   "outputs": [],
   "source": [
    "s=train[train.Gender=='Female']\n",
    "d=train[train.Gender=='Male']"
   ]
  },
  {
   "cell_type": "code",
   "execution_count": 442,
   "id": "5399a904",
   "metadata": {},
   "outputs": [],
   "source": [
    "from scipy.stats import ttest_ind"
   ]
  },
  {
   "cell_type": "code",
   "execution_count": 443,
   "id": "374e3fe1",
   "metadata": {},
   "outputs": [
    {
     "data": {
      "text/plain": [
       "Ttest_indResult(statistic=-2.0798181188614193, pvalue=0.03839165635056259)"
      ]
     },
     "execution_count": 443,
     "metadata": {},
     "output_type": "execute_result"
    }
   ],
   "source": [
    "ttest_ind(s.ApplicantIncome,d.ApplicantIncome,equal_var=False)"
   ]
  },
  {
   "cell_type": "code",
   "execution_count": 444,
   "id": "ba5725fc",
   "metadata": {},
   "outputs": [
    {
     "data": {
      "text/plain": [
       "Property_Area\n",
       "Rural        1645.536983\n",
       "Semiurban    1520.133047\n",
       "Urban        1716.350495\n",
       "Name: CoapplicantIncome, dtype: float64"
      ]
     },
     "execution_count": 444,
     "metadata": {},
     "output_type": "execute_result"
    }
   ],
   "source": [
    "train.CoapplicantIncome.groupby(train.Property_Area).mean()"
   ]
  },
  {
   "cell_type": "code",
   "execution_count": 445,
   "id": "3a676e36",
   "metadata": {},
   "outputs": [],
   "source": [
    "q=train[train.Property_Area=='Rural']\n",
    "w=train[train.Property_Area=='Semiurban']\n",
    "e=train[train.Property_Area=='Urban']"
   ]
  },
  {
   "cell_type": "code",
   "execution_count": 446,
   "id": "4353ddb9",
   "metadata": {},
   "outputs": [],
   "source": [
    "from scipy.stats import f_oneway  ## mean distortion"
   ]
  },
  {
   "cell_type": "code",
   "execution_count": 447,
   "id": "edf1c60c",
   "metadata": {},
   "outputs": [
    {
     "data": {
      "text/plain": [
       "F_onewayResult(statistic=0.25133306607668093, pvalue=0.7778436510798857)"
      ]
     },
     "execution_count": 447,
     "metadata": {},
     "output_type": "execute_result"
    }
   ],
   "source": [
    "f_oneway(q.CoapplicantIncome,w.CoapplicantIncome,e.CoapplicantIncome)"
   ]
  },
  {
   "cell_type": "code",
   "execution_count": 448,
   "id": "c669bfbd",
   "metadata": {},
   "outputs": [
    {
     "data": {
      "text/html": [
       "<div>\n",
       "<style scoped>\n",
       "    .dataframe tbody tr th:only-of-type {\n",
       "        vertical-align: middle;\n",
       "    }\n",
       "\n",
       "    .dataframe tbody tr th {\n",
       "        vertical-align: top;\n",
       "    }\n",
       "\n",
       "    .dataframe thead th {\n",
       "        text-align: right;\n",
       "    }\n",
       "</style>\n",
       "<table border=\"1\" class=\"dataframe\">\n",
       "  <thead>\n",
       "    <tr style=\"text-align: right;\">\n",
       "      <th>Self_Employed</th>\n",
       "      <th>No</th>\n",
       "      <th>Yes</th>\n",
       "      <th>missing</th>\n",
       "    </tr>\n",
       "    <tr>\n",
       "      <th>Education</th>\n",
       "      <th></th>\n",
       "      <th></th>\n",
       "      <th></th>\n",
       "    </tr>\n",
       "  </thead>\n",
       "  <tbody>\n",
       "    <tr>\n",
       "      <th>Graduate</th>\n",
       "      <td>389</td>\n",
       "      <td>65</td>\n",
       "      <td>26</td>\n",
       "    </tr>\n",
       "    <tr>\n",
       "      <th>Not Graduate</th>\n",
       "      <td>111</td>\n",
       "      <td>17</td>\n",
       "      <td>6</td>\n",
       "    </tr>\n",
       "  </tbody>\n",
       "</table>\n",
       "</div>"
      ],
      "text/plain": [
       "Self_Employed   No  Yes  missing\n",
       "Education                       \n",
       "Graduate       389   65       26\n",
       "Not Graduate   111   17        6"
      ]
     },
     "execution_count": 448,
     "metadata": {},
     "output_type": "execute_result"
    }
   ],
   "source": [
    "pd.crosstab(train.Education,train.Self_Employed) ## plays a frequency counts"
   ]
  },
  {
   "cell_type": "code",
   "execution_count": 449,
   "id": "dae6ddf1",
   "metadata": {},
   "outputs": [],
   "source": [
    "from scipy.stats import chi2_contingency"
   ]
  },
  {
   "cell_type": "code",
   "execution_count": 450,
   "id": "4a8144bf",
   "metadata": {},
   "outputs": [
    {
     "data": {
      "text/plain": [
       "(0.2760098941269262,\n",
       " 0.8710943823759469,\n",
       " 2,\n",
       " array([[390.87947883,  64.10423453,  25.01628664],\n",
       "        [109.12052117,  17.89576547,   6.98371336]]))"
      ]
     },
     "execution_count": 450,
     "metadata": {},
     "output_type": "execute_result"
    }
   ],
   "source": [
    "chi2_contingency(pd.crosstab(train.Education,train.Self_Employed))"
   ]
  },
  {
   "cell_type": "code",
   "execution_count": 451,
   "id": "fcb2d402",
   "metadata": {},
   "outputs": [],
   "source": [
    "objcols=comdf.select_dtypes(include='object')\n",
    "numcols=comdf.select_dtypes(include=np.number)"
   ]
  },
  {
   "cell_type": "code",
   "execution_count": 452,
   "id": "c4f225e9",
   "metadata": {},
   "outputs": [
    {
     "name": "stdout",
     "output_type": "stream",
     "text": [
      "(981, 6)\n",
      "(981, 5)\n"
     ]
    }
   ],
   "source": [
    "print(objcols.shape)\n",
    "print(numcols.shape)"
   ]
  },
  {
   "cell_type": "markdown",
   "id": "6002d953",
   "metadata": {},
   "source": [
    " ### The next step is LabelEncouder ---- to change non-numeric variables to numeric variables we use label encouder"
   ]
  },
  {
   "cell_type": "code",
   "execution_count": 453,
   "id": "6443b274",
   "metadata": {},
   "outputs": [],
   "source": [
    "from sklearn.preprocessing import LabelEncoder  "
   ]
  },
  {
   "cell_type": "code",
   "execution_count": 454,
   "id": "c6bc79a1",
   "metadata": {},
   "outputs": [],
   "source": [
    "le=LabelEncoder()"
   ]
  },
  {
   "cell_type": "code",
   "execution_count": 455,
   "id": "da8e4f96",
   "metadata": {},
   "outputs": [],
   "source": [
    "objdummy=objcols.apply(le.fit_transform)"
   ]
  },
  {
   "cell_type": "code",
   "execution_count": 456,
   "id": "145edefe",
   "metadata": {},
   "outputs": [],
   "source": [
    "cleandf=pd.concat([objdummy,numcols],axis=1) ## combining the objectdummy variables and numerics variables"
   ]
  },
  {
   "cell_type": "code",
   "execution_count": 457,
   "id": "145ddb63",
   "metadata": {},
   "outputs": [
    {
     "data": {
      "text/plain": [
       "(981, 11)"
      ]
     },
     "execution_count": 457,
     "metadata": {},
     "output_type": "execute_result"
    }
   ],
   "source": [
    "cleandf.shape"
   ]
  },
  {
   "cell_type": "code",
   "execution_count": 458,
   "id": "4f909fe2",
   "metadata": {},
   "outputs": [
    {
     "data": {
      "text/plain": [
       "(367, 12)"
      ]
     },
     "execution_count": 458,
     "metadata": {},
     "output_type": "execute_result"
    }
   ],
   "source": [
    "test.shape"
   ]
  },
  {
   "cell_type": "code",
   "execution_count": 459,
   "id": "3b5b5304",
   "metadata": {},
   "outputs": [
    {
     "data": {
      "text/plain": [
       "(614, 12)"
      ]
     },
     "execution_count": 459,
     "metadata": {},
     "output_type": "execute_result"
    }
   ],
   "source": [
    "train.shape"
   ]
  },
  {
   "cell_type": "code",
   "execution_count": 460,
   "id": "0e79423e",
   "metadata": {},
   "outputs": [],
   "source": [
    "traincl=cleandf[0:614]"
   ]
  },
  {
   "cell_type": "code",
   "execution_count": 461,
   "id": "1414f6c1",
   "metadata": {},
   "outputs": [],
   "source": [
    "testcl=cleandf[615:981]"
   ]
  },
  {
   "cell_type": "code",
   "execution_count": 462,
   "id": "b5f6a7c6",
   "metadata": {},
   "outputs": [],
   "source": [
    "x=traincl # (predicted value)"
   ]
  },
  {
   "cell_type": "code",
   "execution_count": 463,
   "id": "c1ef5584",
   "metadata": {},
   "outputs": [
    {
     "data": {
      "text/plain": [
       "0      Y\n",
       "1      N\n",
       "2      Y\n",
       "3      Y\n",
       "4      Y\n",
       "      ..\n",
       "609    Y\n",
       "610    Y\n",
       "611    Y\n",
       "612    Y\n",
       "613    N\n",
       "Name: Loan_Status, Length: 614, dtype: object"
      ]
     },
     "execution_count": 463,
     "metadata": {},
     "output_type": "execute_result"
    }
   ],
   "source": [
    "y  #(actual value)"
   ]
  },
  {
   "cell_type": "markdown",
   "id": "b5436e1d",
   "metadata": {},
   "source": [
    "## Logistic Regression"
   ]
  },
  {
   "cell_type": "markdown",
   "id": "41904652",
   "metadata": {},
   "source": [
    "### Logistic Regression is a Machine Learning algorithm which is used for the classification problems, it is a predictive analysis algorithm and based on the concept of probability."
   ]
  },
  {
   "cell_type": "code",
   "execution_count": 464,
   "id": "2d57aa31",
   "metadata": {},
   "outputs": [],
   "source": [
    "from sklearn.linear_model import LogisticRegression"
   ]
  },
  {
   "cell_type": "code",
   "execution_count": 465,
   "id": "12a87456",
   "metadata": {},
   "outputs": [],
   "source": [
    "lr=LogisticRegression(max_iter=500)"
   ]
  },
  {
   "cell_type": "code",
   "execution_count": 466,
   "id": "f99b1cf3",
   "metadata": {},
   "outputs": [],
   "source": [
    "lrmodel=lr.fit(x,y)"
   ]
  },
  {
   "cell_type": "code",
   "execution_count": 467,
   "id": "4e64e049",
   "metadata": {},
   "outputs": [
    {
     "data": {
      "text/plain": [
       "0.6889250814332247"
      ]
     },
     "execution_count": 467,
     "metadata": {},
     "output_type": "execute_result"
    }
   ],
   "source": [
    "lrmodel.score(x,y)"
   ]
  },
  {
   "cell_type": "code",
   "execution_count": 468,
   "id": "8017243d",
   "metadata": {},
   "outputs": [],
   "source": [
    "lrpredict=lrmodel.predict(x)"
   ]
  },
  {
   "cell_type": "code",
   "execution_count": 469,
   "id": "359efb5a",
   "metadata": {},
   "outputs": [],
   "source": [
    "from sklearn.model_selection import cross_val_score"
   ]
  },
  {
   "cell_type": "code",
   "execution_count": 470,
   "id": "5bf088a3",
   "metadata": {},
   "outputs": [
    {
     "data": {
      "text/plain": [
       "array([0.69105691, 0.69105691, 0.68292683, 0.68292683, 0.68852459])"
      ]
     },
     "execution_count": 470,
     "metadata": {},
     "output_type": "execute_result"
    }
   ],
   "source": [
    "cross_val_score(lrmodel,x,y)"
   ]
  },
  {
   "cell_type": "code",
   "execution_count": 471,
   "id": "413110cc",
   "metadata": {},
   "outputs": [
    {
     "data": {
      "text/plain": [
       "0.684046382"
      ]
     },
     "execution_count": 471,
     "metadata": {},
     "output_type": "execute_result"
    }
   ],
   "source": [
    "np.mean([0.69105691, 0.67479675, 0.68292683, 0.68292683, 0.68852459])"
   ]
  },
  {
   "cell_type": "code",
   "execution_count": 472,
   "id": "7cf8b2cc",
   "metadata": {},
   "outputs": [
    {
     "data": {
      "text/html": [
       "<div>\n",
       "<style scoped>\n",
       "    .dataframe tbody tr th:only-of-type {\n",
       "        vertical-align: middle;\n",
       "    }\n",
       "\n",
       "    .dataframe tbody tr th {\n",
       "        vertical-align: top;\n",
       "    }\n",
       "\n",
       "    .dataframe thead th {\n",
       "        text-align: right;\n",
       "    }\n",
       "</style>\n",
       "<table border=\"1\" class=\"dataframe\">\n",
       "  <thead>\n",
       "    <tr style=\"text-align: right;\">\n",
       "      <th>col_0</th>\n",
       "      <th>N</th>\n",
       "      <th>Y</th>\n",
       "    </tr>\n",
       "    <tr>\n",
       "      <th>Loan_Status</th>\n",
       "      <th></th>\n",
       "      <th></th>\n",
       "    </tr>\n",
       "  </thead>\n",
       "  <tbody>\n",
       "    <tr>\n",
       "      <th>N</th>\n",
       "      <td>2</td>\n",
       "      <td>190</td>\n",
       "    </tr>\n",
       "    <tr>\n",
       "      <th>Y</th>\n",
       "      <td>1</td>\n",
       "      <td>421</td>\n",
       "    </tr>\n",
       "  </tbody>\n",
       "</table>\n",
       "</div>"
      ],
      "text/plain": [
       "col_0        N    Y\n",
       "Loan_Status        \n",
       "N            2  190\n",
       "Y            1  421"
      ]
     },
     "execution_count": 472,
     "metadata": {},
     "output_type": "execute_result"
    }
   ],
   "source": [
    "pd.crosstab(y,lrpredict)"
   ]
  },
  {
   "cell_type": "code",
   "execution_count": 473,
   "id": "484d2088",
   "metadata": {},
   "outputs": [],
   "source": [
    "from sklearn.metrics import plot_roc_curve"
   ]
  },
  {
   "cell_type": "code",
   "execution_count": 474,
   "id": "07d3c036",
   "metadata": {},
   "outputs": [
    {
     "name": "stderr",
     "output_type": "stream",
     "text": [
      "C:\\Users\\HP\\anaconda3\\lib\\site-packages\\sklearn\\utils\\deprecation.py:87: FutureWarning: Function plot_roc_curve is deprecated; Function :func:`plot_roc_curve` is deprecated in 1.0 and will be removed in 1.2. Use one of the class methods: :meth:`sklearn.metric.RocCurveDisplay.from_predictions` or :meth:`sklearn.metric.RocCurveDisplay.from_estimator`.\n",
      "  warnings.warn(msg, category=FutureWarning)\n"
     ]
    },
    {
     "data": {
      "text/plain": [
       "<sklearn.metrics._plot.roc_curve.RocCurveDisplay at 0x21595d6b340>"
      ]
     },
     "execution_count": 474,
     "metadata": {},
     "output_type": "execute_result"
    },
    {
     "data": {
      "image/png": "[encoded data removed]",
      "text/plain": [
       "<Figure size 432x288 with 1 Axes>"
      ]
     },
     "metadata": {
      "needs_background": "light"
     },
     "output_type": "display_data"
    }
   ],
   "source": [
    "plot_roc_curve(lr,x,y)"
   ]
  },
  {
   "cell_type": "code",
   "execution_count": 475,
   "id": "adf74363",
   "metadata": {},
   "outputs": [],
   "source": [
    "testpre=lrmodel.predict(testcl)"
   ]
  },
  {
   "cell_type": "code",
   "execution_count": 476,
   "id": "dea1cb33",
   "metadata": {},
   "outputs": [],
   "source": [
    "pd.DataFrame(testpre).to_csv(\"lrmodel.csv\")"
   ]
  },
  {
   "cell_type": "code",
   "execution_count": 477,
   "id": "675f6540",
   "metadata": {},
   "outputs": [],
   "source": [
    "from sklearn.metrics import classification_report"
   ]
  },
  {
   "cell_type": "code",
   "execution_count": 478,
   "id": "79a0b9a4",
   "metadata": {},
   "outputs": [
    {
     "name": "stdout",
     "output_type": "stream",
     "text": [
      "              precision    recall  f1-score   support\n",
      "\n",
      "           N       0.67      0.01      0.02       192\n",
      "           Y       0.69      1.00      0.82       422\n",
      "\n",
      "    accuracy                           0.69       614\n",
      "   macro avg       0.68      0.50      0.42       614\n",
      "weighted avg       0.68      0.69      0.57       614\n",
      "\n"
     ]
    }
   ],
   "source": [
    "print(classification_report(y,lrpredict))"
   ]
  },
  {
   "cell_type": "markdown",
   "id": "960b48f6",
   "metadata": {},
   "source": [
    "## Decision Tree "
   ]
  },
  {
   "cell_type": "markdown",
   "id": "8a89703f",
   "metadata": {},
   "source": [
    "### This is a supervised machine learning algorithm mostly used for classification problems. All features should be discretized in this model, so that the population can be split into two or more homogeneous sets or subsets. This model uses a different algorithm to split a node into two or more sub-nodes. With the creation of more sub-nodes, homogeneity and purity of the nodes increases with respect to the dependent variable."
   ]
  },
  {
   "cell_type": "code",
   "execution_count": 479,
   "id": "b549c734",
   "metadata": {},
   "outputs": [],
   "source": [
    "from sklearn.tree import DecisionTreeClassifier"
   ]
  },
  {
   "cell_type": "code",
   "execution_count": 480,
   "id": "04aba262",
   "metadata": {},
   "outputs": [],
   "source": [
    "dtc=DecisionTreeClassifier(max_depth=5)"
   ]
  },
  {
   "cell_type": "code",
   "execution_count": 481,
   "id": "13fc815b",
   "metadata": {},
   "outputs": [],
   "source": [
    "dtcmodel=dtc.fit(x,y)"
   ]
  },
  {
   "cell_type": "code",
   "execution_count": 482,
   "id": "bd6c2a72",
   "metadata": {},
   "outputs": [
    {
     "data": {
      "text/plain": [
       "0.7312703583061889"
      ]
     },
     "execution_count": 482,
     "metadata": {},
     "output_type": "execute_result"
    }
   ],
   "source": [
    "dtcmodel.score(x,y)"
   ]
  },
  {
   "cell_type": "code",
   "execution_count": 483,
   "id": "22ac479f",
   "metadata": {},
   "outputs": [],
   "source": [
    "dtcpredict=dtcmodel.predict(x)"
   ]
  },
  {
   "cell_type": "code",
   "execution_count": 484,
   "id": "83fad30e",
   "metadata": {},
   "outputs": [
    {
     "data": {
      "text/plain": [
       "array([0.66666667, 0.69105691, 0.68292683, 0.65853659, 0.67213115])"
      ]
     },
     "execution_count": 484,
     "metadata": {},
     "output_type": "execute_result"
    }
   ],
   "source": [
    "cross_val_score(dtcmodel,x,y)"
   ]
  },
  {
   "cell_type": "code",
   "execution_count": 485,
   "id": "432083d9",
   "metadata": {},
   "outputs": [
    {
     "data": {
      "text/plain": [
       "0.68892443"
      ]
     },
     "execution_count": 485,
     "metadata": {},
     "output_type": "execute_result"
    }
   ],
   "source": [
    "np.mean([0.69105691, 0.69918699, 0.68292683, 0.68292683, 0.68852459])"
   ]
  },
  {
   "cell_type": "code",
   "execution_count": 486,
   "id": "d91cf277",
   "metadata": {},
   "outputs": [
    {
     "data": {
      "text/html": [
       "<div>\n",
       "<style scoped>\n",
       "    .dataframe tbody tr th:only-of-type {\n",
       "        vertical-align: middle;\n",
       "    }\n",
       "\n",
       "    .dataframe tbody tr th {\n",
       "        vertical-align: top;\n",
       "    }\n",
       "\n",
       "    .dataframe thead th {\n",
       "        text-align: right;\n",
       "    }\n",
       "</style>\n",
       "<table border=\"1\" class=\"dataframe\">\n",
       "  <thead>\n",
       "    <tr style=\"text-align: right;\">\n",
       "      <th>col_0</th>\n",
       "      <th>N</th>\n",
       "      <th>Y</th>\n",
       "    </tr>\n",
       "    <tr>\n",
       "      <th>Loan_Status</th>\n",
       "      <th></th>\n",
       "      <th></th>\n",
       "    </tr>\n",
       "  </thead>\n",
       "  <tbody>\n",
       "    <tr>\n",
       "      <th>N</th>\n",
       "      <td>48</td>\n",
       "      <td>144</td>\n",
       "    </tr>\n",
       "    <tr>\n",
       "      <th>Y</th>\n",
       "      <td>21</td>\n",
       "      <td>401</td>\n",
       "    </tr>\n",
       "  </tbody>\n",
       "</table>\n",
       "</div>"
      ],
      "text/plain": [
       "col_0         N    Y\n",
       "Loan_Status         \n",
       "N            48  144\n",
       "Y            21  401"
      ]
     },
     "execution_count": 486,
     "metadata": {},
     "output_type": "execute_result"
    }
   ],
   "source": [
    "pd.crosstab(y,dtcpredict)"
   ]
  },
  {
   "cell_type": "code",
   "execution_count": 487,
   "id": "c449812b",
   "metadata": {},
   "outputs": [
    {
     "name": "stderr",
     "output_type": "stream",
     "text": [
      "C:\\Users\\HP\\anaconda3\\lib\\site-packages\\sklearn\\utils\\deprecation.py:87: FutureWarning: Function plot_roc_curve is deprecated; Function :func:`plot_roc_curve` is deprecated in 1.0 and will be removed in 1.2. Use one of the class methods: :meth:`sklearn.metric.RocCurveDisplay.from_predictions` or :meth:`sklearn.metric.RocCurveDisplay.from_estimator`.\n",
      "  warnings.warn(msg, category=FutureWarning)\n"
     ]
    },
    {
     "data": {
      "text/plain": [
       "<sklearn.metrics._plot.roc_curve.RocCurveDisplay at 0x21595ba41c0>"
      ]
     },
     "execution_count": 487,
     "metadata": {},
     "output_type": "execute_result"
    },
    {
     "data": {
      "image/png": "[encoded data removed]",
      "text/plain": [
       "<Figure size 432x288 with 1 Axes>"
      ]
     },
     "metadata": {
      "needs_background": "light"
     },
     "output_type": "display_data"
    }
   ],
   "source": [
    "plot_roc_curve(dtc,x,y)"
   ]
  },
  {
   "cell_type": "code",
   "execution_count": 488,
   "id": "f29dfe0a",
   "metadata": {},
   "outputs": [
    {
     "name": "stdout",
     "output_type": "stream",
     "text": [
      "              precision    recall  f1-score   support\n",
      "\n",
      "           N       0.70      0.25      0.37       192\n",
      "           Y       0.74      0.95      0.83       422\n",
      "\n",
      "    accuracy                           0.73       614\n",
      "   macro avg       0.72      0.60      0.60       614\n",
      "weighted avg       0.72      0.73      0.69       614\n",
      "\n"
     ]
    }
   ],
   "source": [
    "print(classification_report(y,dtcpredict))"
   ]
  },
  {
   "cell_type": "code",
   "execution_count": 489,
   "id": "bace9b05",
   "metadata": {},
   "outputs": [],
   "source": [
    "testpre=dtcmodel.predict(testcl)"
   ]
  },
  {
   "cell_type": "code",
   "execution_count": 490,
   "id": "5cec2b18",
   "metadata": {},
   "outputs": [],
   "source": [
    "pd.DataFrame(testpre).to_csv(\"dtcmodel.csv\")"
   ]
  },
  {
   "cell_type": "markdown",
   "id": "6774f52d",
   "metadata": {},
   "source": [
    "## Random Forest "
   ]
  },
  {
   "cell_type": "markdown",
   "id": "37ed31ea",
   "metadata": {},
   "source": [
    "### This is a tree based ensemble model which helps in improving the accuracy of the model . It combines a large number of Decision trees to build a powerful predicting model. It takes a random sample of rows and features of each individual tree to prepare a decision tree model. Final prediction class is either the mode of all the predictors or the mean of all the predictors."
   ]
  },
  {
   "cell_type": "code",
   "execution_count": 491,
   "id": "857f246e",
   "metadata": {},
   "outputs": [],
   "source": [
    "from sklearn.ensemble import RandomForestClassifier"
   ]
  },
  {
   "cell_type": "code",
   "execution_count": 492,
   "id": "0c08e0ca",
   "metadata": {},
   "outputs": [],
   "source": [
    "rfc=RandomForestClassifier(max_depth=6,n_estimators=5)"
   ]
  },
  {
   "cell_type": "code",
   "execution_count": 493,
   "id": "4f0e5d9f",
   "metadata": {},
   "outputs": [],
   "source": [
    "rfcmodel=rfc.fit(x,y)"
   ]
  },
  {
   "cell_type": "code",
   "execution_count": 494,
   "id": "4b90b54c",
   "metadata": {},
   "outputs": [
    {
     "data": {
      "text/plain": [
       "0.742671009771987"
      ]
     },
     "execution_count": 494,
     "metadata": {},
     "output_type": "execute_result"
    }
   ],
   "source": [
    "rfcmodel.score(x,y)"
   ]
  },
  {
   "cell_type": "code",
   "execution_count": 495,
   "id": "494b60c0",
   "metadata": {},
   "outputs": [],
   "source": [
    "rfcpredict=rfcmodel.predict(x)"
   ]
  },
  {
   "cell_type": "code",
   "execution_count": 496,
   "id": "ab169f86",
   "metadata": {},
   "outputs": [
    {
     "data": {
      "text/html": [
       "<div>\n",
       "<style scoped>\n",
       "    .dataframe tbody tr th:only-of-type {\n",
       "        vertical-align: middle;\n",
       "    }\n",
       "\n",
       "    .dataframe tbody tr th {\n",
       "        vertical-align: top;\n",
       "    }\n",
       "\n",
       "    .dataframe thead th {\n",
       "        text-align: right;\n",
       "    }\n",
       "</style>\n",
       "<table border=\"1\" class=\"dataframe\">\n",
       "  <thead>\n",
       "    <tr style=\"text-align: right;\">\n",
       "      <th>col_0</th>\n",
       "      <th>N</th>\n",
       "      <th>Y</th>\n",
       "    </tr>\n",
       "    <tr>\n",
       "      <th>Loan_Status</th>\n",
       "      <th></th>\n",
       "      <th></th>\n",
       "    </tr>\n",
       "  </thead>\n",
       "  <tbody>\n",
       "    <tr>\n",
       "      <th>N</th>\n",
       "      <td>37</td>\n",
       "      <td>155</td>\n",
       "    </tr>\n",
       "    <tr>\n",
       "      <th>Y</th>\n",
       "      <td>3</td>\n",
       "      <td>419</td>\n",
       "    </tr>\n",
       "  </tbody>\n",
       "</table>\n",
       "</div>"
      ],
      "text/plain": [
       "col_0         N    Y\n",
       "Loan_Status         \n",
       "N            37  155\n",
       "Y             3  419"
      ]
     },
     "execution_count": 496,
     "metadata": {},
     "output_type": "execute_result"
    }
   ],
   "source": [
    "pd.crosstab(y,rfcpredict)"
   ]
  },
  {
   "cell_type": "code",
   "execution_count": 497,
   "id": "548e17a3",
   "metadata": {},
   "outputs": [
    {
     "data": {
      "text/plain": [
       "array([0.69105691, 0.6504065 , 0.6504065 , 0.65853659, 0.68032787])"
      ]
     },
     "execution_count": 497,
     "metadata": {},
     "output_type": "execute_result"
    }
   ],
   "source": [
    "cross_val_score(rfcmodel,x,y)"
   ]
  },
  {
   "cell_type": "code",
   "execution_count": 498,
   "id": "b4ee1a33",
   "metadata": {},
   "outputs": [
    {
     "data": {
      "text/plain": [
       "0.630347862"
      ]
     },
     "execution_count": 498,
     "metadata": {},
     "output_type": "execute_result"
    }
   ],
   "source": [
    "np.mean([0.48780488, 0.64227642, 0.68292683, 0.67479675, 0.66393443])"
   ]
  },
  {
   "cell_type": "code",
   "execution_count": 499,
   "id": "8d7702fa",
   "metadata": {},
   "outputs": [
    {
     "name": "stderr",
     "output_type": "stream",
     "text": [
      "C:\\Users\\HP\\anaconda3\\lib\\site-packages\\sklearn\\utils\\deprecation.py:87: FutureWarning: Function plot_roc_curve is deprecated; Function :func:`plot_roc_curve` is deprecated in 1.0 and will be removed in 1.2. Use one of the class methods: :meth:`sklearn.metric.RocCurveDisplay.from_predictions` or :meth:`sklearn.metric.RocCurveDisplay.from_estimator`.\n",
      "  warnings.warn(msg, category=FutureWarning)\n"
     ]
    },
    {
     "data": {
      "text/plain": [
       "<sklearn.metrics._plot.roc_curve.RocCurveDisplay at 0x21595e07130>"
      ]
     },
     "execution_count": 499,
     "metadata": {},
     "output_type": "execute_result"
    },
    {
     "data": {
      "image/png": "[encoded data removed]",
      "text/plain": [
       "<Figure size 432x288 with 1 Axes>"
      ]
     },
     "metadata": {
      "needs_background": "light"
     },
     "output_type": "display_data"
    }
   ],
   "source": [
    "plot_roc_curve(rfc,x,y)"
   ]
  },
  {
   "cell_type": "code",
   "execution_count": 500,
   "id": "f696af5d",
   "metadata": {},
   "outputs": [
    {
     "name": "stdout",
     "output_type": "stream",
     "text": [
      "              precision    recall  f1-score   support\n",
      "\n",
      "           N       0.93      0.19      0.32       192\n",
      "           Y       0.73      0.99      0.84       422\n",
      "\n",
      "    accuracy                           0.74       614\n",
      "   macro avg       0.83      0.59      0.58       614\n",
      "weighted avg       0.79      0.74      0.68       614\n",
      "\n"
     ]
    }
   ],
   "source": [
    "print(classification_report(y,rfcpredict))"
   ]
  },
  {
   "cell_type": "code",
   "execution_count": 501,
   "id": "9ba4c7f9",
   "metadata": {},
   "outputs": [],
   "source": [
    "testpre=rfcmodel.predict(testcl)"
   ]
  },
  {
   "cell_type": "code",
   "execution_count": 502,
   "id": "2f290105",
   "metadata": {},
   "outputs": [],
   "source": [
    "pd.DataFrame(testpre).to_csv(\"rfcmodel.csv\")"
   ]
  },
  {
   "cell_type": "markdown",
   "id": "472ffd63",
   "metadata": {},
   "source": [
    "### GradientBoostingClassifier"
   ]
  },
  {
   "cell_type": "markdown",
   "id": "63fa850c",
   "metadata": {},
   "source": [
    "### This algorithm only works with the quantitative variable. It is a gradient boosting algorithm which forms strong rules for the model by boosting weak learners to a strong learner. It is a fast and efficient algorithm which recently dominated machine learning because of its high performance and speed."
   ]
  },
  {
   "cell_type": "code",
   "execution_count": 503,
   "id": "a53552d2",
   "metadata": {},
   "outputs": [],
   "source": [
    "from sklearn.ensemble import GradientBoostingClassifier"
   ]
  },
  {
   "cell_type": "code",
   "execution_count": 504,
   "id": "fa671fc6",
   "metadata": {},
   "outputs": [],
   "source": [
    "gbc=GradientBoostingClassifier(n_estimators=30)"
   ]
  },
  {
   "cell_type": "code",
   "execution_count": 505,
   "id": "451119e2",
   "metadata": {},
   "outputs": [],
   "source": [
    "gbcmodel=gbc.fit(x,y)"
   ]
  },
  {
   "cell_type": "code",
   "execution_count": 506,
   "id": "ac8187cd",
   "metadata": {},
   "outputs": [
    {
     "data": {
      "text/plain": [
       "0.741042345276873"
      ]
     },
     "execution_count": 506,
     "metadata": {},
     "output_type": "execute_result"
    }
   ],
   "source": [
    "gbcmodel.score(x,y)"
   ]
  },
  {
   "cell_type": "code",
   "execution_count": 507,
   "id": "e2d12a0f",
   "metadata": {},
   "outputs": [],
   "source": [
    "gbcpredict=gbcmodel.predict(x)"
   ]
  },
  {
   "cell_type": "code",
   "execution_count": 508,
   "id": "4fdd44b9",
   "metadata": {},
   "outputs": [
    {
     "data": {
      "text/html": [
       "<div>\n",
       "<style scoped>\n",
       "    .dataframe tbody tr th:only-of-type {\n",
       "        vertical-align: middle;\n",
       "    }\n",
       "\n",
       "    .dataframe tbody tr th {\n",
       "        vertical-align: top;\n",
       "    }\n",
       "\n",
       "    .dataframe thead th {\n",
       "        text-align: right;\n",
       "    }\n",
       "</style>\n",
       "<table border=\"1\" class=\"dataframe\">\n",
       "  <thead>\n",
       "    <tr style=\"text-align: right;\">\n",
       "      <th>col_0</th>\n",
       "      <th>N</th>\n",
       "      <th>Y</th>\n",
       "    </tr>\n",
       "    <tr>\n",
       "      <th>Loan_Status</th>\n",
       "      <th></th>\n",
       "      <th></th>\n",
       "    </tr>\n",
       "  </thead>\n",
       "  <tbody>\n",
       "    <tr>\n",
       "      <th>N</th>\n",
       "      <td>34</td>\n",
       "      <td>158</td>\n",
       "    </tr>\n",
       "    <tr>\n",
       "      <th>Y</th>\n",
       "      <td>1</td>\n",
       "      <td>421</td>\n",
       "    </tr>\n",
       "  </tbody>\n",
       "</table>\n",
       "</div>"
      ],
      "text/plain": [
       "col_0         N    Y\n",
       "Loan_Status         \n",
       "N            34  158\n",
       "Y             1  421"
      ]
     },
     "execution_count": 508,
     "metadata": {},
     "output_type": "execute_result"
    }
   ],
   "source": [
    "pd.crosstab(y,gbcpredict)"
   ]
  },
  {
   "cell_type": "code",
   "execution_count": 509,
   "id": "d9877804",
   "metadata": {},
   "outputs": [
    {
     "data": {
      "text/plain": [
       "array([0.67479675, 0.69105691, 0.68292683, 0.66666667, 0.70491803])"
      ]
     },
     "execution_count": 509,
     "metadata": {},
     "output_type": "execute_result"
    }
   ],
   "source": [
    "cross_val_score(gbcmodel,x,y)"
   ]
  },
  {
   "cell_type": "code",
   "execution_count": 510,
   "id": "f5cad386",
   "metadata": {},
   "outputs": [
    {
     "data": {
      "text/plain": [
       "0.664360922"
      ]
     },
     "execution_count": 510,
     "metadata": {},
     "output_type": "execute_result"
    }
   ],
   "source": [
    "np.mean([0.68292683, 0.69918699, 0.68292683, 0.67479675, 0.58196721])"
   ]
  },
  {
   "cell_type": "code",
   "execution_count": 511,
   "id": "820a0e8e",
   "metadata": {},
   "outputs": [
    {
     "name": "stderr",
     "output_type": "stream",
     "text": [
      "C:\\Users\\HP\\anaconda3\\lib\\site-packages\\sklearn\\utils\\deprecation.py:87: FutureWarning: Function plot_roc_curve is deprecated; Function :func:`plot_roc_curve` is deprecated in 1.0 and will be removed in 1.2. Use one of the class methods: :meth:`sklearn.metric.RocCurveDisplay.from_predictions` or :meth:`sklearn.metric.RocCurveDisplay.from_estimator`.\n",
      "  warnings.warn(msg, category=FutureWarning)\n"
     ]
    },
    {
     "data": {
      "text/plain": [
       "<sklearn.metrics._plot.roc_curve.RocCurveDisplay at 0x215961843d0>"
      ]
     },
     "execution_count": 511,
     "metadata": {},
     "output_type": "execute_result"
    },
    {
     "data": {
      "image/png": "[encoded data removed]",
      "text/plain": [
       "<Figure size 432x288 with 1 Axes>"
      ]
     },
     "metadata": {
      "needs_background": "light"
     },
     "output_type": "display_data"
    }
   ],
   "source": [
    "plot_roc_curve(gbc,x,y)"
   ]
  },
  {
   "cell_type": "code",
   "execution_count": 512,
   "id": "a4aff5a1",
   "metadata": {},
   "outputs": [
    {
     "name": "stdout",
     "output_type": "stream",
     "text": [
      "              precision    recall  f1-score   support\n",
      "\n",
      "           N       0.97      0.18      0.30       192\n",
      "           Y       0.73      1.00      0.84       422\n",
      "\n",
      "    accuracy                           0.74       614\n",
      "   macro avg       0.85      0.59      0.57       614\n",
      "weighted avg       0.80      0.74      0.67       614\n",
      "\n"
     ]
    }
   ],
   "source": [
    "print(classification_report(y,gbcpredict))"
   ]
  },
  {
   "cell_type": "code",
   "execution_count": 513,
   "id": "891a8a51",
   "metadata": {},
   "outputs": [],
   "source": [
    "testpre=gbcmodel.predict(testcl)"
   ]
  },
  {
   "cell_type": "code",
   "execution_count": 514,
   "id": "a35d6f9d",
   "metadata": {},
   "outputs": [],
   "source": [
    "pd.DataFrame(testpre).to_csv(\"gbcmodel.csv\")"
   ]
  },
  {
   "cell_type": "markdown",
   "id": "b4e91fc7",
   "metadata": {},
   "source": [
    "## Support Vector Machine"
   ]
  },
  {
   "cell_type": "markdown",
   "id": "f9ae119a",
   "metadata": {},
   "source": [
    "### The goal of the SVM algorithm is to create the best line or decision boundary that can segregate n-dimensional space into classes so that we can easily put the new data point in the correct category in the future. This best decision boundary is called a hyperplane."
   ]
  },
  {
   "cell_type": "code",
   "execution_count": 515,
   "id": "c72dbf9c",
   "metadata": {},
   "outputs": [],
   "source": [
    "from sklearn.svm import SVC"
   ]
  },
  {
   "cell_type": "code",
   "execution_count": 516,
   "id": "11f5ec9d",
   "metadata": {},
   "outputs": [],
   "source": [
    "svc=SVC()"
   ]
  },
  {
   "cell_type": "code",
   "execution_count": 517,
   "id": "c7d154ff",
   "metadata": {},
   "outputs": [],
   "source": [
    "svcmodel=svc.fit(x,y)"
   ]
  },
  {
   "cell_type": "code",
   "execution_count": 518,
   "id": "671d53a0",
   "metadata": {},
   "outputs": [
    {
     "data": {
      "text/plain": [
       "0.6921824104234527"
      ]
     },
     "execution_count": 518,
     "metadata": {},
     "output_type": "execute_result"
    }
   ],
   "source": [
    "svcmodel.score(x,y)"
   ]
  },
  {
   "cell_type": "code",
   "execution_count": 519,
   "id": "4ad10c01",
   "metadata": {},
   "outputs": [],
   "source": [
    "svcpredict=svcmodel.predict(x)"
   ]
  },
  {
   "cell_type": "code",
   "execution_count": 520,
   "id": "5210197d",
   "metadata": {},
   "outputs": [
    {
     "data": {
      "text/plain": [
       "array([0.69105691, 0.69105691, 0.68292683, 0.68292683, 0.68852459])"
      ]
     },
     "execution_count": 520,
     "metadata": {},
     "output_type": "execute_result"
    }
   ],
   "source": [
    "cross_val_score(svcmodel,x,y)"
   ]
  },
  {
   "cell_type": "code",
   "execution_count": 521,
   "id": "1958829e",
   "metadata": {},
   "outputs": [
    {
     "data": {
      "text/plain": [
       "0.687298414"
      ]
     },
     "execution_count": 521,
     "metadata": {},
     "output_type": "execute_result"
    }
   ],
   "source": [
    "np.mean([0.69105691, 0.69105691, 0.68292683, 0.68292683, 0.68852459])"
   ]
  },
  {
   "cell_type": "code",
   "execution_count": 522,
   "id": "96673a0c",
   "metadata": {},
   "outputs": [
    {
     "data": {
      "text/html": [
       "<div>\n",
       "<style scoped>\n",
       "    .dataframe tbody tr th:only-of-type {\n",
       "        vertical-align: middle;\n",
       "    }\n",
       "\n",
       "    .dataframe tbody tr th {\n",
       "        vertical-align: top;\n",
       "    }\n",
       "\n",
       "    .dataframe thead th {\n",
       "        text-align: right;\n",
       "    }\n",
       "</style>\n",
       "<table border=\"1\" class=\"dataframe\">\n",
       "  <thead>\n",
       "    <tr style=\"text-align: right;\">\n",
       "      <th>col_0</th>\n",
       "      <th>N</th>\n",
       "      <th>Y</th>\n",
       "    </tr>\n",
       "    <tr>\n",
       "      <th>Loan_Status</th>\n",
       "      <th></th>\n",
       "      <th></th>\n",
       "    </tr>\n",
       "  </thead>\n",
       "  <tbody>\n",
       "    <tr>\n",
       "      <th>N</th>\n",
       "      <td>3</td>\n",
       "      <td>189</td>\n",
       "    </tr>\n",
       "    <tr>\n",
       "      <th>Y</th>\n",
       "      <td>0</td>\n",
       "      <td>422</td>\n",
       "    </tr>\n",
       "  </tbody>\n",
       "</table>\n",
       "</div>"
      ],
      "text/plain": [
       "col_0        N    Y\n",
       "Loan_Status        \n",
       "N            3  189\n",
       "Y            0  422"
      ]
     },
     "execution_count": 522,
     "metadata": {},
     "output_type": "execute_result"
    }
   ],
   "source": [
    "pd.crosstab(y,svcpredict)"
   ]
  },
  {
   "cell_type": "code",
   "execution_count": 523,
   "id": "7cf57446",
   "metadata": {},
   "outputs": [
    {
     "name": "stdout",
     "output_type": "stream",
     "text": [
      "              precision    recall  f1-score   support\n",
      "\n",
      "           N       1.00      0.02      0.03       192\n",
      "           Y       0.69      1.00      0.82       422\n",
      "\n",
      "    accuracy                           0.69       614\n",
      "   macro avg       0.85      0.51      0.42       614\n",
      "weighted avg       0.79      0.69      0.57       614\n",
      "\n"
     ]
    }
   ],
   "source": [
    "print(classification_report(y,svcpredict))"
   ]
  },
  {
   "cell_type": "code",
   "execution_count": 524,
   "id": "ff8118ed",
   "metadata": {},
   "outputs": [
    {
     "name": "stderr",
     "output_type": "stream",
     "text": [
      "C:\\Users\\HP\\anaconda3\\lib\\site-packages\\sklearn\\utils\\deprecation.py:87: FutureWarning: Function plot_roc_curve is deprecated; Function :func:`plot_roc_curve` is deprecated in 1.0 and will be removed in 1.2. Use one of the class methods: :meth:`sklearn.metric.RocCurveDisplay.from_predictions` or :meth:`sklearn.metric.RocCurveDisplay.from_estimator`.\n",
      "  warnings.warn(msg, category=FutureWarning)\n"
     ]
    },
    {
     "data": {
      "text/plain": [
       "<sklearn.metrics._plot.roc_curve.RocCurveDisplay at 0x215961fda60>"
      ]
     },
     "execution_count": 524,
     "metadata": {},
     "output_type": "execute_result"
    },
    {
     "data": {
      "image/png": "[encoded data removed]",
      "text/plain": [
       "<Figure size 432x288 with 1 Axes>"
      ]
     },
     "metadata": {
      "needs_background": "light"
     },
     "output_type": "display_data"
    }
   ],
   "source": [
    "plot_roc_curve(svc,x,y)"
   ]
  },
  {
   "cell_type": "code",
   "execution_count": 525,
   "id": "2ab4c7a9",
   "metadata": {},
   "outputs": [],
   "source": [
    "testpre=svcmodel.predict(testcl)"
   ]
  },
  {
   "cell_type": "code",
   "execution_count": 526,
   "id": "bbbda3a7",
   "metadata": {},
   "outputs": [],
   "source": [
    "pd.DataFrame(testpre).to_csv(\"svcmodel.csv\")"
   ]
  },
  {
   "cell_type": "markdown",
   "id": "b3a29def",
   "metadata": {},
   "source": [
    "## I predeicted test data in Analytics vidya , SVM is the best fit model."
   ]
  },
  {
   "cell_type": "code",
   "execution_count": null,
   "id": "ca77eb42",
   "metadata": {},
   "outputs": [],
   "source": []
  },
  {
   "cell_type": "code",
   "execution_count": null,
   "id": "9a0bc26d",
   "metadata": {},
   "outputs": [],
   "source": []
  },
  {
   "cell_type": "code",
   "execution_count": null,
   "id": "2acea815",
   "metadata": {},
   "outputs": [],
   "source": []
  },
  {
   "cell_type": "code",
   "execution_count": null,
   "id": "af7d48b8",
   "metadata": {},
   "outputs": [],
   "source": []
  }
 ],
 "metadata": {
  "kernelspec": {
   "display_name": "Python 3 (ipykernel)",
   "language": "python",
   "name": "python3"
  },
  "language_info": {
   "codemirror_mode": {
    "name": "ipython",
    "version": 3
   },
   "file_extension": ".py",
   "mimetype": "text/x-python",
   "name": "python",
   "nbconvert_exporter": "python",
   "pygments_lexer": "ipython3",
   "version": "3.9.12"
  }
 },
 "nbformat": 4,
 "nbformat_minor": 5
}
