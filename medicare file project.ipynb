{
 "cells": [
  {
   "cell_type": "markdown",
   "id": "646b68af",
   "metadata": {},
   "source": [
    "## A medical organisation provided this information."
   ]
  },
  {
   "cell_type": "code",
   "execution_count": 2,
   "id": "20785985",
   "metadata": {},
   "outputs": [],
   "source": [
    "import pandas as pd\n",
    "import numpy as np\n",
    "import matplotlib.pyplot as plt\n",
    "%matplotlib inline"
   ]
  },
  {
   "cell_type": "code",
   "execution_count": 2,
   "id": "ae45f318",
   "metadata": {},
   "outputs": [
    {
     "name": "stdout",
     "output_type": "stream",
     "text": [
      "C:\\Users\\HP\\Desktop\\python datasets\n"
     ]
    }
   ],
   "source": [
    "import io\n",
    "%cd \"C:\\Users\\HP\\Desktop\\python datasets\""
   ]
  },
  {
   "cell_type": "code",
   "execution_count": 3,
   "id": "0e375ff4",
   "metadata": {},
   "outputs": [],
   "source": [
    "medicare=pd.read_csv('Medicare_Physician_Other_Practitioners_by_Geography_and_Service_2019.csv',low_memory=False)"
   ]
  },
  {
   "cell_type": "code",
   "execution_count": 4,
   "id": "7ce2c6df",
   "metadata": {},
   "outputs": [
    {
     "data": {
      "text/plain": [
       "(273211, 15)"
      ]
     },
     "execution_count": 4,
     "metadata": {},
     "output_type": "execute_result"
    }
   ],
   "source": [
    "medicare.shape"
   ]
  },
  {
   "cell_type": "markdown",
   "id": "265506c3",
   "metadata": {},
   "source": [
    "## Data Description:"
   ]
  },
  {
   "cell_type": "markdown",
   "id": "4a3244fd",
   "metadata": {},
   "source": [
    "## Geography Level - Rndrng_Prvdr_Geo_Lvl - How the data is divided based on the geography\n",
    "## Rendering Provider Geography Code - Rndrng_Prvdr_Geo_Cd - Pincode\n",
    "## Rendering Provider Geography Description - State Names - Data aggregated at the National level are identified by the word 'National'.\n",
    "## HCPCS Code - HCPCS_Cd - Special Medical Service provided by provider - two levels - Level I codes are the Current Procedural Terminology (CPT)codes that are maintained by the American Medical Association. Level II codes are created by CMS (Centers for Medicare & Medicaid         Services.)to identify products, supplies and services not covered by the CPT codes (such as ambulance services).\n",
    "## HCPCS Description - HCPCS_Desc - Description of the HCPCS code for the specific medical service furnished by the provider. HCPCS descriptions associated with CPT codes are consumer friendly descriptions provided by the AMA. As a result, the same HCPCS description can be associated with more than one HCPCS code.\n",
    "## HCPCS Drug Indicator - HCPCS_Drug_Ind - Identifies whether the HCPCS code for the specific service furnished by the provider is a HCPCS listed on the Medicare Part B Drug Average Sales Price (ASP) File\n",
    "## Place of Service - Place_Of_Srvc - o and f\n",
    "## Number of Providers - Tot_Rndrng_Prvdrs - Number of providers within HCPCS code and place of service.\n",
    "## Number of Services - Tot_Srvcs\n",
    "## Number of Medicare Beneficiaries - Tot_Benes - Number of distinct Medicare beneficiaries receiving the service for each Rndrng_Prvdr_Geo_Desc and HCPCS_Cd, Place_Of_Srvc.\n",
    "## Number of Distinct Medicare Beneficiary/Per Day Services - Tot_Bene_Day_Srvcs - Number of distinct Medicare beneficiary/per day services. Since a given beneficiary may receive multiple services of the same type (e.g., single vs. multiple cardiac stents) on a single day, this metric removes double-counting from the line service count to identify whether a unique service occurred.\n",
    "## Average Submitted Charge Amount - Avg_Sbmtd_Chrg - Per service charge\n",
    "## Average Medicare Allowed Amount - Average of the Medicare allowed amount for the service.\n",
    "## Average Medicare Payment Amount - Avg_Mdcr_Pymt_Amt - Average amount that Medicare paid after deductible and coinsurance amounts have been deducted for the line item service.\n",
    "## Average Medicare Standardized Payment Amount - Avg_Mdcr_Stdzd_Amt - Average amount that Medicare paid after beneficiary deductible and coinsurance amounts have been deducted for the line item service and after standardization of the Medicare payment has been applied."
   ]
  },
  {
   "cell_type": "code",
   "execution_count": 6,
   "id": "2735257f",
   "metadata": {},
   "outputs": [
    {
     "data": {
      "text/plain": [
       "Rndrng_Prvdr_Geo_Lvl     object\n",
       "Rndrng_Prvdr_Geo_Cd      object\n",
       "Rndrng_Prvdr_Geo_Desc    object\n",
       "HCPCS_Cd                 object\n",
       "HCPCS_Desc               object\n",
       "HCPCS_Drug_Ind           object\n",
       "Place_Of_Srvc            object\n",
       "Tot_Rndrng_Prvdrs        object\n",
       "Tot_Benes                object\n",
       "Tot_Srvcs                object\n",
       "Tot_Bene_Day_Srvcs       object\n",
       "Avg_Sbmtd_Chrg           object\n",
       "Avg_Mdcr_Alowd_Amt       object\n",
       "Avg_Mdcr_Pymt_Amt        object\n",
       "Avg_Mdcr_Stdzd_Amt       object\n",
       "dtype: object"
      ]
     },
     "execution_count": 6,
     "metadata": {},
     "output_type": "execute_result"
    }
   ],
   "source": [
    "medicare.dtypes"
   ]
  },
  {
   "cell_type": "code",
   "execution_count": 7,
   "id": "8f497665",
   "metadata": {},
   "outputs": [
    {
     "data": {
      "text/html": [
       "<div>\n",
       "<style scoped>\n",
       "    .dataframe tbody tr th:only-of-type {\n",
       "        vertical-align: middle;\n",
       "    }\n",
       "\n",
       "    .dataframe tbody tr th {\n",
       "        vertical-align: top;\n",
       "    }\n",
       "\n",
       "    .dataframe thead th {\n",
       "        text-align: right;\n",
       "    }\n",
       "</style>\n",
       "<table border=\"1\" class=\"dataframe\">\n",
       "  <thead>\n",
       "    <tr style=\"text-align: right;\">\n",
       "      <th></th>\n",
       "      <th>Rndrng_Prvdr_Geo_Lvl</th>\n",
       "      <th>Rndrng_Prvdr_Geo_Cd</th>\n",
       "      <th>Rndrng_Prvdr_Geo_Desc</th>\n",
       "      <th>HCPCS_Cd</th>\n",
       "      <th>HCPCS_Desc</th>\n",
       "      <th>HCPCS_Drug_Ind</th>\n",
       "      <th>Place_Of_Srvc</th>\n",
       "      <th>Tot_Rndrng_Prvdrs</th>\n",
       "      <th>Tot_Benes</th>\n",
       "      <th>Tot_Srvcs</th>\n",
       "      <th>Tot_Bene_Day_Srvcs</th>\n",
       "      <th>Avg_Sbmtd_Chrg</th>\n",
       "      <th>Avg_Mdcr_Alowd_Amt</th>\n",
       "      <th>Avg_Mdcr_Pymt_Amt</th>\n",
       "      <th>Avg_Mdcr_Stdzd_Amt</th>\n",
       "    </tr>\n",
       "  </thead>\n",
       "  <tbody>\n",
       "    <tr>\n",
       "      <th>0</th>\n",
       "      <td>National</td>\n",
       "      <td>NaN</td>\n",
       "      <td>National</td>\n",
       "      <td>0003M</td>\n",
       "      <td>Liver disease, ten biochemical assays (alt, a2...</td>\n",
       "      <td>N</td>\n",
       "      <td>O</td>\n",
       "      <td>12</td>\n",
       "      <td>41</td>\n",
       "      <td>42</td>\n",
       "      <td>42</td>\n",
       "      <td>$680.55</td>\n",
       "      <td>$438.21</td>\n",
       "      <td>$438.21</td>\n",
       "      <td>$447.51</td>\n",
       "    </tr>\n",
       "    <tr>\n",
       "      <th>1</th>\n",
       "      <td>National</td>\n",
       "      <td>NaN</td>\n",
       "      <td>National</td>\n",
       "      <td>0005U</td>\n",
       "      <td>Test for detecting genes associated with prost...</td>\n",
       "      <td>N</td>\n",
       "      <td>O</td>\n",
       "      <td>1</td>\n",
       "      <td>539</td>\n",
       "      <td>540</td>\n",
       "      <td>540</td>\n",
       "      <td>$795.00</td>\n",
       "      <td>$744.80</td>\n",
       "      <td>$744.80</td>\n",
       "      <td>$744.80</td>\n",
       "    </tr>\n",
       "    <tr>\n",
       "      <th>2</th>\n",
       "      <td>National</td>\n",
       "      <td>NaN</td>\n",
       "      <td>National</td>\n",
       "      <td>00100</td>\n",
       "      <td>Anesthesia for procedure on salivary gland wit...</td>\n",
       "      <td>N</td>\n",
       "      <td>F</td>\n",
       "      <td>9,574</td>\n",
       "      <td>8,232</td>\n",
       "      <td>12,019</td>\n",
       "      <td>12,016</td>\n",
       "      <td>$1,959.51</td>\n",
       "      <td>$237.04</td>\n",
       "      <td>$187.54</td>\n",
       "      <td>$186.43</td>\n",
       "    </tr>\n",
       "    <tr>\n",
       "      <th>3</th>\n",
       "      <td>National</td>\n",
       "      <td>NaN</td>\n",
       "      <td>National</td>\n",
       "      <td>00100</td>\n",
       "      <td>Anesthesia for procedure on salivary gland wit...</td>\n",
       "      <td>N</td>\n",
       "      <td>O</td>\n",
       "      <td>91</td>\n",
       "      <td>59</td>\n",
       "      <td>99</td>\n",
       "      <td>99</td>\n",
       "      <td>$1,409.59</td>\n",
       "      <td>$170.33</td>\n",
       "      <td>$134.02</td>\n",
       "      <td>$129.78</td>\n",
       "    </tr>\n",
       "    <tr>\n",
       "      <th>4</th>\n",
       "      <td>National</td>\n",
       "      <td>NaN</td>\n",
       "      <td>National</td>\n",
       "      <td>00102</td>\n",
       "      <td>Anesthesia for procedure to repair lip defect ...</td>\n",
       "      <td>N</td>\n",
       "      <td>F</td>\n",
       "      <td>63</td>\n",
       "      <td>48</td>\n",
       "      <td>70</td>\n",
       "      <td>70</td>\n",
       "      <td>$1,210.95</td>\n",
       "      <td>$165.06</td>\n",
       "      <td>$129.08</td>\n",
       "      <td>$128.45</td>\n",
       "    </tr>\n",
       "    <tr>\n",
       "      <th>...</th>\n",
       "      <td>...</td>\n",
       "      <td>...</td>\n",
       "      <td>...</td>\n",
       "      <td>...</td>\n",
       "      <td>...</td>\n",
       "      <td>...</td>\n",
       "      <td>...</td>\n",
       "      <td>...</td>\n",
       "      <td>...</td>\n",
       "      <td>...</td>\n",
       "      <td>...</td>\n",
       "      <td>...</td>\n",
       "      <td>...</td>\n",
       "      <td>...</td>\n",
       "      <td>...</td>\n",
       "    </tr>\n",
       "    <tr>\n",
       "      <th>273206</th>\n",
       "      <td>State</td>\n",
       "      <td>9E</td>\n",
       "      <td>Foreign Country</td>\n",
       "      <td>G0500</td>\n",
       "      <td>Moderate sedation services provided by the sam...</td>\n",
       "      <td>N</td>\n",
       "      <td>F</td>\n",
       "      <td>1</td>\n",
       "      <td>191</td>\n",
       "      <td>204</td>\n",
       "      <td>203</td>\n",
       "      <td>$51.14</td>\n",
       "      <td>$7.48</td>\n",
       "      <td>$5.34</td>\n",
       "      <td>$4.05</td>\n",
       "    </tr>\n",
       "    <tr>\n",
       "      <th>273207</th>\n",
       "      <td>State</td>\n",
       "      <td>9E</td>\n",
       "      <td>Foreign Country</td>\n",
       "      <td>J0696</td>\n",
       "      <td>Injection, ceftriaxone sodium, per 250 mg</td>\n",
       "      <td>Y</td>\n",
       "      <td>O</td>\n",
       "      <td>7</td>\n",
       "      <td>15</td>\n",
       "      <td>55</td>\n",
       "      <td>17</td>\n",
       "      <td>$27.19</td>\n",
       "      <td>$0.59</td>\n",
       "      <td>$0.21</td>\n",
       "      <td>$0.21</td>\n",
       "    </tr>\n",
       "    <tr>\n",
       "      <th>273208</th>\n",
       "      <td>State</td>\n",
       "      <td>9E</td>\n",
       "      <td>Foreign Country</td>\n",
       "      <td>J1030</td>\n",
       "      <td>Injection, methylprednisolone acetate, 40 mg</td>\n",
       "      <td>Y</td>\n",
       "      <td>O</td>\n",
       "      <td>2</td>\n",
       "      <td>16</td>\n",
       "      <td>19</td>\n",
       "      <td>18</td>\n",
       "      <td>$29.47</td>\n",
       "      <td>$6.34</td>\n",
       "      <td>$3.95</td>\n",
       "      <td>$3.95</td>\n",
       "    </tr>\n",
       "    <tr>\n",
       "      <th>273209</th>\n",
       "      <td>State</td>\n",
       "      <td>9E</td>\n",
       "      <td>Foreign Country</td>\n",
       "      <td>J1100</td>\n",
       "      <td>Injection, dexamethasone sodium phosphate, 1 mg</td>\n",
       "      <td>Y</td>\n",
       "      <td>O</td>\n",
       "      <td>3</td>\n",
       "      <td>11</td>\n",
       "      <td>39</td>\n",
       "      <td>11</td>\n",
       "      <td>$15.03</td>\n",
       "      <td>$0.12</td>\n",
       "      <td>$0.10</td>\n",
       "      <td>$0.10</td>\n",
       "    </tr>\n",
       "    <tr>\n",
       "      <th>273210</th>\n",
       "      <td>State</td>\n",
       "      <td>9E</td>\n",
       "      <td>Foreign Country</td>\n",
       "      <td>J3301</td>\n",
       "      <td>Injection, triamcinolone acetonide, not otherw...</td>\n",
       "      <td>Y</td>\n",
       "      <td>O</td>\n",
       "      <td>5</td>\n",
       "      <td>26</td>\n",
       "      <td>133</td>\n",
       "      <td>31</td>\n",
       "      <td>$28.20</td>\n",
       "      <td>$1.54</td>\n",
       "      <td>$1.12</td>\n",
       "      <td>$1.17</td>\n",
       "    </tr>\n",
       "  </tbody>\n",
       "</table>\n",
       "<p>273211 rows × 15 columns</p>\n",
       "</div>"
      ],
      "text/plain": [
       "       Rndrng_Prvdr_Geo_Lvl Rndrng_Prvdr_Geo_Cd Rndrng_Prvdr_Geo_Desc  \\\n",
       "0                  National                 NaN              National   \n",
       "1                  National                 NaN              National   \n",
       "2                  National                 NaN              National   \n",
       "3                  National                 NaN              National   \n",
       "4                  National                 NaN              National   \n",
       "...                     ...                 ...                   ...   \n",
       "273206                State                  9E       Foreign Country   \n",
       "273207                State                  9E       Foreign Country   \n",
       "273208                State                  9E       Foreign Country   \n",
       "273209                State                  9E       Foreign Country   \n",
       "273210                State                  9E       Foreign Country   \n",
       "\n",
       "       HCPCS_Cd                                         HCPCS_Desc  \\\n",
       "0         0003M  Liver disease, ten biochemical assays (alt, a2...   \n",
       "1         0005U  Test for detecting genes associated with prost...   \n",
       "2         00100  Anesthesia for procedure on salivary gland wit...   \n",
       "3         00100  Anesthesia for procedure on salivary gland wit...   \n",
       "4         00102  Anesthesia for procedure to repair lip defect ...   \n",
       "...         ...                                                ...   \n",
       "273206    G0500  Moderate sedation services provided by the sam...   \n",
       "273207    J0696          Injection, ceftriaxone sodium, per 250 mg   \n",
       "273208    J1030       Injection, methylprednisolone acetate, 40 mg   \n",
       "273209    J1100    Injection, dexamethasone sodium phosphate, 1 mg   \n",
       "273210    J3301  Injection, triamcinolone acetonide, not otherw...   \n",
       "\n",
       "       HCPCS_Drug_Ind Place_Of_Srvc Tot_Rndrng_Prvdrs Tot_Benes Tot_Srvcs  \\\n",
       "0                   N             O                12        41        42   \n",
       "1                   N             O                 1       539       540   \n",
       "2                   N             F             9,574     8,232    12,019   \n",
       "3                   N             O                91        59        99   \n",
       "4                   N             F                63        48        70   \n",
       "...               ...           ...               ...       ...       ...   \n",
       "273206              N             F                 1       191       204   \n",
       "273207              Y             O                 7        15        55   \n",
       "273208              Y             O                 2        16        19   \n",
       "273209              Y             O                 3        11        39   \n",
       "273210              Y             O                 5        26       133   \n",
       "\n",
       "       Tot_Bene_Day_Srvcs Avg_Sbmtd_Chrg Avg_Mdcr_Alowd_Amt Avg_Mdcr_Pymt_Amt  \\\n",
       "0                      42        $680.55            $438.21           $438.21   \n",
       "1                     540        $795.00            $744.80           $744.80   \n",
       "2                  12,016      $1,959.51            $237.04           $187.54   \n",
       "3                      99      $1,409.59            $170.33           $134.02   \n",
       "4                      70      $1,210.95            $165.06           $129.08   \n",
       "...                   ...            ...                ...               ...   \n",
       "273206                203         $51.14              $7.48             $5.34   \n",
       "273207                 17         $27.19              $0.59             $0.21   \n",
       "273208                 18         $29.47              $6.34             $3.95   \n",
       "273209                 11         $15.03              $0.12             $0.10   \n",
       "273210                 31         $28.20              $1.54             $1.12   \n",
       "\n",
       "       Avg_Mdcr_Stdzd_Amt  \n",
       "0                 $447.51  \n",
       "1                 $744.80  \n",
       "2                 $186.43  \n",
       "3                 $129.78  \n",
       "4                 $128.45  \n",
       "...                   ...  \n",
       "273206              $4.05  \n",
       "273207              $0.21  \n",
       "273208              $3.95  \n",
       "273209              $0.10  \n",
       "273210              $1.17  \n",
       "\n",
       "[273211 rows x 15 columns]"
      ]
     },
     "execution_count": 7,
     "metadata": {},
     "output_type": "execute_result"
    }
   ],
   "source": [
    "medicare"
   ]
  },
  {
   "cell_type": "code",
   "execution_count": 8,
   "id": "8e7c1b4e",
   "metadata": {},
   "outputs": [
    {
     "data": {
      "text/plain": [
       "Rndrng_Prvdr_Geo_Cd      12994\n",
       "Rndrng_Prvdr_Geo_Lvl         0\n",
       "Rndrng_Prvdr_Geo_Desc        0\n",
       "HCPCS_Cd                     0\n",
       "HCPCS_Desc                   0\n",
       "HCPCS_Drug_Ind               0\n",
       "Place_Of_Srvc                0\n",
       "Tot_Rndrng_Prvdrs            0\n",
       "Tot_Benes                    0\n",
       "Tot_Srvcs                    0\n",
       "Tot_Bene_Day_Srvcs           0\n",
       "Avg_Sbmtd_Chrg               0\n",
       "Avg_Mdcr_Alowd_Amt           0\n",
       "Avg_Mdcr_Pymt_Amt            0\n",
       "Avg_Mdcr_Stdzd_Amt           0\n",
       "dtype: int64"
      ]
     },
     "execution_count": 8,
     "metadata": {},
     "output_type": "execute_result"
    }
   ],
   "source": [
    "medicare.isnull().sum().sort_values(ascending=False)"
   ]
  },
  {
   "cell_type": "markdown",
   "id": "a1249530",
   "metadata": {},
   "source": [
    "### Here only one variable has missing value so i imputed missing value with '999' "
   ]
  },
  {
   "cell_type": "code",
   "execution_count": 9,
   "id": "2389bbf1",
   "metadata": {},
   "outputs": [],
   "source": [
    "medicare.Rndrng_Prvdr_Geo_Cd=medicare.Rndrng_Prvdr_Geo_Cd.fillna('999')"
   ]
  },
  {
   "cell_type": "code",
   "execution_count": 10,
   "id": "ebf25b3d",
   "metadata": {},
   "outputs": [
    {
     "data": {
      "text/plain": [
       "Rndrng_Prvdr_Geo_Lvl     0\n",
       "Rndrng_Prvdr_Geo_Cd      0\n",
       "Rndrng_Prvdr_Geo_Desc    0\n",
       "HCPCS_Cd                 0\n",
       "HCPCS_Desc               0\n",
       "HCPCS_Drug_Ind           0\n",
       "Place_Of_Srvc            0\n",
       "Tot_Rndrng_Prvdrs        0\n",
       "Tot_Benes                0\n",
       "Tot_Srvcs                0\n",
       "Tot_Bene_Day_Srvcs       0\n",
       "Avg_Sbmtd_Chrg           0\n",
       "Avg_Mdcr_Alowd_Amt       0\n",
       "Avg_Mdcr_Pymt_Amt        0\n",
       "Avg_Mdcr_Stdzd_Amt       0\n",
       "dtype: int64"
      ]
     },
     "execution_count": 10,
     "metadata": {},
     "output_type": "execute_result"
    }
   ],
   "source": [
    "medicare.isnull().sum().sort_values(ascending=False)"
   ]
  },
  {
   "cell_type": "code",
   "execution_count": 11,
   "id": "253b62d7",
   "metadata": {},
   "outputs": [
    {
     "name": "stdout",
     "output_type": "stream",
     "text": [
      "State       260217\n",
      "National     12994\n",
      "Name: Rndrng_Prvdr_Geo_Lvl, dtype: int64\n",
      "999    12994\n",
      "06      8893\n",
      "12      8389\n",
      "48      8141\n",
      "36      7773\n",
      "       ...  \n",
      "9A       164\n",
      "9C       129\n",
      "69        88\n",
      "9D        81\n",
      "60         6\n",
      "Name: Rndrng_Prvdr_Geo_Cd, Length: 62, dtype: int64\n",
      "National                              12994\n",
      "California                             8893\n",
      "Florida                                8389\n",
      "Texas                                  8141\n",
      "New York                               7773\n",
      "                                      ...  \n",
      "Armed Forces Central/South America      164\n",
      "Armed Forces Pacific                    129\n",
      "Northern Mariana Islands                 88\n",
      "Unknown                                  81\n",
      "American Samoa                            6\n",
      "Name: Rndrng_Prvdr_Geo_Desc, Length: 62, dtype: int64\n",
      "99214    121\n",
      "99213    121\n",
      "99203    119\n",
      "99204    119\n",
      "71046    117\n",
      "        ... \n",
      "43420      1\n",
      "43425      1\n",
      "43460      1\n",
      "43502      1\n",
      "58346      1\n",
      "Name: HCPCS_Cd, Length: 8853, dtype: int64\n",
      "Flow cytometry technique for DNA or cell analysis                                                   368\n",
      "Closed treatment of broken ankle                                                                    347\n",
      "Injections of lower or sacral spine facet joint using imaging guidance                              320\n",
      "Injections of upper or middle spine facet joint using imaging guidance                              313\n",
      "Evaluation, testing and programming adjustment of defibrillator with analysis, review and report    311\n",
      "                                                                                                   ... \n",
      "Removal of foreign bodies of esophagus using an endoscope                                             1\n",
      "Injection of dilated esophageal veins using an endoscope                                              1\n",
      "Removal of tissue lining of esophagus using an endoscope                                              1\n",
      "Removal of augmentation device from sphincter of esophagus                                            1\n",
      "Induced abortion by dilation and uterine scraping                                                     1\n",
      "Name: HCPCS_Desc, Length: 7818, dtype: int64\n",
      "N    260701\n",
      "Y     12510\n",
      "Name: HCPCS_Drug_Ind, dtype: int64\n",
      "F    149325\n",
      "O    123886\n",
      "Name: Place_Of_Srvc, dtype: int64\n",
      "11        6637\n",
      "10        6541\n",
      "9         6346\n",
      "12        6193\n",
      "8         6020\n",
      "          ... \n",
      "29,849       1\n",
      "4,157        1\n",
      "59,750       1\n",
      "4,524        1\n",
      "3,002        1\n",
      "Name: Tot_Rndrng_Prvdrs, Length: 5518, dtype: int64\n",
      "11        6123\n",
      "12        5577\n",
      "13        4912\n",
      "14        4621\n",
      "15        4224\n",
      "          ... \n",
      "20,014       1\n",
      "55,140       1\n",
      "24,590       1\n",
      "17,312       1\n",
      "7,367        1\n",
      "Name: Tot_Benes, Length: 20954, dtype: int64\n",
      "15           3325\n",
      "13           3278\n",
      "14           3257\n",
      "16           3238\n",
      "12           3162\n",
      "             ... \n",
      "103,800         1\n",
      "43,192          1\n",
      "1,204,601       1\n",
      "52,215          1\n",
      "15,846          1\n",
      "Name: Tot_Srvcs, Length: 30138, dtype: int64\n",
      "13        3568\n",
      "14        3505\n",
      "15        3497\n",
      "12        3445\n",
      "16        3407\n",
      "          ... \n",
      "69,967       1\n",
      "70,907       1\n",
      "43,649       1\n",
      "11,777       1\n",
      "11,434       1\n",
      "Name: Tot_Bene_Day_Srvcs, Length: 24732, dtype: int64\n",
      "$50.00       99\n",
      "$100.00      63\n",
      "$40.00       63\n",
      "$30.00       59\n",
      "$25.00       57\n",
      "             ..\n",
      "$1,487.10     1\n",
      "$2,304.75     1\n",
      "$2,811.35     1\n",
      "$4,046.35     1\n",
      "$1,034.41     1\n",
      "Name: Avg_Sbmtd_Chrg, Length: 152040, dtype: int64\n",
      "$38.21       334\n",
      "$13.05       235\n",
      "$14.44       180\n",
      "$7.04        147\n",
      "$4.65        126\n",
      "            ... \n",
      "$1,097.07      1\n",
      "$874.23        1\n",
      "$855.98        1\n",
      "$842.10        1\n",
      "$158.13        1\n",
      "Name: Avg_Mdcr_Alowd_Amt, Length: 81023, dtype: int64\n",
      "$38.21     338\n",
      "$13.05     230\n",
      "$0.09      209\n",
      "$14.44     186\n",
      "$7.04      159\n",
      "          ... \n",
      "$870.56      1\n",
      "$885.63      1\n",
      "$834.50      1\n",
      "$454.54      1\n",
      "$219.07      1\n",
      "Name: Avg_Mdcr_Pymt_Amt, Length: 71671, dtype: int64\n",
      "$38.21       836\n",
      "$13.05       375\n",
      "$5.64        323\n",
      "$7.04        270\n",
      "$14.44       257\n",
      "            ... \n",
      "$866.57        1\n",
      "$661.69        1\n",
      "$1,899.60      1\n",
      "$1,733.28      1\n",
      "$511.39        1\n",
      "Name: Avg_Mdcr_Stdzd_Amt, Length: 71160, dtype: int64\n"
     ]
    }
   ],
   "source": [
    "for d in medicare.columns:\n",
    "    sas=medicare[d].value_counts(dropna=False)\n",
    "    print(sas)"
   ]
  },
  {
   "cell_type": "markdown",
   "id": "533de10d",
   "metadata": {},
   "source": [
    "## As per my data description, i changed the column datatype"
   ]
  },
  {
   "cell_type": "code",
   "execution_count": 14,
   "id": "6f28e96a",
   "metadata": {},
   "outputs": [],
   "source": [
    "mint=medicare[['Tot_Rndrng_Prvdrs','Tot_Benes','Tot_Bene_Day_Srvcs']]"
   ]
  },
  {
   "cell_type": "code",
   "execution_count": 15,
   "id": "127a3fbb",
   "metadata": {},
   "outputs": [],
   "source": [
    "mfloat=medicare[['Avg_Sbmtd_Chrg','Avg_Mdcr_Alowd_Amt','Avg_Mdcr_Pymt_Amt','Avg_Mdcr_Stdzd_Amt','Tot_Srvcs']]"
   ]
  },
  {
   "cell_type": "code",
   "execution_count": 16,
   "id": "6acb091f",
   "metadata": {},
   "outputs": [],
   "source": [
    "mobj=medicare[['Rndrng_Prvdr_Geo_Lvl', 'Rndrng_Prvdr_Geo_Cd', 'Rndrng_Prvdr_Geo_Desc',\n",
    "       'HCPCS_Cd', 'HCPCS_Desc', 'HCPCS_Drug_Ind', 'Place_Of_Srvc',]]"
   ]
  },
  {
   "cell_type": "markdown",
   "id": "bb1aca02",
   "metadata": {},
   "source": [
    "### Some columns have been transformed into int datatypes, as per the data description, while others have been converted from object datatypes to float datatypes."
   ]
  },
  {
   "cell_type": "code",
   "execution_count": 17,
   "id": "7fd25750",
   "metadata": {},
   "outputs": [
    {
     "name": "stdout",
     "output_type": "stream",
     "text": [
      "<class 'pandas.core.frame.DataFrame'>\n",
      "RangeIndex: 273211 entries, 0 to 273210\n",
      "Data columns (total 5 columns):\n",
      " #   Column              Non-Null Count   Dtype \n",
      "---  ------              --------------   ----- \n",
      " 0   Avg_Sbmtd_Chrg      273211 non-null  object\n",
      " 1   Avg_Mdcr_Alowd_Amt  273211 non-null  object\n",
      " 2   Avg_Mdcr_Pymt_Amt   273211 non-null  object\n",
      " 3   Avg_Mdcr_Stdzd_Amt  273211 non-null  object\n",
      " 4   Tot_Srvcs           273211 non-null  object\n",
      "dtypes: object(5)\n",
      "memory usage: 10.4+ MB\n"
     ]
    }
   ],
   "source": [
    "mfloat.info()"
   ]
  },
  {
   "cell_type": "code",
   "execution_count": 18,
   "id": "12a4c509",
   "metadata": {},
   "outputs": [
    {
     "data": {
      "text/html": [
       "<div>\n",
       "<style scoped>\n",
       "    .dataframe tbody tr th:only-of-type {\n",
       "        vertical-align: middle;\n",
       "    }\n",
       "\n",
       "    .dataframe tbody tr th {\n",
       "        vertical-align: top;\n",
       "    }\n",
       "\n",
       "    .dataframe thead th {\n",
       "        text-align: right;\n",
       "    }\n",
       "</style>\n",
       "<table border=\"1\" class=\"dataframe\">\n",
       "  <thead>\n",
       "    <tr style=\"text-align: right;\">\n",
       "      <th></th>\n",
       "      <th>Avg_Sbmtd_Chrg</th>\n",
       "      <th>Avg_Mdcr_Alowd_Amt</th>\n",
       "      <th>Avg_Mdcr_Pymt_Amt</th>\n",
       "      <th>Avg_Mdcr_Stdzd_Amt</th>\n",
       "      <th>Tot_Srvcs</th>\n",
       "    </tr>\n",
       "  </thead>\n",
       "  <tbody>\n",
       "    <tr>\n",
       "      <th>0</th>\n",
       "      <td>$680.55</td>\n",
       "      <td>$438.21</td>\n",
       "      <td>$438.21</td>\n",
       "      <td>$447.51</td>\n",
       "      <td>42</td>\n",
       "    </tr>\n",
       "    <tr>\n",
       "      <th>1</th>\n",
       "      <td>$795.00</td>\n",
       "      <td>$744.80</td>\n",
       "      <td>$744.80</td>\n",
       "      <td>$744.80</td>\n",
       "      <td>540</td>\n",
       "    </tr>\n",
       "    <tr>\n",
       "      <th>2</th>\n",
       "      <td>$1,959.51</td>\n",
       "      <td>$237.04</td>\n",
       "      <td>$187.54</td>\n",
       "      <td>$186.43</td>\n",
       "      <td>12,019</td>\n",
       "    </tr>\n",
       "    <tr>\n",
       "      <th>3</th>\n",
       "      <td>$1,409.59</td>\n",
       "      <td>$170.33</td>\n",
       "      <td>$134.02</td>\n",
       "      <td>$129.78</td>\n",
       "      <td>99</td>\n",
       "    </tr>\n",
       "    <tr>\n",
       "      <th>4</th>\n",
       "      <td>$1,210.95</td>\n",
       "      <td>$165.06</td>\n",
       "      <td>$129.08</td>\n",
       "      <td>$128.45</td>\n",
       "      <td>70</td>\n",
       "    </tr>\n",
       "    <tr>\n",
       "      <th>...</th>\n",
       "      <td>...</td>\n",
       "      <td>...</td>\n",
       "      <td>...</td>\n",
       "      <td>...</td>\n",
       "      <td>...</td>\n",
       "    </tr>\n",
       "    <tr>\n",
       "      <th>273206</th>\n",
       "      <td>$51.14</td>\n",
       "      <td>$7.48</td>\n",
       "      <td>$5.34</td>\n",
       "      <td>$4.05</td>\n",
       "      <td>204</td>\n",
       "    </tr>\n",
       "    <tr>\n",
       "      <th>273207</th>\n",
       "      <td>$27.19</td>\n",
       "      <td>$0.59</td>\n",
       "      <td>$0.21</td>\n",
       "      <td>$0.21</td>\n",
       "      <td>55</td>\n",
       "    </tr>\n",
       "    <tr>\n",
       "      <th>273208</th>\n",
       "      <td>$29.47</td>\n",
       "      <td>$6.34</td>\n",
       "      <td>$3.95</td>\n",
       "      <td>$3.95</td>\n",
       "      <td>19</td>\n",
       "    </tr>\n",
       "    <tr>\n",
       "      <th>273209</th>\n",
       "      <td>$15.03</td>\n",
       "      <td>$0.12</td>\n",
       "      <td>$0.10</td>\n",
       "      <td>$0.10</td>\n",
       "      <td>39</td>\n",
       "    </tr>\n",
       "    <tr>\n",
       "      <th>273210</th>\n",
       "      <td>$28.20</td>\n",
       "      <td>$1.54</td>\n",
       "      <td>$1.12</td>\n",
       "      <td>$1.17</td>\n",
       "      <td>133</td>\n",
       "    </tr>\n",
       "  </tbody>\n",
       "</table>\n",
       "<p>273211 rows × 5 columns</p>\n",
       "</div>"
      ],
      "text/plain": [
       "       Avg_Sbmtd_Chrg Avg_Mdcr_Alowd_Amt Avg_Mdcr_Pymt_Amt Avg_Mdcr_Stdzd_Amt  \\\n",
       "0             $680.55            $438.21           $438.21            $447.51   \n",
       "1             $795.00            $744.80           $744.80            $744.80   \n",
       "2           $1,959.51            $237.04           $187.54            $186.43   \n",
       "3           $1,409.59            $170.33           $134.02            $129.78   \n",
       "4           $1,210.95            $165.06           $129.08            $128.45   \n",
       "...               ...                ...               ...                ...   \n",
       "273206         $51.14              $7.48             $5.34              $4.05   \n",
       "273207         $27.19              $0.59             $0.21              $0.21   \n",
       "273208         $29.47              $6.34             $3.95              $3.95   \n",
       "273209         $15.03              $0.12             $0.10              $0.10   \n",
       "273210         $28.20              $1.54             $1.12              $1.17   \n",
       "\n",
       "       Tot_Srvcs  \n",
       "0             42  \n",
       "1            540  \n",
       "2         12,019  \n",
       "3             99  \n",
       "4             70  \n",
       "...          ...  \n",
       "273206       204  \n",
       "273207        55  \n",
       "273208        19  \n",
       "273209        39  \n",
       "273210       133  \n",
       "\n",
       "[273211 rows x 5 columns]"
      ]
     },
     "execution_count": 18,
     "metadata": {},
     "output_type": "execute_result"
    }
   ],
   "source": [
    "mfloat"
   ]
  },
  {
   "cell_type": "code",
   "execution_count": 19,
   "id": "e5ae0021",
   "metadata": {},
   "outputs": [
    {
     "name": "stderr",
     "output_type": "stream",
     "text": [
      "C:\\Users\\HP\\AppData\\Local\\Temp\\ipykernel_5564\\4018804355.py:1: FutureWarning: The default value of regex will change from True to False in a future version. In addition, single character regular expressions will *not* be treated as literal strings when regex=True.\n",
      "  mfloat.Avg_Sbmtd_Chrg=mfloat.Avg_Sbmtd_Chrg.str.replace(\"$\",\" \")\n",
      "C:\\Users\\HP\\AppData\\Local\\Temp\\ipykernel_5564\\4018804355.py:1: SettingWithCopyWarning: \n",
      "A value is trying to be set on a copy of a slice from a DataFrame.\n",
      "Try using .loc[row_indexer,col_indexer] = value instead\n",
      "\n",
      "See the caveats in the documentation: https://pandas.pydata.org/pandas-docs/stable/user_guide/indexing.html#returning-a-view-versus-a-copy\n",
      "  mfloat.Avg_Sbmtd_Chrg=mfloat.Avg_Sbmtd_Chrg.str.replace(\"$\",\" \")\n"
     ]
    }
   ],
   "source": [
    "mfloat.Avg_Sbmtd_Chrg=mfloat.Avg_Sbmtd_Chrg.str.replace(\"$\",\" \")"
   ]
  },
  {
   "cell_type": "code",
   "execution_count": 20,
   "id": "37a1d70a",
   "metadata": {},
   "outputs": [
    {
     "name": "stderr",
     "output_type": "stream",
     "text": [
      "C:\\Users\\HP\\AppData\\Local\\Temp\\ipykernel_5564\\1642056043.py:1: SettingWithCopyWarning: \n",
      "A value is trying to be set on a copy of a slice from a DataFrame.\n",
      "Try using .loc[row_indexer,col_indexer] = value instead\n",
      "\n",
      "See the caveats in the documentation: https://pandas.pydata.org/pandas-docs/stable/user_guide/indexing.html#returning-a-view-versus-a-copy\n",
      "  mfloat.Avg_Sbmtd_Chrg=mfloat.Avg_Sbmtd_Chrg.str.replace(\",\",\"\")\n"
     ]
    }
   ],
   "source": [
    "mfloat.Avg_Sbmtd_Chrg=mfloat.Avg_Sbmtd_Chrg.str.replace(\",\",\"\")"
   ]
  },
  {
   "cell_type": "code",
   "execution_count": 21,
   "id": "e8e1befe",
   "metadata": {},
   "outputs": [
    {
     "name": "stderr",
     "output_type": "stream",
     "text": [
      "C:\\Users\\HP\\AppData\\Local\\Temp\\ipykernel_5564\\474689071.py:1: FutureWarning: The default value of regex will change from True to False in a future version. In addition, single character regular expressions will *not* be treated as literal strings when regex=True.\n",
      "  mfloat.Avg_Mdcr_Alowd_Amt=mfloat.Avg_Mdcr_Alowd_Amt.str.replace(\"$\",\" \")\n",
      "C:\\Users\\HP\\AppData\\Local\\Temp\\ipykernel_5564\\474689071.py:1: SettingWithCopyWarning: \n",
      "A value is trying to be set on a copy of a slice from a DataFrame.\n",
      "Try using .loc[row_indexer,col_indexer] = value instead\n",
      "\n",
      "See the caveats in the documentation: https://pandas.pydata.org/pandas-docs/stable/user_guide/indexing.html#returning-a-view-versus-a-copy\n",
      "  mfloat.Avg_Mdcr_Alowd_Amt=mfloat.Avg_Mdcr_Alowd_Amt.str.replace(\"$\",\" \")\n"
     ]
    }
   ],
   "source": [
    "mfloat.Avg_Mdcr_Alowd_Amt=mfloat.Avg_Mdcr_Alowd_Amt.str.replace(\"$\",\" \")"
   ]
  },
  {
   "cell_type": "code",
   "execution_count": 22,
   "id": "2aefebb4",
   "metadata": {},
   "outputs": [
    {
     "name": "stderr",
     "output_type": "stream",
     "text": [
      "C:\\Users\\HP\\AppData\\Local\\Temp\\ipykernel_5564\\1009495075.py:1: SettingWithCopyWarning: \n",
      "A value is trying to be set on a copy of a slice from a DataFrame.\n",
      "Try using .loc[row_indexer,col_indexer] = value instead\n",
      "\n",
      "See the caveats in the documentation: https://pandas.pydata.org/pandas-docs/stable/user_guide/indexing.html#returning-a-view-versus-a-copy\n",
      "  mfloat.Avg_Mdcr_Alowd_Amt=mfloat.Avg_Mdcr_Alowd_Amt.str.replace(\",\",\"\")\n"
     ]
    }
   ],
   "source": [
    "mfloat.Avg_Mdcr_Alowd_Amt=mfloat.Avg_Mdcr_Alowd_Amt.str.replace(\",\",\"\")"
   ]
  },
  {
   "cell_type": "code",
   "execution_count": 23,
   "id": "3a78ef24",
   "metadata": {},
   "outputs": [
    {
     "name": "stderr",
     "output_type": "stream",
     "text": [
      "C:\\Users\\HP\\AppData\\Local\\Temp\\ipykernel_5564\\3235210233.py:1: FutureWarning: The default value of regex will change from True to False in a future version. In addition, single character regular expressions will *not* be treated as literal strings when regex=True.\n",
      "  mfloat.Avg_Mdcr_Pymt_Amt=mfloat.Avg_Mdcr_Pymt_Amt.str.replace(\"$\",\" \")\n",
      "C:\\Users\\HP\\AppData\\Local\\Temp\\ipykernel_5564\\3235210233.py:1: SettingWithCopyWarning: \n",
      "A value is trying to be set on a copy of a slice from a DataFrame.\n",
      "Try using .loc[row_indexer,col_indexer] = value instead\n",
      "\n",
      "See the caveats in the documentation: https://pandas.pydata.org/pandas-docs/stable/user_guide/indexing.html#returning-a-view-versus-a-copy\n",
      "  mfloat.Avg_Mdcr_Pymt_Amt=mfloat.Avg_Mdcr_Pymt_Amt.str.replace(\"$\",\" \")\n"
     ]
    }
   ],
   "source": [
    "mfloat.Avg_Mdcr_Pymt_Amt=mfloat.Avg_Mdcr_Pymt_Amt.str.replace(\"$\",\" \")"
   ]
  },
  {
   "cell_type": "code",
   "execution_count": 24,
   "id": "6c6f4dff",
   "metadata": {},
   "outputs": [
    {
     "name": "stderr",
     "output_type": "stream",
     "text": [
      "C:\\Users\\HP\\AppData\\Local\\Temp\\ipykernel_5564\\33331913.py:1: SettingWithCopyWarning: \n",
      "A value is trying to be set on a copy of a slice from a DataFrame.\n",
      "Try using .loc[row_indexer,col_indexer] = value instead\n",
      "\n",
      "See the caveats in the documentation: https://pandas.pydata.org/pandas-docs/stable/user_guide/indexing.html#returning-a-view-versus-a-copy\n",
      "  mfloat.Avg_Mdcr_Pymt_Amt=mfloat.Avg_Mdcr_Pymt_Amt.str.replace(\",\",\"\")\n"
     ]
    }
   ],
   "source": [
    "mfloat.Avg_Mdcr_Pymt_Amt=mfloat.Avg_Mdcr_Pymt_Amt.str.replace(\",\",\"\")"
   ]
  },
  {
   "cell_type": "code",
   "execution_count": 25,
   "id": "b96969e1",
   "metadata": {},
   "outputs": [
    {
     "name": "stderr",
     "output_type": "stream",
     "text": [
      "C:\\Users\\HP\\AppData\\Local\\Temp\\ipykernel_5564\\4260689344.py:1: FutureWarning: The default value of regex will change from True to False in a future version. In addition, single character regular expressions will *not* be treated as literal strings when regex=True.\n",
      "  mfloat.Avg_Mdcr_Stdzd_Amt=mfloat.Avg_Mdcr_Stdzd_Amt.str.replace(\"$\",\" \")\n",
      "C:\\Users\\HP\\AppData\\Local\\Temp\\ipykernel_5564\\4260689344.py:1: SettingWithCopyWarning: \n",
      "A value is trying to be set on a copy of a slice from a DataFrame.\n",
      "Try using .loc[row_indexer,col_indexer] = value instead\n",
      "\n",
      "See the caveats in the documentation: https://pandas.pydata.org/pandas-docs/stable/user_guide/indexing.html#returning-a-view-versus-a-copy\n",
      "  mfloat.Avg_Mdcr_Stdzd_Amt=mfloat.Avg_Mdcr_Stdzd_Amt.str.replace(\"$\",\" \")\n"
     ]
    }
   ],
   "source": [
    "mfloat.Avg_Mdcr_Stdzd_Amt=mfloat.Avg_Mdcr_Stdzd_Amt.str.replace(\"$\",\" \")"
   ]
  },
  {
   "cell_type": "code",
   "execution_count": 26,
   "id": "4011bad7",
   "metadata": {},
   "outputs": [
    {
     "name": "stderr",
     "output_type": "stream",
     "text": [
      "C:\\Users\\HP\\AppData\\Local\\Temp\\ipykernel_5564\\1734706054.py:1: SettingWithCopyWarning: \n",
      "A value is trying to be set on a copy of a slice from a DataFrame.\n",
      "Try using .loc[row_indexer,col_indexer] = value instead\n",
      "\n",
      "See the caveats in the documentation: https://pandas.pydata.org/pandas-docs/stable/user_guide/indexing.html#returning-a-view-versus-a-copy\n",
      "  mfloat.Avg_Mdcr_Stdzd_Amt=mfloat.Avg_Mdcr_Stdzd_Amt.str.replace(\",\",\"\")\n"
     ]
    }
   ],
   "source": [
    "mfloat.Avg_Mdcr_Stdzd_Amt=mfloat.Avg_Mdcr_Stdzd_Amt.str.replace(\",\",\"\")"
   ]
  },
  {
   "cell_type": "code",
   "execution_count": 27,
   "id": "e70d4693",
   "metadata": {},
   "outputs": [
    {
     "name": "stderr",
     "output_type": "stream",
     "text": [
      "C:\\Users\\HP\\AppData\\Local\\Temp\\ipykernel_5564\\364673112.py:1: SettingWithCopyWarning: \n",
      "A value is trying to be set on a copy of a slice from a DataFrame.\n",
      "Try using .loc[row_indexer,col_indexer] = value instead\n",
      "\n",
      "See the caveats in the documentation: https://pandas.pydata.org/pandas-docs/stable/user_guide/indexing.html#returning-a-view-versus-a-copy\n",
      "  mfloat.Tot_Srvcs=mfloat.Tot_Srvcs.str.replace(\",\",\"\")\n"
     ]
    }
   ],
   "source": [
    "mfloat.Tot_Srvcs=mfloat.Tot_Srvcs.str.replace(\",\",\"\")"
   ]
  },
  {
   "cell_type": "code",
   "execution_count": 28,
   "id": "b24f73a3",
   "metadata": {},
   "outputs": [
    {
     "data": {
      "text/html": [
       "<div>\n",
       "<style scoped>\n",
       "    .dataframe tbody tr th:only-of-type {\n",
       "        vertical-align: middle;\n",
       "    }\n",
       "\n",
       "    .dataframe tbody tr th {\n",
       "        vertical-align: top;\n",
       "    }\n",
       "\n",
       "    .dataframe thead th {\n",
       "        text-align: right;\n",
       "    }\n",
       "</style>\n",
       "<table border=\"1\" class=\"dataframe\">\n",
       "  <thead>\n",
       "    <tr style=\"text-align: right;\">\n",
       "      <th></th>\n",
       "      <th>Avg_Sbmtd_Chrg</th>\n",
       "      <th>Avg_Mdcr_Alowd_Amt</th>\n",
       "      <th>Avg_Mdcr_Pymt_Amt</th>\n",
       "      <th>Avg_Mdcr_Stdzd_Amt</th>\n",
       "      <th>Tot_Srvcs</th>\n",
       "    </tr>\n",
       "  </thead>\n",
       "  <tbody>\n",
       "    <tr>\n",
       "      <th>0</th>\n",
       "      <td>680.55</td>\n",
       "      <td>438.21</td>\n",
       "      <td>438.21</td>\n",
       "      <td>447.51</td>\n",
       "      <td>42</td>\n",
       "    </tr>\n",
       "    <tr>\n",
       "      <th>1</th>\n",
       "      <td>795.00</td>\n",
       "      <td>744.80</td>\n",
       "      <td>744.80</td>\n",
       "      <td>744.80</td>\n",
       "      <td>540</td>\n",
       "    </tr>\n",
       "    <tr>\n",
       "      <th>2</th>\n",
       "      <td>1959.51</td>\n",
       "      <td>237.04</td>\n",
       "      <td>187.54</td>\n",
       "      <td>186.43</td>\n",
       "      <td>12019</td>\n",
       "    </tr>\n",
       "    <tr>\n",
       "      <th>3</th>\n",
       "      <td>1409.59</td>\n",
       "      <td>170.33</td>\n",
       "      <td>134.02</td>\n",
       "      <td>129.78</td>\n",
       "      <td>99</td>\n",
       "    </tr>\n",
       "    <tr>\n",
       "      <th>4</th>\n",
       "      <td>1210.95</td>\n",
       "      <td>165.06</td>\n",
       "      <td>129.08</td>\n",
       "      <td>128.45</td>\n",
       "      <td>70</td>\n",
       "    </tr>\n",
       "    <tr>\n",
       "      <th>...</th>\n",
       "      <td>...</td>\n",
       "      <td>...</td>\n",
       "      <td>...</td>\n",
       "      <td>...</td>\n",
       "      <td>...</td>\n",
       "    </tr>\n",
       "    <tr>\n",
       "      <th>273206</th>\n",
       "      <td>51.14</td>\n",
       "      <td>7.48</td>\n",
       "      <td>5.34</td>\n",
       "      <td>4.05</td>\n",
       "      <td>204</td>\n",
       "    </tr>\n",
       "    <tr>\n",
       "      <th>273207</th>\n",
       "      <td>27.19</td>\n",
       "      <td>0.59</td>\n",
       "      <td>0.21</td>\n",
       "      <td>0.21</td>\n",
       "      <td>55</td>\n",
       "    </tr>\n",
       "    <tr>\n",
       "      <th>273208</th>\n",
       "      <td>29.47</td>\n",
       "      <td>6.34</td>\n",
       "      <td>3.95</td>\n",
       "      <td>3.95</td>\n",
       "      <td>19</td>\n",
       "    </tr>\n",
       "    <tr>\n",
       "      <th>273209</th>\n",
       "      <td>15.03</td>\n",
       "      <td>0.12</td>\n",
       "      <td>0.10</td>\n",
       "      <td>0.10</td>\n",
       "      <td>39</td>\n",
       "    </tr>\n",
       "    <tr>\n",
       "      <th>273210</th>\n",
       "      <td>28.20</td>\n",
       "      <td>1.54</td>\n",
       "      <td>1.12</td>\n",
       "      <td>1.17</td>\n",
       "      <td>133</td>\n",
       "    </tr>\n",
       "  </tbody>\n",
       "</table>\n",
       "<p>273211 rows × 5 columns</p>\n",
       "</div>"
      ],
      "text/plain": [
       "       Avg_Sbmtd_Chrg Avg_Mdcr_Alowd_Amt Avg_Mdcr_Pymt_Amt Avg_Mdcr_Stdzd_Amt  \\\n",
       "0              680.55             438.21            438.21             447.51   \n",
       "1              795.00             744.80            744.80             744.80   \n",
       "2             1959.51             237.04            187.54             186.43   \n",
       "3             1409.59             170.33            134.02             129.78   \n",
       "4             1210.95             165.06            129.08             128.45   \n",
       "...               ...                ...               ...                ...   \n",
       "273206          51.14               7.48              5.34               4.05   \n",
       "273207          27.19               0.59              0.21               0.21   \n",
       "273208          29.47               6.34              3.95               3.95   \n",
       "273209          15.03               0.12              0.10               0.10   \n",
       "273210          28.20               1.54              1.12               1.17   \n",
       "\n",
       "       Tot_Srvcs  \n",
       "0             42  \n",
       "1            540  \n",
       "2          12019  \n",
       "3             99  \n",
       "4             70  \n",
       "...          ...  \n",
       "273206       204  \n",
       "273207        55  \n",
       "273208        19  \n",
       "273209        39  \n",
       "273210       133  \n",
       "\n",
       "[273211 rows x 5 columns]"
      ]
     },
     "execution_count": 28,
     "metadata": {},
     "output_type": "execute_result"
    }
   ],
   "source": [
    "mfloat"
   ]
  },
  {
   "cell_type": "code",
   "execution_count": 29,
   "id": "165f4419",
   "metadata": {},
   "outputs": [
    {
     "name": "stdout",
     "output_type": "stream",
     "text": [
      "<class 'pandas.core.frame.DataFrame'>\n",
      "RangeIndex: 273211 entries, 0 to 273210\n",
      "Data columns (total 5 columns):\n",
      " #   Column              Non-Null Count   Dtype \n",
      "---  ------              --------------   ----- \n",
      " 0   Avg_Sbmtd_Chrg      273211 non-null  object\n",
      " 1   Avg_Mdcr_Alowd_Amt  273211 non-null  object\n",
      " 2   Avg_Mdcr_Pymt_Amt   273211 non-null  object\n",
      " 3   Avg_Mdcr_Stdzd_Amt  273211 non-null  object\n",
      " 4   Tot_Srvcs           273211 non-null  object\n",
      "dtypes: object(5)\n",
      "memory usage: 10.4+ MB\n"
     ]
    }
   ],
   "source": [
    "mfloat.info()"
   ]
  },
  {
   "cell_type": "code",
   "execution_count": 30,
   "id": "fb24a8b5",
   "metadata": {},
   "outputs": [],
   "source": [
    "mfloat=mfloat.astype('float64')"
   ]
  },
  {
   "cell_type": "code",
   "execution_count": 31,
   "id": "74ad0334",
   "metadata": {},
   "outputs": [
    {
     "data": {
      "text/html": [
       "<div>\n",
       "<style scoped>\n",
       "    .dataframe tbody tr th:only-of-type {\n",
       "        vertical-align: middle;\n",
       "    }\n",
       "\n",
       "    .dataframe tbody tr th {\n",
       "        vertical-align: top;\n",
       "    }\n",
       "\n",
       "    .dataframe thead th {\n",
       "        text-align: right;\n",
       "    }\n",
       "</style>\n",
       "<table border=\"1\" class=\"dataframe\">\n",
       "  <thead>\n",
       "    <tr style=\"text-align: right;\">\n",
       "      <th></th>\n",
       "      <th>Tot_Rndrng_Prvdrs</th>\n",
       "      <th>Tot_Benes</th>\n",
       "      <th>Tot_Bene_Day_Srvcs</th>\n",
       "    </tr>\n",
       "  </thead>\n",
       "  <tbody>\n",
       "    <tr>\n",
       "      <th>0</th>\n",
       "      <td>12</td>\n",
       "      <td>41</td>\n",
       "      <td>42</td>\n",
       "    </tr>\n",
       "    <tr>\n",
       "      <th>1</th>\n",
       "      <td>1</td>\n",
       "      <td>539</td>\n",
       "      <td>540</td>\n",
       "    </tr>\n",
       "    <tr>\n",
       "      <th>2</th>\n",
       "      <td>9,574</td>\n",
       "      <td>8,232</td>\n",
       "      <td>12,016</td>\n",
       "    </tr>\n",
       "    <tr>\n",
       "      <th>3</th>\n",
       "      <td>91</td>\n",
       "      <td>59</td>\n",
       "      <td>99</td>\n",
       "    </tr>\n",
       "    <tr>\n",
       "      <th>4</th>\n",
       "      <td>63</td>\n",
       "      <td>48</td>\n",
       "      <td>70</td>\n",
       "    </tr>\n",
       "    <tr>\n",
       "      <th>...</th>\n",
       "      <td>...</td>\n",
       "      <td>...</td>\n",
       "      <td>...</td>\n",
       "    </tr>\n",
       "    <tr>\n",
       "      <th>273206</th>\n",
       "      <td>1</td>\n",
       "      <td>191</td>\n",
       "      <td>203</td>\n",
       "    </tr>\n",
       "    <tr>\n",
       "      <th>273207</th>\n",
       "      <td>7</td>\n",
       "      <td>15</td>\n",
       "      <td>17</td>\n",
       "    </tr>\n",
       "    <tr>\n",
       "      <th>273208</th>\n",
       "      <td>2</td>\n",
       "      <td>16</td>\n",
       "      <td>18</td>\n",
       "    </tr>\n",
       "    <tr>\n",
       "      <th>273209</th>\n",
       "      <td>3</td>\n",
       "      <td>11</td>\n",
       "      <td>11</td>\n",
       "    </tr>\n",
       "    <tr>\n",
       "      <th>273210</th>\n",
       "      <td>5</td>\n",
       "      <td>26</td>\n",
       "      <td>31</td>\n",
       "    </tr>\n",
       "  </tbody>\n",
       "</table>\n",
       "<p>273211 rows × 3 columns</p>\n",
       "</div>"
      ],
      "text/plain": [
       "       Tot_Rndrng_Prvdrs Tot_Benes Tot_Bene_Day_Srvcs\n",
       "0                     12        41                 42\n",
       "1                      1       539                540\n",
       "2                  9,574     8,232             12,016\n",
       "3                     91        59                 99\n",
       "4                     63        48                 70\n",
       "...                  ...       ...                ...\n",
       "273206                 1       191                203\n",
       "273207                 7        15                 17\n",
       "273208                 2        16                 18\n",
       "273209                 3        11                 11\n",
       "273210                 5        26                 31\n",
       "\n",
       "[273211 rows x 3 columns]"
      ]
     },
     "execution_count": 31,
     "metadata": {},
     "output_type": "execute_result"
    }
   ],
   "source": [
    "mint"
   ]
  },
  {
   "cell_type": "code",
   "execution_count": 32,
   "id": "44e560a5",
   "metadata": {},
   "outputs": [
    {
     "name": "stderr",
     "output_type": "stream",
     "text": [
      "C:\\Users\\HP\\AppData\\Local\\Temp\\ipykernel_5564\\3808569030.py:1: SettingWithCopyWarning: \n",
      "A value is trying to be set on a copy of a slice from a DataFrame.\n",
      "Try using .loc[row_indexer,col_indexer] = value instead\n",
      "\n",
      "See the caveats in the documentation: https://pandas.pydata.org/pandas-docs/stable/user_guide/indexing.html#returning-a-view-versus-a-copy\n",
      "  mint.Tot_Rndrng_Prvdrs=mint.Tot_Rndrng_Prvdrs.str.replace(\",\",\"\")\n"
     ]
    }
   ],
   "source": [
    "mint.Tot_Rndrng_Prvdrs=mint.Tot_Rndrng_Prvdrs.str.replace(\",\",\"\")"
   ]
  },
  {
   "cell_type": "code",
   "execution_count": 33,
   "id": "2c3a1740",
   "metadata": {},
   "outputs": [
    {
     "name": "stderr",
     "output_type": "stream",
     "text": [
      "C:\\Users\\HP\\AppData\\Local\\Temp\\ipykernel_5564\\2316426318.py:1: SettingWithCopyWarning: \n",
      "A value is trying to be set on a copy of a slice from a DataFrame.\n",
      "Try using .loc[row_indexer,col_indexer] = value instead\n",
      "\n",
      "See the caveats in the documentation: https://pandas.pydata.org/pandas-docs/stable/user_guide/indexing.html#returning-a-view-versus-a-copy\n",
      "  mint.Tot_Benes=mint.Tot_Benes.str.replace(\",\",\"\")\n"
     ]
    }
   ],
   "source": [
    "mint.Tot_Benes=mint.Tot_Benes.str.replace(\",\",\"\")"
   ]
  },
  {
   "cell_type": "code",
   "execution_count": 34,
   "id": "eb0635cc",
   "metadata": {},
   "outputs": [
    {
     "name": "stderr",
     "output_type": "stream",
     "text": [
      "C:\\Users\\HP\\AppData\\Local\\Temp\\ipykernel_5564\\802432565.py:1: SettingWithCopyWarning: \n",
      "A value is trying to be set on a copy of a slice from a DataFrame.\n",
      "Try using .loc[row_indexer,col_indexer] = value instead\n",
      "\n",
      "See the caveats in the documentation: https://pandas.pydata.org/pandas-docs/stable/user_guide/indexing.html#returning-a-view-versus-a-copy\n",
      "  mint.Tot_Bene_Day_Srvcs=mint.Tot_Bene_Day_Srvcs.str.replace(\",\",\"\")\n"
     ]
    }
   ],
   "source": [
    "mint.Tot_Bene_Day_Srvcs=mint.Tot_Bene_Day_Srvcs.str.replace(\",\",\"\")"
   ]
  },
  {
   "cell_type": "code",
   "execution_count": 35,
   "id": "f39c51eb",
   "metadata": {},
   "outputs": [
    {
     "data": {
      "text/html": [
       "<div>\n",
       "<style scoped>\n",
       "    .dataframe tbody tr th:only-of-type {\n",
       "        vertical-align: middle;\n",
       "    }\n",
       "\n",
       "    .dataframe tbody tr th {\n",
       "        vertical-align: top;\n",
       "    }\n",
       "\n",
       "    .dataframe thead th {\n",
       "        text-align: right;\n",
       "    }\n",
       "</style>\n",
       "<table border=\"1\" class=\"dataframe\">\n",
       "  <thead>\n",
       "    <tr style=\"text-align: right;\">\n",
       "      <th></th>\n",
       "      <th>Tot_Rndrng_Prvdrs</th>\n",
       "      <th>Tot_Benes</th>\n",
       "      <th>Tot_Bene_Day_Srvcs</th>\n",
       "    </tr>\n",
       "  </thead>\n",
       "  <tbody>\n",
       "    <tr>\n",
       "      <th>0</th>\n",
       "      <td>12</td>\n",
       "      <td>41</td>\n",
       "      <td>42</td>\n",
       "    </tr>\n",
       "    <tr>\n",
       "      <th>1</th>\n",
       "      <td>1</td>\n",
       "      <td>539</td>\n",
       "      <td>540</td>\n",
       "    </tr>\n",
       "    <tr>\n",
       "      <th>2</th>\n",
       "      <td>9574</td>\n",
       "      <td>8232</td>\n",
       "      <td>12016</td>\n",
       "    </tr>\n",
       "    <tr>\n",
       "      <th>3</th>\n",
       "      <td>91</td>\n",
       "      <td>59</td>\n",
       "      <td>99</td>\n",
       "    </tr>\n",
       "    <tr>\n",
       "      <th>4</th>\n",
       "      <td>63</td>\n",
       "      <td>48</td>\n",
       "      <td>70</td>\n",
       "    </tr>\n",
       "    <tr>\n",
       "      <th>...</th>\n",
       "      <td>...</td>\n",
       "      <td>...</td>\n",
       "      <td>...</td>\n",
       "    </tr>\n",
       "    <tr>\n",
       "      <th>273206</th>\n",
       "      <td>1</td>\n",
       "      <td>191</td>\n",
       "      <td>203</td>\n",
       "    </tr>\n",
       "    <tr>\n",
       "      <th>273207</th>\n",
       "      <td>7</td>\n",
       "      <td>15</td>\n",
       "      <td>17</td>\n",
       "    </tr>\n",
       "    <tr>\n",
       "      <th>273208</th>\n",
       "      <td>2</td>\n",
       "      <td>16</td>\n",
       "      <td>18</td>\n",
       "    </tr>\n",
       "    <tr>\n",
       "      <th>273209</th>\n",
       "      <td>3</td>\n",
       "      <td>11</td>\n",
       "      <td>11</td>\n",
       "    </tr>\n",
       "    <tr>\n",
       "      <th>273210</th>\n",
       "      <td>5</td>\n",
       "      <td>26</td>\n",
       "      <td>31</td>\n",
       "    </tr>\n",
       "  </tbody>\n",
       "</table>\n",
       "<p>273211 rows × 3 columns</p>\n",
       "</div>"
      ],
      "text/plain": [
       "       Tot_Rndrng_Prvdrs Tot_Benes Tot_Bene_Day_Srvcs\n",
       "0                     12        41                 42\n",
       "1                      1       539                540\n",
       "2                   9574      8232              12016\n",
       "3                     91        59                 99\n",
       "4                     63        48                 70\n",
       "...                  ...       ...                ...\n",
       "273206                 1       191                203\n",
       "273207                 7        15                 17\n",
       "273208                 2        16                 18\n",
       "273209                 3        11                 11\n",
       "273210                 5        26                 31\n",
       "\n",
       "[273211 rows x 3 columns]"
      ]
     },
     "execution_count": 35,
     "metadata": {},
     "output_type": "execute_result"
    }
   ],
   "source": [
    "mint"
   ]
  },
  {
   "cell_type": "code",
   "execution_count": 36,
   "id": "8d9e7038",
   "metadata": {},
   "outputs": [],
   "source": [
    "mint=mint.astype(int)"
   ]
  },
  {
   "cell_type": "code",
   "execution_count": 37,
   "id": "c91b9b78",
   "metadata": {},
   "outputs": [
    {
     "name": "stdout",
     "output_type": "stream",
     "text": [
      "<class 'pandas.core.frame.DataFrame'>\n",
      "RangeIndex: 273211 entries, 0 to 273210\n",
      "Data columns (total 3 columns):\n",
      " #   Column              Non-Null Count   Dtype\n",
      "---  ------              --------------   -----\n",
      " 0   Tot_Rndrng_Prvdrs   273211 non-null  int32\n",
      " 1   Tot_Benes           273211 non-null  int32\n",
      " 2   Tot_Bene_Day_Srvcs  273211 non-null  int32\n",
      "dtypes: int32(3)\n",
      "memory usage: 3.1 MB\n"
     ]
    }
   ],
   "source": [
    "mint.info()"
   ]
  },
  {
   "cell_type": "code",
   "execution_count": 38,
   "id": "57d07b6c",
   "metadata": {},
   "outputs": [],
   "source": [
    "tdata=pd.concat([mobj,mfloat,mint],axis=1)"
   ]
  },
  {
   "cell_type": "code",
   "execution_count": 39,
   "id": "e09d45bb",
   "metadata": {
    "scrolled": true
   },
   "outputs": [
    {
     "data": {
      "text/html": [
       "<div>\n",
       "<style scoped>\n",
       "    .dataframe tbody tr th:only-of-type {\n",
       "        vertical-align: middle;\n",
       "    }\n",
       "\n",
       "    .dataframe tbody tr th {\n",
       "        vertical-align: top;\n",
       "    }\n",
       "\n",
       "    .dataframe thead th {\n",
       "        text-align: right;\n",
       "    }\n",
       "</style>\n",
       "<table border=\"1\" class=\"dataframe\">\n",
       "  <thead>\n",
       "    <tr style=\"text-align: right;\">\n",
       "      <th></th>\n",
       "      <th>Rndrng_Prvdr_Geo_Lvl</th>\n",
       "      <th>Rndrng_Prvdr_Geo_Cd</th>\n",
       "      <th>Rndrng_Prvdr_Geo_Desc</th>\n",
       "      <th>HCPCS_Cd</th>\n",
       "      <th>HCPCS_Desc</th>\n",
       "      <th>HCPCS_Drug_Ind</th>\n",
       "      <th>Place_Of_Srvc</th>\n",
       "      <th>Avg_Sbmtd_Chrg</th>\n",
       "      <th>Avg_Mdcr_Alowd_Amt</th>\n",
       "      <th>Avg_Mdcr_Pymt_Amt</th>\n",
       "      <th>Avg_Mdcr_Stdzd_Amt</th>\n",
       "      <th>Tot_Srvcs</th>\n",
       "      <th>Tot_Rndrng_Prvdrs</th>\n",
       "      <th>Tot_Benes</th>\n",
       "      <th>Tot_Bene_Day_Srvcs</th>\n",
       "    </tr>\n",
       "  </thead>\n",
       "  <tbody>\n",
       "    <tr>\n",
       "      <th>0</th>\n",
       "      <td>National</td>\n",
       "      <td>999</td>\n",
       "      <td>National</td>\n",
       "      <td>0003M</td>\n",
       "      <td>Liver disease, ten biochemical assays (alt, a2...</td>\n",
       "      <td>N</td>\n",
       "      <td>O</td>\n",
       "      <td>680.55</td>\n",
       "      <td>438.21</td>\n",
       "      <td>438.21</td>\n",
       "      <td>447.51</td>\n",
       "      <td>42.0</td>\n",
       "      <td>12</td>\n",
       "      <td>41</td>\n",
       "      <td>42</td>\n",
       "    </tr>\n",
       "    <tr>\n",
       "      <th>1</th>\n",
       "      <td>National</td>\n",
       "      <td>999</td>\n",
       "      <td>National</td>\n",
       "      <td>0005U</td>\n",
       "      <td>Test for detecting genes associated with prost...</td>\n",
       "      <td>N</td>\n",
       "      <td>O</td>\n",
       "      <td>795.00</td>\n",
       "      <td>744.80</td>\n",
       "      <td>744.80</td>\n",
       "      <td>744.80</td>\n",
       "      <td>540.0</td>\n",
       "      <td>1</td>\n",
       "      <td>539</td>\n",
       "      <td>540</td>\n",
       "    </tr>\n",
       "    <tr>\n",
       "      <th>2</th>\n",
       "      <td>National</td>\n",
       "      <td>999</td>\n",
       "      <td>National</td>\n",
       "      <td>00100</td>\n",
       "      <td>Anesthesia for procedure on salivary gland wit...</td>\n",
       "      <td>N</td>\n",
       "      <td>F</td>\n",
       "      <td>1959.51</td>\n",
       "      <td>237.04</td>\n",
       "      <td>187.54</td>\n",
       "      <td>186.43</td>\n",
       "      <td>12019.0</td>\n",
       "      <td>9574</td>\n",
       "      <td>8232</td>\n",
       "      <td>12016</td>\n",
       "    </tr>\n",
       "    <tr>\n",
       "      <th>3</th>\n",
       "      <td>National</td>\n",
       "      <td>999</td>\n",
       "      <td>National</td>\n",
       "      <td>00100</td>\n",
       "      <td>Anesthesia for procedure on salivary gland wit...</td>\n",
       "      <td>N</td>\n",
       "      <td>O</td>\n",
       "      <td>1409.59</td>\n",
       "      <td>170.33</td>\n",
       "      <td>134.02</td>\n",
       "      <td>129.78</td>\n",
       "      <td>99.0</td>\n",
       "      <td>91</td>\n",
       "      <td>59</td>\n",
       "      <td>99</td>\n",
       "    </tr>\n",
       "    <tr>\n",
       "      <th>4</th>\n",
       "      <td>National</td>\n",
       "      <td>999</td>\n",
       "      <td>National</td>\n",
       "      <td>00102</td>\n",
       "      <td>Anesthesia for procedure to repair lip defect ...</td>\n",
       "      <td>N</td>\n",
       "      <td>F</td>\n",
       "      <td>1210.95</td>\n",
       "      <td>165.06</td>\n",
       "      <td>129.08</td>\n",
       "      <td>128.45</td>\n",
       "      <td>70.0</td>\n",
       "      <td>63</td>\n",
       "      <td>48</td>\n",
       "      <td>70</td>\n",
       "    </tr>\n",
       "    <tr>\n",
       "      <th>...</th>\n",
       "      <td>...</td>\n",
       "      <td>...</td>\n",
       "      <td>...</td>\n",
       "      <td>...</td>\n",
       "      <td>...</td>\n",
       "      <td>...</td>\n",
       "      <td>...</td>\n",
       "      <td>...</td>\n",
       "      <td>...</td>\n",
       "      <td>...</td>\n",
       "      <td>...</td>\n",
       "      <td>...</td>\n",
       "      <td>...</td>\n",
       "      <td>...</td>\n",
       "      <td>...</td>\n",
       "    </tr>\n",
       "    <tr>\n",
       "      <th>273206</th>\n",
       "      <td>State</td>\n",
       "      <td>9E</td>\n",
       "      <td>Foreign Country</td>\n",
       "      <td>G0500</td>\n",
       "      <td>Moderate sedation services provided by the sam...</td>\n",
       "      <td>N</td>\n",
       "      <td>F</td>\n",
       "      <td>51.14</td>\n",
       "      <td>7.48</td>\n",
       "      <td>5.34</td>\n",
       "      <td>4.05</td>\n",
       "      <td>204.0</td>\n",
       "      <td>1</td>\n",
       "      <td>191</td>\n",
       "      <td>203</td>\n",
       "    </tr>\n",
       "    <tr>\n",
       "      <th>273207</th>\n",
       "      <td>State</td>\n",
       "      <td>9E</td>\n",
       "      <td>Foreign Country</td>\n",
       "      <td>J0696</td>\n",
       "      <td>Injection, ceftriaxone sodium, per 250 mg</td>\n",
       "      <td>Y</td>\n",
       "      <td>O</td>\n",
       "      <td>27.19</td>\n",
       "      <td>0.59</td>\n",
       "      <td>0.21</td>\n",
       "      <td>0.21</td>\n",
       "      <td>55.0</td>\n",
       "      <td>7</td>\n",
       "      <td>15</td>\n",
       "      <td>17</td>\n",
       "    </tr>\n",
       "    <tr>\n",
       "      <th>273208</th>\n",
       "      <td>State</td>\n",
       "      <td>9E</td>\n",
       "      <td>Foreign Country</td>\n",
       "      <td>J1030</td>\n",
       "      <td>Injection, methylprednisolone acetate, 40 mg</td>\n",
       "      <td>Y</td>\n",
       "      <td>O</td>\n",
       "      <td>29.47</td>\n",
       "      <td>6.34</td>\n",
       "      <td>3.95</td>\n",
       "      <td>3.95</td>\n",
       "      <td>19.0</td>\n",
       "      <td>2</td>\n",
       "      <td>16</td>\n",
       "      <td>18</td>\n",
       "    </tr>\n",
       "    <tr>\n",
       "      <th>273209</th>\n",
       "      <td>State</td>\n",
       "      <td>9E</td>\n",
       "      <td>Foreign Country</td>\n",
       "      <td>J1100</td>\n",
       "      <td>Injection, dexamethasone sodium phosphate, 1 mg</td>\n",
       "      <td>Y</td>\n",
       "      <td>O</td>\n",
       "      <td>15.03</td>\n",
       "      <td>0.12</td>\n",
       "      <td>0.10</td>\n",
       "      <td>0.10</td>\n",
       "      <td>39.0</td>\n",
       "      <td>3</td>\n",
       "      <td>11</td>\n",
       "      <td>11</td>\n",
       "    </tr>\n",
       "    <tr>\n",
       "      <th>273210</th>\n",
       "      <td>State</td>\n",
       "      <td>9E</td>\n",
       "      <td>Foreign Country</td>\n",
       "      <td>J3301</td>\n",
       "      <td>Injection, triamcinolone acetonide, not otherw...</td>\n",
       "      <td>Y</td>\n",
       "      <td>O</td>\n",
       "      <td>28.20</td>\n",
       "      <td>1.54</td>\n",
       "      <td>1.12</td>\n",
       "      <td>1.17</td>\n",
       "      <td>133.0</td>\n",
       "      <td>5</td>\n",
       "      <td>26</td>\n",
       "      <td>31</td>\n",
       "    </tr>\n",
       "  </tbody>\n",
       "</table>\n",
       "<p>273211 rows × 15 columns</p>\n",
       "</div>"
      ],
      "text/plain": [
       "       Rndrng_Prvdr_Geo_Lvl Rndrng_Prvdr_Geo_Cd Rndrng_Prvdr_Geo_Desc  \\\n",
       "0                  National                 999              National   \n",
       "1                  National                 999              National   \n",
       "2                  National                 999              National   \n",
       "3                  National                 999              National   \n",
       "4                  National                 999              National   \n",
       "...                     ...                 ...                   ...   \n",
       "273206                State                  9E       Foreign Country   \n",
       "273207                State                  9E       Foreign Country   \n",
       "273208                State                  9E       Foreign Country   \n",
       "273209                State                  9E       Foreign Country   \n",
       "273210                State                  9E       Foreign Country   \n",
       "\n",
       "       HCPCS_Cd                                         HCPCS_Desc  \\\n",
       "0         0003M  Liver disease, ten biochemical assays (alt, a2...   \n",
       "1         0005U  Test for detecting genes associated with prost...   \n",
       "2         00100  Anesthesia for procedure on salivary gland wit...   \n",
       "3         00100  Anesthesia for procedure on salivary gland wit...   \n",
       "4         00102  Anesthesia for procedure to repair lip defect ...   \n",
       "...         ...                                                ...   \n",
       "273206    G0500  Moderate sedation services provided by the sam...   \n",
       "273207    J0696          Injection, ceftriaxone sodium, per 250 mg   \n",
       "273208    J1030       Injection, methylprednisolone acetate, 40 mg   \n",
       "273209    J1100    Injection, dexamethasone sodium phosphate, 1 mg   \n",
       "273210    J3301  Injection, triamcinolone acetonide, not otherw...   \n",
       "\n",
       "       HCPCS_Drug_Ind Place_Of_Srvc  Avg_Sbmtd_Chrg  Avg_Mdcr_Alowd_Amt  \\\n",
       "0                   N             O          680.55              438.21   \n",
       "1                   N             O          795.00              744.80   \n",
       "2                   N             F         1959.51              237.04   \n",
       "3                   N             O         1409.59              170.33   \n",
       "4                   N             F         1210.95              165.06   \n",
       "...               ...           ...             ...                 ...   \n",
       "273206              N             F           51.14                7.48   \n",
       "273207              Y             O           27.19                0.59   \n",
       "273208              Y             O           29.47                6.34   \n",
       "273209              Y             O           15.03                0.12   \n",
       "273210              Y             O           28.20                1.54   \n",
       "\n",
       "        Avg_Mdcr_Pymt_Amt  Avg_Mdcr_Stdzd_Amt  Tot_Srvcs  Tot_Rndrng_Prvdrs  \\\n",
       "0                  438.21              447.51       42.0                 12   \n",
       "1                  744.80              744.80      540.0                  1   \n",
       "2                  187.54              186.43    12019.0               9574   \n",
       "3                  134.02              129.78       99.0                 91   \n",
       "4                  129.08              128.45       70.0                 63   \n",
       "...                   ...                 ...        ...                ...   \n",
       "273206               5.34                4.05      204.0                  1   \n",
       "273207               0.21                0.21       55.0                  7   \n",
       "273208               3.95                3.95       19.0                  2   \n",
       "273209               0.10                0.10       39.0                  3   \n",
       "273210               1.12                1.17      133.0                  5   \n",
       "\n",
       "        Tot_Benes  Tot_Bene_Day_Srvcs  \n",
       "0              41                  42  \n",
       "1             539                 540  \n",
       "2            8232               12016  \n",
       "3              59                  99  \n",
       "4              48                  70  \n",
       "...           ...                 ...  \n",
       "273206        191                 203  \n",
       "273207         15                  17  \n",
       "273208         16                  18  \n",
       "273209         11                  11  \n",
       "273210         26                  31  \n",
       "\n",
       "[273211 rows x 15 columns]"
      ]
     },
     "execution_count": 39,
     "metadata": {},
     "output_type": "execute_result"
    }
   ],
   "source": [
    "tdata"
   ]
  },
  {
   "cell_type": "code",
   "execution_count": 40,
   "id": "6b8dd561",
   "metadata": {},
   "outputs": [
    {
     "data": {
      "text/plain": [
       "(273211, 15)"
      ]
     },
     "execution_count": 40,
     "metadata": {},
     "output_type": "execute_result"
    }
   ],
   "source": [
    "tdata.shape"
   ]
  },
  {
   "cell_type": "markdown",
   "id": "fcfc024e",
   "metadata": {},
   "source": [
    "## Exploratory Data Analysis"
   ]
  },
  {
   "cell_type": "code",
   "execution_count": 41,
   "id": "b2a258fc",
   "metadata": {},
   "outputs": [
    {
     "name": "stdout",
     "output_type": "stream",
     "text": [
      "<class 'pandas.core.frame.DataFrame'>\n",
      "RangeIndex: 273211 entries, 0 to 273210\n",
      "Data columns (total 15 columns):\n",
      " #   Column                 Non-Null Count   Dtype  \n",
      "---  ------                 --------------   -----  \n",
      " 0   Rndrng_Prvdr_Geo_Lvl   273211 non-null  object \n",
      " 1   Rndrng_Prvdr_Geo_Cd    273211 non-null  object \n",
      " 2   Rndrng_Prvdr_Geo_Desc  273211 non-null  object \n",
      " 3   HCPCS_Cd               273211 non-null  object \n",
      " 4   HCPCS_Desc             273211 non-null  object \n",
      " 5   HCPCS_Drug_Ind         273211 non-null  object \n",
      " 6   Place_Of_Srvc          273211 non-null  object \n",
      " 7   Avg_Sbmtd_Chrg         273211 non-null  float64\n",
      " 8   Avg_Mdcr_Alowd_Amt     273211 non-null  float64\n",
      " 9   Avg_Mdcr_Pymt_Amt      273211 non-null  float64\n",
      " 10  Avg_Mdcr_Stdzd_Amt     273211 non-null  float64\n",
      " 11  Tot_Srvcs              273211 non-null  float64\n",
      " 12  Tot_Rndrng_Prvdrs      273211 non-null  int32  \n",
      " 13  Tot_Benes              273211 non-null  int32  \n",
      " 14  Tot_Bene_Day_Srvcs     273211 non-null  int32  \n",
      "dtypes: float64(5), int32(3), object(7)\n",
      "memory usage: 28.1+ MB\n"
     ]
    }
   ],
   "source": [
    "tdata.info()"
   ]
  },
  {
   "cell_type": "code",
   "execution_count": null,
   "id": "02076dc1",
   "metadata": {},
   "outputs": [],
   "source": [
    "# in eda process finding the central tendency and the discripitive stats we use describe function process"
   ]
  },
  {
   "cell_type": "code",
   "execution_count": 42,
   "id": "66112fee",
   "metadata": {},
   "outputs": [
    {
     "data": {
      "text/html": [
       "<div>\n",
       "<style scoped>\n",
       "    .dataframe tbody tr th:only-of-type {\n",
       "        vertical-align: middle;\n",
       "    }\n",
       "\n",
       "    .dataframe tbody tr th {\n",
       "        vertical-align: top;\n",
       "    }\n",
       "\n",
       "    .dataframe thead th {\n",
       "        text-align: right;\n",
       "    }\n",
       "</style>\n",
       "<table border=\"1\" class=\"dataframe\">\n",
       "  <thead>\n",
       "    <tr style=\"text-align: right;\">\n",
       "      <th></th>\n",
       "      <th>Avg_Sbmtd_Chrg</th>\n",
       "      <th>Avg_Mdcr_Alowd_Amt</th>\n",
       "      <th>Avg_Mdcr_Pymt_Amt</th>\n",
       "      <th>Avg_Mdcr_Stdzd_Amt</th>\n",
       "      <th>Tot_Srvcs</th>\n",
       "      <th>Tot_Rndrng_Prvdrs</th>\n",
       "      <th>Tot_Benes</th>\n",
       "      <th>Tot_Bene_Day_Srvcs</th>\n",
       "    </tr>\n",
       "  </thead>\n",
       "  <tbody>\n",
       "    <tr>\n",
       "      <th>count</th>\n",
       "      <td>273211.000000</td>\n",
       "      <td>273211.000000</td>\n",
       "      <td>273211.000000</td>\n",
       "      <td>273211.000000</td>\n",
       "      <td>2.732110e+05</td>\n",
       "      <td>273211.000000</td>\n",
       "      <td>2.732110e+05</td>\n",
       "      <td>2.732110e+05</td>\n",
       "    </tr>\n",
       "    <tr>\n",
       "      <th>mean</th>\n",
       "      <td>1251.172998</td>\n",
       "      <td>295.727755</td>\n",
       "      <td>235.197030</td>\n",
       "      <td>234.769057</td>\n",
       "      <td>2.372581e+04</td>\n",
       "      <td>267.382433</td>\n",
       "      <td>5.582857e+03</td>\n",
       "      <td>1.096098e+04</td>\n",
       "    </tr>\n",
       "    <tr>\n",
       "      <th>std</th>\n",
       "      <td>2316.386139</td>\n",
       "      <td>756.843036</td>\n",
       "      <td>604.144301</td>\n",
       "      <td>607.611636</td>\n",
       "      <td>6.566590e+05</td>\n",
       "      <td>3149.869990</td>\n",
       "      <td>1.180026e+05</td>\n",
       "      <td>3.415823e+05</td>\n",
       "    </tr>\n",
       "    <tr>\n",
       "      <th>min</th>\n",
       "      <td>0.010000</td>\n",
       "      <td>0.010000</td>\n",
       "      <td>0.000000</td>\n",
       "      <td>0.010000</td>\n",
       "      <td>1.100000e+01</td>\n",
       "      <td>1.000000</td>\n",
       "      <td>1.100000e+01</td>\n",
       "      <td>1.100000e+01</td>\n",
       "    </tr>\n",
       "    <tr>\n",
       "      <th>25%</th>\n",
       "      <td>128.180000</td>\n",
       "      <td>37.240000</td>\n",
       "      <td>29.130000</td>\n",
       "      <td>29.230000</td>\n",
       "      <td>4.000000e+01</td>\n",
       "      <td>12.000000</td>\n",
       "      <td>3.100000e+01</td>\n",
       "      <td>3.800000e+01</td>\n",
       "    </tr>\n",
       "    <tr>\n",
       "      <th>50%</th>\n",
       "      <td>446.530000</td>\n",
       "      <td>117.310000</td>\n",
       "      <td>91.140000</td>\n",
       "      <td>91.380000</td>\n",
       "      <td>1.620000e+02</td>\n",
       "      <td>30.000000</td>\n",
       "      <td>1.090000e+02</td>\n",
       "      <td>1.440000e+02</td>\n",
       "    </tr>\n",
       "    <tr>\n",
       "      <th>75%</th>\n",
       "      <td>1570.305000</td>\n",
       "      <td>335.415000</td>\n",
       "      <td>266.860000</td>\n",
       "      <td>267.500000</td>\n",
       "      <td>1.083000e+03</td>\n",
       "      <td>98.000000</td>\n",
       "      <td>6.060000e+02</td>\n",
       "      <td>8.505000e+02</td>\n",
       "    </tr>\n",
       "    <tr>\n",
       "      <th>max</th>\n",
       "      <td>93181.060000</td>\n",
       "      <td>62142.820000</td>\n",
       "      <td>49501.500000</td>\n",
       "      <td>49501.500000</td>\n",
       "      <td>1.345132e+08</td>\n",
       "      <td>564937.000000</td>\n",
       "      <td>2.359469e+07</td>\n",
       "      <td>9.799789e+07</td>\n",
       "    </tr>\n",
       "  </tbody>\n",
       "</table>\n",
       "</div>"
      ],
      "text/plain": [
       "       Avg_Sbmtd_Chrg  Avg_Mdcr_Alowd_Amt  Avg_Mdcr_Pymt_Amt  \\\n",
       "count   273211.000000       273211.000000      273211.000000   \n",
       "mean      1251.172998          295.727755         235.197030   \n",
       "std       2316.386139          756.843036         604.144301   \n",
       "min          0.010000            0.010000           0.000000   \n",
       "25%        128.180000           37.240000          29.130000   \n",
       "50%        446.530000          117.310000          91.140000   \n",
       "75%       1570.305000          335.415000         266.860000   \n",
       "max      93181.060000        62142.820000       49501.500000   \n",
       "\n",
       "       Avg_Mdcr_Stdzd_Amt     Tot_Srvcs  Tot_Rndrng_Prvdrs     Tot_Benes  \\\n",
       "count       273211.000000  2.732110e+05      273211.000000  2.732110e+05   \n",
       "mean           234.769057  2.372581e+04         267.382433  5.582857e+03   \n",
       "std            607.611636  6.566590e+05        3149.869990  1.180026e+05   \n",
       "min              0.010000  1.100000e+01           1.000000  1.100000e+01   \n",
       "25%             29.230000  4.000000e+01          12.000000  3.100000e+01   \n",
       "50%             91.380000  1.620000e+02          30.000000  1.090000e+02   \n",
       "75%            267.500000  1.083000e+03          98.000000  6.060000e+02   \n",
       "max          49501.500000  1.345132e+08      564937.000000  2.359469e+07   \n",
       "\n",
       "       Tot_Bene_Day_Srvcs  \n",
       "count        2.732110e+05  \n",
       "mean         1.096098e+04  \n",
       "std          3.415823e+05  \n",
       "min          1.100000e+01  \n",
       "25%          3.800000e+01  \n",
       "50%          1.440000e+02  \n",
       "75%          8.505000e+02  \n",
       "max          9.799789e+07  "
      ]
     },
     "execution_count": 42,
     "metadata": {},
     "output_type": "execute_result"
    }
   ],
   "source": [
    "tdata.describe()"
   ]
  },
  {
   "cell_type": "code",
   "execution_count": 43,
   "id": "131a3f8a",
   "metadata": {},
   "outputs": [
    {
     "data": {
      "text/plain": [
       "HCPCS_Drug_Ind\n",
       "N    299.823297\n",
       "Y    210.379081\n",
       "Name: Avg_Mdcr_Alowd_Amt, dtype: float64"
      ]
     },
     "execution_count": 43,
     "metadata": {},
     "output_type": "execute_result"
    }
   ],
   "source": [
    "tdata.Avg_Mdcr_Alowd_Amt.groupby(tdata.HCPCS_Drug_Ind).mean()"
   ]
  },
  {
   "cell_type": "code",
   "execution_count": 44,
   "id": "47944a36",
   "metadata": {},
   "outputs": [
    {
     "data": {
      "text/plain": [
       "HCPCS_Drug_Ind\n",
       "N    125.14\n",
       "Y     10.22\n",
       "Name: Avg_Mdcr_Alowd_Amt, dtype: float64"
      ]
     },
     "execution_count": 44,
     "metadata": {},
     "output_type": "execute_result"
    }
   ],
   "source": [
    "tdata.Avg_Mdcr_Alowd_Amt.groupby(tdata.HCPCS_Drug_Ind).median()"
   ]
  },
  {
   "cell_type": "code",
   "execution_count": 45,
   "id": "144f18bf",
   "metadata": {},
   "outputs": [
    {
     "data": {
      "text/plain": [
       "Place_Of_Srvc\n",
       "F    367.527913\n",
       "O    209.184009\n",
       "Name: Avg_Mdcr_Alowd_Amt, dtype: float64"
      ]
     },
     "execution_count": 45,
     "metadata": {},
     "output_type": "execute_result"
    }
   ],
   "source": [
    "tdata.Avg_Mdcr_Alowd_Amt.groupby(tdata.Place_Of_Srvc).mean()"
   ]
  },
  {
   "cell_type": "code",
   "execution_count": 46,
   "id": "608c6098",
   "metadata": {},
   "outputs": [
    {
     "data": {
      "text/plain": [
       "Place_Of_Srvc\n",
       "F    195.260\n",
       "O     70.435\n",
       "Name: Avg_Mdcr_Alowd_Amt, dtype: float64"
      ]
     },
     "execution_count": 46,
     "metadata": {},
     "output_type": "execute_result"
    }
   ],
   "source": [
    "tdata.Avg_Mdcr_Alowd_Amt.groupby(tdata.Place_Of_Srvc).median()"
   ]
  },
  {
   "cell_type": "code",
   "execution_count": 47,
   "id": "00e28a22",
   "metadata": {},
   "outputs": [
    {
     "data": {
      "text/plain": [
       "Rndrng_Prvdr_Geo_Lvl\n",
       "National    399.113288\n",
       "State       290.565173\n",
       "Name: Avg_Mdcr_Alowd_Amt, dtype: float64"
      ]
     },
     "execution_count": 47,
     "metadata": {},
     "output_type": "execute_result"
    }
   ],
   "source": [
    "tdata.Avg_Mdcr_Alowd_Amt.groupby(tdata.Rndrng_Prvdr_Geo_Lvl).mean()"
   ]
  },
  {
   "cell_type": "code",
   "execution_count": 48,
   "id": "064000e1",
   "metadata": {},
   "outputs": [
    {
     "data": {
      "text/plain": [
       "Rndrng_Prvdr_Geo_Lvl\n",
       "National    202.165\n",
       "State       114.800\n",
       "Name: Avg_Mdcr_Alowd_Amt, dtype: float64"
      ]
     },
     "execution_count": 48,
     "metadata": {},
     "output_type": "execute_result"
    }
   ],
   "source": [
    "tdata.Avg_Mdcr_Alowd_Amt.groupby(tdata.Rndrng_Prvdr_Geo_Lvl).median()"
   ]
  },
  {
   "cell_type": "code",
   "execution_count": 49,
   "id": "0ee0e98c",
   "metadata": {},
   "outputs": [
    {
     "data": {
      "text/plain": [
       "<AxesSubplot:ylabel='Frequency'>"
      ]
     },
     "execution_count": 49,
     "metadata": {},
     "output_type": "execute_result"
    },
    {
     "data": {
      "image/png": "[encoded data removed]",
      "text/plain": [
       "<Figure size 432x288 with 1 Axes>"
      ]
     },
     "metadata": {
      "needs_background": "light"
     },
     "output_type": "display_data"
    }
   ],
   "source": [
    "mfloat.plot(kind='hist')"
   ]
  },
  {
   "cell_type": "code",
   "execution_count": 50,
   "id": "680961ca",
   "metadata": {},
   "outputs": [
    {
     "data": {
      "text/plain": [
       "<AxesSubplot:>"
      ]
     },
     "execution_count": 50,
     "metadata": {},
     "output_type": "execute_result"
    },
    {
     "data": {
      "image/png": "[encoded data removed]",
      "text/plain": [
       "<Figure size 432x288 with 1 Axes>"
      ]
     },
     "metadata": {
      "needs_background": "light"
     },
     "output_type": "display_data"
    }
   ],
   "source": [
    "mfloat.plot(kind='box', vert=False)"
   ]
  },
  {
   "cell_type": "code",
   "execution_count": 51,
   "id": "c336a594",
   "metadata": {},
   "outputs": [
    {
     "name": "stderr",
     "output_type": "stream",
     "text": [
      "C:\\Users\\HP\\anaconda3\\lib\\site-packages\\pandas\\core\\internals\\blocks.py:402: RuntimeWarning: divide by zero encountered in log\n",
      "  result = func(self.values, **kwargs)\n"
     ]
    },
    {
     "data": {
      "text/plain": [
       "<AxesSubplot:>"
      ]
     },
     "execution_count": 51,
     "metadata": {},
     "output_type": "execute_result"
    },
    {
     "data": {
      "image/png": "[encoded data removed]",
      "text/plain": [
       "<Figure size 432x288 with 1 Axes>"
      ]
     },
     "metadata": {
      "needs_background": "light"
     },
     "output_type": "display_data"
    }
   ],
   "source": [
    "np.log(mfloat).plot(kind='box',vert=False)"
   ]
  },
  {
   "cell_type": "code",
   "execution_count": 52,
   "id": "09028365",
   "metadata": {},
   "outputs": [
    {
     "data": {
      "text/plain": [
       "<AxesSubplot:ylabel='Density'>"
      ]
     },
     "execution_count": 52,
     "metadata": {},
     "output_type": "execute_result"
    },
    {
     "data": {
      "image/png": "[encoded data removed]",
      "text/plain": [
       "<Figure size 432x288 with 1 Axes>"
      ]
     },
     "metadata": {
      "needs_background": "light"
     },
     "output_type": "display_data"
    }
   ],
   "source": [
    "mfloat.plot(kind='density')"
   ]
  },
  {
   "cell_type": "code",
   "execution_count": 53,
   "id": "184d7b0c",
   "metadata": {},
   "outputs": [
    {
     "data": {
      "text/plain": [
       "<AxesSubplot:ylabel='Frequency'>"
      ]
     },
     "execution_count": 53,
     "metadata": {},
     "output_type": "execute_result"
    },
    {
     "data": {
      "image/png": "[encoded data removed]",
      "text/plain": [
       "<Figure size 432x288 with 1 Axes>"
      ]
     },
     "metadata": {
      "needs_background": "light"
     },
     "output_type": "display_data"
    }
   ],
   "source": [
    "mint.plot(kind='hist')"
   ]
  },
  {
   "cell_type": "code",
   "execution_count": 54,
   "id": "98514ecb",
   "metadata": {},
   "outputs": [
    {
     "data": {
      "text/plain": [
       "<AxesSubplot:>"
      ]
     },
     "execution_count": 54,
     "metadata": {},
     "output_type": "execute_result"
    },
    {
     "data": {
      "image/png": "[encoded data removed]",
      "text/plain": [
       "<Figure size 432x288 with 1 Axes>"
      ]
     },
     "metadata": {
      "needs_background": "light"
     },
     "output_type": "display_data"
    }
   ],
   "source": [
    "mint.plot(kind='box',vert=False)"
   ]
  },
  {
   "cell_type": "code",
   "execution_count": 55,
   "id": "0789242d",
   "metadata": {},
   "outputs": [
    {
     "data": {
      "text/plain": [
       "<AxesSubplot:>"
      ]
     },
     "execution_count": 55,
     "metadata": {},
     "output_type": "execute_result"
    },
    {
     "data": {
      "image/png": "[encoded data removed]",
      "text/plain": [
       "<Figure size 432x288 with 1 Axes>"
      ]
     },
     "metadata": {
      "needs_background": "light"
     },
     "output_type": "display_data"
    }
   ],
   "source": [
    "np.log(mint).plot(kind='box',vert=False)"
   ]
  },
  {
   "cell_type": "code",
   "execution_count": 56,
   "id": "4a3f6af1",
   "metadata": {},
   "outputs": [
    {
     "data": {
      "text/plain": [
       "<AxesSubplot:ylabel='Density'>"
      ]
     },
     "execution_count": 56,
     "metadata": {},
     "output_type": "execute_result"
    },
    {
     "data": {
      "image/png": "[encoded data removed]",
      "text/plain": [
       "<Figure size 432x288 with 1 Axes>"
      ]
     },
     "metadata": {
      "needs_background": "light"
     },
     "output_type": "display_data"
    }
   ],
   "source": [
    "mint.plot(kind='density')"
   ]
  },
  {
   "cell_type": "code",
   "execution_count": 57,
   "id": "1e5c30c4",
   "metadata": {},
   "outputs": [
    {
     "data": {
      "text/plain": [
       "<AxesSubplot:ylabel='Density'>"
      ]
     },
     "execution_count": 57,
     "metadata": {},
     "output_type": "execute_result"
    },
    {
     "data": {
      "image/png": "[encoded data removed]",
      "text/plain": [
       "<Figure size 432x288 with 1 Axes>"
      ]
     },
     "metadata": {
      "needs_background": "light"
     },
     "output_type": "display_data"
    }
   ],
   "source": [
    "np.log(mint).plot(kind='density')"
   ]
  },
  {
   "cell_type": "markdown",
   "id": "4d565177",
   "metadata": {},
   "source": [
    "## Hypothesis Testing"
   ]
  },
  {
   "cell_type": "code",
   "execution_count": 58,
   "id": "fc4ad77e",
   "metadata": {},
   "outputs": [],
   "source": [
    "# 3 types of testing 1) ttest, 2) anovatest, 3) Chisquaretest\n",
    "# The t test is run on one categorical data and one numerical data, with the categorical data having two levels."
   ]
  },
  {
   "cell_type": "code",
   "execution_count": 59,
   "id": "b6c2f6f9",
   "metadata": {},
   "outputs": [
    {
     "data": {
      "text/plain": [
       "HCPCS_Drug_Ind\n",
       "N    237.826710\n",
       "Y    171.049364\n",
       "Name: Avg_Mdcr_Stdzd_Amt, dtype: float64"
      ]
     },
     "execution_count": 59,
     "metadata": {},
     "output_type": "execute_result"
    }
   ],
   "source": [
    "tdata.Avg_Mdcr_Stdzd_Amt.groupby(tdata.HCPCS_Drug_Ind).mean()"
   ]
  },
  {
   "cell_type": "code",
   "execution_count": 60,
   "id": "cbeff2fa",
   "metadata": {},
   "outputs": [
    {
     "data": {
      "text/plain": [
       "HCPCS_Drug_Ind\n",
       "N    2.168116e+05\n",
       "Y    3.540723e+06\n",
       "Name: Avg_Mdcr_Stdzd_Amt, dtype: float64"
      ]
     },
     "execution_count": 60,
     "metadata": {},
     "output_type": "execute_result"
    }
   ],
   "source": [
    "tdata.Avg_Mdcr_Stdzd_Amt.groupby(tdata.HCPCS_Drug_Ind).var()"
   ]
  },
  {
   "cell_type": "code",
   "execution_count": 61,
   "id": "a1595c89",
   "metadata": {},
   "outputs": [],
   "source": [
    "w=tdata[tdata.HCPCS_Drug_Ind=='N']"
   ]
  },
  {
   "cell_type": "code",
   "execution_count": 62,
   "id": "64638218",
   "metadata": {},
   "outputs": [],
   "source": [
    "e=tdata[tdata.HCPCS_Drug_Ind=='Y']"
   ]
  },
  {
   "cell_type": "code",
   "execution_count": 63,
   "id": "71faff2e",
   "metadata": {},
   "outputs": [],
   "source": [
    "from scipy.stats import ttest_ind"
   ]
  },
  {
   "cell_type": "code",
   "execution_count": 64,
   "id": "0bfe8f23",
   "metadata": {},
   "outputs": [
    {
     "data": {
      "text/plain": [
       "Ttest_indResult(statistic=3.9634619050937365, pvalue=7.427879445671824e-05)"
      ]
     },
     "execution_count": 64,
     "metadata": {},
     "output_type": "execute_result"
    }
   ],
   "source": [
    "ttest_ind(w.Avg_Mdcr_Stdzd_Amt,e.Avg_Mdcr_Stdzd_Amt,equal_var=False)"
   ]
  },
  {
   "cell_type": "code",
   "execution_count": 65,
   "id": "80024805",
   "metadata": {},
   "outputs": [],
   "source": [
    "# the p value is <0.05 reject null hypothesis\n",
    "# null-- their is significant difference between vraiables\n",
    "# alter--their is no significant difference between vraiables"
   ]
  },
  {
   "cell_type": "code",
   "execution_count": 66,
   "id": "405bcfae",
   "metadata": {},
   "outputs": [
    {
     "data": {
      "text/plain": [
       "Place_Of_Srvc\n",
       "F    290.133705\n",
       "O    168.035720\n",
       "Name: Avg_Mdcr_Stdzd_Amt, dtype: float64"
      ]
     },
     "execution_count": 66,
     "metadata": {},
     "output_type": "execute_result"
    }
   ],
   "source": [
    "tdata.Avg_Mdcr_Stdzd_Amt.groupby(tdata.Place_Of_Srvc).mean()"
   ]
  },
  {
   "cell_type": "code",
   "execution_count": 67,
   "id": "b6de6434",
   "metadata": {},
   "outputs": [],
   "source": [
    "t=tdata[tdata.Place_Of_Srvc=='F']"
   ]
  },
  {
   "cell_type": "code",
   "execution_count": 68,
   "id": "1b52fa82",
   "metadata": {},
   "outputs": [],
   "source": [
    "u=tdata[tdata.Place_Of_Srvc=='O']"
   ]
  },
  {
   "cell_type": "code",
   "execution_count": 69,
   "id": "e6361fe6",
   "metadata": {},
   "outputs": [
    {
     "data": {
      "text/plain": [
       "Ttest_indResult(statistic=49.639135197836964, pvalue=0.0)"
      ]
     },
     "execution_count": 69,
     "metadata": {},
     "output_type": "execute_result"
    }
   ],
   "source": [
    "ttest_ind(t.Avg_Mdcr_Stdzd_Amt,u.Avg_Mdcr_Stdzd_Amt,equal_var=False)"
   ]
  },
  {
   "cell_type": "code",
   "execution_count": 70,
   "id": "eed6272d",
   "metadata": {},
   "outputs": [],
   "source": [
    "# the p value is <0.05 reject null hypothesis\n",
    "# null-- their is significant difference between vraiables\n",
    "# alter--their is no significant difference between vraiables"
   ]
  },
  {
   "cell_type": "code",
   "execution_count": 71,
   "id": "8c26b720",
   "metadata": {},
   "outputs": [],
   "source": [
    "#Two columns—one category and one numerical—are used in the anova test. They contain categorical data at three levels.\n",
    "# Since there are no columns with three levels in this set of data, we will not perform an anova test."
   ]
  },
  {
   "cell_type": "code",
   "execution_count": 72,
   "id": "e6b1d133",
   "metadata": {},
   "outputs": [],
   "source": [
    "# chisquare test is done on two categorical variable."
   ]
  },
  {
   "cell_type": "code",
   "execution_count": 73,
   "id": "066880a2",
   "metadata": {},
   "outputs": [
    {
     "data": {
      "text/plain": [
       "N    260701\n",
       "Y     12510\n",
       "Name: HCPCS_Drug_Ind, dtype: int64"
      ]
     },
     "execution_count": 73,
     "metadata": {},
     "output_type": "execute_result"
    }
   ],
   "source": [
    "tdata.HCPCS_Drug_Ind.value_counts(dropna=False)"
   ]
  },
  {
   "cell_type": "code",
   "execution_count": 74,
   "id": "a312acbf",
   "metadata": {},
   "outputs": [
    {
     "data": {
      "text/plain": [
       "State       260217\n",
       "National     12994\n",
       "Name: Rndrng_Prvdr_Geo_Lvl, dtype: int64"
      ]
     },
     "execution_count": 74,
     "metadata": {},
     "output_type": "execute_result"
    }
   ],
   "source": [
    "tdata.Rndrng_Prvdr_Geo_Lvl.value_counts(dropna=False)"
   ]
  },
  {
   "cell_type": "code",
   "execution_count": 75,
   "id": "5e3c6221",
   "metadata": {},
   "outputs": [
    {
     "data": {
      "text/plain": [
       "F    149325\n",
       "O    123886\n",
       "Name: Place_Of_Srvc, dtype: int64"
      ]
     },
     "execution_count": 75,
     "metadata": {},
     "output_type": "execute_result"
    }
   ],
   "source": [
    "tdata.Place_Of_Srvc.value_counts(dropna=False)"
   ]
  },
  {
   "cell_type": "code",
   "execution_count": 76,
   "id": "cbca9b80",
   "metadata": {},
   "outputs": [
    {
     "data": {
      "text/html": [
       "<div>\n",
       "<style scoped>\n",
       "    .dataframe tbody tr th:only-of-type {\n",
       "        vertical-align: middle;\n",
       "    }\n",
       "\n",
       "    .dataframe tbody tr th {\n",
       "        vertical-align: top;\n",
       "    }\n",
       "\n",
       "    .dataframe thead th {\n",
       "        text-align: right;\n",
       "    }\n",
       "</style>\n",
       "<table border=\"1\" class=\"dataframe\">\n",
       "  <thead>\n",
       "    <tr style=\"text-align: right;\">\n",
       "      <th>Rndrng_Prvdr_Geo_Lvl</th>\n",
       "      <th>National</th>\n",
       "      <th>State</th>\n",
       "    </tr>\n",
       "    <tr>\n",
       "      <th>HCPCS_Drug_Ind</th>\n",
       "      <th></th>\n",
       "      <th></th>\n",
       "    </tr>\n",
       "  </thead>\n",
       "  <tbody>\n",
       "    <tr>\n",
       "      <th>N</th>\n",
       "      <td>12421</td>\n",
       "      <td>248280</td>\n",
       "    </tr>\n",
       "    <tr>\n",
       "      <th>Y</th>\n",
       "      <td>573</td>\n",
       "      <td>11937</td>\n",
       "    </tr>\n",
       "  </tbody>\n",
       "</table>\n",
       "</div>"
      ],
      "text/plain": [
       "Rndrng_Prvdr_Geo_Lvl  National   State\n",
       "HCPCS_Drug_Ind                        \n",
       "N                        12421  248280\n",
       "Y                          573   11937"
      ]
     },
     "execution_count": 76,
     "metadata": {},
     "output_type": "execute_result"
    }
   ],
   "source": [
    "pd.crosstab(tdata.HCPCS_Drug_Ind,tdata.Rndrng_Prvdr_Geo_Lvl)"
   ]
  },
  {
   "cell_type": "code",
   "execution_count": 77,
   "id": "6603362c",
   "metadata": {},
   "outputs": [],
   "source": [
    "from scipy.stats import chi2_contingency"
   ]
  },
  {
   "cell_type": "code",
   "execution_count": 78,
   "id": "7be9a50b",
   "metadata": {},
   "outputs": [
    {
     "data": {
      "text/plain": [
       "(0.8532253009977158,\n",
       " 0.3556415141576682,\n",
       " 1,\n",
       " array([[ 12399.02051528, 248301.97948472],\n",
       "        [   594.97948472,  11915.02051528]]))"
      ]
     },
     "execution_count": 78,
     "metadata": {},
     "output_type": "execute_result"
    }
   ],
   "source": [
    "chi2_contingency(pd.crosstab(tdata.HCPCS_Drug_Ind,tdata.Rndrng_Prvdr_Geo_Lvl))"
   ]
  },
  {
   "cell_type": "code",
   "execution_count": 79,
   "id": "ca3735e3",
   "metadata": {},
   "outputs": [],
   "source": [
    "# the p value is <0.05 reject null hypothesis\n",
    "# null-- their is significant difference between vraiables\n",
    "# alter--their is no significant difference between vraiables"
   ]
  },
  {
   "cell_type": "code",
   "execution_count": 80,
   "id": "15f1e43e",
   "metadata": {},
   "outputs": [
    {
     "data": {
      "text/html": [
       "<div>\n",
       "<style scoped>\n",
       "    .dataframe tbody tr th:only-of-type {\n",
       "        vertical-align: middle;\n",
       "    }\n",
       "\n",
       "    .dataframe tbody tr th {\n",
       "        vertical-align: top;\n",
       "    }\n",
       "\n",
       "    .dataframe thead th {\n",
       "        text-align: right;\n",
       "    }\n",
       "</style>\n",
       "<table border=\"1\" class=\"dataframe\">\n",
       "  <thead>\n",
       "    <tr style=\"text-align: right;\">\n",
       "      <th>Place_Of_Srvc</th>\n",
       "      <th>F</th>\n",
       "      <th>O</th>\n",
       "    </tr>\n",
       "    <tr>\n",
       "      <th>HCPCS_Drug_Ind</th>\n",
       "      <th></th>\n",
       "      <th></th>\n",
       "    </tr>\n",
       "  </thead>\n",
       "  <tbody>\n",
       "    <tr>\n",
       "      <th>N</th>\n",
       "      <td>148877</td>\n",
       "      <td>111824</td>\n",
       "    </tr>\n",
       "    <tr>\n",
       "      <th>Y</th>\n",
       "      <td>448</td>\n",
       "      <td>12062</td>\n",
       "    </tr>\n",
       "  </tbody>\n",
       "</table>\n",
       "</div>"
      ],
      "text/plain": [
       "Place_Of_Srvc        F       O\n",
       "HCPCS_Drug_Ind                \n",
       "N               148877  111824\n",
       "Y                  448   12062"
      ]
     },
     "execution_count": 80,
     "metadata": {},
     "output_type": "execute_result"
    }
   ],
   "source": [
    "pd.crosstab(tdata.HCPCS_Drug_Ind,tdata.Place_Of_Srvc)"
   ]
  },
  {
   "cell_type": "code",
   "execution_count": 81,
   "id": "de6c7f41",
   "metadata": {},
   "outputs": [
    {
     "data": {
      "text/plain": [
       "(13797.277058344007,\n",
       " 0.0,\n",
       " 1,\n",
       " array([[142487.58953702, 118213.41046298],\n",
       "        [  6837.41046298,   5672.58953702]]))"
      ]
     },
     "execution_count": 81,
     "metadata": {},
     "output_type": "execute_result"
    }
   ],
   "source": [
    "chi2_contingency(pd.crosstab(tdata.HCPCS_Drug_Ind,tdata.Place_Of_Srvc))"
   ]
  },
  {
   "cell_type": "code",
   "execution_count": 82,
   "id": "f76248bf",
   "metadata": {},
   "outputs": [],
   "source": [
    "# the p value is <0.05 reject null hypothesis\n",
    "# null-- their is significant difference between vraiables\n",
    "# alter--their is no significant difference between vraiables"
   ]
  },
  {
   "cell_type": "code",
   "execution_count": 83,
   "id": "d429f265",
   "metadata": {},
   "outputs": [],
   "source": [
    "objcols=tdata.select_dtypes(include=\"object\")"
   ]
  },
  {
   "cell_type": "code",
   "execution_count": 84,
   "id": "8f63dbd4",
   "metadata": {},
   "outputs": [],
   "source": [
    "numcols=tdata.select_dtypes(include=np.number)"
   ]
  },
  {
   "cell_type": "code",
   "execution_count": 85,
   "id": "d7449e27",
   "metadata": {},
   "outputs": [
    {
     "data": {
      "text/plain": [
       "(273211, 7)"
      ]
     },
     "execution_count": 85,
     "metadata": {},
     "output_type": "execute_result"
    }
   ],
   "source": [
    "objcols.shape"
   ]
  },
  {
   "cell_type": "code",
   "execution_count": 86,
   "id": "186d25f8",
   "metadata": {},
   "outputs": [
    {
     "data": {
      "text/plain": [
       "(273211, 8)"
      ]
     },
     "execution_count": 86,
     "metadata": {},
     "output_type": "execute_result"
    }
   ],
   "source": [
    "numcols.shape"
   ]
  },
  {
   "cell_type": "markdown",
   "id": "47a45f4f",
   "metadata": {},
   "source": [
    "# to find the correlation between the columns(to check multicorrelation)"
   ]
  },
  {
   "cell_type": "code",
   "execution_count": 87,
   "id": "4fa04052",
   "metadata": {},
   "outputs": [
    {
     "data": {
      "text/html": [
       "<div>\n",
       "<style scoped>\n",
       "    .dataframe tbody tr th:only-of-type {\n",
       "        vertical-align: middle;\n",
       "    }\n",
       "\n",
       "    .dataframe tbody tr th {\n",
       "        vertical-align: top;\n",
       "    }\n",
       "\n",
       "    .dataframe thead th {\n",
       "        text-align: right;\n",
       "    }\n",
       "</style>\n",
       "<table border=\"1\" class=\"dataframe\">\n",
       "  <thead>\n",
       "    <tr style=\"text-align: right;\">\n",
       "      <th></th>\n",
       "      <th>Avg_Sbmtd_Chrg</th>\n",
       "      <th>Avg_Mdcr_Alowd_Amt</th>\n",
       "      <th>Avg_Mdcr_Pymt_Amt</th>\n",
       "      <th>Avg_Mdcr_Stdzd_Amt</th>\n",
       "      <th>Tot_Srvcs</th>\n",
       "      <th>Tot_Rndrng_Prvdrs</th>\n",
       "      <th>Tot_Benes</th>\n",
       "      <th>Tot_Bene_Day_Srvcs</th>\n",
       "    </tr>\n",
       "  </thead>\n",
       "  <tbody>\n",
       "    <tr>\n",
       "      <th>Avg_Sbmtd_Chrg</th>\n",
       "      <td>1.000000</td>\n",
       "      <td>0.795819</td>\n",
       "      <td>0.795314</td>\n",
       "      <td>0.786145</td>\n",
       "      <td>-0.017490</td>\n",
       "      <td>-0.020825</td>\n",
       "      <td>-0.019858</td>\n",
       "      <td>-0.013999</td>\n",
       "    </tr>\n",
       "    <tr>\n",
       "      <th>Avg_Mdcr_Alowd_Amt</th>\n",
       "      <td>0.795819</td>\n",
       "      <td>1.000000</td>\n",
       "      <td>0.999763</td>\n",
       "      <td>0.996651</td>\n",
       "      <td>-0.012131</td>\n",
       "      <td>-0.016128</td>\n",
       "      <td>-0.013488</td>\n",
       "      <td>-0.009383</td>\n",
       "    </tr>\n",
       "    <tr>\n",
       "      <th>Avg_Mdcr_Pymt_Amt</th>\n",
       "      <td>0.795314</td>\n",
       "      <td>0.999763</td>\n",
       "      <td>1.000000</td>\n",
       "      <td>0.996853</td>\n",
       "      <td>-0.012112</td>\n",
       "      <td>-0.016212</td>\n",
       "      <td>-0.013444</td>\n",
       "      <td>-0.009400</td>\n",
       "    </tr>\n",
       "    <tr>\n",
       "      <th>Avg_Mdcr_Stdzd_Amt</th>\n",
       "      <td>0.786145</td>\n",
       "      <td>0.996651</td>\n",
       "      <td>0.996853</td>\n",
       "      <td>1.000000</td>\n",
       "      <td>-0.012025</td>\n",
       "      <td>-0.016203</td>\n",
       "      <td>-0.013372</td>\n",
       "      <td>-0.009341</td>\n",
       "    </tr>\n",
       "    <tr>\n",
       "      <th>Tot_Srvcs</th>\n",
       "      <td>-0.017490</td>\n",
       "      <td>-0.012131</td>\n",
       "      <td>-0.012112</td>\n",
       "      <td>-0.012025</td>\n",
       "      <td>1.000000</td>\n",
       "      <td>0.394730</td>\n",
       "      <td>0.502012</td>\n",
       "      <td>0.576863</td>\n",
       "    </tr>\n",
       "    <tr>\n",
       "      <th>Tot_Rndrng_Prvdrs</th>\n",
       "      <td>-0.020825</td>\n",
       "      <td>-0.016128</td>\n",
       "      <td>-0.016212</td>\n",
       "      <td>-0.016203</td>\n",
       "      <td>0.394730</td>\n",
       "      <td>1.000000</td>\n",
       "      <td>0.714089</td>\n",
       "      <td>0.694054</td>\n",
       "    </tr>\n",
       "    <tr>\n",
       "      <th>Tot_Benes</th>\n",
       "      <td>-0.019858</td>\n",
       "      <td>-0.013488</td>\n",
       "      <td>-0.013444</td>\n",
       "      <td>-0.013372</td>\n",
       "      <td>0.502012</td>\n",
       "      <td>0.714089</td>\n",
       "      <td>1.000000</td>\n",
       "      <td>0.868417</td>\n",
       "    </tr>\n",
       "    <tr>\n",
       "      <th>Tot_Bene_Day_Srvcs</th>\n",
       "      <td>-0.013999</td>\n",
       "      <td>-0.009383</td>\n",
       "      <td>-0.009400</td>\n",
       "      <td>-0.009341</td>\n",
       "      <td>0.576863</td>\n",
       "      <td>0.694054</td>\n",
       "      <td>0.868417</td>\n",
       "      <td>1.000000</td>\n",
       "    </tr>\n",
       "  </tbody>\n",
       "</table>\n",
       "</div>"
      ],
      "text/plain": [
       "                    Avg_Sbmtd_Chrg  Avg_Mdcr_Alowd_Amt  Avg_Mdcr_Pymt_Amt  \\\n",
       "Avg_Sbmtd_Chrg            1.000000            0.795819           0.795314   \n",
       "Avg_Mdcr_Alowd_Amt        0.795819            1.000000           0.999763   \n",
       "Avg_Mdcr_Pymt_Amt         0.795314            0.999763           1.000000   \n",
       "Avg_Mdcr_Stdzd_Amt        0.786145            0.996651           0.996853   \n",
       "Tot_Srvcs                -0.017490           -0.012131          -0.012112   \n",
       "Tot_Rndrng_Prvdrs        -0.020825           -0.016128          -0.016212   \n",
       "Tot_Benes                -0.019858           -0.013488          -0.013444   \n",
       "Tot_Bene_Day_Srvcs       -0.013999           -0.009383          -0.009400   \n",
       "\n",
       "                    Avg_Mdcr_Stdzd_Amt  Tot_Srvcs  Tot_Rndrng_Prvdrs  \\\n",
       "Avg_Sbmtd_Chrg                0.786145  -0.017490          -0.020825   \n",
       "Avg_Mdcr_Alowd_Amt            0.996651  -0.012131          -0.016128   \n",
       "Avg_Mdcr_Pymt_Amt             0.996853  -0.012112          -0.016212   \n",
       "Avg_Mdcr_Stdzd_Amt            1.000000  -0.012025          -0.016203   \n",
       "Tot_Srvcs                    -0.012025   1.000000           0.394730   \n",
       "Tot_Rndrng_Prvdrs            -0.016203   0.394730           1.000000   \n",
       "Tot_Benes                    -0.013372   0.502012           0.714089   \n",
       "Tot_Bene_Day_Srvcs           -0.009341   0.576863           0.694054   \n",
       "\n",
       "                    Tot_Benes  Tot_Bene_Day_Srvcs  \n",
       "Avg_Sbmtd_Chrg      -0.019858           -0.013999  \n",
       "Avg_Mdcr_Alowd_Amt  -0.013488           -0.009383  \n",
       "Avg_Mdcr_Pymt_Amt   -0.013444           -0.009400  \n",
       "Avg_Mdcr_Stdzd_Amt  -0.013372           -0.009341  \n",
       "Tot_Srvcs            0.502012            0.576863  \n",
       "Tot_Rndrng_Prvdrs    0.714089            0.694054  \n",
       "Tot_Benes            1.000000            0.868417  \n",
       "Tot_Bene_Day_Srvcs   0.868417            1.000000  "
      ]
     },
     "execution_count": 87,
     "metadata": {},
     "output_type": "execute_result"
    }
   ],
   "source": [
    "numcols.corr()"
   ]
  },
  {
   "cell_type": "markdown",
   "id": "05eadd79",
   "metadata": {},
   "source": [
    "# graphyical representaion of multicolinearity"
   ]
  },
  {
   "cell_type": "code",
   "execution_count": 88,
   "id": "72f3cebd",
   "metadata": {},
   "outputs": [],
   "source": [
    "import seaborn as sns"
   ]
  },
  {
   "cell_type": "code",
   "execution_count": 89,
   "id": "621954f7",
   "metadata": {
    "scrolled": false
   },
   "outputs": [
    {
     "data": {
      "text/plain": [
       "<AxesSubplot:>"
      ]
     },
     "execution_count": 89,
     "metadata": {},
     "output_type": "execute_result"
    },
    {
     "data": {
      "image/png": "[encoded data removed]",
      "text/plain": [
       "<Figure size 720x720 with 2 Axes>"
      ]
     },
     "metadata": {
      "needs_background": "light"
     },
     "output_type": "display_data"
    }
   ],
   "source": [
    "plt.figure(figsize=(10,10))\n",
    "sns.heatmap(numcols.corr(),annot=True)"
   ]
  },
  {
   "cell_type": "markdown",
   "id": "94e0dc09",
   "metadata": {},
   "source": [
    "#  their is multicolinearity between three variables . So i dropped two variables."
   ]
  },
  {
   "cell_type": "code",
   "execution_count": 90,
   "id": "a38e01db",
   "metadata": {},
   "outputs": [],
   "source": [
    "numcols=numcols.drop(['Avg_Mdcr_Pymt_Amt','Avg_Mdcr_Stdzd_Amt'],axis=1)"
   ]
  },
  {
   "cell_type": "markdown",
   "id": "a125237b",
   "metadata": {},
   "source": [
    "## Import the package of lable encoder to convert object columns into numeric columns"
   ]
  },
  {
   "cell_type": "code",
   "execution_count": 92,
   "id": "e608f21b",
   "metadata": {},
   "outputs": [],
   "source": [
    "from sklearn.preprocessing import LabelEncoder"
   ]
  },
  {
   "cell_type": "code",
   "execution_count": 93,
   "id": "7e8521ca",
   "metadata": {},
   "outputs": [],
   "source": [
    "le=LabelEncoder()"
   ]
  },
  {
   "cell_type": "code",
   "execution_count": 94,
   "id": "ab67f561",
   "metadata": {},
   "outputs": [],
   "source": [
    "objdum=objcols.apply(le.fit_transform)"
   ]
  },
  {
   "cell_type": "code",
   "execution_count": 95,
   "id": "9e486e45",
   "metadata": {},
   "outputs": [
    {
     "data": {
      "text/html": [
       "<div>\n",
       "<style scoped>\n",
       "    .dataframe tbody tr th:only-of-type {\n",
       "        vertical-align: middle;\n",
       "    }\n",
       "\n",
       "    .dataframe tbody tr th {\n",
       "        vertical-align: top;\n",
       "    }\n",
       "\n",
       "    .dataframe thead th {\n",
       "        text-align: right;\n",
       "    }\n",
       "</style>\n",
       "<table border=\"1\" class=\"dataframe\">\n",
       "  <thead>\n",
       "    <tr style=\"text-align: right;\">\n",
       "      <th></th>\n",
       "      <th>Rndrng_Prvdr_Geo_Lvl</th>\n",
       "      <th>Rndrng_Prvdr_Geo_Cd</th>\n",
       "      <th>Rndrng_Prvdr_Geo_Desc</th>\n",
       "      <th>HCPCS_Cd</th>\n",
       "      <th>HCPCS_Desc</th>\n",
       "      <th>HCPCS_Drug_Ind</th>\n",
       "      <th>Place_Of_Srvc</th>\n",
       "    </tr>\n",
       "  </thead>\n",
       "  <tbody>\n",
       "    <tr>\n",
       "      <th>0</th>\n",
       "      <td>0</td>\n",
       "      <td>56</td>\n",
       "      <td>33</td>\n",
       "      <td>0</td>\n",
       "      <td>4002</td>\n",
       "      <td>0</td>\n",
       "      <td>1</td>\n",
       "    </tr>\n",
       "    <tr>\n",
       "      <th>1</th>\n",
       "      <td>0</td>\n",
       "      <td>56</td>\n",
       "      <td>33</td>\n",
       "      <td>1</td>\n",
       "      <td>7246</td>\n",
       "      <td>0</td>\n",
       "      <td>1</td>\n",
       "    </tr>\n",
       "    <tr>\n",
       "      <th>2</th>\n",
       "      <td>0</td>\n",
       "      <td>56</td>\n",
       "      <td>33</td>\n",
       "      <td>2</td>\n",
       "      <td>395</td>\n",
       "      <td>0</td>\n",
       "      <td>0</td>\n",
       "    </tr>\n",
       "    <tr>\n",
       "      <th>3</th>\n",
       "      <td>0</td>\n",
       "      <td>56</td>\n",
       "      <td>33</td>\n",
       "      <td>2</td>\n",
       "      <td>395</td>\n",
       "      <td>0</td>\n",
       "      <td>1</td>\n",
       "    </tr>\n",
       "    <tr>\n",
       "      <th>4</th>\n",
       "      <td>0</td>\n",
       "      <td>56</td>\n",
       "      <td>33</td>\n",
       "      <td>3</td>\n",
       "      <td>422</td>\n",
       "      <td>0</td>\n",
       "      <td>0</td>\n",
       "    </tr>\n",
       "    <tr>\n",
       "      <th>...</th>\n",
       "      <td>...</td>\n",
       "      <td>...</td>\n",
       "      <td>...</td>\n",
       "      <td>...</td>\n",
       "      <td>...</td>\n",
       "      <td>...</td>\n",
       "      <td>...</td>\n",
       "    </tr>\n",
       "    <tr>\n",
       "      <th>273206</th>\n",
       "      <td>1</td>\n",
       "      <td>61</td>\n",
       "      <td>14</td>\n",
       "      <td>8169</td>\n",
       "      <td>4258</td>\n",
       "      <td>0</td>\n",
       "      <td>0</td>\n",
       "    </tr>\n",
       "    <tr>\n",
       "      <th>273207</th>\n",
       "      <td>1</td>\n",
       "      <td>61</td>\n",
       "      <td>14</td>\n",
       "      <td>8280</td>\n",
       "      <td>3215</td>\n",
       "      <td>1</td>\n",
       "      <td>1</td>\n",
       "    </tr>\n",
       "    <tr>\n",
       "      <th>273208</th>\n",
       "      <td>1</td>\n",
       "      <td>61</td>\n",
       "      <td>14</td>\n",
       "      <td>8310</td>\n",
       "      <td>3400</td>\n",
       "      <td>1</td>\n",
       "      <td>1</td>\n",
       "    </tr>\n",
       "    <tr>\n",
       "      <th>273209</th>\n",
       "      <td>1</td>\n",
       "      <td>61</td>\n",
       "      <td>14</td>\n",
       "      <td>8318</td>\n",
       "      <td>3249</td>\n",
       "      <td>1</td>\n",
       "      <td>1</td>\n",
       "    </tr>\n",
       "    <tr>\n",
       "      <th>273210</th>\n",
       "      <td>1</td>\n",
       "      <td>61</td>\n",
       "      <td>14</td>\n",
       "      <td>8485</td>\n",
       "      <td>3531</td>\n",
       "      <td>1</td>\n",
       "      <td>1</td>\n",
       "    </tr>\n",
       "  </tbody>\n",
       "</table>\n",
       "<p>273211 rows × 7 columns</p>\n",
       "</div>"
      ],
      "text/plain": [
       "        Rndrng_Prvdr_Geo_Lvl  Rndrng_Prvdr_Geo_Cd  Rndrng_Prvdr_Geo_Desc  \\\n",
       "0                          0                   56                     33   \n",
       "1                          0                   56                     33   \n",
       "2                          0                   56                     33   \n",
       "3                          0                   56                     33   \n",
       "4                          0                   56                     33   \n",
       "...                      ...                  ...                    ...   \n",
       "273206                     1                   61                     14   \n",
       "273207                     1                   61                     14   \n",
       "273208                     1                   61                     14   \n",
       "273209                     1                   61                     14   \n",
       "273210                     1                   61                     14   \n",
       "\n",
       "        HCPCS_Cd  HCPCS_Desc  HCPCS_Drug_Ind  Place_Of_Srvc  \n",
       "0              0        4002               0              1  \n",
       "1              1        7246               0              1  \n",
       "2              2         395               0              0  \n",
       "3              2         395               0              1  \n",
       "4              3         422               0              0  \n",
       "...          ...         ...             ...            ...  \n",
       "273206      8169        4258               0              0  \n",
       "273207      8280        3215               1              1  \n",
       "273208      8310        3400               1              1  \n",
       "273209      8318        3249               1              1  \n",
       "273210      8485        3531               1              1  \n",
       "\n",
       "[273211 rows x 7 columns]"
      ]
     },
     "execution_count": 95,
     "metadata": {},
     "output_type": "execute_result"
    }
   ],
   "source": [
    "objdum"
   ]
  },
  {
   "cell_type": "code",
   "execution_count": 96,
   "id": "2a251190",
   "metadata": {},
   "outputs": [],
   "source": [
    "cleandata=pd.concat([numcols,objdum],axis=1)"
   ]
  },
  {
   "cell_type": "code",
   "execution_count": 97,
   "id": "2480ea2c",
   "metadata": {},
   "outputs": [
    {
     "data": {
      "text/html": [
       "<div>\n",
       "<style scoped>\n",
       "    .dataframe tbody tr th:only-of-type {\n",
       "        vertical-align: middle;\n",
       "    }\n",
       "\n",
       "    .dataframe tbody tr th {\n",
       "        vertical-align: top;\n",
       "    }\n",
       "\n",
       "    .dataframe thead th {\n",
       "        text-align: right;\n",
       "    }\n",
       "</style>\n",
       "<table border=\"1\" class=\"dataframe\">\n",
       "  <thead>\n",
       "    <tr style=\"text-align: right;\">\n",
       "      <th></th>\n",
       "      <th>Avg_Sbmtd_Chrg</th>\n",
       "      <th>Avg_Mdcr_Alowd_Amt</th>\n",
       "      <th>Tot_Srvcs</th>\n",
       "      <th>Tot_Rndrng_Prvdrs</th>\n",
       "      <th>Tot_Benes</th>\n",
       "      <th>Tot_Bene_Day_Srvcs</th>\n",
       "      <th>Rndrng_Prvdr_Geo_Lvl</th>\n",
       "      <th>Rndrng_Prvdr_Geo_Cd</th>\n",
       "      <th>Rndrng_Prvdr_Geo_Desc</th>\n",
       "      <th>HCPCS_Cd</th>\n",
       "      <th>HCPCS_Desc</th>\n",
       "      <th>HCPCS_Drug_Ind</th>\n",
       "      <th>Place_Of_Srvc</th>\n",
       "    </tr>\n",
       "  </thead>\n",
       "  <tbody>\n",
       "    <tr>\n",
       "      <th>0</th>\n",
       "      <td>680.55</td>\n",
       "      <td>438.21</td>\n",
       "      <td>42.0</td>\n",
       "      <td>12</td>\n",
       "      <td>41</td>\n",
       "      <td>42</td>\n",
       "      <td>0</td>\n",
       "      <td>56</td>\n",
       "      <td>33</td>\n",
       "      <td>0</td>\n",
       "      <td>4002</td>\n",
       "      <td>0</td>\n",
       "      <td>1</td>\n",
       "    </tr>\n",
       "    <tr>\n",
       "      <th>1</th>\n",
       "      <td>795.00</td>\n",
       "      <td>744.80</td>\n",
       "      <td>540.0</td>\n",
       "      <td>1</td>\n",
       "      <td>539</td>\n",
       "      <td>540</td>\n",
       "      <td>0</td>\n",
       "      <td>56</td>\n",
       "      <td>33</td>\n",
       "      <td>1</td>\n",
       "      <td>7246</td>\n",
       "      <td>0</td>\n",
       "      <td>1</td>\n",
       "    </tr>\n",
       "    <tr>\n",
       "      <th>2</th>\n",
       "      <td>1959.51</td>\n",
       "      <td>237.04</td>\n",
       "      <td>12019.0</td>\n",
       "      <td>9574</td>\n",
       "      <td>8232</td>\n",
       "      <td>12016</td>\n",
       "      <td>0</td>\n",
       "      <td>56</td>\n",
       "      <td>33</td>\n",
       "      <td>2</td>\n",
       "      <td>395</td>\n",
       "      <td>0</td>\n",
       "      <td>0</td>\n",
       "    </tr>\n",
       "    <tr>\n",
       "      <th>3</th>\n",
       "      <td>1409.59</td>\n",
       "      <td>170.33</td>\n",
       "      <td>99.0</td>\n",
       "      <td>91</td>\n",
       "      <td>59</td>\n",
       "      <td>99</td>\n",
       "      <td>0</td>\n",
       "      <td>56</td>\n",
       "      <td>33</td>\n",
       "      <td>2</td>\n",
       "      <td>395</td>\n",
       "      <td>0</td>\n",
       "      <td>1</td>\n",
       "    </tr>\n",
       "    <tr>\n",
       "      <th>4</th>\n",
       "      <td>1210.95</td>\n",
       "      <td>165.06</td>\n",
       "      <td>70.0</td>\n",
       "      <td>63</td>\n",
       "      <td>48</td>\n",
       "      <td>70</td>\n",
       "      <td>0</td>\n",
       "      <td>56</td>\n",
       "      <td>33</td>\n",
       "      <td>3</td>\n",
       "      <td>422</td>\n",
       "      <td>0</td>\n",
       "      <td>0</td>\n",
       "    </tr>\n",
       "    <tr>\n",
       "      <th>...</th>\n",
       "      <td>...</td>\n",
       "      <td>...</td>\n",
       "      <td>...</td>\n",
       "      <td>...</td>\n",
       "      <td>...</td>\n",
       "      <td>...</td>\n",
       "      <td>...</td>\n",
       "      <td>...</td>\n",
       "      <td>...</td>\n",
       "      <td>...</td>\n",
       "      <td>...</td>\n",
       "      <td>...</td>\n",
       "      <td>...</td>\n",
       "    </tr>\n",
       "    <tr>\n",
       "      <th>273206</th>\n",
       "      <td>51.14</td>\n",
       "      <td>7.48</td>\n",
       "      <td>204.0</td>\n",
       "      <td>1</td>\n",
       "      <td>191</td>\n",
       "      <td>203</td>\n",
       "      <td>1</td>\n",
       "      <td>61</td>\n",
       "      <td>14</td>\n",
       "      <td>8169</td>\n",
       "      <td>4258</td>\n",
       "      <td>0</td>\n",
       "      <td>0</td>\n",
       "    </tr>\n",
       "    <tr>\n",
       "      <th>273207</th>\n",
       "      <td>27.19</td>\n",
       "      <td>0.59</td>\n",
       "      <td>55.0</td>\n",
       "      <td>7</td>\n",
       "      <td>15</td>\n",
       "      <td>17</td>\n",
       "      <td>1</td>\n",
       "      <td>61</td>\n",
       "      <td>14</td>\n",
       "      <td>8280</td>\n",
       "      <td>3215</td>\n",
       "      <td>1</td>\n",
       "      <td>1</td>\n",
       "    </tr>\n",
       "    <tr>\n",
       "      <th>273208</th>\n",
       "      <td>29.47</td>\n",
       "      <td>6.34</td>\n",
       "      <td>19.0</td>\n",
       "      <td>2</td>\n",
       "      <td>16</td>\n",
       "      <td>18</td>\n",
       "      <td>1</td>\n",
       "      <td>61</td>\n",
       "      <td>14</td>\n",
       "      <td>8310</td>\n",
       "      <td>3400</td>\n",
       "      <td>1</td>\n",
       "      <td>1</td>\n",
       "    </tr>\n",
       "    <tr>\n",
       "      <th>273209</th>\n",
       "      <td>15.03</td>\n",
       "      <td>0.12</td>\n",
       "      <td>39.0</td>\n",
       "      <td>3</td>\n",
       "      <td>11</td>\n",
       "      <td>11</td>\n",
       "      <td>1</td>\n",
       "      <td>61</td>\n",
       "      <td>14</td>\n",
       "      <td>8318</td>\n",
       "      <td>3249</td>\n",
       "      <td>1</td>\n",
       "      <td>1</td>\n",
       "    </tr>\n",
       "    <tr>\n",
       "      <th>273210</th>\n",
       "      <td>28.20</td>\n",
       "      <td>1.54</td>\n",
       "      <td>133.0</td>\n",
       "      <td>5</td>\n",
       "      <td>26</td>\n",
       "      <td>31</td>\n",
       "      <td>1</td>\n",
       "      <td>61</td>\n",
       "      <td>14</td>\n",
       "      <td>8485</td>\n",
       "      <td>3531</td>\n",
       "      <td>1</td>\n",
       "      <td>1</td>\n",
       "    </tr>\n",
       "  </tbody>\n",
       "</table>\n",
       "<p>273211 rows × 13 columns</p>\n",
       "</div>"
      ],
      "text/plain": [
       "        Avg_Sbmtd_Chrg  Avg_Mdcr_Alowd_Amt  Tot_Srvcs  Tot_Rndrng_Prvdrs  \\\n",
       "0               680.55              438.21       42.0                 12   \n",
       "1               795.00              744.80      540.0                  1   \n",
       "2              1959.51              237.04    12019.0               9574   \n",
       "3              1409.59              170.33       99.0                 91   \n",
       "4              1210.95              165.06       70.0                 63   \n",
       "...                ...                 ...        ...                ...   \n",
       "273206           51.14                7.48      204.0                  1   \n",
       "273207           27.19                0.59       55.0                  7   \n",
       "273208           29.47                6.34       19.0                  2   \n",
       "273209           15.03                0.12       39.0                  3   \n",
       "273210           28.20                1.54      133.0                  5   \n",
       "\n",
       "        Tot_Benes  Tot_Bene_Day_Srvcs  Rndrng_Prvdr_Geo_Lvl  \\\n",
       "0              41                  42                     0   \n",
       "1             539                 540                     0   \n",
       "2            8232               12016                     0   \n",
       "3              59                  99                     0   \n",
       "4              48                  70                     0   \n",
       "...           ...                 ...                   ...   \n",
       "273206        191                 203                     1   \n",
       "273207         15                  17                     1   \n",
       "273208         16                  18                     1   \n",
       "273209         11                  11                     1   \n",
       "273210         26                  31                     1   \n",
       "\n",
       "        Rndrng_Prvdr_Geo_Cd  Rndrng_Prvdr_Geo_Desc  HCPCS_Cd  HCPCS_Desc  \\\n",
       "0                        56                     33         0        4002   \n",
       "1                        56                     33         1        7246   \n",
       "2                        56                     33         2         395   \n",
       "3                        56                     33         2         395   \n",
       "4                        56                     33         3         422   \n",
       "...                     ...                    ...       ...         ...   \n",
       "273206                   61                     14      8169        4258   \n",
       "273207                   61                     14      8280        3215   \n",
       "273208                   61                     14      8310        3400   \n",
       "273209                   61                     14      8318        3249   \n",
       "273210                   61                     14      8485        3531   \n",
       "\n",
       "        HCPCS_Drug_Ind  Place_Of_Srvc  \n",
       "0                    0              1  \n",
       "1                    0              1  \n",
       "2                    0              0  \n",
       "3                    0              1  \n",
       "4                    0              0  \n",
       "...                ...            ...  \n",
       "273206               0              0  \n",
       "273207               1              1  \n",
       "273208               1              1  \n",
       "273209               1              1  \n",
       "273210               1              1  \n",
       "\n",
       "[273211 rows x 13 columns]"
      ]
     },
     "execution_count": 97,
     "metadata": {},
     "output_type": "execute_result"
    }
   ],
   "source": [
    "cleandata"
   ]
  },
  {
   "cell_type": "code",
   "execution_count": 98,
   "id": "dc81602a",
   "metadata": {},
   "outputs": [
    {
     "data": {
      "text/plain": [
       "(273211, 13)"
      ]
     },
     "execution_count": 98,
     "metadata": {},
     "output_type": "execute_result"
    }
   ],
   "source": [
    "cleandata.shape"
   ]
  },
  {
   "cell_type": "code",
   "execution_count": 99,
   "id": "1a1bf3d6",
   "metadata": {},
   "outputs": [],
   "source": [
    "y=cleandata.Avg_Mdcr_Alowd_Amt"
   ]
  },
  {
   "cell_type": "code",
   "execution_count": 100,
   "id": "a4ddccc3",
   "metadata": {},
   "outputs": [
    {
     "data": {
      "text/plain": [
       "<AxesSubplot:ylabel='Frequency'>"
      ]
     },
     "execution_count": 100,
     "metadata": {},
     "output_type": "execute_result"
    },
    {
     "data": {
      "image/png": "[encoded data removed]",
      "text/plain": [
       "<Figure size 432x288 with 1 Axes>"
      ]
     },
     "metadata": {
      "needs_background": "light"
     },
     "output_type": "display_data"
    }
   ],
   "source": [
    "y.plot(kind='hist')"
   ]
  },
  {
   "cell_type": "code",
   "execution_count": 101,
   "id": "305b6ca3",
   "metadata": {},
   "outputs": [
    {
     "data": {
      "text/plain": [
       "<AxesSubplot:ylabel='Frequency'>"
      ]
     },
     "execution_count": 101,
     "metadata": {},
     "output_type": "execute_result"
    },
    {
     "data": {
      "image/png": "[encoded data removed]",
      "text/plain": [
       "<Figure size 432x288 with 1 Axes>"
      ]
     },
     "metadata": {
      "needs_background": "light"
     },
     "output_type": "display_data"
    }
   ],
   "source": [
    "np.log(y).plot(kind='hist')"
   ]
  },
  {
   "cell_type": "code",
   "execution_count": 102,
   "id": "129dc464",
   "metadata": {},
   "outputs": [
    {
     "data": {
      "text/plain": [
       "<AxesSubplot:>"
      ]
     },
     "execution_count": 102,
     "metadata": {},
     "output_type": "execute_result"
    },
    {
     "data": {
      "image/png": "[encoded data removed]",
      "text/plain": [
       "<Figure size 432x288 with 1 Axes>"
      ]
     },
     "metadata": {
      "needs_background": "light"
     },
     "output_type": "display_data"
    }
   ],
   "source": [
    "y.plot(kind='box',vert=False)"
   ]
  },
  {
   "cell_type": "code",
   "execution_count": 103,
   "id": "188d2413",
   "metadata": {},
   "outputs": [
    {
     "data": {
      "text/plain": [
       "<AxesSubplot:>"
      ]
     },
     "execution_count": 103,
     "metadata": {},
     "output_type": "execute_result"
    },
    {
     "data": {
      "image/png": "[encoded data removed]",
      "text/plain": [
       "<Figure size 432x288 with 1 Axes>"
      ]
     },
     "metadata": {
      "needs_background": "light"
     },
     "output_type": "display_data"
    }
   ],
   "source": [
    "np.log(y).plot(kind='box',vert=False)"
   ]
  },
  {
   "cell_type": "code",
   "execution_count": 104,
   "id": "f686cde6",
   "metadata": {},
   "outputs": [
    {
     "data": {
      "text/plain": [
       "29.39997944209243"
      ]
     },
     "execution_count": 104,
     "metadata": {},
     "output_type": "execute_result"
    }
   ],
   "source": [
    "y.skew()"
   ]
  },
  {
   "cell_type": "code",
   "execution_count": 105,
   "id": "f8bd4af7",
   "metadata": {},
   "outputs": [
    {
     "data": {
      "text/plain": [
       "1541.565204747929"
      ]
     },
     "execution_count": 105,
     "metadata": {},
     "output_type": "execute_result"
    }
   ],
   "source": [
    "y.kurt()"
   ]
  },
  {
   "cell_type": "code",
   "execution_count": 106,
   "id": "b9631e99",
   "metadata": {},
   "outputs": [
    {
     "data": {
      "text/plain": [
       "<AxesSubplot:ylabel='Density'>"
      ]
     },
     "execution_count": 106,
     "metadata": {},
     "output_type": "execute_result"
    },
    {
     "data": {
      "image/png": "[encoded data removed]",
      "text/plain": [
       "<Figure size 432x288 with 1 Axes>"
      ]
     },
     "metadata": {
      "needs_background": "light"
     },
     "output_type": "display_data"
    }
   ],
   "source": [
    "y.plot(kind='density')"
   ]
  },
  {
   "cell_type": "code",
   "execution_count": 107,
   "id": "f88fc4ed",
   "metadata": {
    "scrolled": true
   },
   "outputs": [
    {
     "data": {
      "text/plain": [
       "<AxesSubplot:ylabel='Density'>"
      ]
     },
     "execution_count": 107,
     "metadata": {},
     "output_type": "execute_result"
    },
    {
     "data": {
      "image/png": "[encoded data removed]",
      "text/plain": [
       "<Figure size 432x288 with 1 Axes>"
      ]
     },
     "metadata": {
      "needs_background": "light"
     },
     "output_type": "display_data"
    }
   ],
   "source": [
    "np.log(y).plot(kind='density')"
   ]
  },
  {
   "cell_type": "code",
   "execution_count": 108,
   "id": "90428e19",
   "metadata": {},
   "outputs": [],
   "source": [
    "x=cleandata.drop([\"Avg_Mdcr_Alowd_Amt\"],axis=1)"
   ]
  },
  {
   "cell_type": "markdown",
   "id": "028ac324",
   "metadata": {},
   "source": [
    "#  study of dependent variable"
   ]
  },
  {
   "cell_type": "code",
   "execution_count": null,
   "id": "f8b829a2",
   "metadata": {},
   "outputs": [],
   "source": [
    "# The dependent variable is in numeric and continuous \n",
    "# Their is no multicollinearity in our data \n",
    "# It is purely a regression model\n",
    "# my dependent variable is positively skewed so that i can perform logarithemic transformation"
   ]
  },
  {
   "cell_type": "markdown",
   "id": "72344892",
   "metadata": {},
   "source": [
    "## Linear Regression"
   ]
  },
  {
   "cell_type": "code",
   "execution_count": null,
   "id": "9cdce0d5",
   "metadata": {},
   "outputs": [],
   "source": []
  },
  {
   "cell_type": "code",
   "execution_count": 109,
   "id": "9e33d042",
   "metadata": {},
   "outputs": [],
   "source": [
    "from sklearn.linear_model import LinearRegression"
   ]
  },
  {
   "cell_type": "code",
   "execution_count": 110,
   "id": "1301ec97",
   "metadata": {},
   "outputs": [],
   "source": [
    "lr=LinearRegression()"
   ]
  },
  {
   "cell_type": "code",
   "execution_count": 111,
   "id": "8c94dfdd",
   "metadata": {},
   "outputs": [],
   "source": [
    "lrmodel=lr.fit(x,y)"
   ]
  },
  {
   "cell_type": "code",
   "execution_count": 112,
   "id": "31e85889",
   "metadata": {},
   "outputs": [
    {
     "data": {
      "text/plain": [
       "0.6443472335800071"
      ]
     },
     "execution_count": 112,
     "metadata": {},
     "output_type": "execute_result"
    }
   ],
   "source": [
    "lrmodel.score(x,y)"
   ]
  },
  {
   "cell_type": "code",
   "execution_count": 113,
   "id": "cf19af11",
   "metadata": {},
   "outputs": [],
   "source": [
    "lrpredict=lrmodel.predict(x)"
   ]
  },
  {
   "cell_type": "code",
   "execution_count": 114,
   "id": "d135839f",
   "metadata": {},
   "outputs": [
    {
     "data": {
      "text/plain": [
       "array([135.34091669, 184.10546887, 341.26343911, ..., 202.5544565 ,\n",
       "       197.92416734, 205.22725722])"
      ]
     },
     "execution_count": 114,
     "metadata": {},
     "output_type": "execute_result"
    }
   ],
   "source": [
    "lrpredict"
   ]
  },
  {
   "cell_type": "code",
   "execution_count": 115,
   "id": "b292a483",
   "metadata": {},
   "outputs": [],
   "source": [
    "from sklearn.model_selection import cross_val_score"
   ]
  },
  {
   "cell_type": "code",
   "execution_count": 116,
   "id": "f628783d",
   "metadata": {},
   "outputs": [
    {
     "data": {
      "text/plain": [
       "array([0.65614487, 0.64227283, 0.68869902, 0.60885247, 0.59607646])"
      ]
     },
     "execution_count": 116,
     "metadata": {},
     "output_type": "execute_result"
    }
   ],
   "source": [
    "cross_val_score(lrmodel,x,y)"
   ]
  },
  {
   "cell_type": "code",
   "execution_count": 117,
   "id": "bfe1b6b5",
   "metadata": {},
   "outputs": [
    {
     "data": {
      "text/plain": [
       "0.63840913"
      ]
     },
     "execution_count": 117,
     "metadata": {},
     "output_type": "execute_result"
    }
   ],
   "source": [
    "np.mean([0.65614487, 0.64227283, 0.68869902, 0.60885247, 0.59607646])"
   ]
  },
  {
   "cell_type": "code",
   "execution_count": 118,
   "id": "909a0ac9",
   "metadata": {},
   "outputs": [],
   "source": [
    "residual=y-lrpredict"
   ]
  },
  {
   "cell_type": "code",
   "execution_count": 119,
   "id": "87fee02d",
   "metadata": {},
   "outputs": [
    {
     "data": {
      "text/plain": [
       "451.35485674206154"
      ]
     },
     "execution_count": 119,
     "metadata": {},
     "output_type": "execute_result"
    }
   ],
   "source": [
    "np.sqrt(np.mean(residual**2))"
   ]
  },
  {
   "cell_type": "markdown",
   "id": "7e4a280d",
   "metadata": {},
   "source": [
    "## Log of linear Regression"
   ]
  },
  {
   "cell_type": "code",
   "execution_count": 120,
   "id": "192eef75",
   "metadata": {},
   "outputs": [],
   "source": [
    "lrmodellog=lr.fit(x,np.log(y))"
   ]
  },
  {
   "cell_type": "code",
   "execution_count": 121,
   "id": "05c2c8cd",
   "metadata": {},
   "outputs": [
    {
     "data": {
      "text/plain": [
       "0.5192929207666364"
      ]
     },
     "execution_count": 121,
     "metadata": {},
     "output_type": "execute_result"
    }
   ],
   "source": [
    "lrmodellog.score(x,np.log(y))"
   ]
  },
  {
   "cell_type": "code",
   "execution_count": 122,
   "id": "2c0fd4a5",
   "metadata": {},
   "outputs": [
    {
     "data": {
      "text/plain": [
       "array([0.24941846, 0.52092154, 0.51895336, 0.5163557 , 0.49657257])"
      ]
     },
     "execution_count": 122,
     "metadata": {},
     "output_type": "execute_result"
    }
   ],
   "source": [
    "cross_val_score(lrmodellog,x,np.log(y))"
   ]
  },
  {
   "cell_type": "code",
   "execution_count": 123,
   "id": "86546007",
   "metadata": {},
   "outputs": [
    {
     "data": {
      "text/plain": [
       "0.460444326"
      ]
     },
     "execution_count": 123,
     "metadata": {},
     "output_type": "execute_result"
    }
   ],
   "source": [
    "np.mean([0.24941846, 0.52092154, 0.51895336, 0.5163557 , 0.49657257])"
   ]
  },
  {
   "cell_type": "code",
   "execution_count": 124,
   "id": "e448da4d",
   "metadata": {},
   "outputs": [],
   "source": [
    "lrpredictlog=lrmodellog.predict(x)"
   ]
  },
  {
   "cell_type": "code",
   "execution_count": 125,
   "id": "56d76ca4",
   "metadata": {},
   "outputs": [],
   "source": [
    "lrpredictlog=np.exp(lrpredictlog)"
   ]
  },
  {
   "cell_type": "code",
   "execution_count": 126,
   "id": "af4849ce",
   "metadata": {},
   "outputs": [],
   "source": [
    "lrlogres=y-lrpredictlog"
   ]
  },
  {
   "cell_type": "code",
   "execution_count": 127,
   "id": "81c207fe",
   "metadata": {},
   "outputs": [
    {
     "data": {
      "text/plain": [
       "609371321744.7377"
      ]
     },
     "execution_count": 127,
     "metadata": {},
     "output_type": "execute_result"
    }
   ],
   "source": [
    "np.sqrt(np.mean(lrlogres**2))"
   ]
  },
  {
   "cell_type": "code",
   "execution_count": null,
   "id": "4b0f377b",
   "metadata": {},
   "outputs": [],
   "source": []
  },
  {
   "cell_type": "code",
   "execution_count": null,
   "id": "4bc7909b",
   "metadata": {},
   "outputs": [],
   "source": []
  },
  {
   "cell_type": "markdown",
   "id": "1e6b851e",
   "metadata": {},
   "source": [
    "## Decision Tree"
   ]
  },
  {
   "cell_type": "code",
   "execution_count": 128,
   "id": "0ca23171",
   "metadata": {},
   "outputs": [],
   "source": [
    "from sklearn.tree import DecisionTreeRegressor"
   ]
  },
  {
   "cell_type": "code",
   "execution_count": 129,
   "id": "0840508b",
   "metadata": {},
   "outputs": [],
   "source": [
    "dtr=DecisionTreeRegressor(max_depth=9)"
   ]
  },
  {
   "cell_type": "code",
   "execution_count": 130,
   "id": "b07a6ed6",
   "metadata": {},
   "outputs": [],
   "source": [
    "dtrmodel=dtr.fit(x,y)"
   ]
  },
  {
   "cell_type": "code",
   "execution_count": 131,
   "id": "040656d3",
   "metadata": {},
   "outputs": [
    {
     "data": {
      "text/plain": [
       "0.9266305601367194"
      ]
     },
     "execution_count": 131,
     "metadata": {},
     "output_type": "execute_result"
    }
   ],
   "source": [
    "dtrmodel.score(x,y)"
   ]
  },
  {
   "cell_type": "code",
   "execution_count": 132,
   "id": "9d2a308c",
   "metadata": {},
   "outputs": [
    {
     "data": {
      "text/plain": [
       "array([0.84380127, 0.90259176, 0.90396737, 0.89540375, 0.86602237])"
      ]
     },
     "execution_count": 132,
     "metadata": {},
     "output_type": "execute_result"
    }
   ],
   "source": [
    "cross_val_score(dtrmodel,x,y)"
   ]
  },
  {
   "cell_type": "code",
   "execution_count": 301,
   "id": "520a3533",
   "metadata": {},
   "outputs": [
    {
     "data": {
      "text/plain": [
       "0.8823573039999999"
      ]
     },
     "execution_count": 301,
     "metadata": {},
     "output_type": "execute_result"
    }
   ],
   "source": [
    "np.mean([0.84380127, 0.90259176, 0.90396737, 0.89540375, 0.86602237])"
   ]
  },
  {
   "cell_type": "code",
   "execution_count": 134,
   "id": "2504600f",
   "metadata": {},
   "outputs": [],
   "source": [
    "dtrpredict=dtrmodel.predict(x)"
   ]
  },
  {
   "cell_type": "code",
   "execution_count": 135,
   "id": "187c78a2",
   "metadata": {},
   "outputs": [],
   "source": [
    "residual=y-dtrpredict"
   ]
  },
  {
   "cell_type": "code",
   "execution_count": 136,
   "id": "f2998151",
   "metadata": {},
   "outputs": [
    {
     "data": {
      "text/plain": [
       "205.0041374234804"
      ]
     },
     "execution_count": 136,
     "metadata": {},
     "output_type": "execute_result"
    }
   ],
   "source": [
    "np.sqrt(np.mean(residual**2))"
   ]
  },
  {
   "cell_type": "markdown",
   "id": "cf279894",
   "metadata": {},
   "source": [
    "## log of Decision Tree"
   ]
  },
  {
   "cell_type": "code",
   "execution_count": 137,
   "id": "2885a7d7",
   "metadata": {},
   "outputs": [],
   "source": [
    "dtrmodellog=dtr.fit(x,np.log(y))"
   ]
  },
  {
   "cell_type": "code",
   "execution_count": 138,
   "id": "c598bb21",
   "metadata": {},
   "outputs": [
    {
     "data": {
      "text/plain": [
       "0.9188119625565339"
      ]
     },
     "execution_count": 138,
     "metadata": {},
     "output_type": "execute_result"
    }
   ],
   "source": [
    "dtrmodellog.score(x,np.log(y))"
   ]
  },
  {
   "cell_type": "code",
   "execution_count": 139,
   "id": "a123be4e",
   "metadata": {},
   "outputs": [
    {
     "data": {
      "text/plain": [
       "array([0.90413859, 0.9204058 , 0.91972631, 0.91650398, 0.8964834 ])"
      ]
     },
     "execution_count": 139,
     "metadata": {},
     "output_type": "execute_result"
    }
   ],
   "source": [
    "cross_val_score(dtrmodellog,x,np.log(y))"
   ]
  },
  {
   "cell_type": "code",
   "execution_count": 140,
   "id": "aede33ed",
   "metadata": {},
   "outputs": [
    {
     "data": {
      "text/plain": [
       "0.9115115540000002"
      ]
     },
     "execution_count": 140,
     "metadata": {},
     "output_type": "execute_result"
    }
   ],
   "source": [
    "np.mean([0.9041381 , 0.9205155 , 0.9199003 , 0.91651789, 0.89648598])"
   ]
  },
  {
   "cell_type": "code",
   "execution_count": 141,
   "id": "d0ea348f",
   "metadata": {},
   "outputs": [],
   "source": [
    "dtrlogpre=dtrmodellog.predict(x)"
   ]
  },
  {
   "cell_type": "code",
   "execution_count": 142,
   "id": "d0d5037d",
   "metadata": {},
   "outputs": [],
   "source": [
    "dtrlogpre=np.exp(dtrlogpre)"
   ]
  },
  {
   "cell_type": "code",
   "execution_count": 143,
   "id": "104c6078",
   "metadata": {},
   "outputs": [],
   "source": [
    "dtrreslog=y-dtrlogpre"
   ]
  },
  {
   "cell_type": "code",
   "execution_count": 144,
   "id": "14dec177",
   "metadata": {},
   "outputs": [
    {
     "data": {
      "text/plain": [
       "269.2968021670323"
      ]
     },
     "execution_count": 144,
     "metadata": {},
     "output_type": "execute_result"
    }
   ],
   "source": [
    "np.sqrt(np.mean(dtrreslog**2))"
   ]
  },
  {
   "cell_type": "code",
   "execution_count": null,
   "id": "92dc0fda",
   "metadata": {},
   "outputs": [],
   "source": []
  },
  {
   "cell_type": "code",
   "execution_count": null,
   "id": "2143f9e2",
   "metadata": {},
   "outputs": [],
   "source": []
  },
  {
   "cell_type": "markdown",
   "id": "83e0a51d",
   "metadata": {},
   "source": [
    "## RandomForest Regressor "
   ]
  },
  {
   "cell_type": "code",
   "execution_count": 145,
   "id": "08fd0ea9",
   "metadata": {},
   "outputs": [],
   "source": [
    "from sklearn.ensemble import RandomForestRegressor"
   ]
  },
  {
   "cell_type": "code",
   "execution_count": 146,
   "id": "e9aa9954",
   "metadata": {},
   "outputs": [],
   "source": [
    "rfg=RandomForestRegressor(max_depth=5,n_estimators=50)"
   ]
  },
  {
   "cell_type": "code",
   "execution_count": 147,
   "id": "73db1be2",
   "metadata": {},
   "outputs": [],
   "source": [
    "rfgmodel=rfg.fit(x,y)"
   ]
  },
  {
   "cell_type": "code",
   "execution_count": 148,
   "id": "ba4bdea3",
   "metadata": {},
   "outputs": [
    {
     "data": {
      "text/plain": [
       "0.8760259454347172"
      ]
     },
     "execution_count": 148,
     "metadata": {},
     "output_type": "execute_result"
    }
   ],
   "source": [
    "rfgmodel.score(x,y)"
   ]
  },
  {
   "cell_type": "code",
   "execution_count": 149,
   "id": "c2f0b15f",
   "metadata": {},
   "outputs": [
    {
     "data": {
      "text/plain": [
       "array([0.83568595, 0.84465451, 0.85457977, 0.86903637, 0.85157529])"
      ]
     },
     "execution_count": 149,
     "metadata": {},
     "output_type": "execute_result"
    }
   ],
   "source": [
    "cross_val_score(rfgmodel,x,y)"
   ]
  },
  {
   "cell_type": "code",
   "execution_count": 300,
   "id": "d9124d8c",
   "metadata": {},
   "outputs": [
    {
     "data": {
      "text/plain": [
       "0.8511063780000001"
      ]
     },
     "execution_count": 300,
     "metadata": {},
     "output_type": "execute_result"
    }
   ],
   "source": [
    "np.mean([0.83568595, 0.84465451, 0.85457977, 0.86903637, 0.85157529])"
   ]
  },
  {
   "cell_type": "code",
   "execution_count": 151,
   "id": "24bf09e8",
   "metadata": {},
   "outputs": [],
   "source": [
    "rfgpredict=rfgmodel.predict(x)"
   ]
  },
  {
   "cell_type": "code",
   "execution_count": 152,
   "id": "c9bb6368",
   "metadata": {},
   "outputs": [],
   "source": [
    "residual=y-rfgpredict"
   ]
  },
  {
   "cell_type": "code",
   "execution_count": 153,
   "id": "a033bbd2",
   "metadata": {},
   "outputs": [
    {
     "data": {
      "text/plain": [
       "266.4835632950976"
      ]
     },
     "execution_count": 153,
     "metadata": {},
     "output_type": "execute_result"
    }
   ],
   "source": [
    "np.sqrt(np.mean(residual**2))"
   ]
  },
  {
   "cell_type": "code",
   "execution_count": null,
   "id": "c1f61caa",
   "metadata": {},
   "outputs": [],
   "source": []
  },
  {
   "cell_type": "markdown",
   "id": "994c3f54",
   "metadata": {},
   "source": [
    "## log of Random Forest Regressor"
   ]
  },
  {
   "cell_type": "code",
   "execution_count": 154,
   "id": "1fec597a",
   "metadata": {},
   "outputs": [],
   "source": [
    "rfgmodellog=rfg.fit(x,np.log(y))"
   ]
  },
  {
   "cell_type": "code",
   "execution_count": 155,
   "id": "bd3a2459",
   "metadata": {},
   "outputs": [
    {
     "data": {
      "text/plain": [
       "0.8915551953111416"
      ]
     },
     "execution_count": 155,
     "metadata": {},
     "output_type": "execute_result"
    }
   ],
   "source": [
    "rfgmodellog.score(x,np.log(y))"
   ]
  },
  {
   "cell_type": "code",
   "execution_count": 156,
   "id": "9e2392bc",
   "metadata": {},
   "outputs": [
    {
     "data": {
      "text/plain": [
       "array([0.89125068, 0.89855092, 0.89763505, 0.89398336, 0.8730164 ])"
      ]
     },
     "execution_count": 156,
     "metadata": {},
     "output_type": "execute_result"
    }
   ],
   "source": [
    "cross_val_score(rfgmodellog,x,np.log(y))"
   ]
  },
  {
   "cell_type": "code",
   "execution_count": 299,
   "id": "b369219b",
   "metadata": {},
   "outputs": [
    {
     "data": {
      "text/plain": [
       "0.8907511360000001"
      ]
     },
     "execution_count": 299,
     "metadata": {},
     "output_type": "execute_result"
    }
   ],
   "source": [
    "np.mean([0.89084984, 0.89839583, 0.89736095, 0.89401316, 0.8731359 ])"
   ]
  },
  {
   "cell_type": "code",
   "execution_count": 158,
   "id": "ee9597f1",
   "metadata": {},
   "outputs": [],
   "source": [
    "rfgprelog=rfgmodellog.predict(x)"
   ]
  },
  {
   "cell_type": "code",
   "execution_count": 159,
   "id": "d943bd14",
   "metadata": {},
   "outputs": [],
   "source": [
    "rfgprelog=np.exp(rfgprelog)"
   ]
  },
  {
   "cell_type": "code",
   "execution_count": 160,
   "id": "8d3543cb",
   "metadata": {},
   "outputs": [],
   "source": [
    "rfgreslog=y-rfgprelog"
   ]
  },
  {
   "cell_type": "code",
   "execution_count": 161,
   "id": "3605e14f",
   "metadata": {},
   "outputs": [
    {
     "data": {
      "text/plain": [
       "561.2349355901496"
      ]
     },
     "execution_count": 161,
     "metadata": {},
     "output_type": "execute_result"
    }
   ],
   "source": [
    "np.sqrt(np.mean(rfgreslog**2))"
   ]
  },
  {
   "cell_type": "code",
   "execution_count": null,
   "id": "5752892c",
   "metadata": {},
   "outputs": [],
   "source": []
  },
  {
   "cell_type": "code",
   "execution_count": null,
   "id": "0f4987bc",
   "metadata": {},
   "outputs": [],
   "source": []
  },
  {
   "cell_type": "markdown",
   "id": "2572c7f7",
   "metadata": {},
   "source": [
    "## GradientBoosting Regressor"
   ]
  },
  {
   "cell_type": "code",
   "execution_count": 162,
   "id": "36a71f3a",
   "metadata": {},
   "outputs": [],
   "source": [
    "from sklearn.ensemble import GradientBoostingRegressor"
   ]
  },
  {
   "cell_type": "code",
   "execution_count": 163,
   "id": "acbc5cff",
   "metadata": {},
   "outputs": [],
   "source": [
    "gb=GradientBoostingRegressor()"
   ]
  },
  {
   "cell_type": "code",
   "execution_count": 164,
   "id": "7cf97314",
   "metadata": {},
   "outputs": [],
   "source": [
    "gbmodel=gb.fit(x,y)"
   ]
  },
  {
   "cell_type": "code",
   "execution_count": 165,
   "id": "aef43d56",
   "metadata": {},
   "outputs": [
    {
     "data": {
      "text/plain": [
       "0.9102268212936415"
      ]
     },
     "execution_count": 165,
     "metadata": {},
     "output_type": "execute_result"
    }
   ],
   "source": [
    "gbmodel.score(x,y)"
   ]
  },
  {
   "cell_type": "code",
   "execution_count": 166,
   "id": "95e44bac",
   "metadata": {},
   "outputs": [
    {
     "data": {
      "text/plain": [
       "array([0.82216082, 0.87968044, 0.86972586, 0.89785688, 0.845227  ])"
      ]
     },
     "execution_count": 166,
     "metadata": {},
     "output_type": "execute_result"
    }
   ],
   "source": [
    "cross_val_score(gbmodel,x,y)"
   ]
  },
  {
   "cell_type": "code",
   "execution_count": 298,
   "id": "6affd63b",
   "metadata": {},
   "outputs": [
    {
     "data": {
      "text/plain": [
       "0.8629301999999999"
      ]
     },
     "execution_count": 298,
     "metadata": {},
     "output_type": "execute_result"
    }
   ],
   "source": [
    "np.mean([0.82216082, 0.87968044, 0.86972586, 0.89785688, 0.845227  ])"
   ]
  },
  {
   "cell_type": "code",
   "execution_count": 168,
   "id": "6d62e731",
   "metadata": {},
   "outputs": [],
   "source": [
    "gbpredict=gbmodel.predict(x)"
   ]
  },
  {
   "cell_type": "code",
   "execution_count": 169,
   "id": "ae88551c",
   "metadata": {},
   "outputs": [],
   "source": [
    "residual=y-gbpredict"
   ]
  },
  {
   "cell_type": "code",
   "execution_count": 170,
   "id": "670fbf51",
   "metadata": {},
   "outputs": [
    {
     "data": {
      "text/plain": [
       "226.76620178605097"
      ]
     },
     "execution_count": 170,
     "metadata": {},
     "output_type": "execute_result"
    }
   ],
   "source": [
    "np.sqrt(np.mean(residual**2))"
   ]
  },
  {
   "cell_type": "markdown",
   "id": "4fe97d38",
   "metadata": {},
   "source": [
    "## GBR log"
   ]
  },
  {
   "cell_type": "code",
   "execution_count": 171,
   "id": "86c9865d",
   "metadata": {},
   "outputs": [],
   "source": [
    "gbmodellog=gb.fit(x,np.log(y))"
   ]
  },
  {
   "cell_type": "code",
   "execution_count": 172,
   "id": "666100b4",
   "metadata": {},
   "outputs": [
    {
     "data": {
      "text/plain": [
       "0.9159921978598238"
      ]
     },
     "execution_count": 172,
     "metadata": {},
     "output_type": "execute_result"
    }
   ],
   "source": [
    "gbmodellog.score(x,np.log(y))"
   ]
  },
  {
   "cell_type": "code",
   "execution_count": 173,
   "id": "3cee4646",
   "metadata": {},
   "outputs": [],
   "source": [
    "gbprelog=gbmodellog.predict(x)"
   ]
  },
  {
   "cell_type": "code",
   "execution_count": 174,
   "id": "15c4cee7",
   "metadata": {},
   "outputs": [],
   "source": [
    "gbprelog=np.exp(gbprelog)"
   ]
  },
  {
   "cell_type": "code",
   "execution_count": 175,
   "id": "33a46a90",
   "metadata": {},
   "outputs": [
    {
     "data": {
      "text/plain": [
       "array([0.90473226, 0.91645044, 0.91630918, 0.91412322, 0.89289668])"
      ]
     },
     "execution_count": 175,
     "metadata": {},
     "output_type": "execute_result"
    }
   ],
   "source": [
    "cross_val_score(gbmodellog,x,np.log(y))"
   ]
  },
  {
   "cell_type": "code",
   "execution_count": 176,
   "id": "d163bdf8",
   "metadata": {},
   "outputs": [
    {
     "data": {
      "text/plain": [
       "0.9089016539999999"
      ]
     },
     "execution_count": 176,
     "metadata": {},
     "output_type": "execute_result"
    }
   ],
   "source": [
    "np.mean([0.90472806, 0.9164501 , 0.91630918, 0.91412432, 0.89289661])"
   ]
  },
  {
   "cell_type": "code",
   "execution_count": 177,
   "id": "3abc49c9",
   "metadata": {},
   "outputs": [],
   "source": [
    "gbreslog=y-gbprelog"
   ]
  },
  {
   "cell_type": "code",
   "execution_count": 178,
   "id": "ba0b2b90",
   "metadata": {},
   "outputs": [
    {
     "data": {
      "text/plain": [
       "357.2566964946934"
      ]
     },
     "execution_count": 178,
     "metadata": {},
     "output_type": "execute_result"
    }
   ],
   "source": [
    "np.sqrt(np.mean(gbreslog**2))"
   ]
  },
  {
   "cell_type": "code",
   "execution_count": null,
   "id": "23da1c3e",
   "metadata": {},
   "outputs": [],
   "source": []
  },
  {
   "cell_type": "markdown",
   "id": "9874116b",
   "metadata": {},
   "source": [
    "# Natural Language Preprocessing"
   ]
  },
  {
   "cell_type": "markdown",
   "id": "b730f25d",
   "metadata": {},
   "source": [
    "## I had a text column with sentences in it, therefore I used NLP to divide it  into columns of words to create a model that fits my data better."
   ]
  },
  {
   "cell_type": "code",
   "execution_count": 179,
   "id": "7b2f2904",
   "metadata": {},
   "outputs": [],
   "source": [
    "text=tdata.HCPCS_Desc   ## text variable is HCPCS_Desc"
   ]
  },
  {
   "cell_type": "code",
   "execution_count": 180,
   "id": "3b1b1d12",
   "metadata": {},
   "outputs": [
    {
     "data": {
      "text/plain": [
       "0     Liver disease, ten biochemical assays (alt, a2...\n",
       "1     Test for detecting genes associated with prost...\n",
       "2     Anesthesia for procedure on salivary gland wit...\n",
       "3     Anesthesia for procedure on salivary gland wit...\n",
       "4     Anesthesia for procedure to repair lip defect ...\n",
       "5                    Anesthesia for procedure on eyelid\n",
       "6                    Anesthesia for procedure on eyelid\n",
       "7               Anesthesia for electric shock treatment\n",
       "8               Anesthesia for electric shock treatment\n",
       "9     Anesthesia for biopsy of external middle and i...\n",
       "10    Anesthesia for biopsy of external middle and i...\n",
       "11    Anesthesia for examination and biopsy of exter...\n",
       "12    Anesthesia for examination and biopsy of exter...\n",
       "13                  Anesthesia for incision of ear drum\n",
       "14                  Anesthesia for incision of ear drum\n",
       "15                      Anesthesia for procedure on eye\n",
       "16                      Anesthesia for procedure on eye\n",
       "17                          Anesthesia for lens surgery\n",
       "18                          Anesthesia for lens surgery\n",
       "19    Anesthesia for procedure on eye for corneal tr...\n",
       "20    Anesthesia for procedure on eye for corneal tr...\n",
       "21                       Anesthesia for retinal surgery\n",
       "22                       Anesthesia for retinal surgery\n",
       "23    Anesthesia for procedure on eye for removal of...\n",
       "24    Anesthesia for procedure on eye for removal of...\n",
       "25    Anesthesia for eye examination using an endoscope\n",
       "26    Anesthesia for eye examination using an endoscope\n",
       "27           Anesthesia for procedure on nose and sinus\n",
       "28           Anesthesia for procedure on nose and sinus\n",
       "29             Anesthesia for surgery of nose and sinus\n",
       "30    Anesthesia for soft tissue biopsy on nose and ...\n",
       "31    Anesthesia for procedure on mouth including bi...\n",
       "32    Anesthesia for procedure on mouth including bi...\n",
       "33    Anesthesia for procedure on mouth to repair pa...\n",
       "34    Anesthesia for procedure on mouth to repair pa...\n",
       "35    Anesthesia for procedure on throat for removal...\n",
       "36                      Anesthesia for surgery on mouth\n",
       "37    Test for detecting gene abnormality associated...\n",
       "38      MicroRNA gene analysis of thyroid nodule tissue\n",
       "39    Anesthesia for procedure on facial bones or skull\n",
       "40    Anesthesia for procedure on facial bones or skull\n",
       "41      Anesthesia for surgery of facial bones or skull\n",
       "42      Anesthesia for surgery of facial bones or skull\n",
       "43                    Anesthesia for procedure on brain\n",
       "44    Anesthesia for procedure to remove blood colle...\n",
       "45    Anesthesia for procedure to remove fluid in brain\n",
       "46    Anesthesia for procedure to create holes in sk...\n",
       "47    Anesthesia for procedure to repair skull or sk...\n",
       "48    Anesthesia for procedure on blood vessel in brain\n",
       "49    Anesthesia for procedure on brain patient in s...\n",
       "Name: HCPCS_Desc, dtype: object"
      ]
     },
     "execution_count": 180,
     "metadata": {},
     "output_type": "execute_result"
    }
   ],
   "source": [
    "text.head(50)"
   ]
  },
  {
   "cell_type": "code",
   "execution_count": 181,
   "id": "31cf0795",
   "metadata": {},
   "outputs": [],
   "source": [
    "## By importing 're' i removed all the unwanted data, digits, symbols and alphanumeric integers using the def function "
   ]
  },
  {
   "cell_type": "code",
   "execution_count": 182,
   "id": "1bcab195",
   "metadata": {},
   "outputs": [],
   "source": [
    "import re"
   ]
  },
  {
   "cell_type": "code",
   "execution_count": 183,
   "id": "88082ba2",
   "metadata": {},
   "outputs": [],
   "source": [
    "def sas(minetext):\n",
    "    return ' '.join(re.sub(\"(@[A-Za-z0-9]+)|(#[A-Za-z0-9]+)|([^0-9A-Za-z \\t])|(\\w+:\\/\\/\\s+)|([0-9])\",\" \",minetext).split())"
   ]
  },
  {
   "cell_type": "code",
   "execution_count": 184,
   "id": "a61b5dce",
   "metadata": {},
   "outputs": [],
   "source": [
    "text=[str(sas(minetext)) for minetext in text]"
   ]
  },
  {
   "cell_type": "code",
   "execution_count": 185,
   "id": "4be2c59a",
   "metadata": {},
   "outputs": [
    {
     "data": {
      "text/plain": [
       "['Liver disease ten biochemical assays alt a macroglobulin apolipoprotein a total bilirubin ggt haptoglobin ast glucose total cholesterol and triglycerides utilizing serum prognostic algorithm reported as quantitative scores for fibrosis stea',\n",
       " 'Test for detecting genes associated with prostate cancer in urine',\n",
       " 'Anesthesia for procedure on salivary gland with biopsy',\n",
       " 'Anesthesia for procedure on salivary gland with biopsy',\n",
       " 'Anesthesia for procedure to repair lip defect present at birth',\n",
       " 'Anesthesia for procedure on eyelid',\n",
       " 'Anesthesia for procedure on eyelid',\n",
       " 'Anesthesia for electric shock treatment',\n",
       " 'Anesthesia for electric shock treatment',\n",
       " 'Anesthesia for biopsy of external middle and inner ear',\n",
       " 'Anesthesia for biopsy of external middle and inner ear',\n",
       " 'Anesthesia for examination and biopsy of external middle and inner ear using an endoscope',\n",
       " 'Anesthesia for examination and biopsy of external middle and inner ear using an endoscope',\n",
       " 'Anesthesia for incision of ear drum',\n",
       " 'Anesthesia for incision of ear drum',\n",
       " 'Anesthesia for procedure on eye',\n",
       " 'Anesthesia for procedure on eye',\n",
       " 'Anesthesia for lens surgery',\n",
       " 'Anesthesia for lens surgery',\n",
       " 'Anesthesia for procedure on eye for corneal transplant',\n",
       " 'Anesthesia for procedure on eye for corneal transplant',\n",
       " 'Anesthesia for retinal surgery',\n",
       " 'Anesthesia for retinal surgery',\n",
       " 'Anesthesia for procedure on eye for removal of iris',\n",
       " 'Anesthesia for procedure on eye for removal of iris',\n",
       " 'Anesthesia for eye examination using an endoscope',\n",
       " 'Anesthesia for eye examination using an endoscope',\n",
       " 'Anesthesia for procedure on nose and sinus',\n",
       " 'Anesthesia for procedure on nose and sinus',\n",
       " 'Anesthesia for surgery of nose and sinus',\n",
       " 'Anesthesia for soft tissue biopsy on nose and sinus',\n",
       " 'Anesthesia for procedure on mouth including biopsy',\n",
       " 'Anesthesia for procedure on mouth including biopsy',\n",
       " 'Anesthesia for procedure on mouth to repair palate deformity',\n",
       " 'Anesthesia for procedure on mouth to repair palate deformity',\n",
       " 'Anesthesia for procedure on throat for removal of tumor',\n",
       " 'Anesthesia for surgery on mouth',\n",
       " 'Test for detecting gene abnormality associated with blood and lymphatic system cancer in blood or bone marrow',\n",
       " 'MicroRNA gene analysis of thyroid nodule tissue',\n",
       " 'Anesthesia for procedure on facial bones or skull',\n",
       " 'Anesthesia for procedure on facial bones or skull',\n",
       " 'Anesthesia for surgery of facial bones or skull',\n",
       " 'Anesthesia for surgery of facial bones or skull',\n",
       " 'Anesthesia for procedure on brain',\n",
       " 'Anesthesia for procedure to remove blood collection in brain',\n",
       " 'Anesthesia for procedure to remove fluid in brain',\n",
       " 'Anesthesia for procedure to create holes in skull including X ray imaging',\n",
       " 'Anesthesia for procedure to repair skull or skull fracture',\n",
       " 'Anesthesia for procedure on blood vessel in brain',\n",
       " 'Anesthesia for procedure on brain patient in sitting position',\n",
       " 'Anesthesia for procedure to drain brain and spinal cord fluid',\n",
       " 'Anesthesia for procedure on nerve in brain',\n",
       " 'DNA and RNA gene analysis for non small cell lung cancer',\n",
       " 'DNA gene analysis for acute myelogenous leukemia',\n",
       " 'Measurement of glycosylated acute phase proteins',\n",
       " 'Gene analysis Janus kinase of targeted sequence exons',\n",
       " 'Anesthesia for procedure on esophagus and neck',\n",
       " 'Anesthesia for procedure on esophagus and neck',\n",
       " 'Gene analysis of targeted sequences for warfarin drug response',\n",
       " 'Gene analysis cytochrome P family subfamily A member for common variants',\n",
       " 'Anesthesia for procedure on esophagus and neck age year or older',\n",
       " 'Anesthesia for procedure on esophagus and neck age year or older',\n",
       " 'Anesthesia for needle biopsy of thyroid',\n",
       " 'Anesthesia for needle biopsy of thyroid',\n",
       " 'Gene analysis catechol O methyltransferase for c G A rs variant',\n",
       " 'Gene analysis hydroxytryptamine receptor A for common variants',\n",
       " 'Anesthesia for procedure on major blood vessels of neck',\n",
       " 'Anesthesia for procedure on major blood vessels of neck',\n",
       " 'Anesthesia for tying procedure on major blood vessels of neck',\n",
       " 'Anesthesia for tying procedure on major blood vessels of neck',\n",
       " 'DNA gene analysis of genes in solid organ tumor tissue',\n",
       " 'Measurement of vitamin D in serum',\n",
       " 'Anesthesia for procedure on skin of arms legs or trunk',\n",
       " 'Anesthesia for procedure on skin of arms legs or trunk',\n",
       " 'Anesthesia for breast reconstruction',\n",
       " 'Anesthesia for breast reconstruction',\n",
       " 'Anesthesia for removal of breast',\n",
       " 'Anesthesia for removal of breast',\n",
       " 'Anesthesia for removal of breast and lymph nodes',\n",
       " 'Anesthesia for procedure to correct abnormal heart rhythm',\n",
       " 'Anesthesia for procedure to correct abnormal heart rhythm',\n",
       " 'Computed tomography CT of brain blood flow volume and timing of flow analysis with contrast',\n",
       " 'Anesthesia for procedure on collar bone and shoulder blade',\n",
       " 'Anesthesia for procedure on collar bone and shoulder blade',\n",
       " 'Anesthesia for biopsy of collar bone',\n",
       " 'mRNA gene analysis of genes in breast ductal carcinoma in situ tumor tissue',\n",
       " 'Anesthesia for partial removal of rib',\n",
       " 'Anesthesia for partial removal of rib and chest wall repair',\n",
       " 'Anesthesia for partial removal of rib and chest wall reconstruction',\n",
       " 'mRNA gene analysis of genes in prostate tumor tissue',\n",
       " 'Anesthesia for procedure on esophagus',\n",
       " 'Testing for presence of prescription drugs in urine',\n",
       " 'Anesthesia for closed procedure in chest',\n",
       " 'Anesthesia for closed procedure in chest',\n",
       " 'Anesthesia for closed needle biopsy of lung',\n",
       " 'Anesthesia for closed needle biopsy of lung',\n",
       " 'Anesthesia for closed drainage of lung fluid',\n",
       " 'Anesthesia for closed diagnostic examination of chest using an endoscope',\n",
       " 'Anesthesia for closed diagnostic examination of chest using an endoscope with lung ventilation',\n",
       " 'Measurement of all five major lipoprotein classes and subclasses in blood',\n",
       " 'Anesthesia for insertion of permanent heart pacemaker',\n",
       " 'Anesthesia for insertion of permanent heart pacemaker',\n",
       " 'Anesthesia for central vein access',\n",
       " 'Anesthesia for central vein access',\n",
       " 'Anesthesia for insertion or replace of pacing heart defibrillator',\n",
       " 'Anesthesia for insertion or replace of pacing heart defibrillator',\n",
       " 'Anesthesia for procedure on heart to correct abnormal rhythm',\n",
       " 'Anesthesia for procedure on heart to correct abnormal rhythm',\n",
       " 'Anesthesia for reconstruction of windpipe and lung airway',\n",
       " 'Anesthesia for procedure in chest',\n",
       " 'Anesthesia for procedure in chest with lung ventilation',\n",
       " 'Anesthesia for removal of lung lining',\n",
       " 'Anesthesia for lung removal and chest wall repair',\n",
       " 'Anesthesia for procedure on windpipe and lung airway',\n",
       " 'Computer assisted fluoroscopic image guided musculoskeletal surgical navigational orthopedic operation',\n",
       " 'Measurement of or more drug classes in capillary blood',\n",
       " 'Anesthesia for removal of breast bone tissue',\n",
       " 'Musculoskeletal surgical navigational orthopedic operation using imaging guidance',\n",
       " 'Anesthesia for procedure on heart and great blood vessels',\n",
       " 'Anesthesia for procedure on heart and great blood vessels on heart lung machine age year or older or re operation more than month after original procedure',\n",
       " 'Anesthesia for procedure on heart and great blood vessels on heart lung machine',\n",
       " 'Anesthesia for heart artery bypass grafting',\n",
       " 'Anesthesia for heart artery bypass grafting on heart lung machine',\n",
       " 'Anesthesia for heart or heart lung transplant',\n",
       " 'Measurement of antibodies to Merkel cell polyoma virus oncoprotein in serum',\n",
       " 'Test for presence of antibodies to Merkel cell polyoma virus oncoprotein in serum',\n",
       " 'Anesthesia for procedure on upper spine and spinal cord',\n",
       " 'Anesthesia for procedure on upper spine and spinal cord',\n",
       " 'Anesthesia for procedure on spine and spinal cord patient in sitting position',\n",
       " 'Spatial frequency domain imaging of skin',\n",
       " 'Anesthesia for procedure on middle spine and spinal cord',\n",
       " 'Anesthesia for procedure on middle spine and spinal cord',\n",
       " 'Anesthesia for procedure on middle spine and spinal cord',\n",
       " 'Anesthesia for procedure on middle spine and spinal cord with lung ventilation',\n",
       " 'Anesthesia for procedure on lower spine',\n",
       " 'Anesthesia for procedure on lower spine',\n",
       " 'Anesthesia for removal of nerves in lower spine',\n",
       " 'Anesthesia for spinal tap',\n",
       " 'Anesthesia for spinal tap',\n",
       " 'Anesthesia for closed manipulation of spine',\n",
       " 'Anesthesia for closed manipulation of spine',\n",
       " 'Non antibody testing for syphilis',\n",
       " 'Anesthesia for procedure on spine and spinal cord',\n",
       " 'Anesthesia for procedure on spine and spinal cord',\n",
       " 'Anesthesia for procedure on upper front abdominal wall',\n",
       " 'Anesthesia for procedure on upper front abdominal wall',\n",
       " 'Anesthesia for liver biopsy accessed through the skin',\n",
       " 'Anesthesia for liver biopsy accessed through the skin',\n",
       " 'Anesthesia for procedure on upper rear abdominal wall',\n",
       " 'Anesthesia for procedure on upper rear abdominal wall',\n",
       " 'Anesthesia for procedure on esophagus stomach and or upper small bowel using an endoscope',\n",
       " 'Anesthesia for procedure on esophagus stomach and or upper small bowel using an endoscope',\n",
       " 'Anesthesia for diagnostic examination of gallbladder and pancreatic liver and bile ducts using an endoscope',\n",
       " 'Anesthesia for diagnostic examination of gallbladder and pancreatic liver and bile ducts using an endoscope',\n",
       " 'Anesthesia for procedure to repair upper abdominal hernia',\n",
       " 'Anesthesia for procedure to repair upper abdominal hernia',\n",
       " 'Anesthesia for procedure to repair upper abdominal incisional hernia and or wound opening',\n",
       " 'Anesthesia for procedure to repair upper abdominal incisional hernia and or wound opening',\n",
       " 'Anesthesia for procedure to repair upper abdominal hernia present at birth',\n",
       " 'Anesthesia for procedure to repair abdominal hernia',\n",
       " 'Insertion of stents into vertebral artery via catheter open or accessed through the skin including radiologic supervision and interpretation',\n",
       " 'Anesthesia for procedure on major abdominal blood vessels',\n",
       " 'Anesthesia for procedure on major abdominal blood vessels',\n",
       " 'Anesthesia for procedure in upper abdomen including use of an endoscope',\n",
       " 'Anesthesia for procedure in upper abdomen including use of an endoscope',\n",
       " 'Anesthesia for partial removal of liver or management of bleeding including use of an endoscope',\n",
       " 'Anesthesia for removal of pancreas including use of an endoscope',\n",
       " 'Anesthesia for liver transplant recipient including use of an endoscope',\n",
       " 'Anesthesia for procedure on stomach for obesity including use of an endoscope',\n",
       " 'Anesthesia for procedure on lower front abdominal wall',\n",
       " 'Anesthesia for procedure on lower front abdominal wall',\n",
       " 'Anesthesia for removal of excess tissue on lower abdominal wall',\n",
       " 'Anesthesia for removal of excess tissue on lower abdominal wall',\n",
       " 'Analysis of galectin binding protein and scavenger receptor cysteine rich type protein M in plasma with clinical risk factors to evaluate probability of lung cancer',\n",
       " 'Anesthesia for procedure on large bowel using an endoscope',\n",
       " 'Anesthesia for procedure on large bowel using an endoscope',\n",
       " 'Anesthesia for diagnostic examination of large bowel using an endoscope',\n",
       " 'Anesthesia for diagnostic examination of large bowel using an endoscope',\n",
       " 'Anesthesia for procedure on esophagus stomach small bowel and or large bowel using an endoscope',\n",
       " 'Anesthesia for procedure on esophagus stomach small bowel and or large bowel using an endoscope',\n",
       " 'Oncology uveal melanoma mrna gene expression profiling by real time rt pcr of genes content and housekeeping genes utilizing fine needle aspirate or formalin fixed paraffin embedded tissue algorithm reported as risk of metastasis',\n",
       " 'Anesthesia for procedure on lower rear abdominal wall',\n",
       " 'Anesthesia for procedure on lower rear abdominal wall',\n",
       " 'Anesthesia for lower abdominal hernia repair',\n",
       " 'Anesthesia for lower abdominal hernia repair',\n",
       " 'Anesthesia for middle or incisional abdominal hernia repair',\n",
       " 'Anesthesia for middle or incisional abdominal hernia repair',\n",
       " 'Anesthesia for procedure in lower abdominal cavity including use of an endoscope',\n",
       " 'Anesthesia for procedure in lower abdominal cavity including use of an endoscope',\n",
       " 'Anesthesia for procedure in lower abdominal cavity and rectum including use of an endoscope',\n",
       " 'Anesthesia for removal of uterus including use of an endoscope',\n",
       " 'Anesthesia for removal of uterus including use of an endoscope',\n",
       " 'Anesthesia for removal of pelvic organs including use of an endoscope',\n",
       " 'Anesthesia for tying or incision of fallopian tubes using an endoscope',\n",
       " 'Anesthesia for procedure in lower abdomen including urinary tract',\n",
       " 'Anesthesia for procedure in lower abdomen including urinary tract',\n",
       " 'Anesthesia for procedure on upper urinary duct ureter or removal of kidney for transplant',\n",
       " 'Anesthesia for procedure on upper urinary duct ureter or removal of kidney for transplant',\n",
       " 'Anesthesia for removal of urinary bladder',\n",
       " 'Anesthesia for removal of prostate',\n",
       " 'Anesthesia for removal of prostate',\n",
       " 'Anesthesia for removal of adrenal gland',\n",
       " 'Anesthesia for kidney transplant',\n",
       " 'Anesthesia for removal of urinary bladder stone',\n",
       " 'Anesthesia for shock wave therapy for urinary system stones',\n",
       " 'Anesthesia for shock wave therapy for urinary system stones',\n",
       " 'Anesthesia for shock wave therapy for urinary system stones',\n",
       " 'Anesthesia for procedure on major lower abdominal wall blood vessels',\n",
       " 'Anesthesia for procedure on major lower abdominal wall blood vessels',\n",
       " 'Anesthesia for tying of major vein in lower abdomen',\n",
       " 'Anesthesia for procedure on anus and rectum',\n",
       " 'Anesthesia for procedure on anus and rectum',\n",
       " 'Anesthesia for procedure on perineum',\n",
       " 'Anesthesia for procedure on perineum',\n",
       " 'Anesthesia for removal of external female genitalia',\n",
       " 'Anesthesia for removal of external female genitalia',\n",
       " 'Anesthesia for removal of prostate',\n",
       " 'mRNA gene expression profiling of genes in skin melanoma tissue sample',\n",
       " 'Anesthesia for procedure on urinary system including use of an endoscope',\n",
       " 'Anesthesia for procedure on urinary system including use of an endoscope',\n",
       " 'Anesthesia for removal of urinary bladder tumors including use of an endoscope',\n",
       " 'Anesthesia for removal of urinary bladder tumors including use of an endoscope',\n",
       " 'Anesthesia for removal of prostate including use of an endoscope',\n",
       " 'Anesthesia for removal of prostate including use of an endoscope',\n",
       " 'Anesthesia for procedure to control urinary system bleeding including use of an endoscope',\n",
       " 'Anesthesia for procedure to control urinary system bleeding including use of an endoscope',\n",
       " 'Anesthesia for fragmenting manipulation and or removal of kidney stone including use of an endoscope',\n",
       " 'Anesthesia for fragmenting manipulation and or removal of kidney stone including use of an endoscope',\n",
       " 'Anesthesia for procedure on male genitalia',\n",
       " 'Anesthesia for procedure on male genitalia',\n",
       " 'Anesthesia for vasectomy',\n",
       " 'Anesthesia for vasectomy',\n",
       " 'Anesthesia for procedure on male genitalia glands',\n",
       " 'Anesthesia for repair of undescended testicle',\n",
       " 'Anesthesia for removal of testicle through groin',\n",
       " 'Anesthesia for removal of testicle through groin',\n",
       " 'Anesthesia for removal of testicle through abdomen',\n",
       " 'Anesthesia for relocation of undescended testicle into scrotum',\n",
       " 'Anesthesia for removal of penis',\n",
       " 'Anesthesia for removal of penis and lymph nodes on both sides of groin',\n",
       " 'Anesthesia for insertion of penile prosthesis',\n",
       " 'Anesthesia for insertion of penile prosthesis',\n",
       " 'Anesthesia for vaginal biopsy of cervix uterine lining or external genitalia',\n",
       " 'Anesthesia for vaginal biopsy of cervix uterine lining or external genitalia',\n",
       " 'Anesthesia for repair or removal of vagina and urinary procedure',\n",
       " 'Anesthesia for repair or removal of vagina and urinary procedure',\n",
       " 'Anesthesia for vaginal removal of uterus',\n",
       " 'Anesthesia for vaginal removal of uterus',\n",
       " 'Anesthesia for suture closure of cervix',\n",
       " 'Anesthesia for examination of cervix using an endoscope',\n",
       " 'Anesthesia for examination of uterus using an endoscope',\n",
       " 'Anesthesia for examination of uterus using an endoscope',\n",
       " 'Test for detection of gastrointestinal disease causing organism using amplified probe',\n",
       " 'Test for detection of respiratory disease causing organism using amplified probe target organisms',\n",
       " 'Test for detection of respiratory disease causing organism using amplified probe target organisms adenovirus coronavirus E coronavirus HKU coronavirus coronavirus OC human metapneumovirus influenza A influenza A subtype influenza A subty',\n",
       " 'Test for detection of respiratory disease causing organism using amplified probe target organisms adenovirus coronavirus E coronavirus HKU coronavirus NL coronavirus OC human metapneumovirus human rhinovirus enterovirus influenza A inc',\n",
       " 'Antigen test for detection of Clostridium difficile toxin in stool',\n",
       " 'Anesthesia for bone marrow aspiration and or biopsy at pelvic bone',\n",
       " 'Anesthesia for bone marrow aspiration and or biopsy at pelvic bone',\n",
       " 'Anesthesia for procedure on pelvic bone',\n",
       " 'Anesthesia for procedure on pelvic bone',\n",
       " 'Anesthesia for amputation of leg including pelvic bone',\n",
       " 'Anesthesia for removal of pelvic bone tumor',\n",
       " 'Anesthesia for procedure on pubic bone or sacroiliac joint',\n",
       " 'Anesthesia for procedure on pubic bone or sacroiliac joint',\n",
       " 'Anesthesia for open procedure on pubic bone or sacroiliac joint',\n",
       " 'Anesthesia for open repair of pelvic fracture',\n",
       " 'Measurement of ceramides for assessment of heart disease risk',\n",
       " 'Anesthesia for closed procedure on hip joint',\n",
       " 'Anesthesia for closed procedure on hip joint',\n",
       " 'Anesthesia for procedure on hip joint using an endoscope',\n",
       " 'Anesthesia for procedure on hip joint using an endoscope',\n",
       " 'Anesthesia for open surgical procedure on hip joint',\n",
       " 'Anesthesia for open surgical procedure on hip joint',\n",
       " 'Anesthesia for open hip joint dislocation',\n",
       " 'Anesthesia for open total hip joint replacement',\n",
       " 'Anesthesia for open total hip joint replacement',\n",
       " 'Anesthesia for open revision of total hip joint replacement',\n",
       " 'Anesthesia for closed procedure on upper two thirds of thigh bone',\n",
       " 'Anesthesia for closed procedure on upper two thirds of thigh bone',\n",
       " 'Anesthesia for open procedure on upper two thirds of thigh bone',\n",
       " 'Anesthesia for open procedure on upper two thirds of thigh bone',\n",
       " 'Anesthesia for open amputation at upper two thirds of thigh bone',\n",
       " 'Anesthesia for open removal of muscle or tissue at upper two thirds of thigh bone',\n",
       " 'Anesthesia for procedure on nerves muscles tendons fascia and bursae of upper leg',\n",
       " 'Anesthesia for procedure on nerves muscles tendons fascia and bursae of upper leg',\n",
       " 'Anesthesia for procedure on veins of upper leg',\n",
       " 'Anesthesia for procedure on veins of upper leg',\n",
       " 'Anesthesia for procedure on arteries of upper leg',\n",
       " 'Anesthesia for procedure on arteries of upper leg',\n",
       " 'Anesthesia for groin artery bypass graft and tying of upper leg artery',\n",
       " 'Anesthesia for removal of groin artery blood clot',\n",
       " 'Anesthesia for procedure on nerves muscles tendons fascia and or bursae of knee',\n",
       " 'Anesthesia for procedure on nerves muscles tendons fascia and or bursae of knee',\n",
       " 'Anesthesia for closed procedure on lower one third of thigh bone',\n",
       " 'Anesthesia for open procedure on lower one third of thigh bone',\n",
       " 'Anesthesia for open procedure on lower one third of thigh bone',\n",
       " 'Anesthesia for closed procedure on knee joint',\n",
       " 'Anesthesia for closed procedure on knee joint',\n",
       " 'Anesthesia for diagnostic examination of knee joint using an endoscope',\n",
       " 'Anesthesia for closed procedure at kneecap and or upper foreleg bones',\n",
       " 'Anesthesia for open procedure at kneecap and upper foreleg bones',\n",
       " 'Anesthesia for open procedure at kneecap and upper foreleg bones',\n",
       " 'Anesthesia for open or endoscopic procedure on knee including',\n",
       " 'Anesthesia for open or endoscopic procedure on knee including',\n",
       " 'Anesthesia for open or endoscopic total knee joint replacement',\n",
       " 'Anesthesia for open or endoscopic total knee joint replacement',\n",
       " 'Anesthesia for open or endoscopic procedure of dislocated knee',\n",
       " 'Anesthesia for knee joint cast application removal or repair',\n",
       " 'Anesthesia for procedure on knee veins',\n",
       " 'Anesthesia for repair of abnormal artery vein formation of knee',\n",
       " 'Anesthesia for procedure on knee arteries',\n",
       " 'Anesthesia for procedure on knee arteries',\n",
       " 'Anesthesia for removal of blood clot in artery behind knee',\n",
       " 'Anesthesia for removal of blood clot in artery behind knee',\n",
       " 'Anesthesia for repair of bulging aneurysm defect in knee artery',\n",
       " 'Anesthesia for closed procedure on lower leg ankle and foot',\n",
       " 'Anesthesia for closed procedure on lower leg ankle and foot',\n",
       " 'Anesthesia for procedure on ankle and or foot using an endoscope',\n",
       " 'Anesthesia for procedure on ankle and or foot using an endoscope',\n",
       " 'Anesthesia for procedure on nerves muscles tendons and fascia of lower leg ankle and foot',\n",
       " 'Anesthesia for procedure on nerves muscles tendons and fascia of lower leg ankle and foot',\n",
       " 'Anesthesia for procedure to repair calf muscle tendon',\n",
       " 'Anesthesia for procedure to repair calf muscle tendon',\n",
       " 'Anesthesia for procedure to repair calf muscle',\n",
       " 'Anesthesia for procedure to repair calf muscle',\n",
       " 'Anesthesia for open procedure on bones of lower leg ankle and foot',\n",
       " 'Anesthesia for open procedure on bones of lower leg ankle and foot',\n",
       " 'Anesthesia for open amputation below the knee',\n",
       " 'Anesthesia for open reconstruction of lower leg ankle and or foot bone',\n",
       " 'Anesthesia for open total ankle joint replacement',\n",
       " 'Anesthesia for lower leg cast application removal or repair',\n",
       " 'Anesthesia for procedure on arteries of lower leg including bypass graft',\n",
       " 'Anesthesia for procedure on arteries of lower leg including bypass graft',\n",
       " 'Anesthesia for lower leg artery bypass graft or blood clot removal',\n",
       " 'Anesthesia for procedure on veins of lower leg',\n",
       " 'Anesthesia for procedure on veins of lower leg',\n",
       " 'Anesthesia for removal of lower leg vein obstruction',\n",
       " 'Anesthesia for procedure on nerves muscles tendons fascia and bursae of shoulder and underarm',\n",
       " 'Anesthesia for procedure on nerves muscles tendons fascia and bursae of shoulder and underarm',\n",
       " 'Anesthesia for closed procedure on upper arm bone and shoulder joint',\n",
       " 'Anesthesia for closed procedure on upper arm bone and shoulder joint',\n",
       " 'Anesthesia for diagnostic examination of shoulder joint using an endoscope',\n",
       " 'Anesthesia for diagnostic examination of shoulder joint using an endoscope',\n",
       " 'Anesthesia for open or endoscopic procedure at upper arm and shoulder joint including',\n",
       " 'Anesthesia for open or endoscopic procedure at upper arm and shoulder joint including',\n",
       " 'Anesthesia for open or endoscopic procedure of dislocated shoulder joint',\n",
       " 'Anesthesia for open or endoscopic amputation of arm shoulder blade and collar bone',\n",
       " 'Anesthesia for open or endoscopic total shoulder joint replacement',\n",
       " 'Anesthesia for open or endoscopic total shoulder joint replacement',\n",
       " 'Anesthesia for procedure on arteries of shoulder and underarm',\n",
       " 'Anesthesia for repair of bulging aneurysm defect in upper arm artery',\n",
       " 'Anesthesia for bypass graft in shoulder or underarm artery',\n",
       " 'Anesthesia for bypass graft from groin artery to shoulder or underarm artery',\n",
       " 'Anesthesia for procedure on veins of shoulder and underarm',\n",
       " 'Anesthesia for cast application removal or repair',\n",
       " 'Anesthesia for procedure on nerves muscles tendons fascia and bursae of upper arm and elbow',\n",
       " 'Anesthesia for procedure on nerves muscles tendons fascia and bursae of upper arm and elbow',\n",
       " 'Anesthesia for open incision of elbow to shoulder tendon',\n",
       " 'Anesthesia for open incision of elbow to shoulder tendon',\n",
       " 'Anesthesia for repair of elbow to shoulder tendon',\n",
       " 'Anesthesia for suture of upper arm and elbow tendon to bone',\n",
       " 'Anesthesia for suture of upper arm and elbow tendon to bone',\n",
       " 'Anesthesia for closed procedure on upper arm and elbow',\n",
       " 'Anesthesia for closed procedure on upper arm and elbow',\n",
       " 'Anesthesia for diagnostic examination of elbow joint using an endoscope',\n",
       " 'Anesthesia for open or endoscopic procedure on elbow',\n",
       " 'Anesthesia for open or endoscopic procedure on elbow',\n",
       " 'Anesthesia for open or endoscopic procedure at upper arm bone',\n",
       " 'Anesthesia for open or endoscopic repair of non healed fracture of upper arm bone',\n",
       " 'Anesthesia for open or endoscopic surgical procedure on elbow',\n",
       " 'Anesthesia for open or endoscopic surgical procedure on elbow',\n",
       " 'Anesthesia for open or endoscopic removal cyst or tumor of upper arm',\n",
       " 'Anesthesia for open or endoscopic total elbow joint replacement',\n",
       " 'Anesthesia for procedure on arteries of upper arm and elbow',\n",
       " 'Anesthesia for procedure on arteries of upper arm and elbow',\n",
       " 'Anesthesia for removal of blood clot from upper arm or elbow artery',\n",
       " 'Anesthesia for procedure on veins of upper arm and elbow',\n",
       " 'Anesthesia for suture of upper arm or elbow vein',\n",
       " 'Anesthesia for procedure on nerves muscles tendons fascia and bursae of forearm wrist and hand',\n",
       " 'Anesthesia for procedure on nerves muscles tendons fascia and bursae of forearm wrist and hand',\n",
       " 'Anesthesia for closed procedure on bones of forearm wrist or hand',\n",
       " 'Anesthesia for closed procedure on bones of forearm wrist or hand',\n",
       " 'Anesthesia for diagnostic examination of the wrist using an endoscope',\n",
       " 'Anesthesia for open or endoscopic procedure on bones of forearm wrist or hand',\n",
       " 'Anesthesia for open or endoscopic procedure on bones of forearm wrist or hand',\n",
       " 'Anesthesia for open or endoscopic total wrist joint replacement',\n",
       " 'Anesthesia for procedure on arteries of forearm wrist and hand',\n",
       " 'Anesthesia for procedure on arteries of forearm wrist and hand',\n",
       " 'Anesthesia for removal of blood clot from forearm wrist or hand artery',\n",
       " 'Anesthesia for placement or revision of blood flow shunt',\n",
       " 'Anesthesia for placement or revision of blood flow shunt',\n",
       " 'Removal of rectal tumor using an endoscope',\n",
       " 'Anesthesia for procedure on veins of forearm wrist and hand',\n",
       " 'Anesthesia for procedure on veins of forearm wrist and hand',\n",
       " 'Anesthesia for suture of forearm wrist or hand vein',\n",
       " 'Anesthesia for forearm wrist or hand cast application removal or repair',\n",
       " 'Anesthesia for diagnostic X ray procedure on arteries or veins',\n",
       " 'Anesthesia for diagnostic X ray procedure on arteries or veins',\n",
       " 'Internal insertion of eye fluid drainage device',\n",
       " 'Internal insertion of eye fluid drainage device',\n",
       " 'Anesthesia for procedure on heart vessels and chambers',\n",
       " 'Anesthesia for procedure on heart vessels and chambers',\n",
       " 'Anesthesia for X ray or radiation therapy',\n",
       " 'Anesthesia for X ray or radiation therapy',\n",
       " 'Anesthesia for X ray procedure on arteries',\n",
       " 'Anesthesia for X ray procedure on arteries',\n",
       " 'Anesthesia for X ray procedure on neck or heart artery',\n",
       " 'Anesthesia for X ray procedure on neck or heart artery',\n",
       " 'Anesthesia for X ray procedure on artery in brain heart or major vessel of chest aorta',\n",
       " 'Anesthesia for X ray procedure on artery in brain heart or major vessel of chest aorta',\n",
       " 'Anesthesia for X ray procedure on vein or lymph system',\n",
       " 'Anesthesia for X ray procedure on vein or lymph system',\n",
       " 'Anesthesia for X ray procedure on liver vein',\n",
       " 'Anesthesia for X ray procedure on liver vein',\n",
       " 'Anesthesia for X ray procedure on chest or neck vein',\n",
       " 'Anesthesia for X ray procedure on chest or neck vein',\n",
       " 'Anesthesia for X ray procedure on brain vein',\n",
       " 'Anesthesia for diagnostic X ray procedure accessed through the skin on spine and spinal cord',\n",
       " 'Anesthesia for diagnostic X ray procedure accessed through the skin on spine and spinal cord',\n",
       " 'Anesthesia for X ray procedure accessed through the skin on spine and spinal cord',\n",
       " 'Anesthesia for X ray procedure accessed through the skin on spine and spinal cord',\n",
       " 'Anesthesia for treatment of second and third degree burn less than total body surface',\n",
       " 'Anesthesia for treatment of second and third degree burn between and total body surface area',\n",
       " 'Anesthesia for treatment of second and third degree burn',\n",
       " 'Anesthesia for vaginal delivery',\n",
       " 'Anesthesia for cesarean delivery',\n",
       " 'Anesthesia for procedure to remove uterus following delivery',\n",
       " 'Anesthesia for cesarean removal of uterus',\n",
       " 'Anesthesia for incomplete or missed abortion',\n",
       " 'Anesthesia for induced abortion',\n",
       " 'Anesthesia for labor during planned vaginal delivery',\n",
       " 'Anesthesia for cesarean delivery following labor',\n",
       " 'Physiological support for harvesting of organs',\n",
       " 'Anesthesia for nerve block and injection procedure',\n",
       " 'Anesthesia for nerve block and injection procedure',\n",
       " 'Anesthesia for nerve block and injection procedure prone position',\n",
       " 'Anesthesia for nerve block and injection procedure prone position',\n",
       " 'Daily hospital management of continuous spinal drug administration',\n",
       " 'Anesthesia procedure',\n",
       " 'Injections of one side of sacrum for enlargement or more needles accessed through the skin',\n",
       " 'Injections of one side of sacrum for enlargement or more needles accessed through the skin',\n",
       " 'Injections of both sides of sacrum for enlargement or more needles accessed through the skin',\n",
       " 'Injections of both sides of sacrum for enlargement or more needles accessed through the skin',\n",
       " 'Suturing hemorrhoids using ultrasound guidance',\n",
       " 'Repair of artery bifurcation of one groin with prosthesis',\n",
       " 'Removal of bone from lower spine for decompression of nerve tissue using imaging guidance accessed through the skin',\n",
       " 'Removal of bone from lower spine for decompression of nerve tissue using imaging guidance accessed through the skin',\n",
       " 'External EKG recording for more than hours up to days with analysis report review and interpretation',\n",
       " 'External EKG recording for more than hours up to days with analysis report review and interpretation',\n",
       " 'External EKG recording for more than hours up to days',\n",
       " 'External EKG recording for more than hours up to days',\n",
       " 'Analysis and report of external EKG recording for more than hours up to days',\n",
       " 'Analysis and report of external EKG recording for more than hours up to days',\n",
       " 'Review and interpretation of external EKG recording for more than hours up to days',\n",
       " 'Review and interpretation of external EKG recording for more than hours up to days',\n",
       " 'Insertion of eye drainage device',\n",
       " 'Insertion of eye drainage device',\n",
       " 'Technical component for assessment of field of vision with concurrent data analysis and data storage with patient initiated data transmitted to a remote surveillance center for up to days',\n",
       " 'High dose rate electronic brachytherapy',\n",
       " 'High dose rate electronic brachytherapy',\n",
       " 'Destruction of tissue of brain using MRI guidance',\n",
       " 'Collagen cross linking treatment of disease of cornea',\n",
       " 'Insertion or replacement of pulse generator and electrodes of heart contractility modulator system',\n",
       " 'Insertion of aqueous fluid drainage device into eye',\n",
       " 'Insertion of aqueous fluid drainage device into eye',\n",
       " 'Insertion of breathing sensor electrode or electrode array into chest wall',\n",
       " 'Insertion of drainage device and creation of fluid reservoir in front chamber of eye',\n",
       " 'Laser destruction of scar tissue',\n",
       " 'Laser destruction of scar tissue',\n",
       " 'Laser destruction of scar tissue',\n",
       " 'Measurement of blood flow in heart muscle at rest and under stress',\n",
       " 'Measurement of blood flow in heart muscle at rest and under stress',\n",
       " 'Insertion of artificial valve between left heart chambers accessed through the skin',\n",
       " 'Insertion of artificial valve between left heart chambers open chest procedure',\n",
       " 'Analysis of data from CT study of heart blood vessels to assess severity of heart artery disease with interpretation and report',\n",
       " 'Analysis of data from CT study of heart blood vessels to assess severity of heart artery disease',\n",
       " 'Analysis of data from CT study of heart blood vessels to assess severity of heart artery disease',\n",
       " 'Analysis of data from CT study of heart blood vessels to assess severity of heart artery disease',\n",
       " 'Analysis of data from CT study of heart blood vessels to assess severity of heart artery disease',\n",
       " 'Near infrared dual imaging of tear glands with interpretation and report',\n",
       " 'Pattern recording of retinal electrical responses to external stimuli with interpretation and report',\n",
       " 'Visual axis identification using patient fixation during operation',\n",
       " 'Measurement fractional flow reserve in arteries of heart with D functional mapping during procedure',\n",
       " 'Administration of blood derived T white blood cells T lymphocytes for chimeric antigen receptor T cell therapy',\n",
       " 'Radiofrequency spectroscopy evaluation of surgical margins during partial mastectomy with report',\n",
       " 'Insertion of balloon continence device on both sides of urethra including examination of bladder using endoscope and fluoroscopic imaging',\n",
       " 'Adjustment of fluid volume in balloon continence device beside urethra',\n",
       " 'Fine needle aspiration of additional lesion',\n",
       " 'Fine needle aspiration of additional lesion',\n",
       " 'Fine needle aspiration of first lesion using ultrasound guidance',\n",
       " 'Fine needle aspiration of first lesion using ultrasound guidance',\n",
       " 'Fine needle aspiration of additional lesion using ultrasound guidance',\n",
       " 'Fine needle aspiration of additional lesion using ultrasound guidance',\n",
       " 'Fine needle aspiration of first lesion using fluoroscopice guidance',\n",
       " 'Fine needle aspiration of first lesion using fluoroscopice guidance',\n",
       " 'Fine needle aspiration of additional lesion using fluoroscopice guidance',\n",
       " 'Fine needle aspiration of first lesion using CT guidance',\n",
       " 'Fine needle aspiration of first lesion using CT guidance',\n",
       " 'Fine needle aspiration of additional lesion using CT guidance',\n",
       " 'Fine needle aspiration of first lesion using MR guidance',\n",
       " 'Fine needle aspiration of additional lesion using MR guidance',\n",
       " 'Fine needle aspiration of first lesion',\n",
       " 'Fine needle aspiration of first lesion',\n",
       " 'Fluid collection drainage by catheter using imaging guidance accessed through the skin',\n",
       " 'Fluid collection drainage by catheter using imaging guidance accessed through the skin',\n",
       " 'Placement of soft tissue localization device accessed through the skin with imaging guidance first lesion',\n",
       " 'Placement of soft tissue localization device accessed through the skin with imaging guidance first lesion',\n",
       " 'Placement of soft tissue localization device accessed through the skin with imaging guidance',\n",
       " 'Placement of soft tissue localization device accessed through the skin with imaging guidance',\n",
       " 'Acne surgery',\n",
       " 'Acne surgery',\n",
       " 'Drainage of abscess',\n",
       " 'Drainage of abscess',\n",
       " 'Drainage of multiple abscess',\n",
       " 'Drainage of multiple abscess',\n",
       " 'Drainage of tailbone cyst',\n",
       " 'Drainage of tailbone cyst',\n",
       " 'Drainage of tailbone cyst',\n",
       " 'Drainage of tailbone cyst',\n",
       " 'Removal of foreign body from tissue accessed beneath the skin',\n",
       " 'Removal of foreign body from tissue accessed beneath the skin',\n",
       " 'Removal of foreign body from tissue accessed beneath the skin',\n",
       " 'Removal of foreign body from tissue accessed beneath the skin',\n",
       " 'Drainage of blood or fluid accumulation',\n",
       " 'Drainage of blood or fluid accumulation',\n",
       " 'Aspiration of abscess blood accumulation blister or cyst',\n",
       " 'Aspiration of abscess blood accumulation blister or cyst',\n",
       " 'Drainage of wound infection after surgery',\n",
       " 'Drainage of wound infection after surgery',\n",
       " 'Removal of inflamed or infected skin up to of body surface',\n",
       " 'Removal of inflamed or infected skin up to of body surface',\n",
       " 'Removal of inflamed or infected skin',\n",
       " 'Removal of inflamed or infected skin',\n",
       " 'Removal of infected skin tissue or muscle of genitals',\n",
       " 'Removal of infected skin tissue or muscle of genitals',\n",
       " 'Removal of infected skin tissue or muscle of abdomen',\n",
       " 'Removal of infected skin tissue or muscle of abdomen',\n",
       " 'Removal of infected skin tissue or muscle of genitals perineum or abdomen',\n",
       " 'Removal of infected skin tissue or muscle of genitals perineum or abdomen',\n",
       " 'Removal of infected artificial material or mesh from abdomen',\n",
       " 'Removal of infected artificial material or mesh from abdomen',\n",
       " 'Removal of foreign material from skin and tissue at open fracture and or dislocation',\n",
       " 'Removal of foreign material from skin and tissue at open fracture and or dislocation',\n",
       " 'Removal of foreign material from skin tissue and muscle at open fracture and or dislocation',\n",
       " 'Removal of foreign material from skin tissue and muscle at open fracture and or dislocation',\n",
       " 'Removal of foreign material from skin tissue muscle and bone at open fracture and or dislocation',\n",
       " 'Removal of foreign material from skin tissue muscle and bone at open fracture and or dislocation',\n",
       " 'Removal of skin and tissue first sq cm or less',\n",
       " 'Removal of skin and tissue first sq cm or less',\n",
       " 'Removal of skin and or muscle first sq cm or less',\n",
       " 'Removal of skin and or muscle first sq cm or less',\n",
       " 'Removal of skin and bone first sq cm or less',\n",
       " 'Removal of skin and bone first sq cm or less',\n",
       " 'Removal of skin and tissue',\n",
       " 'Removal of skin and tissue',\n",
       " 'Removal of skin and or muscle',\n",
       " 'Removal of skin and or muscle',\n",
       " 'Removal of skin and bone',\n",
       " 'Removal of skin and bone',\n",
       " 'Removal of single thickened skin growth',\n",
       " 'Removal of single thickened skin growth',\n",
       " 'Removal of to thickened skin growths',\n",
       " 'Removal of to thickened skin growths',\n",
       " 'Removal of more than thickened skin growths',\n",
       " 'Removal of more than thickened skin growths',\n",
       " 'Tangential biopsy of single skin lesion',\n",
       " 'Tangential biopsy of single skin lesion',\n",
       " 'Tangential biopsy of additional skin lesion',\n",
       " 'Tangential biopsy of additional skin lesion',\n",
       " 'Punch biopsy of single skin lesion',\n",
       " 'Punch biopsy of single skin lesion',\n",
       " 'Punch biopsy of additional skin lesion',\n",
       " 'Punch biopsy of additional skin lesion',\n",
       " 'Incisional biopsy of single skin lesion',\n",
       " 'Incisional biopsy of single skin lesion',\n",
       " 'Incisional biopsy of additional skin lesion',\n",
       " 'Incisional biopsy of additional skin lesion',\n",
       " 'Removal of up to and including skin tags',\n",
       " 'Removal of up to and including skin tags',\n",
       " 'Removal of skin tags',\n",
       " 'Removal of skin tags',\n",
       " 'Shaving of centimeters or less skin growth of the trunk arms or legs',\n",
       " 'Shaving of centimeters or less skin growth of the trunk arms or legs',\n",
       " 'Shaving of centimeters to centimeters skin growth of the trunk arms or legs',\n",
       " 'Shaving of centimeters to centimeters skin growth of the trunk arms or legs',\n",
       " 'Shaving of to centimeters skin growth of the trunk arms or legs',\n",
       " 'Shaving of to centimeters skin growth of the trunk arms or legs',\n",
       " 'Shaving of over centimeters skin growth of the trunk arms or legs',\n",
       " 'Shaving of over centimeters skin growth of the trunk arms or legs',\n",
       " 'Shaving of centimeters or less skin growth of scalp neck hands feet or genitals',\n",
       " 'Shaving of centimeters or less skin growth of scalp neck hands feet or genitals',\n",
       " 'Shaving of centimeters to centimeters skin growth of scalp neck hands feet or genitals',\n",
       " 'Shaving of centimeters to centimeters skin growth of scalp neck hands feet or genitals',\n",
       " 'Shaving of to centimeters skin growth of scalp neck hands feet or genitals',\n",
       " 'Shaving of to centimeters skin growth of scalp neck hands feet or genitals',\n",
       " 'Shaving of over centimeters skin growth of scalp neck hands feet or genitals',\n",
       " 'Shaving of over centimeters skin growth of scalp neck hands feet or genitals',\n",
       " 'Shaving of centimeters or less skin growth of face ears eyelids nose lips or mouth',\n",
       " 'Shaving of centimeters or less skin growth of face ears eyelids nose lips or mouth',\n",
       " 'Shaving of centimeters to centimeters skin growth of face ears eyelids nose lips or mouth',\n",
       " 'Shaving of centimeters to centimeters skin growth of face ears eyelids nose lips or mouth',\n",
       " 'Shaving of to centimeters skin growth of face ears eyelids nose lips or mouth',\n",
       " 'Shaving of to centimeters skin growth of face ears eyelids nose lips or mouth',\n",
       " 'Shaving of over centimeters skin growth of face ears eyelids nose lips or mouth',\n",
       " 'Shaving of over centimeters skin growth of face ears eyelids nose lips or mouth',\n",
       " 'Removal of growth centimeters or less of the trunk arms or legs',\n",
       " 'Removal of growth centimeters or less of the trunk arms or legs',\n",
       " 'Removal of growth to centimeters of the trunk arms or legs',\n",
       " 'Removal of growth to centimeters of the trunk arms or legs',\n",
       " 'Removal of growth to centimeters of the trunk arms or legs',\n",
       " 'Removal of growth to centimeters of the trunk arms or legs',\n",
       " 'Removal of growth to centimeters of the trunk arms or legs',\n",
       " 'Removal of growth to centimeters of the trunk arms or legs',\n",
       " 'Removal of growth to centimeters of the trunk arms or legs',\n",
       " 'Removal of growth to centimeters of the trunk arms or legs',\n",
       " 'Removal of growth centimeters of the trunk arms or legs',\n",
       " 'Removal of growth centimeters of the trunk arms or legs',\n",
       " 'Removal of growth centimeters or less of the scalp neck hands feet or genitals',\n",
       " 'Removal of growth centimeters or less of the scalp neck hands feet or genitals',\n",
       " 'Removal of growth to centimeters of the scalp neck hands feet or genitals',\n",
       " 'Removal of growth to centimeters of the scalp neck hands feet or genitals',\n",
       " 'Removal of growth to centimeters of the scalp neck hands feet or genitals',\n",
       " 'Removal of growth to centimeters of the scalp neck hands feet or genitals',\n",
       " 'Removal of growth to centimeters of the scalp neck hands feet or genitals',\n",
       " 'Removal of growth to centimeters of the scalp neck hands feet or genitals',\n",
       " 'Removal of growth to centimeters of the scalp neck hands feet or genitals',\n",
       " 'Removal of growth to centimeters of the scalp neck hands feet or genitals',\n",
       " 'Removal of growth over centimeters of the scalp neck hands feet or genitals',\n",
       " 'Removal of growth over centimeters of the scalp neck hands feet or genitals',\n",
       " 'Removal of growth centimeters or less of the face ears eyelids nose lips or mouth',\n",
       " 'Removal of growth centimeters or less of the face ears eyelids nose lips or mouth',\n",
       " 'Removal of growth to centimeters of the face ears eyelids nose lips or mouth',\n",
       " 'Removal of growth to centimeters of the face ears eyelids nose lips or mouth',\n",
       " 'Removal of growth to centimeters of the face ears eyelids nose lips or mouth',\n",
       " 'Removal of growth to centimeters of the face ears eyelids nose lips or mouth',\n",
       " 'Removal of growth to centimeters of face ears eyelids nose lips or mouth',\n",
       " 'Removal of growth to centimeters of face ears eyelids nose lips or mouth',\n",
       " 'Removal to centimeters growth of face ears eyelids nose lips or mouth',\n",
       " 'Removal to centimeters growth of face ears eyelids nose lips or mouth',\n",
       " 'Removal over centimeters growth of the face ears eyelids nose lips or mouth',\n",
       " 'Removal over centimeters growth of the face ears eyelids nose lips or mouth',\n",
       " 'Removal of skin and tissue beneath the skin of underarms for excessive sweating',\n",
       " 'Removal of skin and tissue beneath the skin of underarms for excessive sweating',\n",
       " 'Removal of skin and tissue beneath the skin of underarms for excessive sweating',\n",
       " 'Removal of skin and tissue beneath the skin of underarms for excessive sweating',\n",
       " 'Removal of skin and tissue beneath the skin of groin for excessive sweating',\n",
       " 'Removal of skin and tissue beneath the skin of groin for excessive sweating',\n",
       " 'Removal of skin and tissue beneath the skin of groin for excessive sweating',\n",
       " 'Removal of skin and tissue beneath the skin of groin for excessive sweating',\n",
       " 'Removal of skin and tissue beneath the skin of anus or navel for excessive sweating',\n",
       " 'Removal of skin and tissue beneath the skin of anus or navel for excessive sweating',\n",
       " 'Removal of skin and tissue beneath the skin of anus or navel for excessive sweating',\n",
       " 'Removal of malignant growth centimeters or less of the trunk arms or legs',\n",
       " 'Removal of malignant growth centimeters or less of the trunk arms or legs',\n",
       " 'Removal of malignant growth to centimeters of the trunk arms or legs',\n",
       " 'Removal of malignant growth to centimeters of the trunk arms or legs',\n",
       " 'Removal of malignant growth to centimeters of the trunk arms or legs',\n",
       " 'Removal of malignant growth to centimeters of the trunk arms or legs',\n",
       " 'Removal of malignant growth to centimeters of the trunk arms or legs',\n",
       " 'Removal of malignant growth to centimeters of the trunk arms or legs',\n",
       " 'Removal of malignant growth to centimeters of the trunk arms or legs',\n",
       " 'Removal of malignant growth to centimeters of the trunk arms or legs',\n",
       " 'Removal of malignant growth over centimeters of the trunk arms or legs',\n",
       " 'Removal of malignant growth over centimeters of the trunk arms or legs',\n",
       " 'Removal of malignant growth centimeters or less of the scalp neck hands feet or genitals',\n",
       " 'Removal of malignant growth centimeters or less of the scalp neck hands feet or genitals',\n",
       " 'Removal of malignant growth to centimeters of the scalp neck hands feet or genitals',\n",
       " 'Removal of malignant growth to centimeters of the scalp neck hands feet or genitals',\n",
       " 'Removal of malignant growth to centimeters of the scalp neck hands feet or genitals',\n",
       " 'Removal of malignant growth to centimeters of the scalp neck hands feet or genitals',\n",
       " 'Removal of malignant growth to centimeters of the scalp neck hands feet or genitals',\n",
       " 'Removal of malignant growth to centimeters of the scalp neck hands feet or genitals',\n",
       " 'Removal of malignant growth to centimeters of the scalp neck hands feet or genitals',\n",
       " 'Removal of malignant growth to centimeters of the scalp neck hands feet or genitals',\n",
       " 'Removal of malignant growth over centimeters of the scalp neck hands feet or genitals',\n",
       " 'Removal of malignant growth over centimeters of the scalp neck hands feet or genitals',\n",
       " 'Removal of malignant growth centimeters or less of the face ears eyelids nose or lips',\n",
       " 'Removal of malignant growth centimeters or less of the face ears eyelids nose or lips',\n",
       " 'Removal of malignant growth to centimeters of the face ears eyelids nose or lips',\n",
       " 'Removal of malignant growth to centimeters of the face ears eyelids nose or lips',\n",
       " 'Removal of malignant growth to centimeters of the face ears eyelids nose or lips',\n",
       " 'Removal of malignant growth to centimeters of the face ears eyelids nose or lips',\n",
       " 'Removal of malignant growth to centimeters of the face ears eyelids nose or lips',\n",
       " 'Removal of malignant growth to centimeters of the face ears eyelids nose or lips',\n",
       " 'Removal of malignant growth to centimeters of the face ears eyelids nose or lips',\n",
       " 'Removal of malignant growth to centimeters of the face ears eyelids nose or lips',\n",
       " 'Removal of malignant growth over centimeters of the face ears eyelids nose or lips',\n",
       " 'Removal of malignant growth over centimeters of the face ears eyelids nose or lips',\n",
       " 'Trimming of fingernails or toenails',\n",
       " 'Trimming of fingernails or toenails',\n",
       " 'Removal of tissue from to finger or toe nails',\n",
       " 'Removal of tissue from to finger or toe nails',\n",
       " 'Removal of tissue from or more finger or toe nails',\n",
       " 'Removal of tissue from or more finger or toe nails',\n",
       " 'Separation of nail plate from nail bed',\n",
       " 'Separation of nail plate from nail bed',\n",
       " 'Separation of nail plate from nail bed',\n",
       " 'Separation of nail plate from nail bed',\n",
       " 'Removal of blood accumulation between nail and nail bed',\n",
       " 'Removal of blood accumulation between nail and nail bed',\n",
       " 'Removal of nail',\n",
       " 'Removal of nail',\n",
       " 'Biopsy of finger or toe nail',\n",
       " 'Biopsy of finger or toe nail',\n",
       " 'Repair of finger or toe nail bed',\n",
       " 'Repair of finger or toe nail bed',\n",
       " 'Repair of finger or toe nail bed with graft',\n",
       " 'Repair of finger or toe nail bed with graft',\n",
       " 'Removal of skin of finger or toe nail',\n",
       " 'Removal of skin of finger or toe nail',\n",
       " 'Removal of tailbone cyst',\n",
       " 'Removal of tailbone cyst',\n",
       " 'Removal of tailbone cyst',\n",
       " 'Removal of tailbone cyst',\n",
       " 'Removal of tailbone cyst',\n",
       " 'Removal of tailbone cyst',\n",
       " 'Injection of up to skin growths',\n",
       " 'Injection of up to skin growths',\n",
       " 'Injection of more than skin growths',\n",
       " 'Injection of more than skin growths',\n",
       " 'Introduction of pigment into skin sq cm or less to correct color defect',\n",
       " 'Introduction of pigment into skin sq cm or less to correct color defect',\n",
       " 'Introduction of pigment into skin to sq cm to correct color defect',\n",
       " 'Introduction of pigment into skin to sq cm to correct color defect',\n",
       " 'Introduction of pigment into skin to correct color defect',\n",
       " 'Introduction of pigment into skin to correct color defect',\n",
       " 'Injection of over cc filling material beneath the skin',\n",
       " 'Insertion of tissue expanders',\n",
       " 'Insertion of tissue expanders',\n",
       " 'Replacement of tissue expander with permanent prosthesis',\n",
       " 'Replacement of tissue expander with permanent prosthesis',\n",
       " 'Removal of tissue expanders',\n",
       " 'Removal of tissue expanders',\n",
       " 'Insertion of hormone pellets beneath the skin',\n",
       " 'Insertion of hormone pellets beneath the skin',\n",
       " 'Insertion of drug delivery implant into tissue',\n",
       " 'Insertion of drug delivery implant into tissue',\n",
       " 'Removal of drug delivery implant from tissue',\n",
       " 'Removal of drug delivery implant from tissue',\n",
       " 'Removal with reinsertion of drug delivery implant into tissue',\n",
       " 'Removal with reinsertion of drug delivery implant into tissue',\n",
       " 'Repair of wound centimeters or less of the scalp neck underarms trunk arms and or legs',\n",
       " 'Repair of wound centimeters or less of the scalp neck underarms trunk arms and or legs',\n",
       " 'Repair of wound to centimeters of the scalp neck underarms genitals trunk arms and or legs',\n",
       " 'Repair of wound to centimeters of the scalp neck underarms genitals trunk arms and or legs',\n",
       " 'Repair of wound to centimeters of the scalp neck underarms genitals trunk arms and or legs',\n",
       " 'Repair of wound to centimeters of the scalp neck underarms genitals trunk arms and or legs',\n",
       " 'Repair of wound to centimeters of the scalp neck underarms genitals trunk arms and or legs',\n",
       " 'Repair of wound to centimeters of the scalp neck underarms genitals trunk arms and or legs',\n",
       " 'Repair of wound to centimeters of the scalp neck underarms genitals trunk arms and or legs',\n",
       " 'Repair of wound to centimeters of the scalp neck underarms genitals trunk arms and or legs',\n",
       " 'Repair of wound over centimeters of the scalp neck underarms genitals trunk arms and or legs',\n",
       " 'Repair of wound over centimeters of the scalp neck underarms genitals trunk arms and or legs',\n",
       " 'Repair of wound centimeters or less of the face ears eyelids nose lips and or mucous membranes',\n",
       " 'Repair of wound centimeters or less of the face ears eyelids nose lips and or mucous membranes',\n",
       " 'Repair of wound to centimeters of the face ears eyelids nose lips and or mucous membranes',\n",
       " 'Repair of wound to centimeters of the face ears eyelids nose lips and or mucous membranes',\n",
       " 'Repair of wound to centimeters of the face ears eyelids nose lips and or mucous membranes',\n",
       " 'Repair of wound to centimeters of the face ears eyelids nose lips and or mucous membranes',\n",
       " 'Repair of wound to centimeters of the face ears eyelids nose lips and or mucous membranes',\n",
       " 'Repair of wound to centimeters of the face ears eyelids nose lips and or mucous membranes',\n",
       " 'Repair of wound to centimeters of the face ears eyelids nose lips and or mucous membranes',\n",
       " 'Repair of wound to centimeters of the face ears eyelids nose lips and or mucous membranes',\n",
       " 'Repair of wound to centimeters of the face ears eyelids nose lips and or mucous membranes',\n",
       " 'Repair of wound to centimeters of the face ears eyelids nose lips and or mucous membranes',\n",
       " 'Repair of wound over centimeters of the face ears eyelids nose lips and or mucous membranes',\n",
       " 'Repair of separation of wound closure',\n",
       " 'Repair of separation of wound closure',\n",
       " 'Repair of separation of wound closure with insertion of packing',\n",
       " 'Repair of separation of wound closure with insertion of packing',\n",
       " 'Repair of wound centimeters or less of the scalp underarms trunk arms and or legs',\n",
       " 'Repair of wound centimeters or less of the scalp underarms trunk arms and or legs',\n",
       " 'Repair of wound to centimeters of the scalp underarms trunk arms and or legs',\n",
       " 'Repair of wound to centimeters of the scalp underarms trunk arms and or legs',\n",
       " 'Repair of wound to centimeters of the scalp underarms trunk arms and or legs',\n",
       " 'Repair of wound to centimeters of the scalp underarms trunk arms and or legs',\n",
       " 'Repair of wound to centimeters of the scalp underarms trunk arms and or legs',\n",
       " 'Repair of wound to centimeters of the scalp underarms trunk arms and or legs',\n",
       " 'Repair of wound to centimeters of the scalp underarms trunk arms and or legs',\n",
       " 'Repair of wound to centimeters of the scalp underarms trunk arms and or legs',\n",
       " 'Repair of wound over centimeters of the scalp underarms trunk arms and or legs',\n",
       " 'Repair of wound over centimeters of the scalp underarms trunk arms and or legs',\n",
       " 'Repair of wound centimeters or less of neck hands feet and or genitals',\n",
       " 'Repair of wound centimeters or less of neck hands feet and or genitals',\n",
       " 'Repair of wound to centimeters of neck hands feet and or genitals',\n",
       " 'Repair of wound to centimeters of neck hands feet and or genitals',\n",
       " 'Repair of wound to centimeters of neck hands feet and or genitals',\n",
       " 'Repair of wound to centimeters of neck hands feet and or genitals',\n",
       " 'Repair of wound to centimeters of neck hands feet and or genitals',\n",
       " 'Repair of wound to centimeters of neck hands feet and or genitals',\n",
       " 'Repair of wound to centimeters of neck hands feet and or genitals',\n",
       " 'Repair of wound over centimeters of neck hands feet and or genitals',\n",
       " 'Repair of wound centimeters or less of face ears eyelids nose lips and or mouth',\n",
       " 'Repair of wound centimeters or less of face ears eyelids nose lips and or mouth',\n",
       " 'Repair of wound to centimeters of face ears eyelids nose lips and or mouth',\n",
       " 'Repair of wound to centimeters of face ears eyelids nose lips and or mouth',\n",
       " 'Repair of wound to centimeters of face ears eyelids nose lips and or mouth',\n",
       " 'Repair of wound to centimeters of face ears eyelids nose lips and or mouth',\n",
       " 'Repair of wound to centimeters of face ears eyelids nose lips and or mouth',\n",
       " 'Repair of wound to centimeters of face ears eyelids nose lips and or mouth',\n",
       " 'Repair of wound to centimeters of face ears eyelids nose lips and or mouth',\n",
       " 'Repair of wound to centimeters of face ears eyelids nose lips and or mouth',\n",
       " 'Repair of wound to centimeters of face ears eyelids nose lips and or mouth',\n",
       " 'Repair of wound over centimeters of face ears eyelids nose lips and or mouth',\n",
       " 'Repair of wound to centimeters of trunk',\n",
       " 'Repair of wound to centimeters of trunk',\n",
       " 'Repair of wound to centimeters of trunk',\n",
       " 'Repair of wound to centimeters of trunk',\n",
       " 'Repair of wound of trunk',\n",
       " 'Repair of wound of trunk',\n",
       " 'Repair of wound to centimeters of scalp arms and or legs',\n",
       " 'Repair of wound to centimeters of scalp arms and or legs',\n",
       " 'Repair of wound to centimeters of scalp arms and or legs',\n",
       " 'Repair of wound to centimeters of scalp arms and or legs',\n",
       " 'Repair of wound of scalp arms and or legs',\n",
       " 'Repair of wound of scalp arms and or legs',\n",
       " 'Repair of wound to centimeters of forehead cheeks chin mouth neck underarms genitals hands and or feet',\n",
       " 'Repair of wound to centimeters of forehead cheeks chin mouth neck underarms genitals hands and or feet',\n",
       " 'Repair of wound to centimeters of forehead cheeks chin mouth neck underarms genitals hands and or feet',\n",
       " 'Repair of wound to centimeters of forehead cheeks chin mouth neck underarms genitals hands and or feet',\n",
       " 'Repair of wound of forehead cheeks chin mouth neck underarms genitals hands and or feet',\n",
       " 'Repair of wound of forehead cheeks chin mouth neck underarms genitals hands and or feet',\n",
       " 'Repair of wound to centimeters of eyelids nose ears and or lips',\n",
       " 'Repair of wound to centimeters of eyelids nose ears and or lips',\n",
       " 'Repair of wound to centimeters of eyelids nose ears and or lips',\n",
       " 'Repair of wound to centimeters of eyelids nose ears and or lips',\n",
       " 'Repair of wound of eyelids nose ears and or lips',\n",
       " 'Repair of wound of eyelids nose ears and or lips',\n",
       " 'Second repair of surgical wound',\n",
       " 'Second repair of surgical wound',\n",
       " 'Tissue transfer repair of wound sq centimeters or less of the trunk',\n",
       " 'Tissue transfer repair of wound sq centimeters or less of the trunk',\n",
       " 'Tissue transfer repair of wound to sq centimeters of the trunk',\n",
       " 'Tissue transfer repair of wound to sq centimeters of the trunk',\n",
       " 'Tissue transfer repair of wound sq centimeters or less of the scalp arms and or legs',\n",
       " 'Tissue transfer repair of wound sq centimeters or less of the scalp arms and or legs',\n",
       " 'Tissue transfer repair of wound to sq centimeters of the scalp arms and or legs',\n",
       " 'Tissue transfer repair of wound to sq centimeters of the scalp arms and or legs',\n",
       " 'Tissue transfer repair of wound sq centimeters or less of the forehead cheeks chin mouth neck underarms genitals hands and or feet',\n",
       " 'Tissue transfer repair of wound sq centimeters or less of the forehead cheeks chin mouth neck underarms genitals hands and or feet',\n",
       " 'Tissue transfer repair of wound to sq centimeters of the forehead cheeks chin mouth neck underarms genitals hands and or feet',\n",
       " 'Tissue transfer repair of wound to sq centimeters of the forehead cheeks chin mouth neck underarms genitals hands and or feet',\n",
       " 'Tissue transfer repair of wound sq centimeters or less of eyelids nose ears and or lips',\n",
       " 'Tissue transfer repair of wound sq centimeters or less of eyelids nose ears and or lips',\n",
       " 'Tissue transfer repair of wound to sq centimeters of eyelids nose ears and or lips',\n",
       " 'Tissue transfer repair of wound to sq centimeters of eyelids nose ears and or lips',\n",
       " 'Tissue transfer repair of wound to sq centimeters',\n",
       " 'Tissue transfer repair of wound to sq centimeters',\n",
       " 'Tissue transfer repair of wound sq centimeters',\n",
       " 'Tissue transfer repair of wound sq centimeters',\n",
       " 'Repair of tissue loss of finger or toe',\n",
       " 'Repair of tissue loss of finger or toe',\n",
       " 'Preparation of graft site at trunk arms or legs first sq cm or body area infants and children',\n",
       " 'Preparation of graft site at trunk arms or legs first sq cm or body area infants and children',\n",
       " 'Preparation of graft site at trunk arms or legs',\n",
       " 'Preparation of graft site at trunk arms or legs',\n",
       " 'Preparation of graft site of face scalp eyelids mouth neck ears eye region genitals hands feet and or multiple fingers or toes first sq cm or body area of infants and children',\n",
       " 'Preparation of graft site of face scalp eyelids mouth neck ears eye region genitals hands feet and or multiple fingers or toes first sq cm or body area of infants and children',\n",
       " 'Preparation of graft site of face scalp eyelids mouth neck ears eye region genitals hands feet and or multiple fingers or toes',\n",
       " 'Preparation of graft site of face scalp eyelids mouth neck ears eye region genitals hands feet and or multiple fingers or toes',\n",
       " 'Relocation of skin sq cm or less for tissue cultured graft',\n",
       " 'Relocation of skin sq cm or less for tissue cultured graft',\n",
       " 'Skin graft centimeters to tip of finger or toe',\n",
       " 'Skin graft centimeters to tip of finger or toe',\n",
       " 'Skin graft at trunk arms or legs first sq cm or less or body are of infants and children',\n",
       " 'Skin graft at trunk arms or legs first sq cm or less or body are of infants and children',\n",
       " 'Skin graft at trunk arms or legs',\n",
       " 'Skin graft at trunk arms or legs',\n",
       " 'Skin graft at trunk arms or legs first sq cm or less or body area of infants and children',\n",
       " 'Skin graft at trunk arms or legs first sq cm or less or body area of infants and children',\n",
       " 'Skin graft at trunk arms or legs',\n",
       " 'Skin graft of face scalp eyelids mouth neck ears eye region genitals hands feet and or multiple fingers or toes first sq cm or less or body area of infants and children',\n",
       " 'Skin graft of face scalp eyelids mouth neck ears eye region genitals hands feet and or multiple fingers or toes first sq cm or less or body area of infants and children',\n",
       " 'Skin graft of face scalp eyelids mouth neck ears eye region genitals hands feet and or multiple fingers or toes',\n",
       " 'Skin graft of face scalp eyelids mouth neck ears eye region genitals hands feet and or multiple fingers or toes first sq cm or less or body area of infants and children',\n",
       " 'Skin graft of face scalp eyelids mouth neck ears eye region genitals hands feet and or multiple fingers or toes first sq cm or less or body area of infants and children',\n",
       " 'Skin graft of face scalp eyelids mouth neck ears eye region genitals hands feet and or multiple fingers or toes',\n",
       " 'Skin graft at trunk arms or legs first sq cm or less or body area of infants and children',\n",
       " 'Skin graft at trunk arms or legs',\n",
       " 'Skin graft of face scalp eyelids mouth neck ears eye region genitals hands feet and or multiple fingers or toes first sq cm or less or body area of infants and children',\n",
       " 'Skin graft of face scalp eyelids mouth neck ears eye region genitals hands feet and or multiple fingers or toes first sq cm or less or body area of infants and children',\n",
       " 'Skin graft at trunk arms or legs first sq centimeters or less',\n",
       " 'Skin graft at trunk arms or legs first sq centimeters or less',\n",
       " 'Skin graft at trunk arms or legs',\n",
       " 'Skin graft of face scalp eyelids mouth neck ears eye region genitals hands feet and or multiple fingers or toes first sq centimeters or less',\n",
       " 'Skin graft of face scalp eyelids mouth neck ears eye region genitals hands feet and or multiple fingers or toes first sq centimeters or less',\n",
       " 'Relocation of patient skin sq centimeters or less to trunk',\n",
       " 'Relocation of patient skin sq centimeters or less to trunk',\n",
       " 'Relocation of patient skin to trunk',\n",
       " 'Relocation of patient skin to trunk',\n",
       " 'Relocation of patient skin sq centimeters or less to scalp arms and or legs',\n",
       " 'Relocation of patient skin sq centimeters or less to scalp arms and or legs',\n",
       " 'Relocation of patient skin to scalp arms and or legs',\n",
       " 'Relocation of patient skin to scalp arms and or legs',\n",
       " 'Relocation of patient skin to forehead cheeks chin mouth neck underarms genitals hands and or feet sq centimeters or less',\n",
       " 'Relocation of patient skin to forehead cheeks chin mouth neck underarms genitals hands and or feet sq centimeters or less',\n",
       " 'Relocation of patient skin to forehead cheeks chin mouth neck underarms genitals hands and or feet',\n",
       " 'Relocation of patient skin to forehead cheeks chin mouth neck underarms genitals hands and or feet',\n",
       " 'Relocation of patient skin to nose ears eyelids and or lips sq centimeters or less',\n",
       " 'Relocation of patient skin to nose ears eyelids and or lips sq centimeters or less',\n",
       " 'Relocation of patient skin to nose ears eyelids and or lips',\n",
       " 'Relocation of patient skin to nose ears eyelids and or lips',\n",
       " 'Application of skin substitute wound surface up to sq cm to trunk arms or legs first sq cm or less',\n",
       " 'Application of skin substitute wound surface up to sq cm to trunk arms or legs first sq cm or less',\n",
       " 'Application of skin substitute wound surface up to sq cm to trunk arms or legs',\n",
       " 'Application of skin substitute wound surface up to sq cm to trunk arms or legs',\n",
       " 'Application of skin substitute wound surface greater or equal to sq cm to trunk arms or legs first sq cm or body area of infants and children',\n",
       " 'Application of skin substitute wound surface greater or equal to sq cm to trunk arms or legs first sq cm or body area of infants and children',\n",
       " 'Application of skin substitute wound surface greater or equal to sq cm to trunk arms or legs',\n",
       " 'Application of skin substitute wound surface greater or equal to sq cm to trunk arms or legs',\n",
       " 'Application of skin substitute wound surface up to sq cm to face scalp eyelids mouth neck ears eye region genitals hands feet and or multiple fingers or toes first sq cm or less',\n",
       " 'Application of skin substitute wound surface up to sq cm to face scalp eyelids mouth neck ears eye region genitals hands feet and or multiple fingers or toes first sq cm or less',\n",
       " 'Application of skin substitute wound surface up to sq cm to face scalp eyelids mouth neck ears eye region genitals hands feet and or multiple fingers or toes',\n",
       " 'Application of skin substitute wound surface up to sq cm to face scalp eyelids mouth neck ears eye region genitals hands feet and or multiple fingers or toes',\n",
       " 'Application of skin substitute wound surface great than or equal to sq cm to face scalp eyelids mouth neck ears eye region genitals hands feet and or multiple fingers or toes first sq cm or body area of infants and children',\n",
       " 'Application of skin substitute wound surface great than or equal to sq cm to face scalp eyelids mouth neck ears eye region genitals hands feet and or multiple fingers or toes first sq cm or body area of infants and children',\n",
       " 'Application of skin substitute wound surface great than or equal to sq cm to face scalp eyelids mouth neck ears eye region genitals hands feet and or multiple fingers or toes',\n",
       " 'Application of skin substitute wound surface great than or equal to sq cm to face scalp eyelids mouth neck ears eye region genitals hands feet and or multiple fingers or toes',\n",
       " 'Creation of flap graft to trunk',\n",
       " 'Creation of flap graft to trunk',\n",
       " 'Creation of flap graft to scalp arms or legs',\n",
       " 'Creation of flap graft to scalp arms or legs',\n",
       " 'Creation of flap graft to forehead cheeks chin mouth neck underarms genitals hands or feet',\n",
       " 'Creation of flap graft to forehead cheeks chin mouth neck underarms genitals hands or feet',\n",
       " 'Creation of flap graft to eyelids nose ears lips or mouth',\n",
       " 'Creation of flap graft to eyelids nose ears lips or mouth',\n",
       " 'Transfer of skin flap to trunk',\n",
       " 'Transfer of skin flap to trunk',\n",
       " 'Transfer of skin flap to scalp arms or legs',\n",
       " 'Transfer of skin flap to scalp arms or legs',\n",
       " 'Transfer of skin flap to forehead cheeks chin neck underarms genitals hands or feet',\n",
       " 'Transfer of skin flap to forehead cheeks chin neck underarms genitals hands or feet',\n",
       " 'Transfer of skin flap to eyelids nose ears or lips',\n",
       " 'Transfer of skin flap to eyelids nose ears or lips',\n",
       " 'Transfer of skin flap',\n",
       " 'Transfer of skin flap',\n",
       " 'Creation of flap graft to midface',\n",
       " 'Creation of flap graft to midface',\n",
       " 'Creation of flap graft to nose forehead temple or scalp',\n",
       " 'Creation of flap graft to nose forehead temple or scalp',\n",
       " 'Creation of flap graft to head and or neck',\n",
       " 'Creation of flap graft to head and or neck',\n",
       " 'Muscle flap wound repair at trunk',\n",
       " 'Muscle flap wound repair at trunk',\n",
       " 'Muscle flap wound repair of arm',\n",
       " 'Muscle flap wound repair of arm',\n",
       " 'Muscle flap wound repair of leg',\n",
       " 'Muscle flap wound repair of leg',\n",
       " 'Creation of skin and tissue graft',\n",
       " 'Creation of skin and tissue graft',\n",
       " 'Creation of nerve and blood vessel skin graft',\n",
       " 'Creation of nerve and blood vessel skin graft',\n",
       " 'Creation of muscle and blood vessel skin graft',\n",
       " 'Creation of muscle and blood vessel skin graft',\n",
       " 'Creation of muscle and blood vessel skin graft',\n",
       " 'Creation of muscle and blood vessel skin graft',\n",
       " 'Creation of multiple tissue skin graft',\n",
       " 'Creation of multiple tissue skin graft',\n",
       " 'Creation of skin fat and muscle graft',\n",
       " 'Creation of skin fat and muscle graft',\n",
       " 'Implantation of biologic implant to soft tissue',\n",
       " 'Implantation of biologic implant to soft tissue',\n",
       " 'Scraping of skin of face',\n",
       " 'Scraping of skin of face',\n",
       " 'Scraping of skin of face',\n",
       " 'Scraping of skin',\n",
       " 'Scraping of skin growth',\n",
       " 'Scraping of skin growth',\n",
       " 'Scraping of multiple skin growths',\n",
       " 'Chemical peel of skin of face',\n",
       " 'Chemical peel of skin of face',\n",
       " 'Chemical peel of skin of face',\n",
       " 'Chemical peel of skin of face',\n",
       " 'Chemical peel of skin',\n",
       " 'Removal of excessive skin of lower eyelid',\n",
       " 'Removal of excessive skin of lower eyelid and fat around eye',\n",
       " 'Removal of excessive skin of lower eyelid and fat around eye',\n",
       " 'Removal of excessive skin of upper eyelid',\n",
       " 'Removal of excessive skin of upper eyelid',\n",
       " 'Removal of excessive skin and fat of upper eyelid',\n",
       " 'Removal of excessive skin and fat of upper eyelid',\n",
       " 'Incision stretching and suture of skin',\n",
       " 'Removal of excessive skin at cheek chin or neck',\n",
       " 'Removal of excessive skin and tissue beneath the skin of abdomen',\n",
       " 'Removal of excessive skin and tissue beneath the skin of abdomen',\n",
       " 'Removal of excessive skin and tissue beneath the skin of thigh',\n",
       " 'Removal of excessive skin and tissue beneath the skin of leg',\n",
       " 'Removal of excessive skin and tissue beneath the skin of hip',\n",
       " 'Removal of excessive skin and tissue beneath the skin of buttock',\n",
       " 'Removal of excessive skin and tissue beneath the skin of arm',\n",
       " 'Removal of excessive skin and tissue beneath the skin of lower arm or hand',\n",
       " 'Removal of excessive skin and tissue beneath the skin under chin',\n",
       " 'Removal of excessive skin and tissue beneath the skin',\n",
       " 'Removal of excessive skin and tissue beneath the skin',\n",
       " 'Graft to relieve or reactivate facial paralysis',\n",
       " 'Graft to relieve or reactivate facial paralysis',\n",
       " 'Graft to relieve or reactivate facial paralysis',\n",
       " 'Graft to relieve or reactivate facial paralysis',\n",
       " 'Graft to relieve or reactivate facial paralysis',\n",
       " ...]"
      ]
     },
     "execution_count": 185,
     "metadata": {},
     "output_type": "execute_result"
    }
   ],
   "source": [
    "text"
   ]
  },
  {
   "cell_type": "code",
   "execution_count": 186,
   "id": "46af3d05",
   "metadata": {},
   "outputs": [],
   "source": [
    "text=pd.DataFrame(text)"
   ]
  },
  {
   "cell_type": "code",
   "execution_count": 187,
   "id": "fbcf3c45",
   "metadata": {},
   "outputs": [],
   "source": [
    "text.columns=['tweet']"
   ]
  },
  {
   "cell_type": "code",
   "execution_count": 188,
   "id": "0cf15e47",
   "metadata": {},
   "outputs": [],
   "source": [
    "text.tweet=text.tweet.str.lower()"
   ]
  },
  {
   "cell_type": "code",
   "execution_count": 189,
   "id": "a441b535",
   "metadata": {},
   "outputs": [],
   "source": [
    "## Using stopwords, I deleted certain commonly used English words from the text."
   ]
  },
  {
   "cell_type": "code",
   "execution_count": 190,
   "id": "a5cb068c",
   "metadata": {},
   "outputs": [],
   "source": [
    "from nltk.corpus import stopwords"
   ]
  },
  {
   "cell_type": "code",
   "execution_count": 191,
   "id": "71277754",
   "metadata": {},
   "outputs": [],
   "source": [
    "stop_words=set(stopwords.words(\"english\"))"
   ]
  },
  {
   "cell_type": "code",
   "execution_count": 192,
   "id": "177cf111",
   "metadata": {},
   "outputs": [],
   "source": [
    "textwords=text.tweet.str.split()"
   ]
  },
  {
   "cell_type": "code",
   "execution_count": 193,
   "id": "8fbe78ce",
   "metadata": {},
   "outputs": [],
   "source": [
    "textwords= text.tweet.str.findall('\\w{3,}').str.join(' ')"
   ]
  },
  {
   "cell_type": "code",
   "execution_count": 194,
   "id": "ea12d853",
   "metadata": {},
   "outputs": [
    {
     "data": {
      "text/plain": [
       "273211"
      ]
     },
     "execution_count": 194,
     "metadata": {},
     "output_type": "execute_result"
    }
   ],
   "source": [
    "len(textwords)"
   ]
  },
  {
   "cell_type": "code",
   "execution_count": 195,
   "id": "9a6e2072",
   "metadata": {},
   "outputs": [
    {
     "data": {
      "text/plain": [
       "0         liver disease ten biochemical assays alt macro...\n",
       "1         test for detecting genes associated with prost...\n",
       "2         anesthesia for procedure salivary gland with b...\n",
       "3         anesthesia for procedure salivary gland with b...\n",
       "4         anesthesia for procedure repair lip defect pre...\n",
       "                                ...                        \n",
       "273206    moderate sedation services provided the same p...\n",
       "273207                     injection ceftriaxone sodium per\n",
       "273208                 injection methylprednisolone acetate\n",
       "273209             injection dexamethasone sodium phosphate\n",
       "273210    injection triamcinolone acetonide not otherwis...\n",
       "Name: tweet, Length: 273211, dtype: object"
      ]
     },
     "execution_count": 195,
     "metadata": {},
     "output_type": "execute_result"
    }
   ],
   "source": [
    "textwords"
   ]
  },
  {
   "cell_type": "code",
   "execution_count": 196,
   "id": "e46e7412",
   "metadata": {},
   "outputs": [],
   "source": [
    "from wordcloud import WordCloud"
   ]
  },
  {
   "cell_type": "code",
   "execution_count": 197,
   "id": "8a0b6dc3",
   "metadata": {},
   "outputs": [],
   "source": [
    "## I used the word could to symbolise some of the most often used words in the image."
   ]
  },
  {
   "cell_type": "code",
   "execution_count": 198,
   "id": "30ac9303",
   "metadata": {},
   "outputs": [
    {
     "data": {
      "image/png": "[encoded data removed]",
      "text/plain": [
       "<Figure size 1080x720 with 1 Axes>"
      ]
     },
     "metadata": {
      "needs_background": "light"
     },
     "output_type": "display_data"
    }
   ],
   "source": [
    "wordcloud=WordCloud(width=1000,height=500,\n",
    "                    stopwords=stop_words,max_words=1000).generate(\n",
    "    str(textwords.values))\n",
    "plt.figure(figsize=(15,10))\n",
    "plt.imshow(wordcloud)\n",
    "plt.show()"
   ]
  },
  {
   "cell_type": "markdown",
   "id": "e81a94f1",
   "metadata": {},
   "source": [
    "### According to the above figure, words with a lower count have a smaller size, while words witha higher count have a larger size."
   ]
  },
  {
   "cell_type": "code",
   "execution_count": 199,
   "id": "37e91f4b",
   "metadata": {},
   "outputs": [],
   "source": [
    "from sklearn.feature_extraction.text import CountVectorizer "
   ]
  },
  {
   "cell_type": "code",
   "execution_count": 200,
   "id": "5c356567",
   "metadata": {},
   "outputs": [],
   "source": [
    "vectorizer = CountVectorizer(stop_words=stop_words,max_features=300)\n",
    "## I used countvectorizer to extract the top 300 words from clean text data."
   ]
  },
  {
   "cell_type": "code",
   "execution_count": 201,
   "id": "fb449a15",
   "metadata": {},
   "outputs": [],
   "source": [
    "X = vectorizer.fit_transform(textwords)"
   ]
  },
  {
   "cell_type": "code",
   "execution_count": 202,
   "id": "513ce472",
   "metadata": {},
   "outputs": [],
   "source": [
    "maintext=pd.DataFrame(X.toarray(),columns=vectorizer.vocabulary_)"
   ]
  },
  {
   "cell_type": "code",
   "execution_count": 203,
   "id": "8d477f36",
   "metadata": {},
   "outputs": [
    {
     "data": {
      "text/plain": [
       "liver  total  test  prostate  cancer  urine  anesthesia  procedure  gland  biopsy  repair  defect  eyelid  treatment  external  middle  ear  examination  using  endoscope  incision  eye  lens  surgery  removal  nose  sinus  tissue  mouth  including  tumor  blood  system  bone  analysis  thyroid  bones  brain  fluid  ray  imaging  fracture  vessel  patient  spinal  cord  nerve  non  small  cell  lung  measurement  esophagus  neck  drug  age  older  needle  vessels  skin  arms  legs  trunk  breast  lymph  nodes  abnormal  heart  rhythm  flow  contrast  shoulder  partial  chest  wall  testing  closed  drainage  diagnostic  insertion  permanent  pacemaker  central  vein  defibrillator  lining  fluoroscopic  guidance  artery  bypass  virus  upper  spine  lower  nerves  manipulation  antibody  abdominal  accessed  stomach  bowel  bile  hernia  wound  opening  catheter  open  supervision  interpretation  abdomen  use  management  protein  large  cavity  rectum  uterus  pelvic  urinary  tract  duct  ureter  kidney  bladder  therapy  control  groin  relocation  prosthesis  vaginal  detection  aspiration  leg  joint  assessment  hip  replacement  revision  thigh  muscle  muscles  veins  arteries  graft  clot  knee  one  cast  application  ankle  foot  tendon  arm  elbow  cyst  forearm  wrist  hand  placement  device  radiation  aorta  less  body  surface  delivery  injection  hospital  administration  injections  side  ultrasound  ekg  recording  days  report  review  dose  electronic  destruction  mri  electrodes  creation  laser  valve  left  study  electrical  evaluation  balloon  urethra  additional  lesion  first  abscess  multiple  foreign  beneath  genitals  material  single  growth  growths  centimeters  scalp  hands  feet  face  ears  eyelids  lips  underarms  malignant  finger  toe  hormone  implant  transfer  preparation  greater  head  chemical  agent  pressure  microscopic  exploration  capsule  back  enzyme  nasal  stimulation  broken  release  fusion  approach  level  pelvis  anesthetic  air  dilation  voice  tube  years  stent  substance  new  implanted  venous  endovascular  radiological  arterial  diagnosis  infusion  peripheral  specimen  dialysis  function  per  session  neurostimulator  canal  studies  activity  care  monitoring  day  physician  sacral  retina  views  minimum  scan  technique  hour  limited  screening  nuclear  medicine  exercise  pathology  health  services  vaccine  minutes  visit  home  service  inpatient  outpatient  established  observation  programming  qualified  professional  nursing  facility  typically  office  initial  subsequent\n",
       "0      0      0     0         0       0      0           0          0      0       0       0       0       0          0         0       0    0            0      0          0         0    0     0        0        0     0      0       0      0          0      0      0       0     0         0        0      0      0      0    0        0         0       0        0       0     0      0    0      0     0     0            0          0     0     0    0      0       0        0     0     0     0      0       0      0      0         0      0       0     0         0         0        0      0     0        0       0         0           0          0          0          0        0     0              0       0             0         0       0       0      0      0      0      0       0             0         0          0         0        0      0     0       0      0        0         0     0            0               0        0    0           0        0      0       0       0       0       0        0      0     0       0       0        0        0        0      0           0           0        0          0           0    0      0           0    1            0         0      0       0        0      0         0      0     0     0    0     0            0      0     0       0    0      0     0        0      0     0          0       0          0      0     0     0        0         0          0         0               0           0     0           0    0          0     0       0       0     0           0            0    0           0         0      0      0     0      0           0           0        0        0           0       0      0        0         0        0        0         0         0       0       0        0            0      0      0     0     0     0        0     0          0          0       0    0        0        0         0            0        0     0         0      0         0            0            0        0     0       0      0            0       0        0       0         0      0       0           0    0         0      0     0      0      0          0    0          0       0             0             0         0          0         0           0         0         0         0    0        0                0      0        0         0     0           0    0          0       0       0      0        0     0          0     0        0          0        0         0         0          0       0         0        0        0      0     0        0          0           0            0            0            0          0             0        0         0          0       0        0             7856\n",
       "                                                                                                                                                                                                                                                                                                                                                                                                                                                                                                                                                                                                                                                                                                                                                                                                                                                                                                                                                                                                                                                                                                                                                                                      0            0         0      0       0        0      0         0      0     0     0    0     0            0      0     0       0    0      0     0        0      0     0          0       0          0      0     0     0        0         0          0         0               0           0     0           0    0          0     0       0       0     0           0            0    0           0         0      0      0     0      0           0           0        0        0           0       0      0        0         0        0        0         0         0       0       0        0            0      0      0     0     0     0        0     0          0          0       0    0        0        0         0            0        0     0         0      0         0            0            0        0     0       0      0            0       0        0       0         0      0       0           0    0         0      0     0      0      0          0    0          0       0             0             0         0          0         0           0         0         0         0    0        0                0      0        0         0     0           0    0          0       0       0      0        0     0          0     0        0          0        0         0         0          0       0         0        0        0      0     0        0          0           0            0            0            0          0             0        0         0          0       0        0             4046\n",
       "                                                                                                                                                                                                                                                                                                                                                                                                                                                                                                                                                                                                                                                                                                                                                                                                                                                                                                                                                                                                                                                                                                                                                                                                                                                                                                                      1    0      0     0        0      0     0          0       0          0      0     0     0        0         0          0         0               0           0     0           0    0          0     0       0       0     0           0            0    0           0         0      0      0     0      0           0           0        0        0           0       0      0        0         0        0        0         0         0       0       0        0            0      0      0     0     0     0        0     0          0          0       0    0        0        0         0            0        0     0         0      0         0            0            0        0     0       0      0            0       0        0       0         0      0       0           0    0         0      0     0      0      0          0    0          0       0             0             0         0          0         0           0         0         0         0    0        0                0      0        0         0     0           0    0          0       0       0      0        0     0          0     0        0          0        0         0         0          0       0         0        0        0      0     0        0          0           0            0            0            0          0             0        0         0          0       0        0             3601\n",
       "                                                                                                                                                                                                                                                                                                                                                                                                                                                                                                                                    1         0      0       0     0         0         0        0      0     0        0       0         0           0          0          0          0        0     0              0       0             0         0       0       0      0      0      0      0       0             0         0          0         0        0      0     0       0      0        0         0     0            0               0        0    0           0        0      0       0       0       0       0        0      0     0       0       0        0        0        0      0           0           0        0          0           0    0      0           0    0            0         0      0       0        0      0         0      0     0     0    0     0            0      0     0       0    0      0     0        0      0     0          0       0          0      0     0     0        0         0          0         0               0           0     0           0    0          0     0       0       0     0           0            0    0           0         0      0      0     0      0           0           0        0        0           0       0      0        0         0        0        0         0         0       0       0        0            0      0      0     0     0     0        0     0          0          0       0    0        0        0         0            0        0     0         0      0         0            0            0        0     0       0      0            0       0        0       0         0      0       0           0    0         0      0     0      0      0          0    0          0       0             0             0         0          0         0           0         0         0         0    0        1                0      0        0         0     0           0    0          0       0       0      0        0     0          0     0        0          0        0         0         0          0       0         0        0        0      0     0        0          0           0            0            0            0          0             0        0         0          0       0        0             1773\n",
       "                                                                                           1       0       0          0         0       0    0            0      0          0         0    0     0        0        0     0      0       0      0          0      0      0       0     0         0        0      0      0      0    0        0         0       0        0       0     0      0    0      0     0     0            0          0     0     0    0      0       0        0     0     0     0      0       0      0      0         0      0       0     0         0         0        0      0     0        0       0         0           0          0          0          0        0     0              0       0             0         0       0       0      0      0      0      0       0             0         0          0         0        0      0     0       0      0        0         0     0            0               0        0    0           0        0      0       0       0       0       0        0      0     0       0       0        0        0        0      0           0           0        0          0           0    0      0           0    0            0         0      0       0        0      0         0      0     0     0    0     0            0      0     0       0    0      0     0        0      0     0          0       0          0      0     0     0        0         0          0         0               0           0     0           0    0          0     0       0       0     0           0            0    0           0         0      0      0     0      0           0           0        0        0           0       0      0        0         0        0        0         0         0       0       0        0            0      0      0     0     0     0        0     0          0          0       0    0        0        0         0            0        0     0         0      0         0            0            0        0     0       0      0            0       0        0       0         0      0       0           0    0         0      0     0      0      0          0    0          0       0             0             0         0          0         0           0         0         0         0    0        0                0      0        0         0     0           0    0          0       0       0      0        0     0          0     0        0          0        0         0         0          0       0         0        0        0      0     0        0          0           0            0            0            0          0             0        0         0          0       0        0             1394\n",
       "                                                                                                                                                                                                                                                                                                                                                                                                                                                                                                                                                                                                                                                                                                                                                                                                                                                                                                                                                                                                                                                                                                                                                                                                                                                                                                                                                                                                                                                                                                                                                                                                                                                                                                                                                                                                                                                                                                                                                                                                                                                                                                                                                                                                                                                                                                                                                                                                                                                                                                                                                                                                                                                                                                                          ... \n",
       "                                                                                           0       0       0          0         0       0    0            0      0          0         0    0     0        0        0     1      0       0      0          0      0      0       0     0         0        0      0      0      0    0        0         0       0        0       0     0      0    0      0     0     0            0          0     0     1    0      0       0        1     0     0     0      0       0      0      0         0      0       0     0         0         0        0      0     0        0       0         0           0          0          0          0        0     0              0       0             0         0       0       0      0      0      0      0       0             0         0          0         0        0      0     0       0      0        0         0     0            0               0        0    0           0        0      0       0       0       0       0        0      0     0       0       0        0        0        0      0           0           0        0          0           0    0      0           0    1            0         0      0       1        0      1         0      0     0     0    0     0            0      0     0       0    0      0     0        0      1     0          0       0          0      0     0     0        0         0          0         0               0           0     0           0    0          0     0       0       0     0           0            0    0           0         0      0      0     0      0           0           0        0        0           0       0      0        0         0        0        0         0         0       0       0        0            0      0      0     0     0     0        0     0          0          0       0    0        1        1         0            0        0     0         0      0         0            0            0        0     0       0      0            0       0        0       0         0      0       0           0    0         0      0     0      0      0          0    0          0       0             0             0         0          0         1           0         0         0         0    0        0                0      0        0         0     0           0    0          0       0       0      0        0     0          0     0        0          0        0         0         0          0       0         0        0        0      0     0        0          0           0            0            0            0          0             0        0         0          0       0        0                1\n",
       "                                                                                                                                                                                                                         0      0       0      0          0      0      0       0     0         0        0      0      0      0    0        0         0       0        0       0     0      0    0      0     0     0            0          0     0     0    0      0       0        0     0     0     0      0       0      0      0         0      0       0     0         0         0        0      0     0        0       0         0           0          0          0          0        0     0              0       0             0         0       0       0      0      0      0      0       0             0         0          0         0        0      0     0       0      0        0         0     0            0               0        0    0           0        0      1       0       0       0       0        0      0     0       0       0        0        0        0      0           0           0        0          0           0    0      0           0    0            0         0      0       0        0      0         0      0     0     0    0     0            0      0     0       0    0      0     0        0      0     0          0       0          0      0     0     0        0         0          0         0               0           0     0           0    0          0     0       0       0     0           0            0    0           0         0      0      0     0      0           0           0        0        0           0       0      0        0         0        0        0         0         0       0       0        0            0      0      0     0     0     0        0     0          0          0       0    0        0        0         0            0        0     0         0      0         0            0            0        0     0       0      0            0       0        0       0         0      0       0           0    0         0      0     0      0      0          0    0          0       0             0             0         0          0         0           0         0         0         0    0        0                0      0        0         0     0           0    0          0       0       0      0        0     0          0     0        0          0        0         0         0          0       0         0        0        0      0     0        2          0           0            0            0            0          0             0        0         0          0       0        0                1\n",
       "                                                                                                                                                                                                                                                                                                                                                                                                                                                                                                                                                                                                                                                                                                                                                                                                                                                                                                                                                                                         0       1       0       0       1        0      0     0       0       0        0        0        0      0           0           0        0          0           0    0      0           0    0            0         0      0       0        0      0         0      0     0     0    0     0            0      0     0       0    0      0     0        0      0     0          0       0          0      0     0     0        0         0          0         0               0           0     0           0    0          0     0       0       0     0           0            0    0           0         0      0      0     0      0           0           0        0        0           0       0      0        0         0        0        0         0         0       0       0        0            0      0      0     0     0     0        0     0          0          0       0    0        0        0         0            0        0     0         1      0         0            0            0        0     0       0      0            0       0        0       0         0      0       0           0    0         0      0     0      0      0          0    0          0       0             0             0         0          0         0           0         0         0         0    0        0                0      0        0         0     0           0    0          0       0       0      0        0     0          0     0        0          0        0         0         0          0       0         0        0        0      0     0        0          0           0            0            0            0          0             0        0         0          0       0        0                1\n",
       "                                                                                                                                                                                                                                                                                                                                                                                                                                                                                                                                                                                                                                                                                                                                                                                                                                                                                                                                                                                                                         0        0      0     0       1       0        0        0        0      0           0           0        0          0           0    0      0           0    0            0         0      0       0        0      0         0      0     0     0    0     0            0      0     0       0    0      0     0        0      0     0          0       0          0      0     0     0        0         0          0         0               0           0     0           0    0          0     0       0       0     0           0            0    0           0         0      0      0     0      0           0           0        0        0           0       0      0        0         0        0        0         0         0       0       0        0            0      0      0     0     0     0        0     0          0          0       0    0        0        0         0            0        0     0         1      0         0            0            0        0     0       0      0            0       0        0       0         0      0       0           0    0         0      0     0      0      0          0    0          0       0             0             0         0          0         0           0         0         0         0    0        0                0      0        0         0     0           0    0          0       0       0      0        0     0          0     0        0          0        0         0         0          0       0         0        0        0      0     0        0          0           0            0            0            0          0             0        0         0          0       0        0                1\n",
       "                                                                                                                                                                                                                                                                                                1        0      0      0      0    0        0         0       0        0       0     0      0    0      0     0     0            1          0     0     0    0      0       0        0     0     0     0      0       0      0      0         0      0       0     0         0         0        0      0     0        0       0         0           0          0          0          0        0     0              0       0             0         0       0       0      0      0      0      0       0             0         0          0         0        0      0     0       0      0        0         0     0            0               0        0    0           0        0      0       0       0       0       0        0      0     0       0       0        0        0        0      0           0           0        0          0           0    0      0           0    0            0         0      0       0        1      0         0      0     0     0    0     0            0      0     0       0    0      1     0        0      0     0          0       0          0      0     0     0        0         0          0         0               0           0     0           0    0          0     0       0       0     0           0            0    0           0         0      0      0     0      0           0           0        0        0           0       0      0        0         0        0        0         0         0       0       0        0            0      0      0     0     0     0        0     0          0          0       0    0        0        0         0            0        0     0         1      0         0            0            0        0     0       0      0            0       0        0       0         0      0       0           0    0         0      0     0      0      0          0    0          0       0             0             0         0          0         0           0         0         0         0    0        0                0      0        0         0     0           0    0          0       0       0      0        0     0          0     0        0          0        0         0         0          0       0         0        0        0      0     0        0          0           0            0            0            0          0             0        0         0          0       0        0                1\n",
       "Length: 5409, dtype: int64"
      ]
     },
     "execution_count": 203,
     "metadata": {},
     "output_type": "execute_result"
    }
   ],
   "source": [
    "maintext.value_counts()"
   ]
  },
  {
   "cell_type": "code",
   "execution_count": 204,
   "id": "0b0c45a5",
   "metadata": {},
   "outputs": [
    {
     "data": {
      "text/html": [
       "<div>\n",
       "<style scoped>\n",
       "    .dataframe tbody tr th:only-of-type {\n",
       "        vertical-align: middle;\n",
       "    }\n",
       "\n",
       "    .dataframe tbody tr th {\n",
       "        vertical-align: top;\n",
       "    }\n",
       "\n",
       "    .dataframe thead th {\n",
       "        text-align: right;\n",
       "    }\n",
       "</style>\n",
       "<table border=\"1\" class=\"dataframe\">\n",
       "  <thead>\n",
       "    <tr style=\"text-align: right;\">\n",
       "      <th></th>\n",
       "      <th>liver</th>\n",
       "      <th>total</th>\n",
       "      <th>test</th>\n",
       "      <th>prostate</th>\n",
       "      <th>cancer</th>\n",
       "      <th>urine</th>\n",
       "      <th>anesthesia</th>\n",
       "      <th>procedure</th>\n",
       "      <th>gland</th>\n",
       "      <th>biopsy</th>\n",
       "      <th>...</th>\n",
       "      <th>observation</th>\n",
       "      <th>programming</th>\n",
       "      <th>qualified</th>\n",
       "      <th>professional</th>\n",
       "      <th>nursing</th>\n",
       "      <th>facility</th>\n",
       "      <th>typically</th>\n",
       "      <th>office</th>\n",
       "      <th>initial</th>\n",
       "      <th>subsequent</th>\n",
       "    </tr>\n",
       "  </thead>\n",
       "  <tbody>\n",
       "    <tr>\n",
       "      <th>0</th>\n",
       "      <td>0</td>\n",
       "      <td>0</td>\n",
       "      <td>0</td>\n",
       "      <td>0</td>\n",
       "      <td>0</td>\n",
       "      <td>0</td>\n",
       "      <td>0</td>\n",
       "      <td>0</td>\n",
       "      <td>0</td>\n",
       "      <td>0</td>\n",
       "      <td>...</td>\n",
       "      <td>0</td>\n",
       "      <td>0</td>\n",
       "      <td>0</td>\n",
       "      <td>0</td>\n",
       "      <td>0</td>\n",
       "      <td>0</td>\n",
       "      <td>0</td>\n",
       "      <td>0</td>\n",
       "      <td>0</td>\n",
       "      <td>0</td>\n",
       "    </tr>\n",
       "    <tr>\n",
       "      <th>1</th>\n",
       "      <td>0</td>\n",
       "      <td>0</td>\n",
       "      <td>0</td>\n",
       "      <td>0</td>\n",
       "      <td>0</td>\n",
       "      <td>0</td>\n",
       "      <td>0</td>\n",
       "      <td>0</td>\n",
       "      <td>0</td>\n",
       "      <td>0</td>\n",
       "      <td>...</td>\n",
       "      <td>0</td>\n",
       "      <td>0</td>\n",
       "      <td>0</td>\n",
       "      <td>0</td>\n",
       "      <td>0</td>\n",
       "      <td>0</td>\n",
       "      <td>0</td>\n",
       "      <td>0</td>\n",
       "      <td>0</td>\n",
       "      <td>0</td>\n",
       "    </tr>\n",
       "    <tr>\n",
       "      <th>2</th>\n",
       "      <td>0</td>\n",
       "      <td>0</td>\n",
       "      <td>0</td>\n",
       "      <td>0</td>\n",
       "      <td>0</td>\n",
       "      <td>0</td>\n",
       "      <td>0</td>\n",
       "      <td>0</td>\n",
       "      <td>0</td>\n",
       "      <td>0</td>\n",
       "      <td>...</td>\n",
       "      <td>0</td>\n",
       "      <td>0</td>\n",
       "      <td>0</td>\n",
       "      <td>0</td>\n",
       "      <td>0</td>\n",
       "      <td>0</td>\n",
       "      <td>0</td>\n",
       "      <td>0</td>\n",
       "      <td>0</td>\n",
       "      <td>0</td>\n",
       "    </tr>\n",
       "    <tr>\n",
       "      <th>3</th>\n",
       "      <td>0</td>\n",
       "      <td>0</td>\n",
       "      <td>0</td>\n",
       "      <td>0</td>\n",
       "      <td>0</td>\n",
       "      <td>0</td>\n",
       "      <td>0</td>\n",
       "      <td>0</td>\n",
       "      <td>0</td>\n",
       "      <td>0</td>\n",
       "      <td>...</td>\n",
       "      <td>0</td>\n",
       "      <td>0</td>\n",
       "      <td>0</td>\n",
       "      <td>0</td>\n",
       "      <td>0</td>\n",
       "      <td>0</td>\n",
       "      <td>0</td>\n",
       "      <td>0</td>\n",
       "      <td>0</td>\n",
       "      <td>0</td>\n",
       "    </tr>\n",
       "    <tr>\n",
       "      <th>4</th>\n",
       "      <td>0</td>\n",
       "      <td>0</td>\n",
       "      <td>0</td>\n",
       "      <td>0</td>\n",
       "      <td>0</td>\n",
       "      <td>0</td>\n",
       "      <td>0</td>\n",
       "      <td>0</td>\n",
       "      <td>0</td>\n",
       "      <td>0</td>\n",
       "      <td>...</td>\n",
       "      <td>0</td>\n",
       "      <td>0</td>\n",
       "      <td>0</td>\n",
       "      <td>0</td>\n",
       "      <td>0</td>\n",
       "      <td>0</td>\n",
       "      <td>0</td>\n",
       "      <td>0</td>\n",
       "      <td>0</td>\n",
       "      <td>0</td>\n",
       "    </tr>\n",
       "    <tr>\n",
       "      <th>...</th>\n",
       "      <td>...</td>\n",
       "      <td>...</td>\n",
       "      <td>...</td>\n",
       "      <td>...</td>\n",
       "      <td>...</td>\n",
       "      <td>...</td>\n",
       "      <td>...</td>\n",
       "      <td>...</td>\n",
       "      <td>...</td>\n",
       "      <td>...</td>\n",
       "      <td>...</td>\n",
       "      <td>...</td>\n",
       "      <td>...</td>\n",
       "      <td>...</td>\n",
       "      <td>...</td>\n",
       "      <td>...</td>\n",
       "      <td>...</td>\n",
       "      <td>...</td>\n",
       "      <td>...</td>\n",
       "      <td>...</td>\n",
       "      <td>...</td>\n",
       "    </tr>\n",
       "    <tr>\n",
       "      <th>273206</th>\n",
       "      <td>0</td>\n",
       "      <td>0</td>\n",
       "      <td>0</td>\n",
       "      <td>0</td>\n",
       "      <td>0</td>\n",
       "      <td>0</td>\n",
       "      <td>0</td>\n",
       "      <td>0</td>\n",
       "      <td>0</td>\n",
       "      <td>0</td>\n",
       "      <td>...</td>\n",
       "      <td>0</td>\n",
       "      <td>0</td>\n",
       "      <td>0</td>\n",
       "      <td>0</td>\n",
       "      <td>0</td>\n",
       "      <td>0</td>\n",
       "      <td>0</td>\n",
       "      <td>0</td>\n",
       "      <td>0</td>\n",
       "      <td>0</td>\n",
       "    </tr>\n",
       "    <tr>\n",
       "      <th>273207</th>\n",
       "      <td>0</td>\n",
       "      <td>0</td>\n",
       "      <td>0</td>\n",
       "      <td>0</td>\n",
       "      <td>0</td>\n",
       "      <td>0</td>\n",
       "      <td>0</td>\n",
       "      <td>0</td>\n",
       "      <td>0</td>\n",
       "      <td>0</td>\n",
       "      <td>...</td>\n",
       "      <td>0</td>\n",
       "      <td>0</td>\n",
       "      <td>0</td>\n",
       "      <td>0</td>\n",
       "      <td>0</td>\n",
       "      <td>0</td>\n",
       "      <td>0</td>\n",
       "      <td>0</td>\n",
       "      <td>0</td>\n",
       "      <td>0</td>\n",
       "    </tr>\n",
       "    <tr>\n",
       "      <th>273208</th>\n",
       "      <td>0</td>\n",
       "      <td>0</td>\n",
       "      <td>0</td>\n",
       "      <td>0</td>\n",
       "      <td>0</td>\n",
       "      <td>0</td>\n",
       "      <td>0</td>\n",
       "      <td>0</td>\n",
       "      <td>0</td>\n",
       "      <td>0</td>\n",
       "      <td>...</td>\n",
       "      <td>0</td>\n",
       "      <td>0</td>\n",
       "      <td>0</td>\n",
       "      <td>0</td>\n",
       "      <td>0</td>\n",
       "      <td>0</td>\n",
       "      <td>0</td>\n",
       "      <td>0</td>\n",
       "      <td>0</td>\n",
       "      <td>0</td>\n",
       "    </tr>\n",
       "    <tr>\n",
       "      <th>273209</th>\n",
       "      <td>0</td>\n",
       "      <td>0</td>\n",
       "      <td>0</td>\n",
       "      <td>0</td>\n",
       "      <td>0</td>\n",
       "      <td>0</td>\n",
       "      <td>0</td>\n",
       "      <td>0</td>\n",
       "      <td>0</td>\n",
       "      <td>0</td>\n",
       "      <td>...</td>\n",
       "      <td>0</td>\n",
       "      <td>0</td>\n",
       "      <td>0</td>\n",
       "      <td>0</td>\n",
       "      <td>0</td>\n",
       "      <td>0</td>\n",
       "      <td>0</td>\n",
       "      <td>0</td>\n",
       "      <td>0</td>\n",
       "      <td>0</td>\n",
       "    </tr>\n",
       "    <tr>\n",
       "      <th>273210</th>\n",
       "      <td>0</td>\n",
       "      <td>0</td>\n",
       "      <td>0</td>\n",
       "      <td>0</td>\n",
       "      <td>0</td>\n",
       "      <td>0</td>\n",
       "      <td>0</td>\n",
       "      <td>0</td>\n",
       "      <td>0</td>\n",
       "      <td>0</td>\n",
       "      <td>...</td>\n",
       "      <td>0</td>\n",
       "      <td>0</td>\n",
       "      <td>0</td>\n",
       "      <td>0</td>\n",
       "      <td>0</td>\n",
       "      <td>0</td>\n",
       "      <td>0</td>\n",
       "      <td>0</td>\n",
       "      <td>0</td>\n",
       "      <td>0</td>\n",
       "    </tr>\n",
       "  </tbody>\n",
       "</table>\n",
       "<p>273211 rows × 300 columns</p>\n",
       "</div>"
      ],
      "text/plain": [
       "        liver  total  test  prostate  cancer  urine  anesthesia  procedure  \\\n",
       "0           0      0     0         0       0      0           0          0   \n",
       "1           0      0     0         0       0      0           0          0   \n",
       "2           0      0     0         0       0      0           0          0   \n",
       "3           0      0     0         0       0      0           0          0   \n",
       "4           0      0     0         0       0      0           0          0   \n",
       "...       ...    ...   ...       ...     ...    ...         ...        ...   \n",
       "273206      0      0     0         0       0      0           0          0   \n",
       "273207      0      0     0         0       0      0           0          0   \n",
       "273208      0      0     0         0       0      0           0          0   \n",
       "273209      0      0     0         0       0      0           0          0   \n",
       "273210      0      0     0         0       0      0           0          0   \n",
       "\n",
       "        gland  biopsy  ...  observation  programming  qualified  professional  \\\n",
       "0           0       0  ...            0            0          0             0   \n",
       "1           0       0  ...            0            0          0             0   \n",
       "2           0       0  ...            0            0          0             0   \n",
       "3           0       0  ...            0            0          0             0   \n",
       "4           0       0  ...            0            0          0             0   \n",
       "...       ...     ...  ...          ...          ...        ...           ...   \n",
       "273206      0       0  ...            0            0          0             0   \n",
       "273207      0       0  ...            0            0          0             0   \n",
       "273208      0       0  ...            0            0          0             0   \n",
       "273209      0       0  ...            0            0          0             0   \n",
       "273210      0       0  ...            0            0          0             0   \n",
       "\n",
       "        nursing  facility  typically  office  initial  subsequent  \n",
       "0             0         0          0       0        0           0  \n",
       "1             0         0          0       0        0           0  \n",
       "2             0         0          0       0        0           0  \n",
       "3             0         0          0       0        0           0  \n",
       "4             0         0          0       0        0           0  \n",
       "...         ...       ...        ...     ...      ...         ...  \n",
       "273206        0         0          0       0        0           0  \n",
       "273207        0         0          0       0        0           0  \n",
       "273208        0         0          0       0        0           0  \n",
       "273209        0         0          0       0        0           0  \n",
       "273210        0         0          0       0        0           0  \n",
       "\n",
       "[273211 rows x 300 columns]"
      ]
     },
     "execution_count": 204,
     "metadata": {},
     "output_type": "execute_result"
    }
   ],
   "source": [
    "maintext"
   ]
  },
  {
   "cell_type": "code",
   "execution_count": 205,
   "id": "528ca169",
   "metadata": {},
   "outputs": [
    {
     "data": {
      "text/html": [
       "<div>\n",
       "<style scoped>\n",
       "    .dataframe tbody tr th:only-of-type {\n",
       "        vertical-align: middle;\n",
       "    }\n",
       "\n",
       "    .dataframe tbody tr th {\n",
       "        vertical-align: top;\n",
       "    }\n",
       "\n",
       "    .dataframe thead th {\n",
       "        text-align: right;\n",
       "    }\n",
       "</style>\n",
       "<table border=\"1\" class=\"dataframe\">\n",
       "  <thead>\n",
       "    <tr style=\"text-align: right;\">\n",
       "      <th></th>\n",
       "      <th>Avg_Sbmtd_Chrg</th>\n",
       "      <th>Avg_Mdcr_Alowd_Amt</th>\n",
       "      <th>Tot_Srvcs</th>\n",
       "      <th>Tot_Rndrng_Prvdrs</th>\n",
       "      <th>Tot_Benes</th>\n",
       "      <th>Tot_Bene_Day_Srvcs</th>\n",
       "    </tr>\n",
       "  </thead>\n",
       "  <tbody>\n",
       "    <tr>\n",
       "      <th>0</th>\n",
       "      <td>680.55</td>\n",
       "      <td>438.21</td>\n",
       "      <td>42.0</td>\n",
       "      <td>12</td>\n",
       "      <td>41</td>\n",
       "      <td>42</td>\n",
       "    </tr>\n",
       "    <tr>\n",
       "      <th>1</th>\n",
       "      <td>795.00</td>\n",
       "      <td>744.80</td>\n",
       "      <td>540.0</td>\n",
       "      <td>1</td>\n",
       "      <td>539</td>\n",
       "      <td>540</td>\n",
       "    </tr>\n",
       "    <tr>\n",
       "      <th>2</th>\n",
       "      <td>1959.51</td>\n",
       "      <td>237.04</td>\n",
       "      <td>12019.0</td>\n",
       "      <td>9574</td>\n",
       "      <td>8232</td>\n",
       "      <td>12016</td>\n",
       "    </tr>\n",
       "    <tr>\n",
       "      <th>3</th>\n",
       "      <td>1409.59</td>\n",
       "      <td>170.33</td>\n",
       "      <td>99.0</td>\n",
       "      <td>91</td>\n",
       "      <td>59</td>\n",
       "      <td>99</td>\n",
       "    </tr>\n",
       "    <tr>\n",
       "      <th>4</th>\n",
       "      <td>1210.95</td>\n",
       "      <td>165.06</td>\n",
       "      <td>70.0</td>\n",
       "      <td>63</td>\n",
       "      <td>48</td>\n",
       "      <td>70</td>\n",
       "    </tr>\n",
       "    <tr>\n",
       "      <th>...</th>\n",
       "      <td>...</td>\n",
       "      <td>...</td>\n",
       "      <td>...</td>\n",
       "      <td>...</td>\n",
       "      <td>...</td>\n",
       "      <td>...</td>\n",
       "    </tr>\n",
       "    <tr>\n",
       "      <th>273206</th>\n",
       "      <td>51.14</td>\n",
       "      <td>7.48</td>\n",
       "      <td>204.0</td>\n",
       "      <td>1</td>\n",
       "      <td>191</td>\n",
       "      <td>203</td>\n",
       "    </tr>\n",
       "    <tr>\n",
       "      <th>273207</th>\n",
       "      <td>27.19</td>\n",
       "      <td>0.59</td>\n",
       "      <td>55.0</td>\n",
       "      <td>7</td>\n",
       "      <td>15</td>\n",
       "      <td>17</td>\n",
       "    </tr>\n",
       "    <tr>\n",
       "      <th>273208</th>\n",
       "      <td>29.47</td>\n",
       "      <td>6.34</td>\n",
       "      <td>19.0</td>\n",
       "      <td>2</td>\n",
       "      <td>16</td>\n",
       "      <td>18</td>\n",
       "    </tr>\n",
       "    <tr>\n",
       "      <th>273209</th>\n",
       "      <td>15.03</td>\n",
       "      <td>0.12</td>\n",
       "      <td>39.0</td>\n",
       "      <td>3</td>\n",
       "      <td>11</td>\n",
       "      <td>11</td>\n",
       "    </tr>\n",
       "    <tr>\n",
       "      <th>273210</th>\n",
       "      <td>28.20</td>\n",
       "      <td>1.54</td>\n",
       "      <td>133.0</td>\n",
       "      <td>5</td>\n",
       "      <td>26</td>\n",
       "      <td>31</td>\n",
       "    </tr>\n",
       "  </tbody>\n",
       "</table>\n",
       "<p>273211 rows × 6 columns</p>\n",
       "</div>"
      ],
      "text/plain": [
       "        Avg_Sbmtd_Chrg  Avg_Mdcr_Alowd_Amt  Tot_Srvcs  Tot_Rndrng_Prvdrs  \\\n",
       "0               680.55              438.21       42.0                 12   \n",
       "1               795.00              744.80      540.0                  1   \n",
       "2              1959.51              237.04    12019.0               9574   \n",
       "3              1409.59              170.33       99.0                 91   \n",
       "4              1210.95              165.06       70.0                 63   \n",
       "...                ...                 ...        ...                ...   \n",
       "273206           51.14                7.48      204.0                  1   \n",
       "273207           27.19                0.59       55.0                  7   \n",
       "273208           29.47                6.34       19.0                  2   \n",
       "273209           15.03                0.12       39.0                  3   \n",
       "273210           28.20                1.54      133.0                  5   \n",
       "\n",
       "        Tot_Benes  Tot_Bene_Day_Srvcs  \n",
       "0              41                  42  \n",
       "1             539                 540  \n",
       "2            8232               12016  \n",
       "3              59                  99  \n",
       "4              48                  70  \n",
       "...           ...                 ...  \n",
       "273206        191                 203  \n",
       "273207         15                  17  \n",
       "273208         16                  18  \n",
       "273209         11                  11  \n",
       "273210         26                  31  \n",
       "\n",
       "[273211 rows x 6 columns]"
      ]
     },
     "execution_count": 205,
     "metadata": {},
     "output_type": "execute_result"
    }
   ],
   "source": [
    "numcols"
   ]
  },
  {
   "cell_type": "code",
   "execution_count": 206,
   "id": "985435bf",
   "metadata": {},
   "outputs": [
    {
     "data": {
      "text/html": [
       "<div>\n",
       "<style scoped>\n",
       "    .dataframe tbody tr th:only-of-type {\n",
       "        vertical-align: middle;\n",
       "    }\n",
       "\n",
       "    .dataframe tbody tr th {\n",
       "        vertical-align: top;\n",
       "    }\n",
       "\n",
       "    .dataframe thead th {\n",
       "        text-align: right;\n",
       "    }\n",
       "</style>\n",
       "<table border=\"1\" class=\"dataframe\">\n",
       "  <thead>\n",
       "    <tr style=\"text-align: right;\">\n",
       "      <th></th>\n",
       "      <th>Rndrng_Prvdr_Geo_Lvl</th>\n",
       "      <th>Rndrng_Prvdr_Geo_Cd</th>\n",
       "      <th>Rndrng_Prvdr_Geo_Desc</th>\n",
       "      <th>HCPCS_Cd</th>\n",
       "      <th>HCPCS_Desc</th>\n",
       "      <th>HCPCS_Drug_Ind</th>\n",
       "      <th>Place_Of_Srvc</th>\n",
       "    </tr>\n",
       "  </thead>\n",
       "  <tbody>\n",
       "    <tr>\n",
       "      <th>0</th>\n",
       "      <td>0</td>\n",
       "      <td>56</td>\n",
       "      <td>33</td>\n",
       "      <td>0</td>\n",
       "      <td>4002</td>\n",
       "      <td>0</td>\n",
       "      <td>1</td>\n",
       "    </tr>\n",
       "    <tr>\n",
       "      <th>1</th>\n",
       "      <td>0</td>\n",
       "      <td>56</td>\n",
       "      <td>33</td>\n",
       "      <td>1</td>\n",
       "      <td>7246</td>\n",
       "      <td>0</td>\n",
       "      <td>1</td>\n",
       "    </tr>\n",
       "    <tr>\n",
       "      <th>2</th>\n",
       "      <td>0</td>\n",
       "      <td>56</td>\n",
       "      <td>33</td>\n",
       "      <td>2</td>\n",
       "      <td>395</td>\n",
       "      <td>0</td>\n",
       "      <td>0</td>\n",
       "    </tr>\n",
       "    <tr>\n",
       "      <th>3</th>\n",
       "      <td>0</td>\n",
       "      <td>56</td>\n",
       "      <td>33</td>\n",
       "      <td>2</td>\n",
       "      <td>395</td>\n",
       "      <td>0</td>\n",
       "      <td>1</td>\n",
       "    </tr>\n",
       "    <tr>\n",
       "      <th>4</th>\n",
       "      <td>0</td>\n",
       "      <td>56</td>\n",
       "      <td>33</td>\n",
       "      <td>3</td>\n",
       "      <td>422</td>\n",
       "      <td>0</td>\n",
       "      <td>0</td>\n",
       "    </tr>\n",
       "    <tr>\n",
       "      <th>...</th>\n",
       "      <td>...</td>\n",
       "      <td>...</td>\n",
       "      <td>...</td>\n",
       "      <td>...</td>\n",
       "      <td>...</td>\n",
       "      <td>...</td>\n",
       "      <td>...</td>\n",
       "    </tr>\n",
       "    <tr>\n",
       "      <th>273206</th>\n",
       "      <td>1</td>\n",
       "      <td>61</td>\n",
       "      <td>14</td>\n",
       "      <td>8169</td>\n",
       "      <td>4258</td>\n",
       "      <td>0</td>\n",
       "      <td>0</td>\n",
       "    </tr>\n",
       "    <tr>\n",
       "      <th>273207</th>\n",
       "      <td>1</td>\n",
       "      <td>61</td>\n",
       "      <td>14</td>\n",
       "      <td>8280</td>\n",
       "      <td>3215</td>\n",
       "      <td>1</td>\n",
       "      <td>1</td>\n",
       "    </tr>\n",
       "    <tr>\n",
       "      <th>273208</th>\n",
       "      <td>1</td>\n",
       "      <td>61</td>\n",
       "      <td>14</td>\n",
       "      <td>8310</td>\n",
       "      <td>3400</td>\n",
       "      <td>1</td>\n",
       "      <td>1</td>\n",
       "    </tr>\n",
       "    <tr>\n",
       "      <th>273209</th>\n",
       "      <td>1</td>\n",
       "      <td>61</td>\n",
       "      <td>14</td>\n",
       "      <td>8318</td>\n",
       "      <td>3249</td>\n",
       "      <td>1</td>\n",
       "      <td>1</td>\n",
       "    </tr>\n",
       "    <tr>\n",
       "      <th>273210</th>\n",
       "      <td>1</td>\n",
       "      <td>61</td>\n",
       "      <td>14</td>\n",
       "      <td>8485</td>\n",
       "      <td>3531</td>\n",
       "      <td>1</td>\n",
       "      <td>1</td>\n",
       "    </tr>\n",
       "  </tbody>\n",
       "</table>\n",
       "<p>273211 rows × 7 columns</p>\n",
       "</div>"
      ],
      "text/plain": [
       "        Rndrng_Prvdr_Geo_Lvl  Rndrng_Prvdr_Geo_Cd  Rndrng_Prvdr_Geo_Desc  \\\n",
       "0                          0                   56                     33   \n",
       "1                          0                   56                     33   \n",
       "2                          0                   56                     33   \n",
       "3                          0                   56                     33   \n",
       "4                          0                   56                     33   \n",
       "...                      ...                  ...                    ...   \n",
       "273206                     1                   61                     14   \n",
       "273207                     1                   61                     14   \n",
       "273208                     1                   61                     14   \n",
       "273209                     1                   61                     14   \n",
       "273210                     1                   61                     14   \n",
       "\n",
       "        HCPCS_Cd  HCPCS_Desc  HCPCS_Drug_Ind  Place_Of_Srvc  \n",
       "0              0        4002               0              1  \n",
       "1              1        7246               0              1  \n",
       "2              2         395               0              0  \n",
       "3              2         395               0              1  \n",
       "4              3         422               0              0  \n",
       "...          ...         ...             ...            ...  \n",
       "273206      8169        4258               0              0  \n",
       "273207      8280        3215               1              1  \n",
       "273208      8310        3400               1              1  \n",
       "273209      8318        3249               1              1  \n",
       "273210      8485        3531               1              1  \n",
       "\n",
       "[273211 rows x 7 columns]"
      ]
     },
     "execution_count": 206,
     "metadata": {},
     "output_type": "execute_result"
    }
   ],
   "source": [
    "objdum"
   ]
  },
  {
   "cell_type": "code",
   "execution_count": 207,
   "id": "50bbb29f",
   "metadata": {},
   "outputs": [
    {
     "data": {
      "text/plain": [
       "(273211, 15)"
      ]
     },
     "execution_count": 207,
     "metadata": {},
     "output_type": "execute_result"
    }
   ],
   "source": [
    "medicare.shape"
   ]
  },
  {
   "cell_type": "code",
   "execution_count": 208,
   "id": "80f7f6a0",
   "metadata": {},
   "outputs": [
    {
     "data": {
      "text/plain": [
       "(273211, 6)"
      ]
     },
     "execution_count": 208,
     "metadata": {},
     "output_type": "execute_result"
    }
   ],
   "source": [
    "numcols.shape"
   ]
  },
  {
   "cell_type": "code",
   "execution_count": 209,
   "id": "1e1ce753",
   "metadata": {},
   "outputs": [
    {
     "data": {
      "text/plain": [
       "(273211, 7)"
      ]
     },
     "execution_count": 209,
     "metadata": {},
     "output_type": "execute_result"
    }
   ],
   "source": [
    "objdum.shape"
   ]
  },
  {
   "cell_type": "code",
   "execution_count": 210,
   "id": "60e6b9b7",
   "metadata": {},
   "outputs": [
    {
     "data": {
      "text/plain": [
       "Index(['Rndrng_Prvdr_Geo_Lvl', 'Rndrng_Prvdr_Geo_Cd', 'Rndrng_Prvdr_Geo_Desc',\n",
       "       'HCPCS_Cd', 'HCPCS_Desc', 'HCPCS_Drug_Ind', 'Place_Of_Srvc'],\n",
       "      dtype='object')"
      ]
     },
     "execution_count": 210,
     "metadata": {},
     "output_type": "execute_result"
    }
   ],
   "source": [
    "objdum.columns"
   ]
  },
  {
   "cell_type": "code",
   "execution_count": 211,
   "id": "3f97c36a",
   "metadata": {},
   "outputs": [],
   "source": [
    "objdum=objdum.drop(['HCPCS_Desc'],axis=1)"
   ]
  },
  {
   "cell_type": "code",
   "execution_count": 212,
   "id": "1dce48a9",
   "metadata": {},
   "outputs": [
    {
     "data": {
      "text/plain": [
       "(273211, 6)"
      ]
     },
     "execution_count": 212,
     "metadata": {},
     "output_type": "execute_result"
    }
   ],
   "source": [
    "objdum.shape"
   ]
  },
  {
   "cell_type": "code",
   "execution_count": 213,
   "id": "58ee03bb",
   "metadata": {},
   "outputs": [
    {
     "data": {
      "text/plain": [
       "(273211, 6)"
      ]
     },
     "execution_count": 213,
     "metadata": {},
     "output_type": "execute_result"
    }
   ],
   "source": [
    "numcols.shape"
   ]
  },
  {
   "cell_type": "code",
   "execution_count": 214,
   "id": "947d7c9d",
   "metadata": {},
   "outputs": [
    {
     "data": {
      "text/plain": [
       "(273211, 300)"
      ]
     },
     "execution_count": 214,
     "metadata": {},
     "output_type": "execute_result"
    }
   ],
   "source": [
    "maintext.shape"
   ]
  },
  {
   "cell_type": "code",
   "execution_count": 215,
   "id": "ea59f0b9",
   "metadata": {},
   "outputs": [
    {
     "data": {
      "text/html": [
       "<div>\n",
       "<style scoped>\n",
       "    .dataframe tbody tr th:only-of-type {\n",
       "        vertical-align: middle;\n",
       "    }\n",
       "\n",
       "    .dataframe tbody tr th {\n",
       "        vertical-align: top;\n",
       "    }\n",
       "\n",
       "    .dataframe thead th {\n",
       "        text-align: right;\n",
       "    }\n",
       "</style>\n",
       "<table border=\"1\" class=\"dataframe\">\n",
       "  <thead>\n",
       "    <tr style=\"text-align: right;\">\n",
       "      <th></th>\n",
       "      <th>liver</th>\n",
       "      <th>total</th>\n",
       "      <th>test</th>\n",
       "      <th>prostate</th>\n",
       "      <th>cancer</th>\n",
       "      <th>urine</th>\n",
       "      <th>anesthesia</th>\n",
       "      <th>procedure</th>\n",
       "      <th>gland</th>\n",
       "      <th>biopsy</th>\n",
       "      <th>...</th>\n",
       "      <th>observation</th>\n",
       "      <th>programming</th>\n",
       "      <th>qualified</th>\n",
       "      <th>professional</th>\n",
       "      <th>nursing</th>\n",
       "      <th>facility</th>\n",
       "      <th>typically</th>\n",
       "      <th>office</th>\n",
       "      <th>initial</th>\n",
       "      <th>subsequent</th>\n",
       "    </tr>\n",
       "  </thead>\n",
       "  <tbody>\n",
       "    <tr>\n",
       "      <th>0</th>\n",
       "      <td>0</td>\n",
       "      <td>0</td>\n",
       "      <td>0</td>\n",
       "      <td>0</td>\n",
       "      <td>0</td>\n",
       "      <td>0</td>\n",
       "      <td>0</td>\n",
       "      <td>0</td>\n",
       "      <td>0</td>\n",
       "      <td>0</td>\n",
       "      <td>...</td>\n",
       "      <td>0</td>\n",
       "      <td>0</td>\n",
       "      <td>0</td>\n",
       "      <td>0</td>\n",
       "      <td>0</td>\n",
       "      <td>0</td>\n",
       "      <td>0</td>\n",
       "      <td>0</td>\n",
       "      <td>0</td>\n",
       "      <td>0</td>\n",
       "    </tr>\n",
       "    <tr>\n",
       "      <th>1</th>\n",
       "      <td>0</td>\n",
       "      <td>0</td>\n",
       "      <td>0</td>\n",
       "      <td>0</td>\n",
       "      <td>0</td>\n",
       "      <td>0</td>\n",
       "      <td>0</td>\n",
       "      <td>0</td>\n",
       "      <td>0</td>\n",
       "      <td>0</td>\n",
       "      <td>...</td>\n",
       "      <td>0</td>\n",
       "      <td>0</td>\n",
       "      <td>0</td>\n",
       "      <td>0</td>\n",
       "      <td>0</td>\n",
       "      <td>0</td>\n",
       "      <td>0</td>\n",
       "      <td>0</td>\n",
       "      <td>0</td>\n",
       "      <td>0</td>\n",
       "    </tr>\n",
       "    <tr>\n",
       "      <th>2</th>\n",
       "      <td>0</td>\n",
       "      <td>0</td>\n",
       "      <td>0</td>\n",
       "      <td>0</td>\n",
       "      <td>0</td>\n",
       "      <td>0</td>\n",
       "      <td>0</td>\n",
       "      <td>0</td>\n",
       "      <td>0</td>\n",
       "      <td>0</td>\n",
       "      <td>...</td>\n",
       "      <td>0</td>\n",
       "      <td>0</td>\n",
       "      <td>0</td>\n",
       "      <td>0</td>\n",
       "      <td>0</td>\n",
       "      <td>0</td>\n",
       "      <td>0</td>\n",
       "      <td>0</td>\n",
       "      <td>0</td>\n",
       "      <td>0</td>\n",
       "    </tr>\n",
       "    <tr>\n",
       "      <th>3</th>\n",
       "      <td>0</td>\n",
       "      <td>0</td>\n",
       "      <td>0</td>\n",
       "      <td>0</td>\n",
       "      <td>0</td>\n",
       "      <td>0</td>\n",
       "      <td>0</td>\n",
       "      <td>0</td>\n",
       "      <td>0</td>\n",
       "      <td>0</td>\n",
       "      <td>...</td>\n",
       "      <td>0</td>\n",
       "      <td>0</td>\n",
       "      <td>0</td>\n",
       "      <td>0</td>\n",
       "      <td>0</td>\n",
       "      <td>0</td>\n",
       "      <td>0</td>\n",
       "      <td>0</td>\n",
       "      <td>0</td>\n",
       "      <td>0</td>\n",
       "    </tr>\n",
       "    <tr>\n",
       "      <th>4</th>\n",
       "      <td>0</td>\n",
       "      <td>0</td>\n",
       "      <td>0</td>\n",
       "      <td>0</td>\n",
       "      <td>0</td>\n",
       "      <td>0</td>\n",
       "      <td>0</td>\n",
       "      <td>0</td>\n",
       "      <td>0</td>\n",
       "      <td>0</td>\n",
       "      <td>...</td>\n",
       "      <td>0</td>\n",
       "      <td>0</td>\n",
       "      <td>0</td>\n",
       "      <td>0</td>\n",
       "      <td>0</td>\n",
       "      <td>0</td>\n",
       "      <td>0</td>\n",
       "      <td>0</td>\n",
       "      <td>0</td>\n",
       "      <td>0</td>\n",
       "    </tr>\n",
       "    <tr>\n",
       "      <th>5</th>\n",
       "      <td>0</td>\n",
       "      <td>0</td>\n",
       "      <td>0</td>\n",
       "      <td>0</td>\n",
       "      <td>0</td>\n",
       "      <td>0</td>\n",
       "      <td>0</td>\n",
       "      <td>0</td>\n",
       "      <td>0</td>\n",
       "      <td>0</td>\n",
       "      <td>...</td>\n",
       "      <td>0</td>\n",
       "      <td>0</td>\n",
       "      <td>0</td>\n",
       "      <td>0</td>\n",
       "      <td>0</td>\n",
       "      <td>0</td>\n",
       "      <td>0</td>\n",
       "      <td>0</td>\n",
       "      <td>0</td>\n",
       "      <td>0</td>\n",
       "    </tr>\n",
       "    <tr>\n",
       "      <th>6</th>\n",
       "      <td>0</td>\n",
       "      <td>0</td>\n",
       "      <td>0</td>\n",
       "      <td>0</td>\n",
       "      <td>0</td>\n",
       "      <td>0</td>\n",
       "      <td>0</td>\n",
       "      <td>0</td>\n",
       "      <td>0</td>\n",
       "      <td>0</td>\n",
       "      <td>...</td>\n",
       "      <td>0</td>\n",
       "      <td>0</td>\n",
       "      <td>0</td>\n",
       "      <td>0</td>\n",
       "      <td>0</td>\n",
       "      <td>0</td>\n",
       "      <td>0</td>\n",
       "      <td>0</td>\n",
       "      <td>0</td>\n",
       "      <td>0</td>\n",
       "    </tr>\n",
       "    <tr>\n",
       "      <th>7</th>\n",
       "      <td>0</td>\n",
       "      <td>0</td>\n",
       "      <td>0</td>\n",
       "      <td>0</td>\n",
       "      <td>0</td>\n",
       "      <td>0</td>\n",
       "      <td>0</td>\n",
       "      <td>0</td>\n",
       "      <td>0</td>\n",
       "      <td>0</td>\n",
       "      <td>...</td>\n",
       "      <td>0</td>\n",
       "      <td>0</td>\n",
       "      <td>0</td>\n",
       "      <td>0</td>\n",
       "      <td>0</td>\n",
       "      <td>0</td>\n",
       "      <td>0</td>\n",
       "      <td>0</td>\n",
       "      <td>0</td>\n",
       "      <td>0</td>\n",
       "    </tr>\n",
       "    <tr>\n",
       "      <th>8</th>\n",
       "      <td>0</td>\n",
       "      <td>0</td>\n",
       "      <td>0</td>\n",
       "      <td>0</td>\n",
       "      <td>0</td>\n",
       "      <td>0</td>\n",
       "      <td>0</td>\n",
       "      <td>0</td>\n",
       "      <td>0</td>\n",
       "      <td>0</td>\n",
       "      <td>...</td>\n",
       "      <td>0</td>\n",
       "      <td>0</td>\n",
       "      <td>0</td>\n",
       "      <td>0</td>\n",
       "      <td>0</td>\n",
       "      <td>0</td>\n",
       "      <td>0</td>\n",
       "      <td>0</td>\n",
       "      <td>0</td>\n",
       "      <td>0</td>\n",
       "    </tr>\n",
       "    <tr>\n",
       "      <th>9</th>\n",
       "      <td>0</td>\n",
       "      <td>0</td>\n",
       "      <td>0</td>\n",
       "      <td>0</td>\n",
       "      <td>0</td>\n",
       "      <td>0</td>\n",
       "      <td>0</td>\n",
       "      <td>0</td>\n",
       "      <td>0</td>\n",
       "      <td>0</td>\n",
       "      <td>...</td>\n",
       "      <td>0</td>\n",
       "      <td>0</td>\n",
       "      <td>0</td>\n",
       "      <td>0</td>\n",
       "      <td>0</td>\n",
       "      <td>0</td>\n",
       "      <td>0</td>\n",
       "      <td>0</td>\n",
       "      <td>0</td>\n",
       "      <td>0</td>\n",
       "    </tr>\n",
       "    <tr>\n",
       "      <th>10</th>\n",
       "      <td>0</td>\n",
       "      <td>0</td>\n",
       "      <td>0</td>\n",
       "      <td>0</td>\n",
       "      <td>0</td>\n",
       "      <td>0</td>\n",
       "      <td>0</td>\n",
       "      <td>0</td>\n",
       "      <td>0</td>\n",
       "      <td>0</td>\n",
       "      <td>...</td>\n",
       "      <td>0</td>\n",
       "      <td>0</td>\n",
       "      <td>0</td>\n",
       "      <td>0</td>\n",
       "      <td>0</td>\n",
       "      <td>0</td>\n",
       "      <td>0</td>\n",
       "      <td>0</td>\n",
       "      <td>0</td>\n",
       "      <td>0</td>\n",
       "    </tr>\n",
       "    <tr>\n",
       "      <th>11</th>\n",
       "      <td>0</td>\n",
       "      <td>0</td>\n",
       "      <td>0</td>\n",
       "      <td>0</td>\n",
       "      <td>0</td>\n",
       "      <td>0</td>\n",
       "      <td>0</td>\n",
       "      <td>0</td>\n",
       "      <td>0</td>\n",
       "      <td>0</td>\n",
       "      <td>...</td>\n",
       "      <td>0</td>\n",
       "      <td>0</td>\n",
       "      <td>0</td>\n",
       "      <td>0</td>\n",
       "      <td>0</td>\n",
       "      <td>0</td>\n",
       "      <td>0</td>\n",
       "      <td>0</td>\n",
       "      <td>0</td>\n",
       "      <td>0</td>\n",
       "    </tr>\n",
       "    <tr>\n",
       "      <th>12</th>\n",
       "      <td>0</td>\n",
       "      <td>0</td>\n",
       "      <td>0</td>\n",
       "      <td>0</td>\n",
       "      <td>0</td>\n",
       "      <td>0</td>\n",
       "      <td>0</td>\n",
       "      <td>0</td>\n",
       "      <td>0</td>\n",
       "      <td>0</td>\n",
       "      <td>...</td>\n",
       "      <td>0</td>\n",
       "      <td>0</td>\n",
       "      <td>0</td>\n",
       "      <td>0</td>\n",
       "      <td>0</td>\n",
       "      <td>0</td>\n",
       "      <td>0</td>\n",
       "      <td>0</td>\n",
       "      <td>0</td>\n",
       "      <td>0</td>\n",
       "    </tr>\n",
       "    <tr>\n",
       "      <th>13</th>\n",
       "      <td>0</td>\n",
       "      <td>0</td>\n",
       "      <td>0</td>\n",
       "      <td>0</td>\n",
       "      <td>0</td>\n",
       "      <td>0</td>\n",
       "      <td>0</td>\n",
       "      <td>0</td>\n",
       "      <td>0</td>\n",
       "      <td>0</td>\n",
       "      <td>...</td>\n",
       "      <td>0</td>\n",
       "      <td>0</td>\n",
       "      <td>0</td>\n",
       "      <td>0</td>\n",
       "      <td>0</td>\n",
       "      <td>0</td>\n",
       "      <td>0</td>\n",
       "      <td>0</td>\n",
       "      <td>0</td>\n",
       "      <td>0</td>\n",
       "    </tr>\n",
       "    <tr>\n",
       "      <th>14</th>\n",
       "      <td>0</td>\n",
       "      <td>0</td>\n",
       "      <td>0</td>\n",
       "      <td>0</td>\n",
       "      <td>0</td>\n",
       "      <td>0</td>\n",
       "      <td>0</td>\n",
       "      <td>0</td>\n",
       "      <td>0</td>\n",
       "      <td>0</td>\n",
       "      <td>...</td>\n",
       "      <td>0</td>\n",
       "      <td>0</td>\n",
       "      <td>0</td>\n",
       "      <td>0</td>\n",
       "      <td>0</td>\n",
       "      <td>0</td>\n",
       "      <td>0</td>\n",
       "      <td>0</td>\n",
       "      <td>0</td>\n",
       "      <td>0</td>\n",
       "    </tr>\n",
       "    <tr>\n",
       "      <th>15</th>\n",
       "      <td>0</td>\n",
       "      <td>0</td>\n",
       "      <td>0</td>\n",
       "      <td>0</td>\n",
       "      <td>0</td>\n",
       "      <td>0</td>\n",
       "      <td>0</td>\n",
       "      <td>0</td>\n",
       "      <td>0</td>\n",
       "      <td>0</td>\n",
       "      <td>...</td>\n",
       "      <td>0</td>\n",
       "      <td>0</td>\n",
       "      <td>0</td>\n",
       "      <td>0</td>\n",
       "      <td>0</td>\n",
       "      <td>0</td>\n",
       "      <td>0</td>\n",
       "      <td>0</td>\n",
       "      <td>0</td>\n",
       "      <td>0</td>\n",
       "    </tr>\n",
       "    <tr>\n",
       "      <th>16</th>\n",
       "      <td>0</td>\n",
       "      <td>0</td>\n",
       "      <td>0</td>\n",
       "      <td>0</td>\n",
       "      <td>0</td>\n",
       "      <td>0</td>\n",
       "      <td>0</td>\n",
       "      <td>0</td>\n",
       "      <td>0</td>\n",
       "      <td>0</td>\n",
       "      <td>...</td>\n",
       "      <td>0</td>\n",
       "      <td>0</td>\n",
       "      <td>0</td>\n",
       "      <td>0</td>\n",
       "      <td>0</td>\n",
       "      <td>0</td>\n",
       "      <td>0</td>\n",
       "      <td>0</td>\n",
       "      <td>0</td>\n",
       "      <td>0</td>\n",
       "    </tr>\n",
       "    <tr>\n",
       "      <th>17</th>\n",
       "      <td>0</td>\n",
       "      <td>0</td>\n",
       "      <td>0</td>\n",
       "      <td>0</td>\n",
       "      <td>0</td>\n",
       "      <td>0</td>\n",
       "      <td>0</td>\n",
       "      <td>0</td>\n",
       "      <td>0</td>\n",
       "      <td>0</td>\n",
       "      <td>...</td>\n",
       "      <td>0</td>\n",
       "      <td>0</td>\n",
       "      <td>0</td>\n",
       "      <td>0</td>\n",
       "      <td>0</td>\n",
       "      <td>0</td>\n",
       "      <td>0</td>\n",
       "      <td>0</td>\n",
       "      <td>0</td>\n",
       "      <td>0</td>\n",
       "    </tr>\n",
       "    <tr>\n",
       "      <th>18</th>\n",
       "      <td>0</td>\n",
       "      <td>0</td>\n",
       "      <td>0</td>\n",
       "      <td>0</td>\n",
       "      <td>0</td>\n",
       "      <td>0</td>\n",
       "      <td>0</td>\n",
       "      <td>0</td>\n",
       "      <td>0</td>\n",
       "      <td>0</td>\n",
       "      <td>...</td>\n",
       "      <td>0</td>\n",
       "      <td>0</td>\n",
       "      <td>0</td>\n",
       "      <td>0</td>\n",
       "      <td>0</td>\n",
       "      <td>0</td>\n",
       "      <td>0</td>\n",
       "      <td>0</td>\n",
       "      <td>0</td>\n",
       "      <td>0</td>\n",
       "    </tr>\n",
       "    <tr>\n",
       "      <th>19</th>\n",
       "      <td>0</td>\n",
       "      <td>0</td>\n",
       "      <td>0</td>\n",
       "      <td>0</td>\n",
       "      <td>0</td>\n",
       "      <td>0</td>\n",
       "      <td>0</td>\n",
       "      <td>0</td>\n",
       "      <td>0</td>\n",
       "      <td>0</td>\n",
       "      <td>...</td>\n",
       "      <td>0</td>\n",
       "      <td>0</td>\n",
       "      <td>0</td>\n",
       "      <td>0</td>\n",
       "      <td>0</td>\n",
       "      <td>0</td>\n",
       "      <td>0</td>\n",
       "      <td>0</td>\n",
       "      <td>0</td>\n",
       "      <td>0</td>\n",
       "    </tr>\n",
       "  </tbody>\n",
       "</table>\n",
       "<p>20 rows × 300 columns</p>\n",
       "</div>"
      ],
      "text/plain": [
       "    liver  total  test  prostate  cancer  urine  anesthesia  procedure  gland  \\\n",
       "0       0      0     0         0       0      0           0          0      0   \n",
       "1       0      0     0         0       0      0           0          0      0   \n",
       "2       0      0     0         0       0      0           0          0      0   \n",
       "3       0      0     0         0       0      0           0          0      0   \n",
       "4       0      0     0         0       0      0           0          0      0   \n",
       "5       0      0     0         0       0      0           0          0      0   \n",
       "6       0      0     0         0       0      0           0          0      0   \n",
       "7       0      0     0         0       0      0           0          0      0   \n",
       "8       0      0     0         0       0      0           0          0      0   \n",
       "9       0      0     0         0       0      0           0          0      0   \n",
       "10      0      0     0         0       0      0           0          0      0   \n",
       "11      0      0     0         0       0      0           0          0      0   \n",
       "12      0      0     0         0       0      0           0          0      0   \n",
       "13      0      0     0         0       0      0           0          0      0   \n",
       "14      0      0     0         0       0      0           0          0      0   \n",
       "15      0      0     0         0       0      0           0          0      0   \n",
       "16      0      0     0         0       0      0           0          0      0   \n",
       "17      0      0     0         0       0      0           0          0      0   \n",
       "18      0      0     0         0       0      0           0          0      0   \n",
       "19      0      0     0         0       0      0           0          0      0   \n",
       "\n",
       "    biopsy  ...  observation  programming  qualified  professional  nursing  \\\n",
       "0        0  ...            0            0          0             0        0   \n",
       "1        0  ...            0            0          0             0        0   \n",
       "2        0  ...            0            0          0             0        0   \n",
       "3        0  ...            0            0          0             0        0   \n",
       "4        0  ...            0            0          0             0        0   \n",
       "5        0  ...            0            0          0             0        0   \n",
       "6        0  ...            0            0          0             0        0   \n",
       "7        0  ...            0            0          0             0        0   \n",
       "8        0  ...            0            0          0             0        0   \n",
       "9        0  ...            0            0          0             0        0   \n",
       "10       0  ...            0            0          0             0        0   \n",
       "11       0  ...            0            0          0             0        0   \n",
       "12       0  ...            0            0          0             0        0   \n",
       "13       0  ...            0            0          0             0        0   \n",
       "14       0  ...            0            0          0             0        0   \n",
       "15       0  ...            0            0          0             0        0   \n",
       "16       0  ...            0            0          0             0        0   \n",
       "17       0  ...            0            0          0             0        0   \n",
       "18       0  ...            0            0          0             0        0   \n",
       "19       0  ...            0            0          0             0        0   \n",
       "\n",
       "    facility  typically  office  initial  subsequent  \n",
       "0          0          0       0        0           0  \n",
       "1          0          0       0        0           0  \n",
       "2          0          0       0        0           0  \n",
       "3          0          0       0        0           0  \n",
       "4          0          0       0        0           0  \n",
       "5          0          0       0        0           0  \n",
       "6          0          0       0        0           0  \n",
       "7          0          0       0        0           0  \n",
       "8          0          0       0        0           0  \n",
       "9          0          0       0        0           0  \n",
       "10         0          0       0        0           0  \n",
       "11         0          0       0        0           0  \n",
       "12         0          0       0        0           0  \n",
       "13         0          0       0        0           0  \n",
       "14         0          0       0        0           0  \n",
       "15         0          0       0        0           0  \n",
       "16         0          0       0        0           0  \n",
       "17         0          0       0        0           0  \n",
       "18         0          0       0        0           0  \n",
       "19         0          0       0        0           0  \n",
       "\n",
       "[20 rows x 300 columns]"
      ]
     },
     "execution_count": 215,
     "metadata": {},
     "output_type": "execute_result"
    }
   ],
   "source": [
    "maintext.head(20)"
   ]
  },
  {
   "cell_type": "code",
   "execution_count": 216,
   "id": "e6bd6868",
   "metadata": {},
   "outputs": [],
   "source": [
    "npltextcleandata=pd.concat([numcols,objdum,maintext],axis=1)"
   ]
  },
  {
   "cell_type": "code",
   "execution_count": 217,
   "id": "c46f7d1e",
   "metadata": {},
   "outputs": [
    {
     "data": {
      "text/plain": [
       "(273211, 312)"
      ]
     },
     "execution_count": 217,
     "metadata": {},
     "output_type": "execute_result"
    }
   ],
   "source": [
    "npltextcleandata.shape"
   ]
  },
  {
   "cell_type": "code",
   "execution_count": 218,
   "id": "3a1ed106",
   "metadata": {},
   "outputs": [
    {
     "data": {
      "text/html": [
       "<div>\n",
       "<style scoped>\n",
       "    .dataframe tbody tr th:only-of-type {\n",
       "        vertical-align: middle;\n",
       "    }\n",
       "\n",
       "    .dataframe tbody tr th {\n",
       "        vertical-align: top;\n",
       "    }\n",
       "\n",
       "    .dataframe thead th {\n",
       "        text-align: right;\n",
       "    }\n",
       "</style>\n",
       "<table border=\"1\" class=\"dataframe\">\n",
       "  <thead>\n",
       "    <tr style=\"text-align: right;\">\n",
       "      <th></th>\n",
       "      <th>Avg_Sbmtd_Chrg</th>\n",
       "      <th>Avg_Mdcr_Alowd_Amt</th>\n",
       "      <th>Tot_Srvcs</th>\n",
       "      <th>Tot_Rndrng_Prvdrs</th>\n",
       "      <th>Tot_Benes</th>\n",
       "      <th>Tot_Bene_Day_Srvcs</th>\n",
       "      <th>Rndrng_Prvdr_Geo_Lvl</th>\n",
       "      <th>Rndrng_Prvdr_Geo_Cd</th>\n",
       "      <th>Rndrng_Prvdr_Geo_Desc</th>\n",
       "      <th>HCPCS_Cd</th>\n",
       "      <th>...</th>\n",
       "      <th>observation</th>\n",
       "      <th>programming</th>\n",
       "      <th>qualified</th>\n",
       "      <th>professional</th>\n",
       "      <th>nursing</th>\n",
       "      <th>facility</th>\n",
       "      <th>typically</th>\n",
       "      <th>office</th>\n",
       "      <th>initial</th>\n",
       "      <th>subsequent</th>\n",
       "    </tr>\n",
       "  </thead>\n",
       "  <tbody>\n",
       "    <tr>\n",
       "      <th>0</th>\n",
       "      <td>680.55</td>\n",
       "      <td>438.21</td>\n",
       "      <td>42.0</td>\n",
       "      <td>12</td>\n",
       "      <td>41</td>\n",
       "      <td>42</td>\n",
       "      <td>0</td>\n",
       "      <td>56</td>\n",
       "      <td>33</td>\n",
       "      <td>0</td>\n",
       "      <td>...</td>\n",
       "      <td>0</td>\n",
       "      <td>0</td>\n",
       "      <td>0</td>\n",
       "      <td>0</td>\n",
       "      <td>0</td>\n",
       "      <td>0</td>\n",
       "      <td>0</td>\n",
       "      <td>0</td>\n",
       "      <td>0</td>\n",
       "      <td>0</td>\n",
       "    </tr>\n",
       "    <tr>\n",
       "      <th>1</th>\n",
       "      <td>795.00</td>\n",
       "      <td>744.80</td>\n",
       "      <td>540.0</td>\n",
       "      <td>1</td>\n",
       "      <td>539</td>\n",
       "      <td>540</td>\n",
       "      <td>0</td>\n",
       "      <td>56</td>\n",
       "      <td>33</td>\n",
       "      <td>1</td>\n",
       "      <td>...</td>\n",
       "      <td>0</td>\n",
       "      <td>0</td>\n",
       "      <td>0</td>\n",
       "      <td>0</td>\n",
       "      <td>0</td>\n",
       "      <td>0</td>\n",
       "      <td>0</td>\n",
       "      <td>0</td>\n",
       "      <td>0</td>\n",
       "      <td>0</td>\n",
       "    </tr>\n",
       "    <tr>\n",
       "      <th>2</th>\n",
       "      <td>1959.51</td>\n",
       "      <td>237.04</td>\n",
       "      <td>12019.0</td>\n",
       "      <td>9574</td>\n",
       "      <td>8232</td>\n",
       "      <td>12016</td>\n",
       "      <td>0</td>\n",
       "      <td>56</td>\n",
       "      <td>33</td>\n",
       "      <td>2</td>\n",
       "      <td>...</td>\n",
       "      <td>0</td>\n",
       "      <td>0</td>\n",
       "      <td>0</td>\n",
       "      <td>0</td>\n",
       "      <td>0</td>\n",
       "      <td>0</td>\n",
       "      <td>0</td>\n",
       "      <td>0</td>\n",
       "      <td>0</td>\n",
       "      <td>0</td>\n",
       "    </tr>\n",
       "    <tr>\n",
       "      <th>3</th>\n",
       "      <td>1409.59</td>\n",
       "      <td>170.33</td>\n",
       "      <td>99.0</td>\n",
       "      <td>91</td>\n",
       "      <td>59</td>\n",
       "      <td>99</td>\n",
       "      <td>0</td>\n",
       "      <td>56</td>\n",
       "      <td>33</td>\n",
       "      <td>2</td>\n",
       "      <td>...</td>\n",
       "      <td>0</td>\n",
       "      <td>0</td>\n",
       "      <td>0</td>\n",
       "      <td>0</td>\n",
       "      <td>0</td>\n",
       "      <td>0</td>\n",
       "      <td>0</td>\n",
       "      <td>0</td>\n",
       "      <td>0</td>\n",
       "      <td>0</td>\n",
       "    </tr>\n",
       "    <tr>\n",
       "      <th>4</th>\n",
       "      <td>1210.95</td>\n",
       "      <td>165.06</td>\n",
       "      <td>70.0</td>\n",
       "      <td>63</td>\n",
       "      <td>48</td>\n",
       "      <td>70</td>\n",
       "      <td>0</td>\n",
       "      <td>56</td>\n",
       "      <td>33</td>\n",
       "      <td>3</td>\n",
       "      <td>...</td>\n",
       "      <td>0</td>\n",
       "      <td>0</td>\n",
       "      <td>0</td>\n",
       "      <td>0</td>\n",
       "      <td>0</td>\n",
       "      <td>0</td>\n",
       "      <td>0</td>\n",
       "      <td>0</td>\n",
       "      <td>0</td>\n",
       "      <td>0</td>\n",
       "    </tr>\n",
       "    <tr>\n",
       "      <th>...</th>\n",
       "      <td>...</td>\n",
       "      <td>...</td>\n",
       "      <td>...</td>\n",
       "      <td>...</td>\n",
       "      <td>...</td>\n",
       "      <td>...</td>\n",
       "      <td>...</td>\n",
       "      <td>...</td>\n",
       "      <td>...</td>\n",
       "      <td>...</td>\n",
       "      <td>...</td>\n",
       "      <td>...</td>\n",
       "      <td>...</td>\n",
       "      <td>...</td>\n",
       "      <td>...</td>\n",
       "      <td>...</td>\n",
       "      <td>...</td>\n",
       "      <td>...</td>\n",
       "      <td>...</td>\n",
       "      <td>...</td>\n",
       "      <td>...</td>\n",
       "    </tr>\n",
       "    <tr>\n",
       "      <th>273206</th>\n",
       "      <td>51.14</td>\n",
       "      <td>7.48</td>\n",
       "      <td>204.0</td>\n",
       "      <td>1</td>\n",
       "      <td>191</td>\n",
       "      <td>203</td>\n",
       "      <td>1</td>\n",
       "      <td>61</td>\n",
       "      <td>14</td>\n",
       "      <td>8169</td>\n",
       "      <td>...</td>\n",
       "      <td>0</td>\n",
       "      <td>0</td>\n",
       "      <td>0</td>\n",
       "      <td>0</td>\n",
       "      <td>0</td>\n",
       "      <td>0</td>\n",
       "      <td>0</td>\n",
       "      <td>0</td>\n",
       "      <td>0</td>\n",
       "      <td>0</td>\n",
       "    </tr>\n",
       "    <tr>\n",
       "      <th>273207</th>\n",
       "      <td>27.19</td>\n",
       "      <td>0.59</td>\n",
       "      <td>55.0</td>\n",
       "      <td>7</td>\n",
       "      <td>15</td>\n",
       "      <td>17</td>\n",
       "      <td>1</td>\n",
       "      <td>61</td>\n",
       "      <td>14</td>\n",
       "      <td>8280</td>\n",
       "      <td>...</td>\n",
       "      <td>0</td>\n",
       "      <td>0</td>\n",
       "      <td>0</td>\n",
       "      <td>0</td>\n",
       "      <td>0</td>\n",
       "      <td>0</td>\n",
       "      <td>0</td>\n",
       "      <td>0</td>\n",
       "      <td>0</td>\n",
       "      <td>0</td>\n",
       "    </tr>\n",
       "    <tr>\n",
       "      <th>273208</th>\n",
       "      <td>29.47</td>\n",
       "      <td>6.34</td>\n",
       "      <td>19.0</td>\n",
       "      <td>2</td>\n",
       "      <td>16</td>\n",
       "      <td>18</td>\n",
       "      <td>1</td>\n",
       "      <td>61</td>\n",
       "      <td>14</td>\n",
       "      <td>8310</td>\n",
       "      <td>...</td>\n",
       "      <td>0</td>\n",
       "      <td>0</td>\n",
       "      <td>0</td>\n",
       "      <td>0</td>\n",
       "      <td>0</td>\n",
       "      <td>0</td>\n",
       "      <td>0</td>\n",
       "      <td>0</td>\n",
       "      <td>0</td>\n",
       "      <td>0</td>\n",
       "    </tr>\n",
       "    <tr>\n",
       "      <th>273209</th>\n",
       "      <td>15.03</td>\n",
       "      <td>0.12</td>\n",
       "      <td>39.0</td>\n",
       "      <td>3</td>\n",
       "      <td>11</td>\n",
       "      <td>11</td>\n",
       "      <td>1</td>\n",
       "      <td>61</td>\n",
       "      <td>14</td>\n",
       "      <td>8318</td>\n",
       "      <td>...</td>\n",
       "      <td>0</td>\n",
       "      <td>0</td>\n",
       "      <td>0</td>\n",
       "      <td>0</td>\n",
       "      <td>0</td>\n",
       "      <td>0</td>\n",
       "      <td>0</td>\n",
       "      <td>0</td>\n",
       "      <td>0</td>\n",
       "      <td>0</td>\n",
       "    </tr>\n",
       "    <tr>\n",
       "      <th>273210</th>\n",
       "      <td>28.20</td>\n",
       "      <td>1.54</td>\n",
       "      <td>133.0</td>\n",
       "      <td>5</td>\n",
       "      <td>26</td>\n",
       "      <td>31</td>\n",
       "      <td>1</td>\n",
       "      <td>61</td>\n",
       "      <td>14</td>\n",
       "      <td>8485</td>\n",
       "      <td>...</td>\n",
       "      <td>0</td>\n",
       "      <td>0</td>\n",
       "      <td>0</td>\n",
       "      <td>0</td>\n",
       "      <td>0</td>\n",
       "      <td>0</td>\n",
       "      <td>0</td>\n",
       "      <td>0</td>\n",
       "      <td>0</td>\n",
       "      <td>0</td>\n",
       "    </tr>\n",
       "  </tbody>\n",
       "</table>\n",
       "<p>273211 rows × 312 columns</p>\n",
       "</div>"
      ],
      "text/plain": [
       "        Avg_Sbmtd_Chrg  Avg_Mdcr_Alowd_Amt  Tot_Srvcs  Tot_Rndrng_Prvdrs  \\\n",
       "0               680.55              438.21       42.0                 12   \n",
       "1               795.00              744.80      540.0                  1   \n",
       "2              1959.51              237.04    12019.0               9574   \n",
       "3              1409.59              170.33       99.0                 91   \n",
       "4              1210.95              165.06       70.0                 63   \n",
       "...                ...                 ...        ...                ...   \n",
       "273206           51.14                7.48      204.0                  1   \n",
       "273207           27.19                0.59       55.0                  7   \n",
       "273208           29.47                6.34       19.0                  2   \n",
       "273209           15.03                0.12       39.0                  3   \n",
       "273210           28.20                1.54      133.0                  5   \n",
       "\n",
       "        Tot_Benes  Tot_Bene_Day_Srvcs  Rndrng_Prvdr_Geo_Lvl  \\\n",
       "0              41                  42                     0   \n",
       "1             539                 540                     0   \n",
       "2            8232               12016                     0   \n",
       "3              59                  99                     0   \n",
       "4              48                  70                     0   \n",
       "...           ...                 ...                   ...   \n",
       "273206        191                 203                     1   \n",
       "273207         15                  17                     1   \n",
       "273208         16                  18                     1   \n",
       "273209         11                  11                     1   \n",
       "273210         26                  31                     1   \n",
       "\n",
       "        Rndrng_Prvdr_Geo_Cd  Rndrng_Prvdr_Geo_Desc  HCPCS_Cd  ...  \\\n",
       "0                        56                     33         0  ...   \n",
       "1                        56                     33         1  ...   \n",
       "2                        56                     33         2  ...   \n",
       "3                        56                     33         2  ...   \n",
       "4                        56                     33         3  ...   \n",
       "...                     ...                    ...       ...  ...   \n",
       "273206                   61                     14      8169  ...   \n",
       "273207                   61                     14      8280  ...   \n",
       "273208                   61                     14      8310  ...   \n",
       "273209                   61                     14      8318  ...   \n",
       "273210                   61                     14      8485  ...   \n",
       "\n",
       "        observation  programming  qualified  professional  nursing  facility  \\\n",
       "0                 0            0          0             0        0         0   \n",
       "1                 0            0          0             0        0         0   \n",
       "2                 0            0          0             0        0         0   \n",
       "3                 0            0          0             0        0         0   \n",
       "4                 0            0          0             0        0         0   \n",
       "...             ...          ...        ...           ...      ...       ...   \n",
       "273206            0            0          0             0        0         0   \n",
       "273207            0            0          0             0        0         0   \n",
       "273208            0            0          0             0        0         0   \n",
       "273209            0            0          0             0        0         0   \n",
       "273210            0            0          0             0        0         0   \n",
       "\n",
       "        typically  office  initial  subsequent  \n",
       "0               0       0        0           0  \n",
       "1               0       0        0           0  \n",
       "2               0       0        0           0  \n",
       "3               0       0        0           0  \n",
       "4               0       0        0           0  \n",
       "...           ...     ...      ...         ...  \n",
       "273206          0       0        0           0  \n",
       "273207          0       0        0           0  \n",
       "273208          0       0        0           0  \n",
       "273209          0       0        0           0  \n",
       "273210          0       0        0           0  \n",
       "\n",
       "[273211 rows x 312 columns]"
      ]
     },
     "execution_count": 218,
     "metadata": {},
     "output_type": "execute_result"
    }
   ],
   "source": [
    "npltextcleandata"
   ]
  },
  {
   "cell_type": "code",
   "execution_count": 219,
   "id": "9ab8379d",
   "metadata": {},
   "outputs": [
    {
     "name": "stdout",
     "output_type": "stream",
     "text": [
      "<class 'pandas.core.frame.DataFrame'>\n",
      "RangeIndex: 273211 entries, 0 to 273210\n",
      "Columns: 312 entries, Avg_Sbmtd_Chrg to subsequent\n",
      "dtypes: float64(3), int32(9), int64(300)\n",
      "memory usage: 641.0 MB\n"
     ]
    }
   ],
   "source": [
    "npltextcleandata.info()"
   ]
  },
  {
   "cell_type": "code",
   "execution_count": 220,
   "id": "30605d98",
   "metadata": {},
   "outputs": [
    {
     "data": {
      "text/html": [
       "<div>\n",
       "<style scoped>\n",
       "    .dataframe tbody tr th:only-of-type {\n",
       "        vertical-align: middle;\n",
       "    }\n",
       "\n",
       "    .dataframe tbody tr th {\n",
       "        vertical-align: top;\n",
       "    }\n",
       "\n",
       "    .dataframe thead th {\n",
       "        text-align: right;\n",
       "    }\n",
       "</style>\n",
       "<table border=\"1\" class=\"dataframe\">\n",
       "  <thead>\n",
       "    <tr style=\"text-align: right;\">\n",
       "      <th></th>\n",
       "      <th>Avg_Sbmtd_Chrg</th>\n",
       "      <th>Avg_Mdcr_Alowd_Amt</th>\n",
       "      <th>Tot_Srvcs</th>\n",
       "      <th>Tot_Rndrng_Prvdrs</th>\n",
       "      <th>Tot_Benes</th>\n",
       "      <th>Tot_Bene_Day_Srvcs</th>\n",
       "      <th>Rndrng_Prvdr_Geo_Lvl</th>\n",
       "      <th>Rndrng_Prvdr_Geo_Cd</th>\n",
       "      <th>Rndrng_Prvdr_Geo_Desc</th>\n",
       "      <th>HCPCS_Cd</th>\n",
       "      <th>...</th>\n",
       "      <th>observation</th>\n",
       "      <th>programming</th>\n",
       "      <th>qualified</th>\n",
       "      <th>professional</th>\n",
       "      <th>nursing</th>\n",
       "      <th>facility</th>\n",
       "      <th>typically</th>\n",
       "      <th>office</th>\n",
       "      <th>initial</th>\n",
       "      <th>subsequent</th>\n",
       "    </tr>\n",
       "  </thead>\n",
       "  <tbody>\n",
       "    <tr>\n",
       "      <th>count</th>\n",
       "      <td>273211.000000</td>\n",
       "      <td>273211.000000</td>\n",
       "      <td>2.732110e+05</td>\n",
       "      <td>273211.000000</td>\n",
       "      <td>2.732110e+05</td>\n",
       "      <td>2.732110e+05</td>\n",
       "      <td>273211.000000</td>\n",
       "      <td>273211.000000</td>\n",
       "      <td>273211.000000</td>\n",
       "      <td>273211.000000</td>\n",
       "      <td>...</td>\n",
       "      <td>273211.000000</td>\n",
       "      <td>273211.000000</td>\n",
       "      <td>273211.000000</td>\n",
       "      <td>273211.000000</td>\n",
       "      <td>273211.000000</td>\n",
       "      <td>273211.000000</td>\n",
       "      <td>273211.000000</td>\n",
       "      <td>273211.000000</td>\n",
       "      <td>273211.000000</td>\n",
       "      <td>273211.000000</td>\n",
       "    </tr>\n",
       "    <tr>\n",
       "      <th>mean</th>\n",
       "      <td>1251.172998</td>\n",
       "      <td>295.727755</td>\n",
       "      <td>2.372581e+04</td>\n",
       "      <td>267.382433</td>\n",
       "      <td>5.582857e+03</td>\n",
       "      <td>1.096098e+04</td>\n",
       "      <td>0.952440</td>\n",
       "      <td>26.672557</td>\n",
       "      <td>31.387404</td>\n",
       "      <td>4606.456900</td>\n",
       "      <td>...</td>\n",
       "      <td>0.011471</td>\n",
       "      <td>0.011628</td>\n",
       "      <td>0.026412</td>\n",
       "      <td>0.007441</td>\n",
       "      <td>0.014366</td>\n",
       "      <td>0.004191</td>\n",
       "      <td>0.004886</td>\n",
       "      <td>0.021939</td>\n",
       "      <td>0.009333</td>\n",
       "      <td>0.010227</td>\n",
       "    </tr>\n",
       "    <tr>\n",
       "      <th>std</th>\n",
       "      <td>2316.386139</td>\n",
       "      <td>756.843036</td>\n",
       "      <td>6.566590e+05</td>\n",
       "      <td>3149.869990</td>\n",
       "      <td>1.180026e+05</td>\n",
       "      <td>3.415823e+05</td>\n",
       "      <td>0.212834</td>\n",
       "      <td>15.964892</td>\n",
       "      <td>16.545636</td>\n",
       "      <td>2603.645083</td>\n",
       "      <td>...</td>\n",
       "      <td>0.109704</td>\n",
       "      <td>0.107206</td>\n",
       "      <td>0.165036</td>\n",
       "      <td>0.094617</td>\n",
       "      <td>0.125580</td>\n",
       "      <td>0.064601</td>\n",
       "      <td>0.069731</td>\n",
       "      <td>0.146485</td>\n",
       "      <td>0.096234</td>\n",
       "      <td>0.100608</td>\n",
       "    </tr>\n",
       "    <tr>\n",
       "      <th>min</th>\n",
       "      <td>0.010000</td>\n",
       "      <td>0.010000</td>\n",
       "      <td>1.100000e+01</td>\n",
       "      <td>1.000000</td>\n",
       "      <td>1.100000e+01</td>\n",
       "      <td>1.100000e+01</td>\n",
       "      <td>0.000000</td>\n",
       "      <td>0.000000</td>\n",
       "      <td>0.000000</td>\n",
       "      <td>0.000000</td>\n",
       "      <td>...</td>\n",
       "      <td>0.000000</td>\n",
       "      <td>0.000000</td>\n",
       "      <td>0.000000</td>\n",
       "      <td>0.000000</td>\n",
       "      <td>0.000000</td>\n",
       "      <td>0.000000</td>\n",
       "      <td>0.000000</td>\n",
       "      <td>0.000000</td>\n",
       "      <td>0.000000</td>\n",
       "      <td>0.000000</td>\n",
       "    </tr>\n",
       "    <tr>\n",
       "      <th>25%</th>\n",
       "      <td>128.180000</td>\n",
       "      <td>37.240000</td>\n",
       "      <td>4.000000e+01</td>\n",
       "      <td>12.000000</td>\n",
       "      <td>3.100000e+01</td>\n",
       "      <td>3.800000e+01</td>\n",
       "      <td>1.000000</td>\n",
       "      <td>13.000000</td>\n",
       "      <td>19.000000</td>\n",
       "      <td>2295.000000</td>\n",
       "      <td>...</td>\n",
       "      <td>0.000000</td>\n",
       "      <td>0.000000</td>\n",
       "      <td>0.000000</td>\n",
       "      <td>0.000000</td>\n",
       "      <td>0.000000</td>\n",
       "      <td>0.000000</td>\n",
       "      <td>0.000000</td>\n",
       "      <td>0.000000</td>\n",
       "      <td>0.000000</td>\n",
       "      <td>0.000000</td>\n",
       "    </tr>\n",
       "    <tr>\n",
       "      <th>50%</th>\n",
       "      <td>446.530000</td>\n",
       "      <td>117.310000</td>\n",
       "      <td>1.620000e+02</td>\n",
       "      <td>30.000000</td>\n",
       "      <td>1.090000e+02</td>\n",
       "      <td>1.440000e+02</td>\n",
       "      <td>1.000000</td>\n",
       "      <td>26.000000</td>\n",
       "      <td>32.000000</td>\n",
       "      <td>5114.000000</td>\n",
       "      <td>...</td>\n",
       "      <td>0.000000</td>\n",
       "      <td>0.000000</td>\n",
       "      <td>0.000000</td>\n",
       "      <td>0.000000</td>\n",
       "      <td>0.000000</td>\n",
       "      <td>0.000000</td>\n",
       "      <td>0.000000</td>\n",
       "      <td>0.000000</td>\n",
       "      <td>0.000000</td>\n",
       "      <td>0.000000</td>\n",
       "    </tr>\n",
       "    <tr>\n",
       "      <th>75%</th>\n",
       "      <td>1570.305000</td>\n",
       "      <td>335.415000</td>\n",
       "      <td>1.083000e+03</td>\n",
       "      <td>98.000000</td>\n",
       "      <td>6.060000e+02</td>\n",
       "      <td>8.505000e+02</td>\n",
       "      <td>1.000000</td>\n",
       "      <td>40.000000</td>\n",
       "      <td>45.000000</td>\n",
       "      <td>7006.000000</td>\n",
       "      <td>...</td>\n",
       "      <td>0.000000</td>\n",
       "      <td>0.000000</td>\n",
       "      <td>0.000000</td>\n",
       "      <td>0.000000</td>\n",
       "      <td>0.000000</td>\n",
       "      <td>0.000000</td>\n",
       "      <td>0.000000</td>\n",
       "      <td>0.000000</td>\n",
       "      <td>0.000000</td>\n",
       "      <td>0.000000</td>\n",
       "    </tr>\n",
       "    <tr>\n",
       "      <th>max</th>\n",
       "      <td>93181.060000</td>\n",
       "      <td>62142.820000</td>\n",
       "      <td>1.345132e+08</td>\n",
       "      <td>564937.000000</td>\n",
       "      <td>2.359469e+07</td>\n",
       "      <td>9.799789e+07</td>\n",
       "      <td>1.000000</td>\n",
       "      <td>61.000000</td>\n",
       "      <td>61.000000</td>\n",
       "      <td>8852.000000</td>\n",
       "      <td>...</td>\n",
       "      <td>2.000000</td>\n",
       "      <td>1.000000</td>\n",
       "      <td>2.000000</td>\n",
       "      <td>2.000000</td>\n",
       "      <td>2.000000</td>\n",
       "      <td>1.000000</td>\n",
       "      <td>1.000000</td>\n",
       "      <td>1.000000</td>\n",
       "      <td>2.000000</td>\n",
       "      <td>1.000000</td>\n",
       "    </tr>\n",
       "  </tbody>\n",
       "</table>\n",
       "<p>8 rows × 312 columns</p>\n",
       "</div>"
      ],
      "text/plain": [
       "       Avg_Sbmtd_Chrg  Avg_Mdcr_Alowd_Amt     Tot_Srvcs  Tot_Rndrng_Prvdrs  \\\n",
       "count   273211.000000       273211.000000  2.732110e+05      273211.000000   \n",
       "mean      1251.172998          295.727755  2.372581e+04         267.382433   \n",
       "std       2316.386139          756.843036  6.566590e+05        3149.869990   \n",
       "min          0.010000            0.010000  1.100000e+01           1.000000   \n",
       "25%        128.180000           37.240000  4.000000e+01          12.000000   \n",
       "50%        446.530000          117.310000  1.620000e+02          30.000000   \n",
       "75%       1570.305000          335.415000  1.083000e+03          98.000000   \n",
       "max      93181.060000        62142.820000  1.345132e+08      564937.000000   \n",
       "\n",
       "          Tot_Benes  Tot_Bene_Day_Srvcs  Rndrng_Prvdr_Geo_Lvl  \\\n",
       "count  2.732110e+05        2.732110e+05         273211.000000   \n",
       "mean   5.582857e+03        1.096098e+04              0.952440   \n",
       "std    1.180026e+05        3.415823e+05              0.212834   \n",
       "min    1.100000e+01        1.100000e+01              0.000000   \n",
       "25%    3.100000e+01        3.800000e+01              1.000000   \n",
       "50%    1.090000e+02        1.440000e+02              1.000000   \n",
       "75%    6.060000e+02        8.505000e+02              1.000000   \n",
       "max    2.359469e+07        9.799789e+07              1.000000   \n",
       "\n",
       "       Rndrng_Prvdr_Geo_Cd  Rndrng_Prvdr_Geo_Desc       HCPCS_Cd  ...  \\\n",
       "count        273211.000000          273211.000000  273211.000000  ...   \n",
       "mean             26.672557              31.387404    4606.456900  ...   \n",
       "std              15.964892              16.545636    2603.645083  ...   \n",
       "min               0.000000               0.000000       0.000000  ...   \n",
       "25%              13.000000              19.000000    2295.000000  ...   \n",
       "50%              26.000000              32.000000    5114.000000  ...   \n",
       "75%              40.000000              45.000000    7006.000000  ...   \n",
       "max              61.000000              61.000000    8852.000000  ...   \n",
       "\n",
       "         observation    programming      qualified   professional  \\\n",
       "count  273211.000000  273211.000000  273211.000000  273211.000000   \n",
       "mean        0.011471       0.011628       0.026412       0.007441   \n",
       "std         0.109704       0.107206       0.165036       0.094617   \n",
       "min         0.000000       0.000000       0.000000       0.000000   \n",
       "25%         0.000000       0.000000       0.000000       0.000000   \n",
       "50%         0.000000       0.000000       0.000000       0.000000   \n",
       "75%         0.000000       0.000000       0.000000       0.000000   \n",
       "max         2.000000       1.000000       2.000000       2.000000   \n",
       "\n",
       "             nursing       facility      typically         office  \\\n",
       "count  273211.000000  273211.000000  273211.000000  273211.000000   \n",
       "mean        0.014366       0.004191       0.004886       0.021939   \n",
       "std         0.125580       0.064601       0.069731       0.146485   \n",
       "min         0.000000       0.000000       0.000000       0.000000   \n",
       "25%         0.000000       0.000000       0.000000       0.000000   \n",
       "50%         0.000000       0.000000       0.000000       0.000000   \n",
       "75%         0.000000       0.000000       0.000000       0.000000   \n",
       "max         2.000000       1.000000       1.000000       1.000000   \n",
       "\n",
       "             initial     subsequent  \n",
       "count  273211.000000  273211.000000  \n",
       "mean        0.009333       0.010227  \n",
       "std         0.096234       0.100608  \n",
       "min         0.000000       0.000000  \n",
       "25%         0.000000       0.000000  \n",
       "50%         0.000000       0.000000  \n",
       "75%         0.000000       0.000000  \n",
       "max         2.000000       1.000000  \n",
       "\n",
       "[8 rows x 312 columns]"
      ]
     },
     "execution_count": 220,
     "metadata": {},
     "output_type": "execute_result"
    }
   ],
   "source": [
    "npltextcleandata.describe()"
   ]
  },
  {
   "cell_type": "code",
   "execution_count": 221,
   "id": "c6c2976f",
   "metadata": {},
   "outputs": [
    {
     "data": {
      "text/plain": [
       "Index(['Avg_Sbmtd_Chrg', 'Avg_Mdcr_Alowd_Amt', 'Tot_Srvcs',\n",
       "       'Tot_Rndrng_Prvdrs', 'Tot_Benes', 'Tot_Bene_Day_Srvcs',\n",
       "       'Rndrng_Prvdr_Geo_Lvl', 'Rndrng_Prvdr_Geo_Cd', 'Rndrng_Prvdr_Geo_Desc',\n",
       "       'HCPCS_Cd',\n",
       "       ...\n",
       "       'observation', 'programming', 'qualified', 'professional', 'nursing',\n",
       "       'facility', 'typically', 'office', 'initial', 'subsequent'],\n",
       "      dtype='object', length=312)"
      ]
     },
     "execution_count": 221,
     "metadata": {},
     "output_type": "execute_result"
    }
   ],
   "source": [
    "npltextcleandata.columns"
   ]
  },
  {
   "cell_type": "code",
   "execution_count": 222,
   "id": "f1bbb933",
   "metadata": {},
   "outputs": [],
   "source": [
    "yy=npltextcleandata.Avg_Mdcr_Alowd_Amt"
   ]
  },
  {
   "cell_type": "code",
   "execution_count": 223,
   "id": "3a60032b",
   "metadata": {},
   "outputs": [],
   "source": [
    "xx=npltextcleandata.drop([\"Avg_Mdcr_Alowd_Amt\"],axis=1)"
   ]
  },
  {
   "cell_type": "code",
   "execution_count": 224,
   "id": "11ea54a7",
   "metadata": {},
   "outputs": [
    {
     "data": {
      "text/plain": [
       "(273211,)"
      ]
     },
     "execution_count": 224,
     "metadata": {},
     "output_type": "execute_result"
    }
   ],
   "source": [
    "yy.shape"
   ]
  },
  {
   "cell_type": "code",
   "execution_count": 225,
   "id": "10c57b9b",
   "metadata": {},
   "outputs": [
    {
     "data": {
      "text/plain": [
       "(273211, 311)"
      ]
     },
     "execution_count": 225,
     "metadata": {},
     "output_type": "execute_result"
    }
   ],
   "source": [
    "xx.shape"
   ]
  },
  {
   "cell_type": "markdown",
   "id": "19eec6bf",
   "metadata": {},
   "source": [
    "# Model Building"
   ]
  },
  {
   "cell_type": "markdown",
   "id": "0023c248",
   "metadata": {},
   "source": [
    "## Linear Regression"
   ]
  },
  {
   "cell_type": "code",
   "execution_count": 232,
   "id": "5a5d6828",
   "metadata": {},
   "outputs": [],
   "source": [
    "nlplrmodel=lr.fit(xx,yy)"
   ]
  },
  {
   "cell_type": "code",
   "execution_count": 233,
   "id": "b0c82100",
   "metadata": {},
   "outputs": [
    {
     "data": {
      "text/plain": [
       "0.660872632531547"
      ]
     },
     "execution_count": 233,
     "metadata": {},
     "output_type": "execute_result"
    }
   ],
   "source": [
    "nlplrmodel.score(xx,yy)"
   ]
  },
  {
   "cell_type": "code",
   "execution_count": 234,
   "id": "92bcb19d",
   "metadata": {},
   "outputs": [
    {
     "data": {
      "text/plain": [
       "array([-1.28330703e+13,  6.57067617e-01,  7.05583370e-01,  6.24698199e-01,\n",
       "        6.07394020e-01])"
      ]
     },
     "execution_count": 234,
     "metadata": {},
     "output_type": "execute_result"
    }
   ],
   "source": [
    "cross_val_score(nlplrmodel,xx,yy)"
   ]
  },
  {
   "cell_type": "code",
   "execution_count": 235,
   "id": "6229a2be",
   "metadata": {},
   "outputs": [
    {
     "data": {
      "text/plain": [
       "-2566614059999.4814"
      ]
     },
     "execution_count": 235,
     "metadata": {},
     "output_type": "execute_result"
    }
   ],
   "source": [
    "np.mean([-1.28330703e+13,  6.57067617e-01,  7.05583370e-01,  6.24698199e-01,\n",
    "        6.07394020e-01])\n"
   ]
  },
  {
   "cell_type": "code",
   "execution_count": 236,
   "id": "dc539944",
   "metadata": {},
   "outputs": [],
   "source": [
    "nlplrmodelpre=nlplrmodel.predict(xx)"
   ]
  },
  {
   "cell_type": "code",
   "execution_count": 237,
   "id": "73bcd6c5",
   "metadata": {},
   "outputs": [],
   "source": [
    "nlpres=y-nlplrmodelpre"
   ]
  },
  {
   "cell_type": "code",
   "execution_count": 238,
   "id": "eab8ff83",
   "metadata": {},
   "outputs": [
    {
     "data": {
      "text/plain": [
       "440.744035414237"
      ]
     },
     "execution_count": 238,
     "metadata": {},
     "output_type": "execute_result"
    }
   ],
   "source": [
    "np.sqrt(np.mean(nlpres**2))"
   ]
  },
  {
   "cell_type": "markdown",
   "id": "b7213ddb",
   "metadata": {},
   "source": [
    "## Linear log"
   ]
  },
  {
   "cell_type": "code",
   "execution_count": 239,
   "id": "7cd7b671",
   "metadata": {},
   "outputs": [],
   "source": [
    "nlplrmodellog=lr.fit(xx,np.log(yy))"
   ]
  },
  {
   "cell_type": "code",
   "execution_count": 240,
   "id": "d273a549",
   "metadata": {},
   "outputs": [
    {
     "data": {
      "text/plain": [
       "0.6824200801525164"
      ]
     },
     "execution_count": 240,
     "metadata": {},
     "output_type": "execute_result"
    }
   ],
   "source": [
    "nlplrmodellog.score(xx,np.log(yy))"
   ]
  },
  {
   "cell_type": "code",
   "execution_count": 241,
   "id": "b3186098",
   "metadata": {},
   "outputs": [
    {
     "data": {
      "text/plain": [
       "array([-6.96972456e+11,  6.86901908e-01,  6.84965767e-01,  6.80554852e-01,\n",
       "        6.70851165e-01])"
      ]
     },
     "execution_count": 241,
     "metadata": {},
     "output_type": "execute_result"
    }
   ],
   "source": [
    "cross_val_score(nlplrmodellog,xx,np.log(yy))"
   ]
  },
  {
   "cell_type": "code",
   "execution_count": 242,
   "id": "1d4a3716",
   "metadata": {},
   "outputs": [
    {
     "data": {
      "text/plain": [
       "-139394491199.45535"
      ]
     },
     "execution_count": 242,
     "metadata": {},
     "output_type": "execute_result"
    }
   ],
   "source": [
    "np.mean([-6.96972456e+11,  6.86901908e-01,  6.84965767e-01,  6.80554852e-01,\n",
    "        6.70851165e-01])"
   ]
  },
  {
   "cell_type": "code",
   "execution_count": 243,
   "id": "23e86a47",
   "metadata": {},
   "outputs": [],
   "source": [
    "nlplrmodelprelog=nlplrmodellog.predict(xx)"
   ]
  },
  {
   "cell_type": "code",
   "execution_count": 244,
   "id": "bdbbb38a",
   "metadata": {},
   "outputs": [],
   "source": [
    "nlplrmodelprelog=np.exp(nlplrmodelprelog)"
   ]
  },
  {
   "cell_type": "code",
   "execution_count": 245,
   "id": "bccfb0f9",
   "metadata": {},
   "outputs": [],
   "source": [
    "nlpreslog=yy-nlplrmodelprelog"
   ]
  },
  {
   "cell_type": "code",
   "execution_count": 246,
   "id": "27f3a479",
   "metadata": {},
   "outputs": [
    {
     "data": {
      "text/plain": [
       "723611459.3833482"
      ]
     },
     "execution_count": 246,
     "metadata": {},
     "output_type": "execute_result"
    }
   ],
   "source": [
    "np.sqrt(np.mean(nlpreslog**2))"
   ]
  },
  {
   "cell_type": "markdown",
   "id": "74dde1e2",
   "metadata": {},
   "source": [
    "## decission tree"
   ]
  },
  {
   "cell_type": "code",
   "execution_count": 247,
   "id": "2cc2a1a6",
   "metadata": {},
   "outputs": [],
   "source": [
    "nlpdtrmodel=dtr.fit(xx,yy)"
   ]
  },
  {
   "cell_type": "code",
   "execution_count": 248,
   "id": "8e56c275",
   "metadata": {},
   "outputs": [
    {
     "data": {
      "text/plain": [
       "0.9278235488596409"
      ]
     },
     "execution_count": 248,
     "metadata": {},
     "output_type": "execute_result"
    }
   ],
   "source": [
    "nlpdtrmodel.score(xx,yy)"
   ]
  },
  {
   "cell_type": "code",
   "execution_count": 249,
   "id": "cf1b2f8d",
   "metadata": {},
   "outputs": [
    {
     "data": {
      "text/plain": [
       "array([0.81090024, 0.91241551, 0.91573992, 0.89828839, 0.89059723])"
      ]
     },
     "execution_count": 249,
     "metadata": {},
     "output_type": "execute_result"
    }
   ],
   "source": [
    "cross_val_score(nlpdtrmodel,xx,yy)"
   ]
  },
  {
   "cell_type": "code",
   "execution_count": 297,
   "id": "af5feb13",
   "metadata": {},
   "outputs": [
    {
     "data": {
      "text/plain": [
       "0.8855882580000001"
      ]
     },
     "execution_count": 297,
     "metadata": {},
     "output_type": "execute_result"
    }
   ],
   "source": [
    "np.mean([0.81090024, 0.91241551, 0.91573992, 0.89828839, 0.89059723])"
   ]
  },
  {
   "cell_type": "code",
   "execution_count": 251,
   "id": "3c60447d",
   "metadata": {},
   "outputs": [],
   "source": [
    "nlpdtrmodelpre=nlpdtrmodel.predict(xx)"
   ]
  },
  {
   "cell_type": "code",
   "execution_count": 252,
   "id": "6ae91089",
   "metadata": {},
   "outputs": [],
   "source": [
    "nlpdtrres=yy-nlpdtrmodelpre"
   ]
  },
  {
   "cell_type": "code",
   "execution_count": 253,
   "id": "59ec22b3",
   "metadata": {},
   "outputs": [
    {
     "data": {
      "text/plain": [
       "203.3306207727055"
      ]
     },
     "execution_count": 253,
     "metadata": {},
     "output_type": "execute_result"
    }
   ],
   "source": [
    "np.sqrt(np.mean(nlpdtrres**2))"
   ]
  },
  {
   "cell_type": "markdown",
   "id": "2bf51294",
   "metadata": {},
   "source": [
    "## decission tree log"
   ]
  },
  {
   "cell_type": "code",
   "execution_count": 254,
   "id": "9af44559",
   "metadata": {},
   "outputs": [],
   "source": [
    "nlpdtrmodellog=dtr.fit(xx,np.log(yy))"
   ]
  },
  {
   "cell_type": "code",
   "execution_count": 255,
   "id": "7d29f5c3",
   "metadata": {},
   "outputs": [
    {
     "data": {
      "text/plain": [
       "0.9193820660580143"
      ]
     },
     "execution_count": 255,
     "metadata": {},
     "output_type": "execute_result"
    }
   ],
   "source": [
    "nlpdtrmodellog.score(xx,np.log(yy))"
   ]
  },
  {
   "cell_type": "code",
   "execution_count": 256,
   "id": "c5693c7c",
   "metadata": {},
   "outputs": [
    {
     "data": {
      "text/plain": [
       "array([0.90794465, 0.92102141, 0.92022542, 0.91739269, 0.89767327])"
      ]
     },
     "execution_count": 256,
     "metadata": {},
     "output_type": "execute_result"
    }
   ],
   "source": [
    "cross_val_score(nlpdtrmodellog,xx,np.log(yy))"
   ]
  },
  {
   "cell_type": "code",
   "execution_count": 302,
   "id": "1f696bf7",
   "metadata": {},
   "outputs": [
    {
     "data": {
      "text/plain": [
       "0.912851488"
      ]
     },
     "execution_count": 302,
     "metadata": {},
     "output_type": "execute_result"
    }
   ],
   "source": [
    "np.mean([0.90794465, 0.92102141, 0.92022542, 0.91739269, 0.89767327])"
   ]
  },
  {
   "cell_type": "code",
   "execution_count": 258,
   "id": "c8aafe0c",
   "metadata": {},
   "outputs": [],
   "source": [
    "nlpdtrmodelprelog=nlpdtrmodellog.predict(xx)"
   ]
  },
  {
   "cell_type": "code",
   "execution_count": 259,
   "id": "7a3b42ee",
   "metadata": {},
   "outputs": [],
   "source": [
    "nlpdtrmodelprelog=np.exp(nlpdtrmodelprelog)"
   ]
  },
  {
   "cell_type": "code",
   "execution_count": 260,
   "id": "b37e1209",
   "metadata": {},
   "outputs": [],
   "source": [
    "nlpdtrreslog=yy-nlpdtrmodelprelog"
   ]
  },
  {
   "cell_type": "code",
   "execution_count": 261,
   "id": "feed29ff",
   "metadata": {},
   "outputs": [
    {
     "data": {
      "text/plain": [
       "259.9306675298184"
      ]
     },
     "execution_count": 261,
     "metadata": {},
     "output_type": "execute_result"
    }
   ],
   "source": [
    "np.sqrt(np.mean(nlpdtrreslog**2))"
   ]
  },
  {
   "cell_type": "markdown",
   "id": "2b915e01",
   "metadata": {},
   "source": [
    "# randorm foreset"
   ]
  },
  {
   "cell_type": "code",
   "execution_count": 262,
   "id": "929a0077",
   "metadata": {},
   "outputs": [],
   "source": [
    "nlprfgmodel=rfg.fit(xx,yy)"
   ]
  },
  {
   "cell_type": "code",
   "execution_count": 263,
   "id": "fb96089b",
   "metadata": {},
   "outputs": [
    {
     "data": {
      "text/plain": [
       "0.8738686895480152"
      ]
     },
     "execution_count": 263,
     "metadata": {},
     "output_type": "execute_result"
    }
   ],
   "source": [
    "nlprfgmodel.score(xx,yy)"
   ]
  },
  {
   "cell_type": "code",
   "execution_count": 264,
   "id": "b81673fa",
   "metadata": {},
   "outputs": [
    {
     "data": {
      "text/plain": [
       "array([0.83759849, 0.83913206, 0.85795036, 0.87386909, 0.84854796])"
      ]
     },
     "execution_count": 264,
     "metadata": {},
     "output_type": "execute_result"
    }
   ],
   "source": [
    "cross_val_score(nlprfgmodel,xx,yy)"
   ]
  },
  {
   "cell_type": "code",
   "execution_count": 296,
   "id": "2de8b46e",
   "metadata": {},
   "outputs": [
    {
     "data": {
      "text/plain": [
       "0.8514195919999998"
      ]
     },
     "execution_count": 296,
     "metadata": {},
     "output_type": "execute_result"
    }
   ],
   "source": [
    "np.mean([0.83759849, 0.83913206, 0.85795036, 0.87386909, 0.84854796])"
   ]
  },
  {
   "cell_type": "code",
   "execution_count": 265,
   "id": "7de073dd",
   "metadata": {},
   "outputs": [],
   "source": [
    "nlprfgmodelpre=nlprfgmodel.predict(xx)"
   ]
  },
  {
   "cell_type": "code",
   "execution_count": 266,
   "id": "ca9edaf3",
   "metadata": {},
   "outputs": [],
   "source": [
    "nlprespre=yy-nlprfgmodelpre"
   ]
  },
  {
   "cell_type": "code",
   "execution_count": 267,
   "id": "b4015656",
   "metadata": {},
   "outputs": [
    {
     "data": {
      "text/plain": [
       "268.7920863932747"
      ]
     },
     "execution_count": 267,
     "metadata": {},
     "output_type": "execute_result"
    }
   ],
   "source": [
    "np.sqrt(np.mean(nlprespre**2))"
   ]
  },
  {
   "cell_type": "markdown",
   "id": "c8b73646",
   "metadata": {},
   "source": [
    "## Random Forest log"
   ]
  },
  {
   "cell_type": "code",
   "execution_count": 268,
   "id": "6fb68d6d",
   "metadata": {},
   "outputs": [],
   "source": [
    "nlprfgmodellog=rfg.fit(xx,np.log(yy))"
   ]
  },
  {
   "cell_type": "code",
   "execution_count": 269,
   "id": "cc426eb0",
   "metadata": {},
   "outputs": [
    {
     "data": {
      "text/plain": [
       "0.8920806999971604"
      ]
     },
     "execution_count": 269,
     "metadata": {},
     "output_type": "execute_result"
    }
   ],
   "source": [
    "nlprfgmodellog.score(xx,np.log(yy))"
   ]
  },
  {
   "cell_type": "code",
   "execution_count": 270,
   "id": "43354cdb",
   "metadata": {},
   "outputs": [
    {
     "data": {
      "text/plain": [
       "array([0.89135672, 0.89850554, 0.89754025, 0.89431705, 0.87282535])"
      ]
     },
     "execution_count": 270,
     "metadata": {},
     "output_type": "execute_result"
    }
   ],
   "source": [
    "cross_val_score(nlprfgmodellog,xx,np.log(yy))"
   ]
  },
  {
   "cell_type": "code",
   "execution_count": 295,
   "id": "0bdeb600",
   "metadata": {},
   "outputs": [
    {
     "data": {
      "text/plain": [
       "0.890908982"
      ]
     },
     "execution_count": 295,
     "metadata": {},
     "output_type": "execute_result"
    }
   ],
   "source": [
    "np.mean([0.89135672, 0.89850554, 0.89754025, 0.89431705, 0.87282535])"
   ]
  },
  {
   "cell_type": "code",
   "execution_count": 271,
   "id": "eaf25ac5",
   "metadata": {},
   "outputs": [],
   "source": [
    "nlprfgmodelprelog=nlprfgmodellog.predict(xx)"
   ]
  },
  {
   "cell_type": "code",
   "execution_count": 272,
   "id": "d3763124",
   "metadata": {},
   "outputs": [],
   "source": [
    "nlprfgmodelprelog=np.exp(nlprfgmodelprelog)"
   ]
  },
  {
   "cell_type": "code",
   "execution_count": 273,
   "id": "dd267ca2",
   "metadata": {},
   "outputs": [],
   "source": [
    "nlpresprelog=yy-nlprfgmodelprelog"
   ]
  },
  {
   "cell_type": "code",
   "execution_count": 274,
   "id": "df057ef2",
   "metadata": {},
   "outputs": [
    {
     "data": {
      "text/plain": [
       "557.8510734097739"
      ]
     },
     "execution_count": 274,
     "metadata": {},
     "output_type": "execute_result"
    }
   ],
   "source": [
    "np.sqrt(np.mean(nlpresprelog**2))"
   ]
  },
  {
   "cell_type": "markdown",
   "id": "339ffb09",
   "metadata": {},
   "source": [
    "## gradient boosting method"
   ]
  },
  {
   "cell_type": "code",
   "execution_count": 275,
   "id": "518c9264",
   "metadata": {},
   "outputs": [],
   "source": [
    "from sklearn.ensemble import GradientBoostingRegressor"
   ]
  },
  {
   "cell_type": "code",
   "execution_count": 276,
   "id": "10720ba5",
   "metadata": {},
   "outputs": [],
   "source": [
    "nlpgbr=GradientBoostingRegressor()"
   ]
  },
  {
   "cell_type": "code",
   "execution_count": 277,
   "id": "30b7ff4f",
   "metadata": {},
   "outputs": [],
   "source": [
    "nlpgbrmodel=nlpgbr.fit(xx,yy)"
   ]
  },
  {
   "cell_type": "code",
   "execution_count": 278,
   "id": "4edbf86d",
   "metadata": {},
   "outputs": [
    {
     "data": {
      "text/plain": [
       "0.9092760002180899"
      ]
     },
     "execution_count": 278,
     "metadata": {},
     "output_type": "execute_result"
    }
   ],
   "source": [
    "nlpgbrmodel.score(xx,yy)"
   ]
  },
  {
   "cell_type": "code",
   "execution_count": 279,
   "id": "c69bb5be",
   "metadata": {},
   "outputs": [
    {
     "data": {
      "text/plain": [
       "array([0.83907532, 0.88393692, 0.88758383, 0.9009095 , 0.85700766])"
      ]
     },
     "execution_count": 279,
     "metadata": {},
     "output_type": "execute_result"
    }
   ],
   "source": [
    "cross_val_score(nlpgbrmodel,xx,yy)"
   ]
  },
  {
   "cell_type": "code",
   "execution_count": 289,
   "id": "a5e4b51a",
   "metadata": {},
   "outputs": [
    {
     "data": {
      "text/plain": [
       "0.8737026460000001"
      ]
     },
     "execution_count": 289,
     "metadata": {},
     "output_type": "execute_result"
    }
   ],
   "source": [
    "np.mean([0.83907532, 0.88393692, 0.88758383, 0.9009095 , 0.85700766])"
   ]
  },
  {
   "cell_type": "code",
   "execution_count": 280,
   "id": "e831266d",
   "metadata": {},
   "outputs": [],
   "source": [
    "nlpgbrpre=nlpgbrmodel.predict(xx)"
   ]
  },
  {
   "cell_type": "code",
   "execution_count": 281,
   "id": "0cb550fa",
   "metadata": {},
   "outputs": [],
   "source": [
    "nlpgbrres=yy-nlpgbrpre"
   ]
  },
  {
   "cell_type": "code",
   "execution_count": 282,
   "id": "632e6a5d",
   "metadata": {},
   "outputs": [
    {
     "data": {
      "text/plain": [
       "227.9639212957958"
      ]
     },
     "execution_count": 282,
     "metadata": {},
     "output_type": "execute_result"
    }
   ],
   "source": [
    "np.sqrt(np.mean(nlpgbrres**2))"
   ]
  },
  {
   "cell_type": "markdown",
   "id": "11b798e6",
   "metadata": {},
   "source": [
    "## GradientBoosting Log"
   ]
  },
  {
   "cell_type": "code",
   "execution_count": 283,
   "id": "68b9ff34",
   "metadata": {},
   "outputs": [],
   "source": [
    "nlpgbrlog=GradientBoostingRegressor()"
   ]
  },
  {
   "cell_type": "code",
   "execution_count": 285,
   "id": "c5d360b6",
   "metadata": {},
   "outputs": [],
   "source": [
    "nlpgbrmodellog=nlpgbrlog.fit(xx,np.log(yy))"
   ]
  },
  {
   "cell_type": "code",
   "execution_count": 287,
   "id": "9325a7ab",
   "metadata": {},
   "outputs": [
    {
     "data": {
      "text/plain": [
       "0.91564230384749"
      ]
     },
     "execution_count": 287,
     "metadata": {},
     "output_type": "execute_result"
    }
   ],
   "source": [
    "nlpgbrmodellog.score(xx,np.log(yy))"
   ]
  },
  {
   "cell_type": "code",
   "execution_count": 288,
   "id": "ae1b86fe",
   "metadata": {},
   "outputs": [
    {
     "data": {
      "text/plain": [
       "array([0.90512843, 0.91831575, 0.91769639, 0.91464584, 0.89436975])"
      ]
     },
     "execution_count": 288,
     "metadata": {},
     "output_type": "execute_result"
    }
   ],
   "source": [
    "cross_val_score(nlpgbrmodellog,xx,np.log(yy))"
   ]
  },
  {
   "cell_type": "code",
   "execution_count": 290,
   "id": "1a0115fc",
   "metadata": {},
   "outputs": [],
   "source": [
    "nlpgbrprelog=nlpgbrmodellog.predict(xx)"
   ]
  },
  {
   "cell_type": "code",
   "execution_count": 291,
   "id": "f11d59f0",
   "metadata": {},
   "outputs": [],
   "source": [
    "nlpgbrprelog=np.exp(nlpgbrprelog)"
   ]
  },
  {
   "cell_type": "code",
   "execution_count": 3,
   "id": "8d2dec21",
   "metadata": {},
   "outputs": [
    {
     "data": {
      "text/plain": [
       "0.910031232"
      ]
     },
     "execution_count": 3,
     "metadata": {},
     "output_type": "execute_result"
    }
   ],
   "source": [
    "np.mean([0.90512843, 0.91831575, 0.91769639, 0.91464584, 0.89436975])"
   ]
  },
  {
   "cell_type": "code",
   "execution_count": 293,
   "id": "47a45cfa",
   "metadata": {},
   "outputs": [],
   "source": [
    "nlpgbrlogres=yy-nlpgbrprelog"
   ]
  },
  {
   "cell_type": "code",
   "execution_count": 294,
   "id": "33371371",
   "metadata": {},
   "outputs": [
    {
     "data": {
      "text/plain": [
       "464.62589472464873"
      ]
     },
     "execution_count": 294,
     "metadata": {},
     "output_type": "execute_result"
    }
   ],
   "source": [
    "np.sqrt(np.mean(nlpgbrlogres**2))"
   ]
  },
  {
   "cell_type": "markdown",
   "id": "d91cd2e3",
   "metadata": {},
   "source": [
    "#  Output"
   ]
  },
  {
   "cell_type": "code",
   "execution_count": 5,
   "id": "dba3837a",
   "metadata": {},
   "outputs": [],
   "source": [
    "report=pd.read_excel(\"C:/Users/HP/Desktop/medicare file report.xlsx\")"
   ]
  },
  {
   "cell_type": "code",
   "execution_count": 6,
   "id": "c04a62c0",
   "metadata": {},
   "outputs": [
    {
     "data": {
      "text/html": [
       "<div>\n",
       "<style scoped>\n",
       "    .dataframe tbody tr th:only-of-type {\n",
       "        vertical-align: middle;\n",
       "    }\n",
       "\n",
       "    .dataframe tbody tr th {\n",
       "        vertical-align: top;\n",
       "    }\n",
       "\n",
       "    .dataframe thead th {\n",
       "        text-align: right;\n",
       "    }\n",
       "</style>\n",
       "<table border=\"1\" class=\"dataframe\">\n",
       "  <thead>\n",
       "    <tr style=\"text-align: right;\">\n",
       "      <th></th>\n",
       "      <th>Model</th>\n",
       "      <th>Accuracy</th>\n",
       "      <th>Cross validation score</th>\n",
       "      <th>Rmse</th>\n",
       "      <th>NLP</th>\n",
       "      <th>Model.1</th>\n",
       "      <th>Accuracy.1</th>\n",
       "      <th>Cross validation score.1</th>\n",
       "      <th>Rmse.1</th>\n",
       "    </tr>\n",
       "  </thead>\n",
       "  <tbody>\n",
       "    <tr>\n",
       "      <th>0</th>\n",
       "      <td>Linear Regression</td>\n",
       "      <td>0.644</td>\n",
       "      <td>0.638</td>\n",
       "      <td>4.513500e+02</td>\n",
       "      <td>NLP</td>\n",
       "      <td>Linear Regression</td>\n",
       "      <td>0.660</td>\n",
       "      <td>2.566614e+07</td>\n",
       "      <td>440.744</td>\n",
       "    </tr>\n",
       "    <tr>\n",
       "      <th>1</th>\n",
       "      <td>Decission Tree</td>\n",
       "      <td>0.926</td>\n",
       "      <td>0.882</td>\n",
       "      <td>2.050040e+02</td>\n",
       "      <td>NLP</td>\n",
       "      <td>Decission Tree</td>\n",
       "      <td>0.927</td>\n",
       "      <td>8.850000e-01</td>\n",
       "      <td>203.330</td>\n",
       "    </tr>\n",
       "    <tr>\n",
       "      <th>2</th>\n",
       "      <td>Random Forest</td>\n",
       "      <td>0.876</td>\n",
       "      <td>0.851</td>\n",
       "      <td>2.664800e+02</td>\n",
       "      <td>NLP</td>\n",
       "      <td>Random Forest</td>\n",
       "      <td>0.873</td>\n",
       "      <td>8.510000e-01</td>\n",
       "      <td>268.792</td>\n",
       "    </tr>\n",
       "    <tr>\n",
       "      <th>3</th>\n",
       "      <td>Gradient Boosting</td>\n",
       "      <td>0.910</td>\n",
       "      <td>0.862</td>\n",
       "      <td>2.267660e+02</td>\n",
       "      <td>NLP</td>\n",
       "      <td>Gradient Boosting</td>\n",
       "      <td>0.909</td>\n",
       "      <td>8.730000e-01</td>\n",
       "      <td>227.963</td>\n",
       "    </tr>\n",
       "    <tr>\n",
       "      <th>4</th>\n",
       "      <td>Linear Regression Log</td>\n",
       "      <td>0.519</td>\n",
       "      <td>0.460</td>\n",
       "      <td>6.093713e+11</td>\n",
       "      <td>NLP</td>\n",
       "      <td>Linear Regression Log</td>\n",
       "      <td>0.682</td>\n",
       "      <td>-1.393944e+06</td>\n",
       "      <td>7236114.383</td>\n",
       "    </tr>\n",
       "    <tr>\n",
       "      <th>5</th>\n",
       "      <td>Decission Tree Log</td>\n",
       "      <td>0.918</td>\n",
       "      <td>0.911</td>\n",
       "      <td>2.692960e+02</td>\n",
       "      <td>NLP</td>\n",
       "      <td>Decission Tree Log</td>\n",
       "      <td>0.919</td>\n",
       "      <td>9.120000e-01</td>\n",
       "      <td>259.930</td>\n",
       "    </tr>\n",
       "    <tr>\n",
       "      <th>6</th>\n",
       "      <td>Random Forest  Log</td>\n",
       "      <td>0.891</td>\n",
       "      <td>0.890</td>\n",
       "      <td>5.612340e+02</td>\n",
       "      <td>NLP</td>\n",
       "      <td>Random Forest  Log</td>\n",
       "      <td>0.892</td>\n",
       "      <td>8.900000e-01</td>\n",
       "      <td>557.851</td>\n",
       "    </tr>\n",
       "    <tr>\n",
       "      <th>7</th>\n",
       "      <td>Gradient Boosting Log</td>\n",
       "      <td>0.915</td>\n",
       "      <td>0.908</td>\n",
       "      <td>3.572560e+02</td>\n",
       "      <td>NLP</td>\n",
       "      <td>Gradient Boosting Log</td>\n",
       "      <td>0.915</td>\n",
       "      <td>9.100000e-01</td>\n",
       "      <td>464.620</td>\n",
       "    </tr>\n",
       "  </tbody>\n",
       "</table>\n",
       "</div>"
      ],
      "text/plain": [
       "                   Model  Accuracy  Cross validation score          Rmse  NLP  \\\n",
       "0      Linear Regression     0.644                   0.638  4.513500e+02  NLP   \n",
       "1         Decission Tree     0.926                   0.882  2.050040e+02  NLP   \n",
       "2          Random Forest     0.876                   0.851  2.664800e+02  NLP   \n",
       "3      Gradient Boosting     0.910                   0.862  2.267660e+02  NLP   \n",
       "4  Linear Regression Log     0.519                   0.460  6.093713e+11  NLP   \n",
       "5     Decission Tree Log     0.918                   0.911  2.692960e+02  NLP   \n",
       "6     Random Forest  Log     0.891                   0.890  5.612340e+02  NLP   \n",
       "7  Gradient Boosting Log     0.915                   0.908  3.572560e+02  NLP   \n",
       "\n",
       "                 Model.1  Accuracy.1  Cross validation score.1       Rmse.1  \n",
       "0      Linear Regression       0.660              2.566614e+07      440.744  \n",
       "1         Decission Tree       0.927              8.850000e-01      203.330  \n",
       "2          Random Forest       0.873              8.510000e-01      268.792  \n",
       "3      Gradient Boosting       0.909              8.730000e-01      227.963  \n",
       "4  Linear Regression Log       0.682             -1.393944e+06  7236114.383  \n",
       "5     Decission Tree Log       0.919              9.120000e-01      259.930  \n",
       "6     Random Forest  Log       0.892              8.900000e-01      557.851  \n",
       "7  Gradient Boosting Log       0.915              9.100000e-01      464.620  "
      ]
     },
     "execution_count": 6,
     "metadata": {},
     "output_type": "execute_result"
    }
   ],
   "source": [
    "report "
   ]
  },
  {
   "cell_type": "markdown",
   "id": "bb995beb",
   "metadata": {},
   "source": [
    "# Decission Tree Log is the best fit model as per the accuracy,crossvalidation score, rmse."
   ]
  },
  {
   "cell_type": "code",
   "execution_count": null,
   "id": "e74d86a5",
   "metadata": {},
   "outputs": [],
   "source": []
  }
 ],
 "metadata": {
  "kernelspec": {
   "display_name": "Python 3 (ipykernel)",
   "language": "python",
   "name": "python3"
  },
  "language_info": {
   "codemirror_mode": {
    "name": "ipython",
    "version": 3
   },
   "file_extension": ".py",
   "mimetype": "text/x-python",
   "name": "python",
   "nbconvert_exporter": "python",
   "pygments_lexer": "ipython3",
   "version": "3.9.12"
  }
 },
 "nbformat": 4,
 "nbformat_minor": 5
}
